{
  "cells": [
    {
      "cell_type": "markdown",
      "metadata": {
        "id": "view-in-github",
        "colab_type": "text"
      },
      "source": [
        "<a href=\"https://colab.research.google.com/github/kellerflint/IoT-Final-Project/blob/angelb/data_prep_indivual.ipynb\" target=\"_parent\"><img src=\"https://colab.research.google.com/assets/colab-badge.svg\" alt=\"Open In Colab\"/></a>"
      ]
    },
    {
      "cell_type": "markdown",
      "metadata": {
        "id": "Za-2T9-0TwBf"
      },
      "source": [
        "Outliers, Missing Values, Standardize"
      ]
    },
    {
      "cell_type": "code",
      "execution_count": null,
      "metadata": {
        "id": "_UNI3HfSTwBh"
      },
      "outputs": [],
      "source": [
        "import pandas as pd"
      ]
    },
    {
      "cell_type": "code",
      "execution_count": null,
      "metadata": {
        "id": "OM7p55ybTwBh"
      },
      "outputs": [],
      "source": [
        "import os\n",
        "import glob\n",
        "import pandas as pd\n",
        "import numpy as np\n",
        "from scipy import stats\n",
        "from sklearn.preprocessing import StandardScaler\n",
        "\n",
        "def remove_outliers(df, columns):\n",
        "    z_scores = np.abs(stats.zscore(df[columns]))\n",
        "    filtered_entries = (z_scores < 4).all(axis=1)  # Relaxing the threshold to 4\n",
        "    return df[filtered_entries]\n",
        "\n",
        "def standardize(df, columns):\n",
        "    scaler = StandardScaler()\n",
        "    df[columns] = scaler.fit_transform(df[columns])\n",
        "    return df\n",
        "\n",
        "# Original file pattern\n",
        "file_pattern = 'Data/ProcessedData_Subject*.csv'\n",
        "files = glob.glob(file_pattern)\n",
        "\n",
        "# New directory where the processed files will be saved\n",
        "new_directory = r\"C:\\Users\\eterp\\OneDrive\\Documents\\USD\\IoT\\StandardData\"\n",
        "\n",
        "for filepath in files:\n",
        "    df = pd.read_csv(filepath)\n",
        "\n",
        "    # Fill missing values with forward fill\n",
        "    df.fillna(method='ffill', inplace=True)\n",
        "\n",
        "    # Automatically define columns to process by excluding 'Time [s]'\n",
        "    columns_to_process = df.columns.drop('Time [s]').tolist()\n",
        "\n",
        "    df_clean = remove_outliers(df, columns_to_process)\n",
        "\n",
        "    # Check if df_clean is empty\n",
        "    if not df_clean.empty:\n",
        "        df_standardized = standardize(df_clean, columns_to_process)\n",
        "\n",
        "        # Define the new filename based on the original filename\n",
        "        original_filename = os.path.basename(filepath)\n",
        "        new_filename = original_filename.replace('ProcessedData_', 'ProcessedStandardizedData_')\n",
        "\n",
        "        # Construct the new file path\n",
        "        new_filepath = os.path.join(new_directory, new_filename)\n",
        "\n",
        "        # Save the processed file to the new directory\n",
        "        df_standardized.to_csv(new_filepath, index=False)\n",
        "        print(f'Processed and saved: {new_filepath}')\n",
        "    else:\n",
        "        print(f'No data left after outlier removal in file: {filepath}. Skipping standardization and saving.')"
      ]
    },
    {
      "cell_type": "code",
      "execution_count": null,
      "metadata": {
        "id": "fXIk5svnTwBi"
      },
      "outputs": [],
      "source": [
        "import glob\n",
        "import pandas as pd\n",
        "import matplotlib.pyplot as plt\n",
        "import matplotlib.ticker as ticker\n",
        "import os\n",
        "\n",
        "# Absolute directory path to match the standardized data files\n",
        "directory_path = r\"C:\\Users\\eterp\\OneDrive\\Documents\\USD\\IoT\\StandardData\"\n",
        "file_pattern = os.path.join(directory_path, 'ProcessedStandardizedData_Subject*.csv')\n",
        "files = glob.glob(file_pattern)\n",
        "\n",
        "# List of variables to plot\n",
        "variables_to_plot = [\n",
        "    'Pressure [cmH2O]',\n",
        "    'Flow [L/s]',\n",
        "    'V_tidal [L]',\n",
        "    'Chest [mm]',\n",
        "    'Abd [mm]',\n",
        "    'Inspiratory Indicies',\n",
        "    'Time (Aeration Data)_[s]',\n",
        "    'Global Aeration',\n",
        "    'Inspiratory Indicies (Aeration Data)',\n",
        "]\n",
        "\n",
        "for filepath in files:\n",
        "    # Read the CSV file\n",
        "    df = pd.read_csv(filepath)\n",
        "\n",
        "    # Convert 'Time [s]' to seconds for plotting\n",
        "    df['Time [s]'] = pd.to_timedelta(df['Time [s]'], unit='s').dt.total_seconds()\n",
        "\n",
        "    # Set the figure size and the layout for subplots\n",
        "    plt.figure(figsize=(14, 18))\n",
        "\n",
        "    # Create subplots for each variable\n",
        "    for i, variable in enumerate(variables_to_plot, start=1):\n",
        "        # Check if the variable/column exists in the dataframe\n",
        "        if variable in df.columns:\n",
        "            ax = plt.subplot(len(variables_to_plot), 1, i)\n",
        "            ax.plot(df['Time [s]'], df[variable])\n",
        "            ax.set_title(f'{variable} over Time')\n",
        "            ax.set_xlabel('Time [s]')\n",
        "            ax.set_ylabel(variable)\n",
        "\n",
        "            # Use a Linear scale and format the x-axis to show non-scientific notation\n",
        "            ax.ticklabel_format(style='plain', axis='x')\n",
        "            ax.xaxis.set_major_formatter(ticker.ScalarFormatter(useOffset=False))\n",
        "            ax.xaxis.get_major_formatter().set_scientific(False)\n",
        "        else:\n",
        "            print(f\"The column {variable} is not present in the file {filepath}.\")\n",
        "\n",
        "    # Adjust the layout so that all plots fit well\n",
        "    plt.tight_layout()\n",
        "\n",
        "    # Display the plots\n",
        "    plt.show()"
      ]
    },
    {
      "cell_type": "code",
      "execution_count": null,
      "metadata": {
        "id": "-Iw2y-q2TwBi"
      },
      "outputs": [],
      "source": []
    }
  ],
  "metadata": {
    "kernelspec": {
      "display_name": "base",
      "language": "python",
      "name": "python3"
    },
    "language_info": {
      "codemirror_mode": {
        "name": "ipython",
        "version": 3
      },
      "file_extension": ".py",
      "mimetype": "text/x-python",
      "name": "python",
      "nbconvert_exporter": "python",
      "pygments_lexer": "ipython3",
      "version": "3.11.5"
    },
    "colab": {
      "provenance": [],
      "include_colab_link": true
    }
  },
  "nbformat": 4,
  "nbformat_minor": 0
}