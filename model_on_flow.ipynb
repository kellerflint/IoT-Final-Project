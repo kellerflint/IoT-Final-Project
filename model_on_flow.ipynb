{
  "cells": [
    {
      "cell_type": "markdown",
      "metadata": {
        "id": "view-in-github",
        "colab_type": "text"
      },
      "source": [
        "<a href=\"https://colab.research.google.com/github/kellerflint/IoT-Final-Project/blob/angelb/model_on_flow.ipynb\" target=\"_parent\"><img src=\"https://colab.research.google.com/assets/colab-badge.svg\" alt=\"Open In Colab\"/></a>"
      ]
    },
    {
      "cell_type": "code",
      "execution_count": 2,
      "metadata": {
        "colab": {
          "base_uri": "https://localhost:8080/"
        },
        "id": "9U1iX3gEp8BN",
        "outputId": "3f951838-74b5-44a8-e73e-fd170ab1158e"
      },
      "outputs": [
        {
          "output_type": "stream",
          "name": "stdout",
          "text": [
            "Mounted at /content/drive\n"
          ]
        }
      ],
      "source": [
        "from google.colab import drive\n",
        "drive.mount('/content/drive')"
      ]
    },
    {
      "cell_type": "code",
      "execution_count": null,
      "metadata": {
        "colab": {
          "base_uri": "https://localhost:8080/"
        },
        "id": "cc7RBO2_qCT5",
        "outputId": "6307b6fc-d2d7-49e6-e594-3610995a674a"
      },
      "outputs": [
        {
          "name": "stderr",
          "output_type": "stream",
          "text": [
            "<ipython-input-2-235a82f6e2df>:15: SettingWithCopyWarning: \n",
            "A value is trying to be set on a copy of a slice from a DataFrame\n",
            "\n",
            "See the caveats in the documentation: https://pandas.pydata.org/pandas-docs/stable/user_guide/indexing.html#returning-a-view-versus-a-copy\n",
            "  df.loc[:, columns] = scaler.fit_transform(df[columns])\n"
          ]
        },
        {
          "name": "stdout",
          "output_type": "stream",
          "text": [
            "Processed and saved: /content/drive/MyDrive/Data/StandardData/ProcessedStandardizedData_Subject01.csv\n"
          ]
        },
        {
          "name": "stderr",
          "output_type": "stream",
          "text": [
            "<ipython-input-2-235a82f6e2df>:15: SettingWithCopyWarning: \n",
            "A value is trying to be set on a copy of a slice from a DataFrame\n",
            "\n",
            "See the caveats in the documentation: https://pandas.pydata.org/pandas-docs/stable/user_guide/indexing.html#returning-a-view-versus-a-copy\n",
            "  df.loc[:, columns] = scaler.fit_transform(df[columns])\n"
          ]
        },
        {
          "name": "stdout",
          "output_type": "stream",
          "text": [
            "Processed and saved: /content/drive/MyDrive/Data/StandardData/ProcessedStandardizedData_Subject04.csv\n"
          ]
        },
        {
          "name": "stderr",
          "output_type": "stream",
          "text": [
            "<ipython-input-2-235a82f6e2df>:15: SettingWithCopyWarning: \n",
            "A value is trying to be set on a copy of a slice from a DataFrame\n",
            "\n",
            "See the caveats in the documentation: https://pandas.pydata.org/pandas-docs/stable/user_guide/indexing.html#returning-a-view-versus-a-copy\n",
            "  df.loc[:, columns] = scaler.fit_transform(df[columns])\n"
          ]
        },
        {
          "name": "stdout",
          "output_type": "stream",
          "text": [
            "Processed and saved: /content/drive/MyDrive/Data/StandardData/ProcessedStandardizedData_Subject02.csv\n"
          ]
        },
        {
          "name": "stderr",
          "output_type": "stream",
          "text": [
            "<ipython-input-2-235a82f6e2df>:15: SettingWithCopyWarning: \n",
            "A value is trying to be set on a copy of a slice from a DataFrame\n",
            "\n",
            "See the caveats in the documentation: https://pandas.pydata.org/pandas-docs/stable/user_guide/indexing.html#returning-a-view-versus-a-copy\n",
            "  df.loc[:, columns] = scaler.fit_transform(df[columns])\n"
          ]
        },
        {
          "name": "stdout",
          "output_type": "stream",
          "text": [
            "Processed and saved: /content/drive/MyDrive/Data/StandardData/ProcessedStandardizedData_Subject06.csv\n",
            "Processed and saved: /content/drive/MyDrive/Data/StandardData/ProcessedStandardizedData_Subject08.csv\n"
          ]
        },
        {
          "name": "stderr",
          "output_type": "stream",
          "text": [
            "<ipython-input-2-235a82f6e2df>:15: SettingWithCopyWarning: \n",
            "A value is trying to be set on a copy of a slice from a DataFrame\n",
            "\n",
            "See the caveats in the documentation: https://pandas.pydata.org/pandas-docs/stable/user_guide/indexing.html#returning-a-view-versus-a-copy\n",
            "  df.loc[:, columns] = scaler.fit_transform(df[columns])\n"
          ]
        },
        {
          "name": "stdout",
          "output_type": "stream",
          "text": [
            "Processed and saved: /content/drive/MyDrive/Data/StandardData/ProcessedStandardizedData_Subject05.csv\n"
          ]
        },
        {
          "name": "stderr",
          "output_type": "stream",
          "text": [
            "<ipython-input-2-235a82f6e2df>:15: SettingWithCopyWarning: \n",
            "A value is trying to be set on a copy of a slice from a DataFrame\n",
            "\n",
            "See the caveats in the documentation: https://pandas.pydata.org/pandas-docs/stable/user_guide/indexing.html#returning-a-view-versus-a-copy\n",
            "  df.loc[:, columns] = scaler.fit_transform(df[columns])\n"
          ]
        },
        {
          "name": "stdout",
          "output_type": "stream",
          "text": [
            "Processed and saved: /content/drive/MyDrive/Data/StandardData/ProcessedStandardizedData_Subject03.csv\n"
          ]
        },
        {
          "name": "stderr",
          "output_type": "stream",
          "text": [
            "<ipython-input-2-235a82f6e2df>:15: SettingWithCopyWarning: \n",
            "A value is trying to be set on a copy of a slice from a DataFrame\n",
            "\n",
            "See the caveats in the documentation: https://pandas.pydata.org/pandas-docs/stable/user_guide/indexing.html#returning-a-view-versus-a-copy\n",
            "  df.loc[:, columns] = scaler.fit_transform(df[columns])\n"
          ]
        },
        {
          "name": "stdout",
          "output_type": "stream",
          "text": [
            "Processed and saved: /content/drive/MyDrive/Data/StandardData/ProcessedStandardizedData_Subject07.csv\n",
            "Processed and saved: /content/drive/MyDrive/Data/StandardData/ProcessedStandardizedData_Subject12.csv\n"
          ]
        },
        {
          "name": "stderr",
          "output_type": "stream",
          "text": [
            "<ipython-input-2-235a82f6e2df>:15: SettingWithCopyWarning: \n",
            "A value is trying to be set on a copy of a slice from a DataFrame\n",
            "\n",
            "See the caveats in the documentation: https://pandas.pydata.org/pandas-docs/stable/user_guide/indexing.html#returning-a-view-versus-a-copy\n",
            "  df.loc[:, columns] = scaler.fit_transform(df[columns])\n"
          ]
        },
        {
          "name": "stdout",
          "output_type": "stream",
          "text": [
            "Processed and saved: /content/drive/MyDrive/Data/StandardData/ProcessedStandardizedData_Subject15.csv\n"
          ]
        },
        {
          "name": "stderr",
          "output_type": "stream",
          "text": [
            "<ipython-input-2-235a82f6e2df>:15: SettingWithCopyWarning: \n",
            "A value is trying to be set on a copy of a slice from a DataFrame\n",
            "\n",
            "See the caveats in the documentation: https://pandas.pydata.org/pandas-docs/stable/user_guide/indexing.html#returning-a-view-versus-a-copy\n",
            "  df.loc[:, columns] = scaler.fit_transform(df[columns])\n"
          ]
        },
        {
          "name": "stdout",
          "output_type": "stream",
          "text": [
            "Processed and saved: /content/drive/MyDrive/Data/StandardData/ProcessedStandardizedData_Subject10.csv\n"
          ]
        },
        {
          "name": "stderr",
          "output_type": "stream",
          "text": [
            "<ipython-input-2-235a82f6e2df>:15: SettingWithCopyWarning: \n",
            "A value is trying to be set on a copy of a slice from a DataFrame\n",
            "\n",
            "See the caveats in the documentation: https://pandas.pydata.org/pandas-docs/stable/user_guide/indexing.html#returning-a-view-versus-a-copy\n",
            "  df.loc[:, columns] = scaler.fit_transform(df[columns])\n"
          ]
        },
        {
          "name": "stdout",
          "output_type": "stream",
          "text": [
            "Processed and saved: /content/drive/MyDrive/Data/StandardData/ProcessedStandardizedData_Subject14.csv\n",
            "Processed and saved: /content/drive/MyDrive/Data/StandardData/ProcessedStandardizedData_Subject13.csv\n",
            "Processed and saved: /content/drive/MyDrive/Data/StandardData/ProcessedStandardizedData_Subject11.csv\n"
          ]
        },
        {
          "name": "stderr",
          "output_type": "stream",
          "text": [
            "<ipython-input-2-235a82f6e2df>:15: SettingWithCopyWarning: \n",
            "A value is trying to be set on a copy of a slice from a DataFrame\n",
            "\n",
            "See the caveats in the documentation: https://pandas.pydata.org/pandas-docs/stable/user_guide/indexing.html#returning-a-view-versus-a-copy\n",
            "  df.loc[:, columns] = scaler.fit_transform(df[columns])\n"
          ]
        },
        {
          "name": "stdout",
          "output_type": "stream",
          "text": [
            "Processed and saved: /content/drive/MyDrive/Data/StandardData/ProcessedStandardizedData_Subject09.csv\n"
          ]
        },
        {
          "name": "stderr",
          "output_type": "stream",
          "text": [
            "<ipython-input-2-235a82f6e2df>:15: SettingWithCopyWarning: \n",
            "A value is trying to be set on a copy of a slice from a DataFrame\n",
            "\n",
            "See the caveats in the documentation: https://pandas.pydata.org/pandas-docs/stable/user_guide/indexing.html#returning-a-view-versus-a-copy\n",
            "  df.loc[:, columns] = scaler.fit_transform(df[columns])\n"
          ]
        },
        {
          "name": "stdout",
          "output_type": "stream",
          "text": [
            "Processed and saved: /content/drive/MyDrive/Data/StandardData/ProcessedStandardizedData_Subject19.csv\n"
          ]
        },
        {
          "name": "stderr",
          "output_type": "stream",
          "text": [
            "<ipython-input-2-235a82f6e2df>:15: SettingWithCopyWarning: \n",
            "A value is trying to be set on a copy of a slice from a DataFrame\n",
            "\n",
            "See the caveats in the documentation: https://pandas.pydata.org/pandas-docs/stable/user_guide/indexing.html#returning-a-view-versus-a-copy\n",
            "  df.loc[:, columns] = scaler.fit_transform(df[columns])\n"
          ]
        },
        {
          "name": "stdout",
          "output_type": "stream",
          "text": [
            "Processed and saved: /content/drive/MyDrive/Data/StandardData/ProcessedStandardizedData_Subject20.csv\n"
          ]
        },
        {
          "name": "stderr",
          "output_type": "stream",
          "text": [
            "<ipython-input-2-235a82f6e2df>:15: SettingWithCopyWarning: \n",
            "A value is trying to be set on a copy of a slice from a DataFrame\n",
            "\n",
            "See the caveats in the documentation: https://pandas.pydata.org/pandas-docs/stable/user_guide/indexing.html#returning-a-view-versus-a-copy\n",
            "  df.loc[:, columns] = scaler.fit_transform(df[columns])\n"
          ]
        },
        {
          "name": "stdout",
          "output_type": "stream",
          "text": [
            "Processed and saved: /content/drive/MyDrive/Data/StandardData/ProcessedStandardizedData_Subject21.csv\n"
          ]
        },
        {
          "name": "stderr",
          "output_type": "stream",
          "text": [
            "<ipython-input-2-235a82f6e2df>:15: SettingWithCopyWarning: \n",
            "A value is trying to be set on a copy of a slice from a DataFrame\n",
            "\n",
            "See the caveats in the documentation: https://pandas.pydata.org/pandas-docs/stable/user_guide/indexing.html#returning-a-view-versus-a-copy\n",
            "  df.loc[:, columns] = scaler.fit_transform(df[columns])\n"
          ]
        },
        {
          "name": "stdout",
          "output_type": "stream",
          "text": [
            "Processed and saved: /content/drive/MyDrive/Data/StandardData/ProcessedStandardizedData_Subject18.csv\n"
          ]
        },
        {
          "name": "stderr",
          "output_type": "stream",
          "text": [
            "<ipython-input-2-235a82f6e2df>:15: SettingWithCopyWarning: \n",
            "A value is trying to be set on a copy of a slice from a DataFrame\n",
            "\n",
            "See the caveats in the documentation: https://pandas.pydata.org/pandas-docs/stable/user_guide/indexing.html#returning-a-view-versus-a-copy\n",
            "  df.loc[:, columns] = scaler.fit_transform(df[columns])\n"
          ]
        },
        {
          "name": "stdout",
          "output_type": "stream",
          "text": [
            "Processed and saved: /content/drive/MyDrive/Data/StandardData/ProcessedStandardizedData_Subject22.csv\n"
          ]
        },
        {
          "name": "stderr",
          "output_type": "stream",
          "text": [
            "<ipython-input-2-235a82f6e2df>:15: SettingWithCopyWarning: \n",
            "A value is trying to be set on a copy of a slice from a DataFrame\n",
            "\n",
            "See the caveats in the documentation: https://pandas.pydata.org/pandas-docs/stable/user_guide/indexing.html#returning-a-view-versus-a-copy\n",
            "  df.loc[:, columns] = scaler.fit_transform(df[columns])\n"
          ]
        },
        {
          "name": "stdout",
          "output_type": "stream",
          "text": [
            "Processed and saved: /content/drive/MyDrive/Data/StandardData/ProcessedStandardizedData_Subject16.csv\n",
            "Processed and saved: /content/drive/MyDrive/Data/StandardData/ProcessedStandardizedData_Subject17.csv\n"
          ]
        },
        {
          "name": "stderr",
          "output_type": "stream",
          "text": [
            "<ipython-input-2-235a82f6e2df>:15: SettingWithCopyWarning: \n",
            "A value is trying to be set on a copy of a slice from a DataFrame\n",
            "\n",
            "See the caveats in the documentation: https://pandas.pydata.org/pandas-docs/stable/user_guide/indexing.html#returning-a-view-versus-a-copy\n",
            "  df.loc[:, columns] = scaler.fit_transform(df[columns])\n"
          ]
        },
        {
          "name": "stdout",
          "output_type": "stream",
          "text": [
            "Processed and saved: /content/drive/MyDrive/Data/StandardData/ProcessedStandardizedData_Subject24.csv\n"
          ]
        },
        {
          "name": "stderr",
          "output_type": "stream",
          "text": [
            "<ipython-input-2-235a82f6e2df>:15: SettingWithCopyWarning: \n",
            "A value is trying to be set on a copy of a slice from a DataFrame\n",
            "\n",
            "See the caveats in the documentation: https://pandas.pydata.org/pandas-docs/stable/user_guide/indexing.html#returning-a-view-versus-a-copy\n",
            "  df.loc[:, columns] = scaler.fit_transform(df[columns])\n"
          ]
        },
        {
          "name": "stdout",
          "output_type": "stream",
          "text": [
            "Processed and saved: /content/drive/MyDrive/Data/StandardData/ProcessedStandardizedData_Subject28.csv\n",
            "Processed and saved: /content/drive/MyDrive/Data/StandardData/ProcessedStandardizedData_Subject26.csv\n"
          ]
        },
        {
          "name": "stderr",
          "output_type": "stream",
          "text": [
            "<ipython-input-2-235a82f6e2df>:15: SettingWithCopyWarning: \n",
            "A value is trying to be set on a copy of a slice from a DataFrame\n",
            "\n",
            "See the caveats in the documentation: https://pandas.pydata.org/pandas-docs/stable/user_guide/indexing.html#returning-a-view-versus-a-copy\n",
            "  df.loc[:, columns] = scaler.fit_transform(df[columns])\n"
          ]
        },
        {
          "name": "stdout",
          "output_type": "stream",
          "text": [
            "Processed and saved: /content/drive/MyDrive/Data/StandardData/ProcessedStandardizedData_Subject25.csv\n"
          ]
        },
        {
          "name": "stderr",
          "output_type": "stream",
          "text": [
            "<ipython-input-2-235a82f6e2df>:15: SettingWithCopyWarning: \n",
            "A value is trying to be set on a copy of a slice from a DataFrame\n",
            "\n",
            "See the caveats in the documentation: https://pandas.pydata.org/pandas-docs/stable/user_guide/indexing.html#returning-a-view-versus-a-copy\n",
            "  df.loc[:, columns] = scaler.fit_transform(df[columns])\n"
          ]
        },
        {
          "name": "stdout",
          "output_type": "stream",
          "text": [
            "Processed and saved: /content/drive/MyDrive/Data/StandardData/ProcessedStandardizedData_Subject23.csv\n"
          ]
        },
        {
          "name": "stderr",
          "output_type": "stream",
          "text": [
            "<ipython-input-2-235a82f6e2df>:15: SettingWithCopyWarning: \n",
            "A value is trying to be set on a copy of a slice from a DataFrame\n",
            "\n",
            "See the caveats in the documentation: https://pandas.pydata.org/pandas-docs/stable/user_guide/indexing.html#returning-a-view-versus-a-copy\n",
            "  df.loc[:, columns] = scaler.fit_transform(df[columns])\n"
          ]
        },
        {
          "name": "stdout",
          "output_type": "stream",
          "text": [
            "Processed and saved: /content/drive/MyDrive/Data/StandardData/ProcessedStandardizedData_Subject29.csv\n"
          ]
        },
        {
          "name": "stderr",
          "output_type": "stream",
          "text": [
            "<ipython-input-2-235a82f6e2df>:15: SettingWithCopyWarning: \n",
            "A value is trying to be set on a copy of a slice from a DataFrame\n",
            "\n",
            "See the caveats in the documentation: https://pandas.pydata.org/pandas-docs/stable/user_guide/indexing.html#returning-a-view-versus-a-copy\n",
            "  df.loc[:, columns] = scaler.fit_transform(df[columns])\n"
          ]
        },
        {
          "name": "stdout",
          "output_type": "stream",
          "text": [
            "Processed and saved: /content/drive/MyDrive/Data/StandardData/ProcessedStandardizedData_Subject27.csv\n"
          ]
        },
        {
          "name": "stderr",
          "output_type": "stream",
          "text": [
            "<ipython-input-2-235a82f6e2df>:15: SettingWithCopyWarning: \n",
            "A value is trying to be set on a copy of a slice from a DataFrame\n",
            "\n",
            "See the caveats in the documentation: https://pandas.pydata.org/pandas-docs/stable/user_guide/indexing.html#returning-a-view-versus-a-copy\n",
            "  df.loc[:, columns] = scaler.fit_transform(df[columns])\n"
          ]
        },
        {
          "name": "stdout",
          "output_type": "stream",
          "text": [
            "Processed and saved: /content/drive/MyDrive/Data/StandardData/ProcessedStandardizedData_Subject34.csv\n"
          ]
        },
        {
          "name": "stderr",
          "output_type": "stream",
          "text": [
            "<ipython-input-2-235a82f6e2df>:15: SettingWithCopyWarning: \n",
            "A value is trying to be set on a copy of a slice from a DataFrame\n",
            "\n",
            "See the caveats in the documentation: https://pandas.pydata.org/pandas-docs/stable/user_guide/indexing.html#returning-a-view-versus-a-copy\n",
            "  df.loc[:, columns] = scaler.fit_transform(df[columns])\n"
          ]
        },
        {
          "name": "stdout",
          "output_type": "stream",
          "text": [
            "Processed and saved: /content/drive/MyDrive/Data/StandardData/ProcessedStandardizedData_Subject36.csv\n"
          ]
        },
        {
          "name": "stderr",
          "output_type": "stream",
          "text": [
            "<ipython-input-2-235a82f6e2df>:15: SettingWithCopyWarning: \n",
            "A value is trying to be set on a copy of a slice from a DataFrame\n",
            "\n",
            "See the caveats in the documentation: https://pandas.pydata.org/pandas-docs/stable/user_guide/indexing.html#returning-a-view-versus-a-copy\n",
            "  df.loc[:, columns] = scaler.fit_transform(df[columns])\n"
          ]
        },
        {
          "name": "stdout",
          "output_type": "stream",
          "text": [
            "Processed and saved: /content/drive/MyDrive/Data/StandardData/ProcessedStandardizedData_Subject35.csv\n"
          ]
        },
        {
          "name": "stderr",
          "output_type": "stream",
          "text": [
            "<ipython-input-2-235a82f6e2df>:15: SettingWithCopyWarning: \n",
            "A value is trying to be set on a copy of a slice from a DataFrame\n",
            "\n",
            "See the caveats in the documentation: https://pandas.pydata.org/pandas-docs/stable/user_guide/indexing.html#returning-a-view-versus-a-copy\n",
            "  df.loc[:, columns] = scaler.fit_transform(df[columns])\n"
          ]
        },
        {
          "name": "stdout",
          "output_type": "stream",
          "text": [
            "Processed and saved: /content/drive/MyDrive/Data/StandardData/ProcessedStandardizedData_Subject32.csv\n"
          ]
        },
        {
          "name": "stderr",
          "output_type": "stream",
          "text": [
            "<ipython-input-2-235a82f6e2df>:15: SettingWithCopyWarning: \n",
            "A value is trying to be set on a copy of a slice from a DataFrame\n",
            "\n",
            "See the caveats in the documentation: https://pandas.pydata.org/pandas-docs/stable/user_guide/indexing.html#returning-a-view-versus-a-copy\n",
            "  df.loc[:, columns] = scaler.fit_transform(df[columns])\n"
          ]
        },
        {
          "name": "stdout",
          "output_type": "stream",
          "text": [
            "Processed and saved: /content/drive/MyDrive/Data/StandardData/ProcessedStandardizedData_Subject30.csv\n"
          ]
        },
        {
          "name": "stderr",
          "output_type": "stream",
          "text": [
            "<ipython-input-2-235a82f6e2df>:15: SettingWithCopyWarning: \n",
            "A value is trying to be set on a copy of a slice from a DataFrame\n",
            "\n",
            "See the caveats in the documentation: https://pandas.pydata.org/pandas-docs/stable/user_guide/indexing.html#returning-a-view-versus-a-copy\n",
            "  df.loc[:, columns] = scaler.fit_transform(df[columns])\n"
          ]
        },
        {
          "name": "stdout",
          "output_type": "stream",
          "text": [
            "Processed and saved: /content/drive/MyDrive/Data/StandardData/ProcessedStandardizedData_Subject33.csv\n"
          ]
        },
        {
          "name": "stderr",
          "output_type": "stream",
          "text": [
            "<ipython-input-2-235a82f6e2df>:15: SettingWithCopyWarning: \n",
            "A value is trying to be set on a copy of a slice from a DataFrame\n",
            "\n",
            "See the caveats in the documentation: https://pandas.pydata.org/pandas-docs/stable/user_guide/indexing.html#returning-a-view-versus-a-copy\n",
            "  df.loc[:, columns] = scaler.fit_transform(df[columns])\n"
          ]
        },
        {
          "name": "stdout",
          "output_type": "stream",
          "text": [
            "Processed and saved: /content/drive/MyDrive/Data/StandardData/ProcessedStandardizedData_Subject31.csv\n"
          ]
        },
        {
          "name": "stderr",
          "output_type": "stream",
          "text": [
            "<ipython-input-2-235a82f6e2df>:15: SettingWithCopyWarning: \n",
            "A value is trying to be set on a copy of a slice from a DataFrame\n",
            "\n",
            "See the caveats in the documentation: https://pandas.pydata.org/pandas-docs/stable/user_guide/indexing.html#returning-a-view-versus-a-copy\n",
            "  df.loc[:, columns] = scaler.fit_transform(df[columns])\n"
          ]
        },
        {
          "name": "stdout",
          "output_type": "stream",
          "text": [
            "Processed and saved: /content/drive/MyDrive/Data/StandardData/ProcessedStandardizedData_Subject40.csv\n"
          ]
        },
        {
          "name": "stderr",
          "output_type": "stream",
          "text": [
            "<ipython-input-2-235a82f6e2df>:15: SettingWithCopyWarning: \n",
            "A value is trying to be set on a copy of a slice from a DataFrame\n",
            "\n",
            "See the caveats in the documentation: https://pandas.pydata.org/pandas-docs/stable/user_guide/indexing.html#returning-a-view-versus-a-copy\n",
            "  df.loc[:, columns] = scaler.fit_transform(df[columns])\n"
          ]
        },
        {
          "name": "stdout",
          "output_type": "stream",
          "text": [
            "Processed and saved: /content/drive/MyDrive/Data/StandardData/ProcessedStandardizedData_Subject42.csv\n"
          ]
        },
        {
          "name": "stderr",
          "output_type": "stream",
          "text": [
            "<ipython-input-2-235a82f6e2df>:15: SettingWithCopyWarning: \n",
            "A value is trying to be set on a copy of a slice from a DataFrame\n",
            "\n",
            "See the caveats in the documentation: https://pandas.pydata.org/pandas-docs/stable/user_guide/indexing.html#returning-a-view-versus-a-copy\n",
            "  df.loc[:, columns] = scaler.fit_transform(df[columns])\n"
          ]
        },
        {
          "name": "stdout",
          "output_type": "stream",
          "text": [
            "Processed and saved: /content/drive/MyDrive/Data/StandardData/ProcessedStandardizedData_Subject41.csv\n"
          ]
        },
        {
          "name": "stderr",
          "output_type": "stream",
          "text": [
            "<ipython-input-2-235a82f6e2df>:15: SettingWithCopyWarning: \n",
            "A value is trying to be set on a copy of a slice from a DataFrame\n",
            "\n",
            "See the caveats in the documentation: https://pandas.pydata.org/pandas-docs/stable/user_guide/indexing.html#returning-a-view-versus-a-copy\n",
            "  df.loc[:, columns] = scaler.fit_transform(df[columns])\n"
          ]
        },
        {
          "name": "stdout",
          "output_type": "stream",
          "text": [
            "Processed and saved: /content/drive/MyDrive/Data/StandardData/ProcessedStandardizedData_Subject38.csv\n"
          ]
        },
        {
          "name": "stderr",
          "output_type": "stream",
          "text": [
            "<ipython-input-2-235a82f6e2df>:15: SettingWithCopyWarning: \n",
            "A value is trying to be set on a copy of a slice from a DataFrame\n",
            "\n",
            "See the caveats in the documentation: https://pandas.pydata.org/pandas-docs/stable/user_guide/indexing.html#returning-a-view-versus-a-copy\n",
            "  df.loc[:, columns] = scaler.fit_transform(df[columns])\n"
          ]
        },
        {
          "name": "stdout",
          "output_type": "stream",
          "text": [
            "Processed and saved: /content/drive/MyDrive/Data/StandardData/ProcessedStandardizedData_Subject37.csv\n"
          ]
        },
        {
          "name": "stderr",
          "output_type": "stream",
          "text": [
            "<ipython-input-2-235a82f6e2df>:15: SettingWithCopyWarning: \n",
            "A value is trying to be set on a copy of a slice from a DataFrame\n",
            "\n",
            "See the caveats in the documentation: https://pandas.pydata.org/pandas-docs/stable/user_guide/indexing.html#returning-a-view-versus-a-copy\n",
            "  df.loc[:, columns] = scaler.fit_transform(df[columns])\n"
          ]
        },
        {
          "name": "stdout",
          "output_type": "stream",
          "text": [
            "Processed and saved: /content/drive/MyDrive/Data/StandardData/ProcessedStandardizedData_Subject39.csv\n"
          ]
        },
        {
          "name": "stderr",
          "output_type": "stream",
          "text": [
            "<ipython-input-2-235a82f6e2df>:15: SettingWithCopyWarning: \n",
            "A value is trying to be set on a copy of a slice from a DataFrame\n",
            "\n",
            "See the caveats in the documentation: https://pandas.pydata.org/pandas-docs/stable/user_guide/indexing.html#returning-a-view-versus-a-copy\n",
            "  df.loc[:, columns] = scaler.fit_transform(df[columns])\n"
          ]
        },
        {
          "name": "stdout",
          "output_type": "stream",
          "text": [
            "Processed and saved: /content/drive/MyDrive/Data/StandardData/ProcessedStandardizedData_Subject47.csv\n"
          ]
        },
        {
          "name": "stderr",
          "output_type": "stream",
          "text": [
            "<ipython-input-2-235a82f6e2df>:15: SettingWithCopyWarning: \n",
            "A value is trying to be set on a copy of a slice from a DataFrame\n",
            "\n",
            "See the caveats in the documentation: https://pandas.pydata.org/pandas-docs/stable/user_guide/indexing.html#returning-a-view-versus-a-copy\n",
            "  df.loc[:, columns] = scaler.fit_transform(df[columns])\n"
          ]
        },
        {
          "name": "stdout",
          "output_type": "stream",
          "text": [
            "Processed and saved: /content/drive/MyDrive/Data/StandardData/ProcessedStandardizedData_Subject50.csv\n"
          ]
        },
        {
          "name": "stderr",
          "output_type": "stream",
          "text": [
            "<ipython-input-2-235a82f6e2df>:15: SettingWithCopyWarning: \n",
            "A value is trying to be set on a copy of a slice from a DataFrame\n",
            "\n",
            "See the caveats in the documentation: https://pandas.pydata.org/pandas-docs/stable/user_guide/indexing.html#returning-a-view-versus-a-copy\n",
            "  df.loc[:, columns] = scaler.fit_transform(df[columns])\n"
          ]
        },
        {
          "name": "stdout",
          "output_type": "stream",
          "text": [
            "Processed and saved: /content/drive/MyDrive/Data/StandardData/ProcessedStandardizedData_Subject44.csv\n"
          ]
        },
        {
          "name": "stderr",
          "output_type": "stream",
          "text": [
            "<ipython-input-2-235a82f6e2df>:15: SettingWithCopyWarning: \n",
            "A value is trying to be set on a copy of a slice from a DataFrame\n",
            "\n",
            "See the caveats in the documentation: https://pandas.pydata.org/pandas-docs/stable/user_guide/indexing.html#returning-a-view-versus-a-copy\n",
            "  df.loc[:, columns] = scaler.fit_transform(df[columns])\n"
          ]
        },
        {
          "name": "stdout",
          "output_type": "stream",
          "text": [
            "Processed and saved: /content/drive/MyDrive/Data/StandardData/ProcessedStandardizedData_Subject45.csv\n"
          ]
        },
        {
          "name": "stderr",
          "output_type": "stream",
          "text": [
            "<ipython-input-2-235a82f6e2df>:15: SettingWithCopyWarning: \n",
            "A value is trying to be set on a copy of a slice from a DataFrame\n",
            "\n",
            "See the caveats in the documentation: https://pandas.pydata.org/pandas-docs/stable/user_guide/indexing.html#returning-a-view-versus-a-copy\n",
            "  df.loc[:, columns] = scaler.fit_transform(df[columns])\n"
          ]
        },
        {
          "name": "stdout",
          "output_type": "stream",
          "text": [
            "Processed and saved: /content/drive/MyDrive/Data/StandardData/ProcessedStandardizedData_Subject46.csv\n"
          ]
        },
        {
          "name": "stderr",
          "output_type": "stream",
          "text": [
            "<ipython-input-2-235a82f6e2df>:15: SettingWithCopyWarning: \n",
            "A value is trying to be set on a copy of a slice from a DataFrame\n",
            "\n",
            "See the caveats in the documentation: https://pandas.pydata.org/pandas-docs/stable/user_guide/indexing.html#returning-a-view-versus-a-copy\n",
            "  df.loc[:, columns] = scaler.fit_transform(df[columns])\n"
          ]
        },
        {
          "name": "stdout",
          "output_type": "stream",
          "text": [
            "Processed and saved: /content/drive/MyDrive/Data/StandardData/ProcessedStandardizedData_Subject49.csv\n"
          ]
        },
        {
          "name": "stderr",
          "output_type": "stream",
          "text": [
            "<ipython-input-2-235a82f6e2df>:15: SettingWithCopyWarning: \n",
            "A value is trying to be set on a copy of a slice from a DataFrame\n",
            "\n",
            "See the caveats in the documentation: https://pandas.pydata.org/pandas-docs/stable/user_guide/indexing.html#returning-a-view-versus-a-copy\n",
            "  df.loc[:, columns] = scaler.fit_transform(df[columns])\n"
          ]
        },
        {
          "name": "stdout",
          "output_type": "stream",
          "text": [
            "Processed and saved: /content/drive/MyDrive/Data/StandardData/ProcessedStandardizedData_Subject43.csv\n"
          ]
        },
        {
          "name": "stderr",
          "output_type": "stream",
          "text": [
            "<ipython-input-2-235a82f6e2df>:15: SettingWithCopyWarning: \n",
            "A value is trying to be set on a copy of a slice from a DataFrame\n",
            "\n",
            "See the caveats in the documentation: https://pandas.pydata.org/pandas-docs/stable/user_guide/indexing.html#returning-a-view-versus-a-copy\n",
            "  df.loc[:, columns] = scaler.fit_transform(df[columns])\n"
          ]
        },
        {
          "name": "stdout",
          "output_type": "stream",
          "text": [
            "Processed and saved: /content/drive/MyDrive/Data/StandardData/ProcessedStandardizedData_Subject48.csv\n"
          ]
        },
        {
          "name": "stderr",
          "output_type": "stream",
          "text": [
            "<ipython-input-2-235a82f6e2df>:15: SettingWithCopyWarning: \n",
            "A value is trying to be set on a copy of a slice from a DataFrame\n",
            "\n",
            "See the caveats in the documentation: https://pandas.pydata.org/pandas-docs/stable/user_guide/indexing.html#returning-a-view-versus-a-copy\n",
            "  df.loc[:, columns] = scaler.fit_transform(df[columns])\n"
          ]
        },
        {
          "name": "stdout",
          "output_type": "stream",
          "text": [
            "Processed and saved: /content/drive/MyDrive/Data/StandardData/ProcessedStandardizedData_Subject55.csv\n"
          ]
        },
        {
          "name": "stderr",
          "output_type": "stream",
          "text": [
            "<ipython-input-2-235a82f6e2df>:15: SettingWithCopyWarning: \n",
            "A value is trying to be set on a copy of a slice from a DataFrame\n",
            "\n",
            "See the caveats in the documentation: https://pandas.pydata.org/pandas-docs/stable/user_guide/indexing.html#returning-a-view-versus-a-copy\n",
            "  df.loc[:, columns] = scaler.fit_transform(df[columns])\n"
          ]
        },
        {
          "name": "stdout",
          "output_type": "stream",
          "text": [
            "Processed and saved: /content/drive/MyDrive/Data/StandardData/ProcessedStandardizedData_Subject51.csv\n"
          ]
        },
        {
          "name": "stderr",
          "output_type": "stream",
          "text": [
            "<ipython-input-2-235a82f6e2df>:15: SettingWithCopyWarning: \n",
            "A value is trying to be set on a copy of a slice from a DataFrame\n",
            "\n",
            "See the caveats in the documentation: https://pandas.pydata.org/pandas-docs/stable/user_guide/indexing.html#returning-a-view-versus-a-copy\n",
            "  df.loc[:, columns] = scaler.fit_transform(df[columns])\n"
          ]
        },
        {
          "name": "stdout",
          "output_type": "stream",
          "text": [
            "Processed and saved: /content/drive/MyDrive/Data/StandardData/ProcessedStandardizedData_Subject52.csv\n"
          ]
        },
        {
          "name": "stderr",
          "output_type": "stream",
          "text": [
            "<ipython-input-2-235a82f6e2df>:15: SettingWithCopyWarning: \n",
            "A value is trying to be set on a copy of a slice from a DataFrame\n",
            "\n",
            "See the caveats in the documentation: https://pandas.pydata.org/pandas-docs/stable/user_guide/indexing.html#returning-a-view-versus-a-copy\n",
            "  df.loc[:, columns] = scaler.fit_transform(df[columns])\n"
          ]
        },
        {
          "name": "stdout",
          "output_type": "stream",
          "text": [
            "Processed and saved: /content/drive/MyDrive/Data/StandardData/ProcessedStandardizedData_Subject53.csv\n"
          ]
        },
        {
          "name": "stderr",
          "output_type": "stream",
          "text": [
            "<ipython-input-2-235a82f6e2df>:15: SettingWithCopyWarning: \n",
            "A value is trying to be set on a copy of a slice from a DataFrame\n",
            "\n",
            "See the caveats in the documentation: https://pandas.pydata.org/pandas-docs/stable/user_guide/indexing.html#returning-a-view-versus-a-copy\n",
            "  df.loc[:, columns] = scaler.fit_transform(df[columns])\n"
          ]
        },
        {
          "name": "stdout",
          "output_type": "stream",
          "text": [
            "Processed and saved: /content/drive/MyDrive/Data/StandardData/ProcessedStandardizedData_Subject54.csv\n"
          ]
        },
        {
          "name": "stderr",
          "output_type": "stream",
          "text": [
            "<ipython-input-2-235a82f6e2df>:15: SettingWithCopyWarning: \n",
            "A value is trying to be set on a copy of a slice from a DataFrame\n",
            "\n",
            "See the caveats in the documentation: https://pandas.pydata.org/pandas-docs/stable/user_guide/indexing.html#returning-a-view-versus-a-copy\n",
            "  df.loc[:, columns] = scaler.fit_transform(df[columns])\n"
          ]
        },
        {
          "name": "stdout",
          "output_type": "stream",
          "text": [
            "Processed and saved: /content/drive/MyDrive/Data/StandardData/ProcessedStandardizedData_Subject56.csv\n"
          ]
        },
        {
          "name": "stderr",
          "output_type": "stream",
          "text": [
            "<ipython-input-2-235a82f6e2df>:15: SettingWithCopyWarning: \n",
            "A value is trying to be set on a copy of a slice from a DataFrame\n",
            "\n",
            "See the caveats in the documentation: https://pandas.pydata.org/pandas-docs/stable/user_guide/indexing.html#returning-a-view-versus-a-copy\n",
            "  df.loc[:, columns] = scaler.fit_transform(df[columns])\n"
          ]
        },
        {
          "name": "stdout",
          "output_type": "stream",
          "text": [
            "Processed and saved: /content/drive/MyDrive/Data/StandardData/ProcessedStandardizedData_Subject60.csv\n"
          ]
        },
        {
          "name": "stderr",
          "output_type": "stream",
          "text": [
            "<ipython-input-2-235a82f6e2df>:15: SettingWithCopyWarning: \n",
            "A value is trying to be set on a copy of a slice from a DataFrame\n",
            "\n",
            "See the caveats in the documentation: https://pandas.pydata.org/pandas-docs/stable/user_guide/indexing.html#returning-a-view-versus-a-copy\n",
            "  df.loc[:, columns] = scaler.fit_transform(df[columns])\n"
          ]
        },
        {
          "name": "stdout",
          "output_type": "stream",
          "text": [
            "Processed and saved: /content/drive/MyDrive/Data/StandardData/ProcessedStandardizedData_Subject59.csv\n"
          ]
        },
        {
          "name": "stderr",
          "output_type": "stream",
          "text": [
            "<ipython-input-2-235a82f6e2df>:15: SettingWithCopyWarning: \n",
            "A value is trying to be set on a copy of a slice from a DataFrame\n",
            "\n",
            "See the caveats in the documentation: https://pandas.pydata.org/pandas-docs/stable/user_guide/indexing.html#returning-a-view-versus-a-copy\n",
            "  df.loc[:, columns] = scaler.fit_transform(df[columns])\n"
          ]
        },
        {
          "name": "stdout",
          "output_type": "stream",
          "text": [
            "Processed and saved: /content/drive/MyDrive/Data/StandardData/ProcessedStandardizedData_Subject58.csv\n"
          ]
        },
        {
          "name": "stderr",
          "output_type": "stream",
          "text": [
            "<ipython-input-2-235a82f6e2df>:15: SettingWithCopyWarning: \n",
            "A value is trying to be set on a copy of a slice from a DataFrame\n",
            "\n",
            "See the caveats in the documentation: https://pandas.pydata.org/pandas-docs/stable/user_guide/indexing.html#returning-a-view-versus-a-copy\n",
            "  df.loc[:, columns] = scaler.fit_transform(df[columns])\n"
          ]
        },
        {
          "name": "stdout",
          "output_type": "stream",
          "text": [
            "Processed and saved: /content/drive/MyDrive/Data/StandardData/ProcessedStandardizedData_Subject57.csv\n"
          ]
        },
        {
          "name": "stderr",
          "output_type": "stream",
          "text": [
            "<ipython-input-2-235a82f6e2df>:15: SettingWithCopyWarning: \n",
            "A value is trying to be set on a copy of a slice from a DataFrame\n",
            "\n",
            "See the caveats in the documentation: https://pandas.pydata.org/pandas-docs/stable/user_guide/indexing.html#returning-a-view-versus-a-copy\n",
            "  df.loc[:, columns] = scaler.fit_transform(df[columns])\n"
          ]
        },
        {
          "name": "stdout",
          "output_type": "stream",
          "text": [
            "Processed and saved: /content/drive/MyDrive/Data/StandardData/ProcessedStandardizedData_Subject61.csv\n"
          ]
        },
        {
          "name": "stderr",
          "output_type": "stream",
          "text": [
            "<ipython-input-2-235a82f6e2df>:15: SettingWithCopyWarning: \n",
            "A value is trying to be set on a copy of a slice from a DataFrame\n",
            "\n",
            "See the caveats in the documentation: https://pandas.pydata.org/pandas-docs/stable/user_guide/indexing.html#returning-a-view-versus-a-copy\n",
            "  df.loc[:, columns] = scaler.fit_transform(df[columns])\n"
          ]
        },
        {
          "name": "stdout",
          "output_type": "stream",
          "text": [
            "Processed and saved: /content/drive/MyDrive/Data/StandardData/ProcessedStandardizedData_Subject62.csv\n"
          ]
        },
        {
          "name": "stderr",
          "output_type": "stream",
          "text": [
            "<ipython-input-2-235a82f6e2df>:15: SettingWithCopyWarning: \n",
            "A value is trying to be set on a copy of a slice from a DataFrame\n",
            "\n",
            "See the caveats in the documentation: https://pandas.pydata.org/pandas-docs/stable/user_guide/indexing.html#returning-a-view-versus-a-copy\n",
            "  df.loc[:, columns] = scaler.fit_transform(df[columns])\n"
          ]
        },
        {
          "name": "stdout",
          "output_type": "stream",
          "text": [
            "Processed and saved: /content/drive/MyDrive/Data/StandardData/ProcessedStandardizedData_Subject67.csv\n"
          ]
        },
        {
          "name": "stderr",
          "output_type": "stream",
          "text": [
            "<ipython-input-2-235a82f6e2df>:15: SettingWithCopyWarning: \n",
            "A value is trying to be set on a copy of a slice from a DataFrame\n",
            "\n",
            "See the caveats in the documentation: https://pandas.pydata.org/pandas-docs/stable/user_guide/indexing.html#returning-a-view-versus-a-copy\n",
            "  df.loc[:, columns] = scaler.fit_transform(df[columns])\n"
          ]
        },
        {
          "name": "stdout",
          "output_type": "stream",
          "text": [
            "Processed and saved: /content/drive/MyDrive/Data/StandardData/ProcessedStandardizedData_Subject63.csv\n"
          ]
        },
        {
          "name": "stderr",
          "output_type": "stream",
          "text": [
            "<ipython-input-2-235a82f6e2df>:15: SettingWithCopyWarning: \n",
            "A value is trying to be set on a copy of a slice from a DataFrame\n",
            "\n",
            "See the caveats in the documentation: https://pandas.pydata.org/pandas-docs/stable/user_guide/indexing.html#returning-a-view-versus-a-copy\n",
            "  df.loc[:, columns] = scaler.fit_transform(df[columns])\n"
          ]
        },
        {
          "name": "stdout",
          "output_type": "stream",
          "text": [
            "Processed and saved: /content/drive/MyDrive/Data/StandardData/ProcessedStandardizedData_Subject66.csv\n"
          ]
        },
        {
          "name": "stderr",
          "output_type": "stream",
          "text": [
            "<ipython-input-2-235a82f6e2df>:15: SettingWithCopyWarning: \n",
            "A value is trying to be set on a copy of a slice from a DataFrame\n",
            "\n",
            "See the caveats in the documentation: https://pandas.pydata.org/pandas-docs/stable/user_guide/indexing.html#returning-a-view-versus-a-copy\n",
            "  df.loc[:, columns] = scaler.fit_transform(df[columns])\n"
          ]
        },
        {
          "name": "stdout",
          "output_type": "stream",
          "text": [
            "Processed and saved: /content/drive/MyDrive/Data/StandardData/ProcessedStandardizedData_Subject64.csv\n"
          ]
        },
        {
          "name": "stderr",
          "output_type": "stream",
          "text": [
            "<ipython-input-2-235a82f6e2df>:15: SettingWithCopyWarning: \n",
            "A value is trying to be set on a copy of a slice from a DataFrame\n",
            "\n",
            "See the caveats in the documentation: https://pandas.pydata.org/pandas-docs/stable/user_guide/indexing.html#returning-a-view-versus-a-copy\n",
            "  df.loc[:, columns] = scaler.fit_transform(df[columns])\n"
          ]
        },
        {
          "name": "stdout",
          "output_type": "stream",
          "text": [
            "Processed and saved: /content/drive/MyDrive/Data/StandardData/ProcessedStandardizedData_Subject68.csv\n"
          ]
        },
        {
          "name": "stderr",
          "output_type": "stream",
          "text": [
            "<ipython-input-2-235a82f6e2df>:15: SettingWithCopyWarning: \n",
            "A value is trying to be set on a copy of a slice from a DataFrame\n",
            "\n",
            "See the caveats in the documentation: https://pandas.pydata.org/pandas-docs/stable/user_guide/indexing.html#returning-a-view-versus-a-copy\n",
            "  df.loc[:, columns] = scaler.fit_transform(df[columns])\n"
          ]
        },
        {
          "name": "stdout",
          "output_type": "stream",
          "text": [
            "Processed and saved: /content/drive/MyDrive/Data/StandardData/ProcessedStandardizedData_Subject65.csv\n"
          ]
        },
        {
          "name": "stderr",
          "output_type": "stream",
          "text": [
            "<ipython-input-2-235a82f6e2df>:15: SettingWithCopyWarning: \n",
            "A value is trying to be set on a copy of a slice from a DataFrame\n",
            "\n",
            "See the caveats in the documentation: https://pandas.pydata.org/pandas-docs/stable/user_guide/indexing.html#returning-a-view-versus-a-copy\n",
            "  df.loc[:, columns] = scaler.fit_transform(df[columns])\n"
          ]
        },
        {
          "name": "stdout",
          "output_type": "stream",
          "text": [
            "Processed and saved: /content/drive/MyDrive/Data/StandardData/ProcessedStandardizedData_Subject69.csv\n"
          ]
        },
        {
          "name": "stderr",
          "output_type": "stream",
          "text": [
            "<ipython-input-2-235a82f6e2df>:15: SettingWithCopyWarning: \n",
            "A value is trying to be set on a copy of a slice from a DataFrame\n",
            "\n",
            "See the caveats in the documentation: https://pandas.pydata.org/pandas-docs/stable/user_guide/indexing.html#returning-a-view-versus-a-copy\n",
            "  df.loc[:, columns] = scaler.fit_transform(df[columns])\n"
          ]
        },
        {
          "name": "stdout",
          "output_type": "stream",
          "text": [
            "Processed and saved: /content/drive/MyDrive/Data/StandardData/ProcessedStandardizedData_Subject73.csv\n"
          ]
        },
        {
          "name": "stderr",
          "output_type": "stream",
          "text": [
            "<ipython-input-2-235a82f6e2df>:15: SettingWithCopyWarning: \n",
            "A value is trying to be set on a copy of a slice from a DataFrame\n",
            "\n",
            "See the caveats in the documentation: https://pandas.pydata.org/pandas-docs/stable/user_guide/indexing.html#returning-a-view-versus-a-copy\n",
            "  df.loc[:, columns] = scaler.fit_transform(df[columns])\n"
          ]
        },
        {
          "name": "stdout",
          "output_type": "stream",
          "text": [
            "Processed and saved: /content/drive/MyDrive/Data/StandardData/ProcessedStandardizedData_Subject76.csv\n"
          ]
        },
        {
          "name": "stderr",
          "output_type": "stream",
          "text": [
            "<ipython-input-2-235a82f6e2df>:15: SettingWithCopyWarning: \n",
            "A value is trying to be set on a copy of a slice from a DataFrame\n",
            "\n",
            "See the caveats in the documentation: https://pandas.pydata.org/pandas-docs/stable/user_guide/indexing.html#returning-a-view-versus-a-copy\n",
            "  df.loc[:, columns] = scaler.fit_transform(df[columns])\n"
          ]
        },
        {
          "name": "stdout",
          "output_type": "stream",
          "text": [
            "Processed and saved: /content/drive/MyDrive/Data/StandardData/ProcessedStandardizedData_Subject74.csv\n"
          ]
        },
        {
          "name": "stderr",
          "output_type": "stream",
          "text": [
            "<ipython-input-2-235a82f6e2df>:15: SettingWithCopyWarning: \n",
            "A value is trying to be set on a copy of a slice from a DataFrame\n",
            "\n",
            "See the caveats in the documentation: https://pandas.pydata.org/pandas-docs/stable/user_guide/indexing.html#returning-a-view-versus-a-copy\n",
            "  df.loc[:, columns] = scaler.fit_transform(df[columns])\n"
          ]
        },
        {
          "name": "stdout",
          "output_type": "stream",
          "text": [
            "Processed and saved: /content/drive/MyDrive/Data/StandardData/ProcessedStandardizedData_Subject72.csv\n",
            "Processed and saved: /content/drive/MyDrive/Data/StandardData/ProcessedStandardizedData_Subject71.csv\n"
          ]
        },
        {
          "name": "stderr",
          "output_type": "stream",
          "text": [
            "<ipython-input-2-235a82f6e2df>:15: SettingWithCopyWarning: \n",
            "A value is trying to be set on a copy of a slice from a DataFrame\n",
            "\n",
            "See the caveats in the documentation: https://pandas.pydata.org/pandas-docs/stable/user_guide/indexing.html#returning-a-view-versus-a-copy\n",
            "  df.loc[:, columns] = scaler.fit_transform(df[columns])\n"
          ]
        },
        {
          "name": "stdout",
          "output_type": "stream",
          "text": [
            "Processed and saved: /content/drive/MyDrive/Data/StandardData/ProcessedStandardizedData_Subject75.csv\n"
          ]
        },
        {
          "name": "stderr",
          "output_type": "stream",
          "text": [
            "<ipython-input-2-235a82f6e2df>:15: SettingWithCopyWarning: \n",
            "A value is trying to be set on a copy of a slice from a DataFrame\n",
            "\n",
            "See the caveats in the documentation: https://pandas.pydata.org/pandas-docs/stable/user_guide/indexing.html#returning-a-view-versus-a-copy\n",
            "  df.loc[:, columns] = scaler.fit_transform(df[columns])\n"
          ]
        },
        {
          "name": "stdout",
          "output_type": "stream",
          "text": [
            "Processed and saved: /content/drive/MyDrive/Data/StandardData/ProcessedStandardizedData_Subject70.csv\n"
          ]
        },
        {
          "name": "stderr",
          "output_type": "stream",
          "text": [
            "<ipython-input-2-235a82f6e2df>:15: SettingWithCopyWarning: \n",
            "A value is trying to be set on a copy of a slice from a DataFrame\n",
            "\n",
            "See the caveats in the documentation: https://pandas.pydata.org/pandas-docs/stable/user_guide/indexing.html#returning-a-view-versus-a-copy\n",
            "  df.loc[:, columns] = scaler.fit_transform(df[columns])\n"
          ]
        },
        {
          "name": "stdout",
          "output_type": "stream",
          "text": [
            "Processed and saved: /content/drive/MyDrive/Data/StandardData/ProcessedStandardizedData_Subject78.csv\n"
          ]
        },
        {
          "name": "stderr",
          "output_type": "stream",
          "text": [
            "<ipython-input-2-235a82f6e2df>:15: SettingWithCopyWarning: \n",
            "A value is trying to be set on a copy of a slice from a DataFrame\n",
            "\n",
            "See the caveats in the documentation: https://pandas.pydata.org/pandas-docs/stable/user_guide/indexing.html#returning-a-view-versus-a-copy\n",
            "  df.loc[:, columns] = scaler.fit_transform(df[columns])\n"
          ]
        },
        {
          "name": "stdout",
          "output_type": "stream",
          "text": [
            "Processed and saved: /content/drive/MyDrive/Data/StandardData/ProcessedStandardizedData_Subject77.csv\n"
          ]
        },
        {
          "name": "stderr",
          "output_type": "stream",
          "text": [
            "<ipython-input-2-235a82f6e2df>:15: SettingWithCopyWarning: \n",
            "A value is trying to be set on a copy of a slice from a DataFrame\n",
            "\n",
            "See the caveats in the documentation: https://pandas.pydata.org/pandas-docs/stable/user_guide/indexing.html#returning-a-view-versus-a-copy\n",
            "  df.loc[:, columns] = scaler.fit_transform(df[columns])\n"
          ]
        },
        {
          "name": "stdout",
          "output_type": "stream",
          "text": [
            "Processed and saved: /content/drive/MyDrive/Data/StandardData/ProcessedStandardizedData_Subject80.csv\n"
          ]
        },
        {
          "name": "stderr",
          "output_type": "stream",
          "text": [
            "<ipython-input-2-235a82f6e2df>:15: SettingWithCopyWarning: \n",
            "A value is trying to be set on a copy of a slice from a DataFrame\n",
            "\n",
            "See the caveats in the documentation: https://pandas.pydata.org/pandas-docs/stable/user_guide/indexing.html#returning-a-view-versus-a-copy\n",
            "  df.loc[:, columns] = scaler.fit_transform(df[columns])\n"
          ]
        },
        {
          "name": "stdout",
          "output_type": "stream",
          "text": [
            "Processed and saved: /content/drive/MyDrive/Data/StandardData/ProcessedStandardizedData_Subject79.csv\n"
          ]
        }
      ],
      "source": [
        "import os\n",
        "import glob\n",
        "import pandas as pd\n",
        "import numpy as np\n",
        "from scipy import stats\n",
        "from sklearn.preprocessing import StandardScaler\n",
        "\n",
        "def remove_outliers(df, columns):\n",
        "    z_scores = np.abs(stats.zscore(df[columns]))\n",
        "    filtered_entries = (z_scores < 4).all(axis=1)  # Relaxing the threshold to 4\n",
        "    return df[filtered_entries]\n",
        "\n",
        "def standardize(df, columns):\n",
        "    scaler = StandardScaler()\n",
        "    df.loc[:, columns] = scaler.fit_transform(df[columns])\n",
        "    return df\n",
        "\n",
        "# Original file pattern\n",
        "file_pattern = '/content/drive/MyDrive/Data/ProcessedData_Subject*.csv'\n",
        "\n",
        "# List of files that match the pattern\n",
        "files = glob.glob(file_pattern)\n",
        "\n",
        "# New directory where the processed files will be saved\n",
        "new_directory = r\"/content/drive/MyDrive/Data/StandardData\"\n",
        "\n",
        "# Explicitly define columns to process\n",
        "columns_to_process = ['Time [s]', 'Pressure [cmH2O]', 'Flow [L/s]', 'V_tidal [L]']\n",
        "\n",
        "for filepath in files:\n",
        "    # Read the CSV file, including only the specified columns\n",
        "    df = pd.read_csv(filepath, usecols=columns_to_process)\n",
        "\n",
        "    # Fill missing values with forward fill\n",
        "    df.ffill(inplace=True)\n",
        "\n",
        "    # Remove 'Time [s]' from the list for processing steps like outlier removal and standardization\n",
        "    process_columns = [col for col in columns_to_process if col != 'Time [s]']\n",
        "\n",
        "    df_clean = remove_outliers(df, process_columns)\n",
        "\n",
        "    # Check if df_clean is empty\n",
        "    if not df_clean.empty:\n",
        "        df_standardized = standardize(df_clean, process_columns)\n",
        "\n",
        "        # Define the new filename based on the original filename\n",
        "        original_filename = os.path.basename(filepath)\n",
        "        new_filename = original_filename.replace('ProcessedData_', 'ProcessedStandardizedData_')\n",
        "\n",
        "        # Construct the new file path\n",
        "        new_filepath = os.path.join(new_directory, new_filename)\n",
        "\n",
        "        # Save the processed file to the new directory\n",
        "        df_standardized.to_csv(new_filepath, index=False)\n",
        "        print(f'Processed and saved: {new_filepath}')\n",
        "    else:\n",
        "        print(f'No data left after outlier removal in file: {filepath}. Skipping standardization and saving.')\n"
      ]
    },
    {
      "cell_type": "code",
      "execution_count": 2,
      "metadata": {
        "colab": {
          "base_uri": "https://localhost:8080/"
        },
        "id": "jmkBD1rbqGRN",
        "outputId": "96e0ae98-f1c4-4ed9-8e93-6dfe661d60b4"
      },
      "outputs": [
        {
          "output_type": "stream",
          "name": "stderr",
          "text": [
            "<ipython-input-2-f88a7942cfa1>:15: SettingWithCopyWarning: \n",
            "A value is trying to be set on a copy of a slice from a DataFrame\n",
            "\n",
            "See the caveats in the documentation: https://pandas.pydata.org/pandas-docs/stable/user_guide/indexing.html#returning-a-view-versus-a-copy\n",
            "  df.loc[:, columns] = scaler.fit_transform(df[columns])\n"
          ]
        },
        {
          "output_type": "stream",
          "name": "stdout",
          "text": [
            "Processed and saved: /content/drive/MyDrive/Data/StandardData/ProcessedStandardizedData_Subject01.csv\n",
            "Head of the processed file ProcessedStandardizedData_Subject01.csv:\n",
            "       Time [s]  Pressure [cmH2O]  Flow [L/s]  V_tidal [L]\n",
            "0 -1.000000e-02         -2.399169    0.879874    -0.774893\n",
            "1  2.275957e-15         -2.399169    0.879874    -0.770238\n",
            "2  1.000000e-02         -2.353036    0.794601    -0.765760\n",
            "3  2.000000e-02         -2.399169    0.920165    -0.761199\n",
            "4  3.000000e-02         -2.369812    0.920165    -0.756377\n",
            "\n",
            "\n"
          ]
        },
        {
          "output_type": "stream",
          "name": "stderr",
          "text": [
            "<ipython-input-2-f88a7942cfa1>:15: SettingWithCopyWarning: \n",
            "A value is trying to be set on a copy of a slice from a DataFrame\n",
            "\n",
            "See the caveats in the documentation: https://pandas.pydata.org/pandas-docs/stable/user_guide/indexing.html#returning-a-view-versus-a-copy\n",
            "  df.loc[:, columns] = scaler.fit_transform(df[columns])\n"
          ]
        },
        {
          "output_type": "stream",
          "name": "stdout",
          "text": [
            "Processed and saved: /content/drive/MyDrive/Data/StandardData/ProcessedStandardizedData_Subject04.csv\n",
            "Head of the processed file ProcessedStandardizedData_Subject04.csv:\n",
            "       Time [s]  Pressure [cmH2O]  Flow [L/s]  V_tidal [L]\n",
            "0 -1.000000e-02         -0.268461   -0.889348    -1.457530\n",
            "1 -8.326673e-16         -0.261447   -0.763246    -1.460395\n",
            "2  1.000000e-02         -0.268461   -0.820450    -1.463102\n",
            "3  2.000000e-02         -0.278982   -0.699497    -1.465662\n",
            "4  3.000000e-02         -0.285997   -0.855808    -1.468304\n",
            "\n",
            "\n"
          ]
        },
        {
          "output_type": "stream",
          "name": "stderr",
          "text": [
            "<ipython-input-2-f88a7942cfa1>:15: SettingWithCopyWarning: \n",
            "A value is trying to be set on a copy of a slice from a DataFrame\n",
            "\n",
            "See the caveats in the documentation: https://pandas.pydata.org/pandas-docs/stable/user_guide/indexing.html#returning-a-view-versus-a-copy\n",
            "  df.loc[:, columns] = scaler.fit_transform(df[columns])\n"
          ]
        },
        {
          "output_type": "stream",
          "name": "stdout",
          "text": [
            "Processed and saved: /content/drive/MyDrive/Data/StandardData/ProcessedStandardizedData_Subject02.csv\n",
            "Head of the processed file ProcessedStandardizedData_Subject02.csv:\n",
            "       Time [s]  Pressure [cmH2O]  Flow [L/s]  V_tidal [L]\n",
            "0 -1.000000e-02         -0.167879   -0.937229    -1.332290\n",
            "1 -3.635980e-14         -0.148019   -0.937229    -1.344149\n",
            "2  1.000000e-02         -0.120216   -1.013790    -1.356574\n",
            "3  2.000000e-02         -0.088441   -0.937229    -1.368999\n",
            "4  3.000000e-02         -0.060638   -1.037868    -1.381602\n",
            "\n",
            "\n"
          ]
        },
        {
          "output_type": "stream",
          "name": "stderr",
          "text": [
            "<ipython-input-2-f88a7942cfa1>:15: SettingWithCopyWarning: \n",
            "A value is trying to be set on a copy of a slice from a DataFrame\n",
            "\n",
            "See the caveats in the documentation: https://pandas.pydata.org/pandas-docs/stable/user_guide/indexing.html#returning-a-view-versus-a-copy\n",
            "  df.loc[:, columns] = scaler.fit_transform(df[columns])\n"
          ]
        },
        {
          "output_type": "stream",
          "name": "stdout",
          "text": [
            "Processed and saved: /content/drive/MyDrive/Data/StandardData/ProcessedStandardizedData_Subject06.csv\n",
            "Head of the processed file ProcessedStandardizedData_Subject06.csv:\n",
            "       Time [s]  Pressure [cmH2O]  Flow [L/s]  V_tidal [L]\n",
            "0 -1.000000e-02         -0.649799   -2.230933    -1.275246\n",
            "1 -3.519407e-14         -0.649799   -1.947504    -1.276559\n",
            "2  1.000000e-02         -0.637589   -1.865200    -1.277464\n",
            "3  2.000000e-02         -0.637589   -1.947504    -1.278368\n",
            "4  3.000000e-02         -0.649799   -1.947504    -1.279364\n",
            "\n",
            "\n",
            "Processed and saved: /content/drive/MyDrive/Data/StandardData/ProcessedStandardizedData_Subject08.csv\n",
            "Head of the processed file ProcessedStandardizedData_Subject08.csv:\n",
            "       Time [s]  Pressure [cmH2O]  Flow [L/s]  V_tidal [L]\n",
            "0 -1.000000e-02         -1.915752    0.713645    -1.254876\n",
            "1 -1.365574e-14         -1.915752    0.650038    -1.250813\n",
            "2  1.000000e-02         -1.937857    0.650038    -1.246898\n",
            "3  2.000000e-02         -1.915752    0.682424    -1.242907\n",
            "4  3.000000e-02         -1.908384    0.650038    -1.238916\n",
            "\n",
            "\n"
          ]
        },
        {
          "output_type": "stream",
          "name": "stderr",
          "text": [
            "<ipython-input-2-f88a7942cfa1>:15: SettingWithCopyWarning: \n",
            "A value is trying to be set on a copy of a slice from a DataFrame\n",
            "\n",
            "See the caveats in the documentation: https://pandas.pydata.org/pandas-docs/stable/user_guide/indexing.html#returning-a-view-versus-a-copy\n",
            "  df.loc[:, columns] = scaler.fit_transform(df[columns])\n"
          ]
        },
        {
          "output_type": "stream",
          "name": "stdout",
          "text": [
            "Processed and saved: /content/drive/MyDrive/Data/StandardData/ProcessedStandardizedData_Subject05.csv\n",
            "Head of the processed file ProcessedStandardizedData_Subject05.csv:\n",
            "       Time [s]  Pressure [cmH2O]  Flow [L/s]  V_tidal [L]\n",
            "0 -1.000000e-02          -1.10969    0.038350    -1.462480\n",
            "1  2.728373e-14          -1.10969   -0.085324    -1.459605\n",
            "2  1.000000e-02          -1.09751    0.038350    -1.456730\n",
            "3  2.000000e-02          -1.09751   -0.085324    -1.453854\n",
            "4  3.000000e-02          -1.09751   -0.085324    -1.451742\n",
            "\n",
            "\n"
          ]
        },
        {
          "output_type": "stream",
          "name": "stderr",
          "text": [
            "<ipython-input-2-f88a7942cfa1>:15: SettingWithCopyWarning: \n",
            "A value is trying to be set on a copy of a slice from a DataFrame\n",
            "\n",
            "See the caveats in the documentation: https://pandas.pydata.org/pandas-docs/stable/user_guide/indexing.html#returning-a-view-versus-a-copy\n",
            "  df.loc[:, columns] = scaler.fit_transform(df[columns])\n"
          ]
        },
        {
          "output_type": "stream",
          "name": "stdout",
          "text": [
            "Processed and saved: /content/drive/MyDrive/Data/StandardData/ProcessedStandardizedData_Subject03.csv\n",
            "Head of the processed file ProcessedStandardizedData_Subject03.csv:\n",
            "       Time [s]  Pressure [cmH2O]  Flow [L/s]  V_tidal [L]\n",
            "0 -1.000000e-02         -1.576023    0.512942    -0.282603\n",
            "1  4.662937e-15         -1.563924    0.512942    -0.279309\n",
            "2  1.000000e-02         -1.531657    0.451218    -0.276166\n",
            "3  2.000000e-02         -1.543757    0.451218    -0.273176\n",
            "4  3.000000e-02         -1.523591    0.512942    -0.270034\n",
            "\n",
            "\n"
          ]
        },
        {
          "output_type": "stream",
          "name": "stderr",
          "text": [
            "<ipython-input-2-f88a7942cfa1>:15: SettingWithCopyWarning: \n",
            "A value is trying to be set on a copy of a slice from a DataFrame\n",
            "\n",
            "See the caveats in the documentation: https://pandas.pydata.org/pandas-docs/stable/user_guide/indexing.html#returning-a-view-versus-a-copy\n",
            "  df.loc[:, columns] = scaler.fit_transform(df[columns])\n"
          ]
        },
        {
          "output_type": "stream",
          "name": "stdout",
          "text": [
            "Processed and saved: /content/drive/MyDrive/Data/StandardData/ProcessedStandardizedData_Subject07.csv\n",
            "Head of the processed file ProcessedStandardizedData_Subject07.csv:\n",
            "   Time [s]  Pressure [cmH2O]  Flow [L/s]  V_tidal [L]\n",
            "0     -0.01         -1.697056   -0.785346    -1.108440\n",
            "1      0.00         -1.697056   -0.884818    -1.107149\n",
            "2      0.01         -1.697056   -0.785346    -1.105858\n",
            "3      0.02         -1.697056   -0.785346    -1.104496\n",
            "4      0.03         -1.697056   -0.884818    -1.103205\n",
            "\n",
            "\n",
            "Processed and saved: /content/drive/MyDrive/Data/StandardData/ProcessedStandardizedData_Subject12.csv\n",
            "Head of the processed file ProcessedStandardizedData_Subject12.csv:\n",
            "       Time [s]  Pressure [cmH2O]  Flow [L/s]  V_tidal [L]\n",
            "0 -1.000000e-02         -2.028974    0.703048    -1.259483\n",
            "1 -2.731149e-14         -1.996695    0.745254    -1.255441\n",
            "2  1.000000e-02         -1.984591    0.703048    -1.251399\n",
            "3  2.000000e-02         -1.996695    0.703048    -1.247452\n",
            "4  3.000000e-02         -1.984591    0.745254    -1.243410\n",
            "\n",
            "\n"
          ]
        },
        {
          "output_type": "stream",
          "name": "stderr",
          "text": [
            "<ipython-input-2-f88a7942cfa1>:15: SettingWithCopyWarning: \n",
            "A value is trying to be set on a copy of a slice from a DataFrame\n",
            "\n",
            "See the caveats in the documentation: https://pandas.pydata.org/pandas-docs/stable/user_guide/indexing.html#returning-a-view-versus-a-copy\n",
            "  df.loc[:, columns] = scaler.fit_transform(df[columns])\n"
          ]
        },
        {
          "output_type": "stream",
          "name": "stdout",
          "text": [
            "Processed and saved: /content/drive/MyDrive/Data/StandardData/ProcessedStandardizedData_Subject15.csv\n",
            "Head of the processed file ProcessedStandardizedData_Subject15.csv:\n",
            "       Time [s]  Pressure [cmH2O]  Flow [L/s]  V_tidal [L]\n",
            "0 -1.000000e-02         -0.765582   -0.050497    -1.431382\n",
            "1  8.637535e-14         -0.758286   -0.050497    -1.430725\n",
            "2  1.000000e-02         -0.758286   -0.165464    -1.430355\n",
            "3  2.000000e-02         -0.758286   -0.050497    -1.429985\n",
            "4  3.000000e-02         -0.758286    0.044685    -1.429091\n",
            "\n",
            "\n"
          ]
        },
        {
          "output_type": "stream",
          "name": "stderr",
          "text": [
            "<ipython-input-2-f88a7942cfa1>:15: SettingWithCopyWarning: \n",
            "A value is trying to be set on a copy of a slice from a DataFrame\n",
            "\n",
            "See the caveats in the documentation: https://pandas.pydata.org/pandas-docs/stable/user_guide/indexing.html#returning-a-view-versus-a-copy\n",
            "  df.loc[:, columns] = scaler.fit_transform(df[columns])\n"
          ]
        },
        {
          "output_type": "stream",
          "name": "stdout",
          "text": [
            "Processed and saved: /content/drive/MyDrive/Data/StandardData/ProcessedStandardizedData_Subject10.csv\n",
            "Head of the processed file ProcessedStandardizedData_Subject10.csv:\n",
            "       Time [s]  Pressure [cmH2O]  Flow [L/s]  V_tidal [L]\n",
            "0 -1.000000e-02         -0.858391   -0.606064    -1.667517\n",
            "1 -4.551914e-15         -0.871399   -0.319490    -1.667910\n",
            "2  1.000000e-02         -0.871399   -0.606064    -1.668303\n",
            "3  2.000000e-02         -0.871399   -0.606064    -1.669166\n",
            "4  3.000000e-02         -0.858391   -0.319490    -1.669559\n",
            "\n",
            "\n"
          ]
        },
        {
          "output_type": "stream",
          "name": "stderr",
          "text": [
            "<ipython-input-2-f88a7942cfa1>:15: SettingWithCopyWarning: \n",
            "A value is trying to be set on a copy of a slice from a DataFrame\n",
            "\n",
            "See the caveats in the documentation: https://pandas.pydata.org/pandas-docs/stable/user_guide/indexing.html#returning-a-view-versus-a-copy\n",
            "  df.loc[:, columns] = scaler.fit_transform(df[columns])\n"
          ]
        },
        {
          "output_type": "stream",
          "name": "stdout",
          "text": [
            "Processed and saved: /content/drive/MyDrive/Data/StandardData/ProcessedStandardizedData_Subject14.csv\n",
            "Head of the processed file ProcessedStandardizedData_Subject14.csv:\n",
            "       Time [s]  Pressure [cmH2O]  Flow [L/s]  V_tidal [L]\n",
            "0 -1.000000e-02         -2.035117    0.747959    -0.453643\n",
            "1  3.641532e-14         -2.015211    0.809628    -0.448981\n",
            "2  1.000000e-02         -1.991324    0.747959    -0.444319\n",
            "3  2.000000e-02         -2.003267    0.747959    -0.439808\n",
            "4  3.000000e-02         -1.983361    0.708883    -0.435393\n",
            "\n",
            "\n",
            "Processed and saved: /content/drive/MyDrive/Data/StandardData/ProcessedStandardizedData_Subject13.csv\n",
            "Head of the processed file ProcessedStandardizedData_Subject13.csv:\n",
            "   Time [s]  Pressure [cmH2O]  Flow [L/s]  V_tidal [L]\n",
            "0      0.00          1.084849   -0.053314     0.075746\n",
            "1      0.01          1.134323   -0.208009     0.073870\n",
            "2      0.02          1.181194   -0.337161     0.071435\n",
            "3      0.03          1.204629   -0.260943     0.068897\n",
            "4      0.04          1.256707   -0.389159     0.066256\n",
            "\n",
            "\n",
            "Processed and saved: /content/drive/MyDrive/Data/StandardData/ProcessedStandardizedData_Subject11.csv\n",
            "Head of the processed file ProcessedStandardizedData_Subject11.csv:\n",
            "       Time [s]  Pressure [cmH2O]  Flow [L/s]  V_tidal [L]\n",
            "0 -1.000000e-02         -2.471429    1.055600    -0.665728\n",
            "1 -4.440892e-16         -2.547932    1.055600    -0.661844\n",
            "2  1.000000e-02         -2.535182    1.132847    -0.657850\n",
            "3  2.000000e-02         -2.569183    1.094750    -0.653802\n",
            "4  3.000000e-02         -2.547932    1.132847    -0.649753\n",
            "\n",
            "\n"
          ]
        },
        {
          "output_type": "stream",
          "name": "stderr",
          "text": [
            "<ipython-input-2-f88a7942cfa1>:15: SettingWithCopyWarning: \n",
            "A value is trying to be set on a copy of a slice from a DataFrame\n",
            "\n",
            "See the caveats in the documentation: https://pandas.pydata.org/pandas-docs/stable/user_guide/indexing.html#returning-a-view-versus-a-copy\n",
            "  df.loc[:, columns] = scaler.fit_transform(df[columns])\n"
          ]
        },
        {
          "output_type": "stream",
          "name": "stdout",
          "text": [
            "Processed and saved: /content/drive/MyDrive/Data/StandardData/ProcessedStandardizedData_Subject09.csv\n",
            "Head of the processed file ProcessedStandardizedData_Subject09.csv:\n",
            "       Time [s]  Pressure [cmH2O]  Flow [L/s]  V_tidal [L]\n",
            "0 -1.000000e-02         -0.418933   -0.374989    -0.987752\n",
            "1 -3.182177e-14         -0.418933   -0.664185    -0.988333\n",
            "2  1.000000e-02         -0.427565   -0.374989    -0.988914\n",
            "3  2.000000e-02         -0.427565   -0.664185    -0.989494\n",
            "4  3.000000e-02         -0.427565   -0.374989    -0.990075\n",
            "\n",
            "\n"
          ]
        },
        {
          "output_type": "stream",
          "name": "stderr",
          "text": [
            "<ipython-input-2-f88a7942cfa1>:15: SettingWithCopyWarning: \n",
            "A value is trying to be set on a copy of a slice from a DataFrame\n",
            "\n",
            "See the caveats in the documentation: https://pandas.pydata.org/pandas-docs/stable/user_guide/indexing.html#returning-a-view-versus-a-copy\n",
            "  df.loc[:, columns] = scaler.fit_transform(df[columns])\n"
          ]
        },
        {
          "output_type": "stream",
          "name": "stdout",
          "text": [
            "Processed and saved: /content/drive/MyDrive/Data/StandardData/ProcessedStandardizedData_Subject19.csv\n",
            "Head of the processed file ProcessedStandardizedData_Subject19.csv:\n",
            "   Time [s]  Pressure [cmH2O]  Flow [L/s]  V_tidal [L]\n",
            "0      0.00         -1.474349    0.357916    -1.389152\n",
            "1      0.01         -1.466575    0.314420    -1.386320\n",
            "2      0.02         -1.435477    0.314420    -1.383597\n",
            "3      0.03         -1.416041    0.314420    -1.380873\n",
            "4      0.04         -1.384943    0.314420    -1.378150\n",
            "\n",
            "\n"
          ]
        },
        {
          "output_type": "stream",
          "name": "stderr",
          "text": [
            "<ipython-input-2-f88a7942cfa1>:15: SettingWithCopyWarning: \n",
            "A value is trying to be set on a copy of a slice from a DataFrame\n",
            "\n",
            "See the caveats in the documentation: https://pandas.pydata.org/pandas-docs/stable/user_guide/indexing.html#returning-a-view-versus-a-copy\n",
            "  df.loc[:, columns] = scaler.fit_transform(df[columns])\n"
          ]
        },
        {
          "output_type": "stream",
          "name": "stdout",
          "text": [
            "Processed and saved: /content/drive/MyDrive/Data/StandardData/ProcessedStandardizedData_Subject20.csv\n",
            "Head of the processed file ProcessedStandardizedData_Subject20.csv:\n",
            "       Time [s]  Pressure [cmH2O]  Flow [L/s]  V_tidal [L]\n",
            "0 -1.000000e-02         -0.454198   -0.908306    -1.330761\n",
            "1  1.665335e-15         -0.441589   -0.959576    -1.333825\n",
            "2  1.000000e-02         -0.454198   -0.821659    -1.336673\n",
            "3  2.000000e-02         -0.441589   -0.959576    -1.339521\n",
            "4  3.000000e-02         -0.206230   -0.297898    -1.341061\n",
            "\n",
            "\n"
          ]
        },
        {
          "output_type": "stream",
          "name": "stderr",
          "text": [
            "<ipython-input-2-f88a7942cfa1>:15: SettingWithCopyWarning: \n",
            "A value is trying to be set on a copy of a slice from a DataFrame\n",
            "\n",
            "See the caveats in the documentation: https://pandas.pydata.org/pandas-docs/stable/user_guide/indexing.html#returning-a-view-versus-a-copy\n",
            "  df.loc[:, columns] = scaler.fit_transform(df[columns])\n"
          ]
        },
        {
          "output_type": "stream",
          "name": "stdout",
          "text": [
            "Processed and saved: /content/drive/MyDrive/Data/StandardData/ProcessedStandardizedData_Subject21.csv\n",
            "Head of the processed file ProcessedStandardizedData_Subject21.csv:\n",
            "       Time [s]  Pressure [cmH2O]  Flow [L/s]  V_tidal [L]\n",
            "0 -1.000000e-02         -0.610149   -0.754035    -0.689576\n",
            "1  3.552714e-15         -0.610149   -0.754035    -0.690697\n",
            "2  1.000000e-02         -0.610149   -0.366983    -0.691225\n",
            "3  2.000000e-02         -0.610149   -0.671216    -0.691626\n",
            "4  3.000000e-02         -0.610149   -0.754035    -0.692619\n",
            "\n",
            "\n"
          ]
        },
        {
          "output_type": "stream",
          "name": "stderr",
          "text": [
            "<ipython-input-2-f88a7942cfa1>:15: SettingWithCopyWarning: \n",
            "A value is trying to be set on a copy of a slice from a DataFrame\n",
            "\n",
            "See the caveats in the documentation: https://pandas.pydata.org/pandas-docs/stable/user_guide/indexing.html#returning-a-view-versus-a-copy\n",
            "  df.loc[:, columns] = scaler.fit_transform(df[columns])\n"
          ]
        },
        {
          "output_type": "stream",
          "name": "stdout",
          "text": [
            "Processed and saved: /content/drive/MyDrive/Data/StandardData/ProcessedStandardizedData_Subject18.csv\n",
            "Head of the processed file ProcessedStandardizedData_Subject18.csv:\n",
            "       Time [s]  Pressure [cmH2O]  Flow [L/s]  V_tidal [L]\n",
            "0 -1.000000e-02         -1.800645    0.501579    -1.132826\n",
            "1 -2.731149e-14         -1.823079    0.403540    -1.128464\n",
            "2  1.000000e-02         -1.800645    0.478186    -1.124167\n",
            "3  2.000000e-02         -1.800645    0.403540    -1.119870\n",
            "4  3.000000e-02         -1.787184    0.403540    -1.115781\n",
            "\n",
            "\n"
          ]
        },
        {
          "output_type": "stream",
          "name": "stderr",
          "text": [
            "<ipython-input-2-f88a7942cfa1>:15: SettingWithCopyWarning: \n",
            "A value is trying to be set on a copy of a slice from a DataFrame\n",
            "\n",
            "See the caveats in the documentation: https://pandas.pydata.org/pandas-docs/stable/user_guide/indexing.html#returning-a-view-versus-a-copy\n",
            "  df.loc[:, columns] = scaler.fit_transform(df[columns])\n"
          ]
        },
        {
          "output_type": "stream",
          "name": "stdout",
          "text": [
            "Processed and saved: /content/drive/MyDrive/Data/StandardData/ProcessedStandardizedData_Subject22.csv\n",
            "Head of the processed file ProcessedStandardizedData_Subject22.csv:\n",
            "       Time [s]  Pressure [cmH2O]  Flow [L/s]  V_tidal [L]\n",
            "0 -1.000000e-02         -1.241460    0.183324    -0.225004\n",
            "1  3.996803e-15         -1.208311    0.060303    -0.223704\n",
            "2  1.000000e-02         -1.158588    0.060303    -0.222626\n",
            "3  2.000000e-02         -1.137870   -0.064875    -0.221774\n",
            "4  3.000000e-02         -1.113008    0.106229    -0.220840\n",
            "\n",
            "\n"
          ]
        },
        {
          "output_type": "stream",
          "name": "stderr",
          "text": [
            "<ipython-input-2-f88a7942cfa1>:15: SettingWithCopyWarning: \n",
            "A value is trying to be set on a copy of a slice from a DataFrame\n",
            "\n",
            "See the caveats in the documentation: https://pandas.pydata.org/pandas-docs/stable/user_guide/indexing.html#returning-a-view-versus-a-copy\n",
            "  df.loc[:, columns] = scaler.fit_transform(df[columns])\n"
          ]
        },
        {
          "output_type": "stream",
          "name": "stdout",
          "text": [
            "Processed and saved: /content/drive/MyDrive/Data/StandardData/ProcessedStandardizedData_Subject16.csv\n",
            "Head of the processed file ProcessedStandardizedData_Subject16.csv:\n",
            "       Time [s]  Pressure [cmH2O]  Flow [L/s]  V_tidal [L]\n",
            "0 -1.000000e-02         -1.872151    0.570938    -0.965700\n",
            "1  3.186340e-14         -1.850834    0.570938    -0.963323\n",
            "2  1.000000e-02         -1.838045    0.570938    -0.960946\n",
            "3  2.000000e-02         -1.825255    0.523009    -0.958636\n",
            "4  3.000000e-02         -1.816729    0.489372    -0.956443\n",
            "\n",
            "\n",
            "Processed and saved: /content/drive/MyDrive/Data/StandardData/ProcessedStandardizedData_Subject17.csv\n",
            "Head of the processed file ProcessedStandardizedData_Subject17.csv:\n",
            "       Time [s]  Pressure [cmH2O]  Flow [L/s]  V_tidal [L]\n",
            "0 -1.000000e-02         -0.743650   -0.852532    -1.679562\n",
            "1  5.662137e-15         -0.752574   -0.736760    -1.682172\n",
            "2  1.000000e-02         -0.743650   -0.852532    -1.684782\n",
            "3  2.000000e-02         -0.752574   -0.852532    -1.687698\n",
            "4  3.000000e-02         -0.752574   -0.852532    -1.690614\n",
            "\n",
            "\n"
          ]
        },
        {
          "output_type": "stream",
          "name": "stderr",
          "text": [
            "<ipython-input-2-f88a7942cfa1>:15: SettingWithCopyWarning: \n",
            "A value is trying to be set on a copy of a slice from a DataFrame\n",
            "\n",
            "See the caveats in the documentation: https://pandas.pydata.org/pandas-docs/stable/user_guide/indexing.html#returning-a-view-versus-a-copy\n",
            "  df.loc[:, columns] = scaler.fit_transform(df[columns])\n"
          ]
        },
        {
          "output_type": "stream",
          "name": "stdout",
          "text": [
            "Processed and saved: /content/drive/MyDrive/Data/StandardData/ProcessedStandardizedData_Subject24.csv\n",
            "Head of the processed file ProcessedStandardizedData_Subject24.csv:\n",
            "       Time [s]  Pressure [cmH2O]  Flow [L/s]  V_tidal [L]\n",
            "0 -1.000000e-02         -0.760510   -0.360943    -1.569382\n",
            "1 -4.551914e-14         -0.751551   -0.360943    -1.569309\n",
            "2  1.000000e-02         -0.751551   -0.360943    -1.569236\n",
            "3  2.000000e-02         -0.751551   -0.360943    -1.569163\n",
            "4  3.000000e-02         -0.751551   -0.799912    -1.569764\n",
            "\n",
            "\n"
          ]
        },
        {
          "output_type": "stream",
          "name": "stderr",
          "text": [
            "<ipython-input-2-f88a7942cfa1>:15: SettingWithCopyWarning: \n",
            "A value is trying to be set on a copy of a slice from a DataFrame\n",
            "\n",
            "See the caveats in the documentation: https://pandas.pydata.org/pandas-docs/stable/user_guide/indexing.html#returning-a-view-versus-a-copy\n",
            "  df.loc[:, columns] = scaler.fit_transform(df[columns])\n"
          ]
        },
        {
          "output_type": "stream",
          "name": "stdout",
          "text": [
            "Processed and saved: /content/drive/MyDrive/Data/StandardData/ProcessedStandardizedData_Subject28.csv\n",
            "Head of the processed file ProcessedStandardizedData_Subject28.csv:\n",
            "       Time [s]  Pressure [cmH2O]  Flow [L/s]  V_tidal [L]\n",
            "0 -1.000000e-02         -0.929163   -1.358978    -1.010121\n",
            "1  4.440892e-16         -0.929163   -1.541515    -1.009525\n",
            "2  1.000000e-02         -0.929163   -1.541515    -1.009087\n",
            "3  2.000000e-02         -0.945651   -1.541515    -1.008649\n",
            "4  3.000000e-02         -0.945651   -1.358978    -1.008053\n",
            "\n",
            "\n",
            "Processed and saved: /content/drive/MyDrive/Data/StandardData/ProcessedStandardizedData_Subject26.csv\n",
            "Head of the processed file ProcessedStandardizedData_Subject26.csv:\n",
            "       Time [s]  Pressure [cmH2O]  Flow [L/s]  V_tidal [L]\n",
            "0 -1.000000e-02         -0.691439   -1.139832    -1.400565\n",
            "1  2.953193e-14         -0.691439   -1.139832    -1.402073\n",
            "2  1.000000e-02         -0.682070   -1.074362    -1.403502\n",
            "3  2.000000e-02         -0.682070   -1.139832    -1.404930\n",
            "4  3.000000e-02         -0.668017   -1.074362    -1.406359\n",
            "\n",
            "\n"
          ]
        },
        {
          "output_type": "stream",
          "name": "stderr",
          "text": [
            "<ipython-input-2-f88a7942cfa1>:15: SettingWithCopyWarning: \n",
            "A value is trying to be set on a copy of a slice from a DataFrame\n",
            "\n",
            "See the caveats in the documentation: https://pandas.pydata.org/pandas-docs/stable/user_guide/indexing.html#returning-a-view-versus-a-copy\n",
            "  df.loc[:, columns] = scaler.fit_transform(df[columns])\n"
          ]
        },
        {
          "output_type": "stream",
          "name": "stdout",
          "text": [
            "Processed and saved: /content/drive/MyDrive/Data/StandardData/ProcessedStandardizedData_Subject25.csv\n",
            "Head of the processed file ProcessedStandardizedData_Subject25.csv:\n",
            "       Time [s]  Pressure [cmH2O]  Flow [L/s]  V_tidal [L]\n",
            "0 -1.000000e-02         -1.643396    0.274071    -1.278376\n",
            "1 -3.186340e-14         -1.656340    0.274071    -1.275493\n",
            "2  1.000000e-02         -1.664969    0.274071    -1.272610\n",
            "3  2.000000e-02         -1.664969    0.404931    -1.269456\n",
            "4  3.000000e-02         -1.677913    0.274071    -1.266302\n",
            "\n",
            "\n"
          ]
        },
        {
          "output_type": "stream",
          "name": "stderr",
          "text": [
            "<ipython-input-2-f88a7942cfa1>:15: SettingWithCopyWarning: \n",
            "A value is trying to be set on a copy of a slice from a DataFrame\n",
            "\n",
            "See the caveats in the documentation: https://pandas.pydata.org/pandas-docs/stable/user_guide/indexing.html#returning-a-view-versus-a-copy\n",
            "  df.loc[:, columns] = scaler.fit_transform(df[columns])\n"
          ]
        },
        {
          "output_type": "stream",
          "name": "stdout",
          "text": [
            "Processed and saved: /content/drive/MyDrive/Data/StandardData/ProcessedStandardizedData_Subject23.csv\n",
            "Head of the processed file ProcessedStandardizedData_Subject23.csv:\n",
            "       Time [s]  Pressure [cmH2O]  Flow [L/s]  V_tidal [L]\n",
            "0 -1.000000e-02          -2.06572    0.723511    -1.052408\n",
            "1  4.091172e-14          -2.06572    0.723511    -1.047455\n",
            "2  1.000000e-02          -2.06572    0.723511    -1.042501\n",
            "3  2.000000e-02          -2.06572    0.769054    -1.037437\n",
            "4  3.000000e-02          -2.06572    0.723511    -1.032374\n",
            "\n",
            "\n"
          ]
        },
        {
          "output_type": "stream",
          "name": "stderr",
          "text": [
            "<ipython-input-2-f88a7942cfa1>:15: SettingWithCopyWarning: \n",
            "A value is trying to be set on a copy of a slice from a DataFrame\n",
            "\n",
            "See the caveats in the documentation: https://pandas.pydata.org/pandas-docs/stable/user_guide/indexing.html#returning-a-view-versus-a-copy\n",
            "  df.loc[:, columns] = scaler.fit_transform(df[columns])\n"
          ]
        },
        {
          "output_type": "stream",
          "name": "stdout",
          "text": [
            "Processed and saved: /content/drive/MyDrive/Data/StandardData/ProcessedStandardizedData_Subject29.csv\n",
            "Head of the processed file ProcessedStandardizedData_Subject29.csv:\n",
            "       Time [s]  Pressure [cmH2O]  Flow [L/s]  V_tidal [L]\n",
            "0 -1.000000e-02         -1.198543    0.164509    -1.002943\n",
            "1 -2.220446e-15         -1.164793    0.164509    -1.000792\n",
            "2  1.000000e-02         -1.139480    0.089381    -0.998838\n",
            "3  2.000000e-02         -1.114167    0.089381    -0.997080\n",
            "4  3.000000e-02         -1.114167    0.089381    -0.995323\n",
            "\n",
            "\n"
          ]
        },
        {
          "output_type": "stream",
          "name": "stderr",
          "text": [
            "<ipython-input-2-f88a7942cfa1>:15: SettingWithCopyWarning: \n",
            "A value is trying to be set on a copy of a slice from a DataFrame\n",
            "\n",
            "See the caveats in the documentation: https://pandas.pydata.org/pandas-docs/stable/user_guide/indexing.html#returning-a-view-versus-a-copy\n",
            "  df.loc[:, columns] = scaler.fit_transform(df[columns])\n"
          ]
        },
        {
          "output_type": "stream",
          "name": "stdout",
          "text": [
            "Processed and saved: /content/drive/MyDrive/Data/StandardData/ProcessedStandardizedData_Subject27.csv\n",
            "Head of the processed file ProcessedStandardizedData_Subject27.csv:\n",
            "   Time [s]  Pressure [cmH2O]  Flow [L/s]  V_tidal [L]\n",
            "0      0.00         -0.183839   -0.792755    -1.079463\n",
            "1      0.01         -0.317395   -0.886019    -1.081104\n",
            "2      0.02         -0.446499   -0.913882    -1.082934\n",
            "3      0.03         -0.504373   -0.913882    -1.084807\n",
            "4      0.04         -0.526633   -0.913882    -1.086681\n",
            "\n",
            "\n"
          ]
        },
        {
          "output_type": "stream",
          "name": "stderr",
          "text": [
            "<ipython-input-2-f88a7942cfa1>:15: SettingWithCopyWarning: \n",
            "A value is trying to be set on a copy of a slice from a DataFrame\n",
            "\n",
            "See the caveats in the documentation: https://pandas.pydata.org/pandas-docs/stable/user_guide/indexing.html#returning-a-view-versus-a-copy\n",
            "  df.loc[:, columns] = scaler.fit_transform(df[columns])\n"
          ]
        },
        {
          "output_type": "stream",
          "name": "stdout",
          "text": [
            "Processed and saved: /content/drive/MyDrive/Data/StandardData/ProcessedStandardizedData_Subject34.csv\n",
            "Head of the processed file ProcessedStandardizedData_Subject34.csv:\n",
            "   Time [s]  Pressure [cmH2O]  Flow [L/s]  V_tidal [L]\n",
            "0      0.00         -1.025169   -0.087653    -1.140653\n",
            "1      0.01         -1.067639    0.082298    -1.138827\n",
            "2      0.02         -1.101614    0.082298    -1.136397\n",
            "3      0.03         -1.122849    0.082298    -1.133966\n",
            "4      0.04         -1.161071    0.082298    -1.131536\n",
            "\n",
            "\n"
          ]
        },
        {
          "output_type": "stream",
          "name": "stderr",
          "text": [
            "<ipython-input-2-f88a7942cfa1>:15: SettingWithCopyWarning: \n",
            "A value is trying to be set on a copy of a slice from a DataFrame\n",
            "\n",
            "See the caveats in the documentation: https://pandas.pydata.org/pandas-docs/stable/user_guide/indexing.html#returning-a-view-versus-a-copy\n",
            "  df.loc[:, columns] = scaler.fit_transform(df[columns])\n"
          ]
        },
        {
          "output_type": "stream",
          "name": "stdout",
          "text": [
            "Processed and saved: /content/drive/MyDrive/Data/StandardData/ProcessedStandardizedData_Subject36.csv\n",
            "Head of the processed file ProcessedStandardizedData_Subject36.csv:\n",
            "       Time [s]  Pressure [cmH2O]  Flow [L/s]  V_tidal [L]\n",
            "0 -1.000000e-02         -0.790497   -0.856330    -1.303585\n",
            "1  9.658940e-15         -0.790497   -0.856330    -1.304771\n",
            "2  1.000000e-02         -0.814372   -0.959163    -1.306130\n",
            "3  2.000000e-02         -0.814372   -0.959163    -1.307662\n",
            "4  3.000000e-02         -0.814372   -0.959163    -1.309194\n",
            "\n",
            "\n"
          ]
        },
        {
          "output_type": "stream",
          "name": "stderr",
          "text": [
            "<ipython-input-2-f88a7942cfa1>:15: SettingWithCopyWarning: \n",
            "A value is trying to be set on a copy of a slice from a DataFrame\n",
            "\n",
            "See the caveats in the documentation: https://pandas.pydata.org/pandas-docs/stable/user_guide/indexing.html#returning-a-view-versus-a-copy\n",
            "  df.loc[:, columns] = scaler.fit_transform(df[columns])\n"
          ]
        },
        {
          "output_type": "stream",
          "name": "stdout",
          "text": [
            "Processed and saved: /content/drive/MyDrive/Data/StandardData/ProcessedStandardizedData_Subject35.csv\n",
            "Head of the processed file ProcessedStandardizedData_Subject35.csv:\n",
            "       Time [s]  Pressure [cmH2O]  Flow [L/s]  V_tidal [L]\n",
            "0 -1.000000e-02         -0.795897   -0.710343    -1.012807\n",
            "1 -1.045830e-13         -0.764215   -0.860639    -1.013846\n",
            "2  1.000000e-02         -0.737060   -0.860639    -1.015119\n",
            "3  2.000000e-02         -0.714430   -0.768512    -1.016249\n",
            "4  3.000000e-02         -0.682748   -0.860639    -1.017378\n",
            "\n",
            "\n"
          ]
        },
        {
          "output_type": "stream",
          "name": "stderr",
          "text": [
            "<ipython-input-2-f88a7942cfa1>:15: SettingWithCopyWarning: \n",
            "A value is trying to be set on a copy of a slice from a DataFrame\n",
            "\n",
            "See the caveats in the documentation: https://pandas.pydata.org/pandas-docs/stable/user_guide/indexing.html#returning-a-view-versus-a-copy\n",
            "  df.loc[:, columns] = scaler.fit_transform(df[columns])\n"
          ]
        },
        {
          "output_type": "stream",
          "name": "stdout",
          "text": [
            "Processed and saved: /content/drive/MyDrive/Data/StandardData/ProcessedStandardizedData_Subject32.csv\n",
            "Head of the processed file ProcessedStandardizedData_Subject32.csv:\n",
            "       Time [s]  Pressure [cmH2O]  Flow [L/s]  V_tidal [L]\n",
            "0 -1.000000e-02         -0.424615    0.060412    -1.177862\n",
            "1  1.249001e-14         -0.390961   -0.230337    -1.176951\n",
            "2  1.000000e-02         -0.479303   -0.656971    -1.177979\n",
            "3  2.000000e-02         -0.550818   -0.656971    -1.180162\n",
            "4  3.000000e-02         -0.550818   -0.656971    -1.182345\n",
            "\n",
            "\n"
          ]
        },
        {
          "output_type": "stream",
          "name": "stderr",
          "text": [
            "<ipython-input-2-f88a7942cfa1>:15: SettingWithCopyWarning: \n",
            "A value is trying to be set on a copy of a slice from a DataFrame\n",
            "\n",
            "See the caveats in the documentation: https://pandas.pydata.org/pandas-docs/stable/user_guide/indexing.html#returning-a-view-versus-a-copy\n",
            "  df.loc[:, columns] = scaler.fit_transform(df[columns])\n"
          ]
        },
        {
          "output_type": "stream",
          "name": "stdout",
          "text": [
            "Processed and saved: /content/drive/MyDrive/Data/StandardData/ProcessedStandardizedData_Subject30.csv\n",
            "Head of the processed file ProcessedStandardizedData_Subject30.csv:\n",
            "       Time [s]  Pressure [cmH2O]  Flow [L/s]  V_tidal [L]\n",
            "0 -1.000000e-02         -1.638338    0.266922    -0.841097\n",
            "1 -5.229150e-14         -1.638338    0.355925    -0.835090\n",
            "2  1.000000e-02         -1.629387    0.482333    -0.828042\n",
            "3  2.000000e-02         -1.629387    0.266922    -0.821424\n",
            "4  3.000000e-02         -1.602536    0.434352    -0.815038\n",
            "\n",
            "\n"
          ]
        },
        {
          "output_type": "stream",
          "name": "stderr",
          "text": [
            "<ipython-input-2-f88a7942cfa1>:15: SettingWithCopyWarning: \n",
            "A value is trying to be set on a copy of a slice from a DataFrame\n",
            "\n",
            "See the caveats in the documentation: https://pandas.pydata.org/pandas-docs/stable/user_guide/indexing.html#returning-a-view-versus-a-copy\n",
            "  df.loc[:, columns] = scaler.fit_transform(df[columns])\n"
          ]
        },
        {
          "output_type": "stream",
          "name": "stdout",
          "text": [
            "Processed and saved: /content/drive/MyDrive/Data/StandardData/ProcessedStandardizedData_Subject33.csv\n",
            "Head of the processed file ProcessedStandardizedData_Subject33.csv:\n",
            "       Time [s]  Pressure [cmH2O]  Flow [L/s]  V_tidal [L]\n",
            "0 -1.000000e-02         -1.733609     0.35879    -0.941742\n",
            "1 -1.110223e-15         -1.720067     0.35879    -0.937336\n",
            "2  1.000000e-02         -1.733609     0.40568    -0.932788\n",
            "3  2.000000e-02         -1.706526     0.35879    -0.928240\n",
            "4  3.000000e-02         -1.697498     0.35879    -0.923835\n",
            "\n",
            "\n"
          ]
        },
        {
          "output_type": "stream",
          "name": "stderr",
          "text": [
            "<ipython-input-2-f88a7942cfa1>:15: SettingWithCopyWarning: \n",
            "A value is trying to be set on a copy of a slice from a DataFrame\n",
            "\n",
            "See the caveats in the documentation: https://pandas.pydata.org/pandas-docs/stable/user_guide/indexing.html#returning-a-view-versus-a-copy\n",
            "  df.loc[:, columns] = scaler.fit_transform(df[columns])\n"
          ]
        },
        {
          "output_type": "stream",
          "name": "stdout",
          "text": [
            "Processed and saved: /content/drive/MyDrive/Data/StandardData/ProcessedStandardizedData_Subject31.csv\n",
            "Head of the processed file ProcessedStandardizedData_Subject31.csv:\n",
            "       Time [s]  Pressure [cmH2O]  Flow [L/s]  V_tidal [L]\n",
            "0 -1.000000e-02         -1.196906   -0.740049    -0.835444\n",
            "1 -3.330669e-15         -1.127593   -0.947369    -0.835013\n",
            "2  1.000000e-02         -1.058279   -0.568406    -0.834307\n",
            "3  2.000000e-02         -0.946312   -0.740049    -0.833268\n",
            "4  3.000000e-02         -0.908989   -0.740049    -0.832504\n",
            "\n",
            "\n"
          ]
        },
        {
          "output_type": "stream",
          "name": "stderr",
          "text": [
            "<ipython-input-2-f88a7942cfa1>:15: SettingWithCopyWarning: \n",
            "A value is trying to be set on a copy of a slice from a DataFrame\n",
            "\n",
            "See the caveats in the documentation: https://pandas.pydata.org/pandas-docs/stable/user_guide/indexing.html#returning-a-view-versus-a-copy\n",
            "  df.loc[:, columns] = scaler.fit_transform(df[columns])\n"
          ]
        },
        {
          "output_type": "stream",
          "name": "stdout",
          "text": [
            "Processed and saved: /content/drive/MyDrive/Data/StandardData/ProcessedStandardizedData_Subject40.csv\n",
            "Head of the processed file ProcessedStandardizedData_Subject40.csv:\n",
            "       Time [s]  Pressure [cmH2O]  Flow [L/s]  V_tidal [L]\n",
            "0 -1.000000e-02         -1.704311    0.523405    -0.882017\n",
            "1  2.275957e-14         -1.704311    0.408358    -0.879349\n",
            "2  1.000000e-02         -1.672428    0.456384    -0.876792\n",
            "3  2.000000e-02         -1.672428    0.408358    -0.874235\n",
            "4  3.000000e-02         -1.658764    0.408358    -0.871758\n",
            "\n",
            "\n"
          ]
        },
        {
          "output_type": "stream",
          "name": "stderr",
          "text": [
            "<ipython-input-2-f88a7942cfa1>:15: SettingWithCopyWarning: \n",
            "A value is trying to be set on a copy of a slice from a DataFrame\n",
            "\n",
            "See the caveats in the documentation: https://pandas.pydata.org/pandas-docs/stable/user_guide/indexing.html#returning-a-view-versus-a-copy\n",
            "  df.loc[:, columns] = scaler.fit_transform(df[columns])\n"
          ]
        },
        {
          "output_type": "stream",
          "name": "stdout",
          "text": [
            "Processed and saved: /content/drive/MyDrive/Data/StandardData/ProcessedStandardizedData_Subject42.csv\n",
            "Head of the processed file ProcessedStandardizedData_Subject42.csv:\n",
            "       Time [s]  Pressure [cmH2O]  Flow [L/s]  V_tidal [L]\n",
            "0 -1.000000e-02         -0.978717   -1.930717    -1.154937\n",
            "1 -7.283063e-14         -0.990803   -1.930717    -1.156175\n",
            "2  1.000000e-02         -0.990803   -1.930717    -1.157413\n",
            "3  2.000000e-02         -0.990803   -1.930717    -1.158651\n",
            "4  3.000000e-02         -0.990803   -1.930717    -1.159889\n",
            "\n",
            "\n"
          ]
        },
        {
          "output_type": "stream",
          "name": "stderr",
          "text": [
            "<ipython-input-2-f88a7942cfa1>:15: SettingWithCopyWarning: \n",
            "A value is trying to be set on a copy of a slice from a DataFrame\n",
            "\n",
            "See the caveats in the documentation: https://pandas.pydata.org/pandas-docs/stable/user_guide/indexing.html#returning-a-view-versus-a-copy\n",
            "  df.loc[:, columns] = scaler.fit_transform(df[columns])\n"
          ]
        },
        {
          "output_type": "stream",
          "name": "stdout",
          "text": [
            "Processed and saved: /content/drive/MyDrive/Data/StandardData/ProcessedStandardizedData_Subject41.csv\n",
            "Head of the processed file ProcessedStandardizedData_Subject41.csv:\n",
            "       Time [s]  Pressure [cmH2O]  Flow [L/s]  V_tidal [L]\n",
            "0 -1.000000e-02         -0.594571   -1.165368    -1.177189\n",
            "1 -2.886580e-15         -0.580839   -1.087194    -1.178012\n",
            "2  1.000000e-02         -0.571685   -0.990949    -1.178680\n",
            "3  2.000000e-02         -0.571685   -0.990949    -1.179263\n",
            "4  3.000000e-02         -0.571685   -1.165368    -1.180001\n",
            "\n",
            "\n"
          ]
        },
        {
          "output_type": "stream",
          "name": "stderr",
          "text": [
            "<ipython-input-2-f88a7942cfa1>:15: SettingWithCopyWarning: \n",
            "A value is trying to be set on a copy of a slice from a DataFrame\n",
            "\n",
            "See the caveats in the documentation: https://pandas.pydata.org/pandas-docs/stable/user_guide/indexing.html#returning-a-view-versus-a-copy\n",
            "  df.loc[:, columns] = scaler.fit_transform(df[columns])\n"
          ]
        },
        {
          "output_type": "stream",
          "name": "stdout",
          "text": [
            "Processed and saved: /content/drive/MyDrive/Data/StandardData/ProcessedStandardizedData_Subject38.csv\n",
            "Head of the processed file ProcessedStandardizedData_Subject38.csv:\n",
            "       Time [s]  Pressure [cmH2O]  Flow [L/s]  V_tidal [L]\n",
            "0 -1.000000e-02         -0.633094   -1.188710    -1.599978\n",
            "1 -1.709743e-14         -0.643007   -0.801796    -1.600586\n",
            "2  1.000000e-02         -0.643007   -0.801796    -1.600489\n",
            "3  2.000000e-02         -0.657877   -1.122208    -1.600975\n",
            "4  3.000000e-02         -0.657877   -0.801796    -1.601461\n",
            "\n",
            "\n"
          ]
        },
        {
          "output_type": "stream",
          "name": "stderr",
          "text": [
            "<ipython-input-2-f88a7942cfa1>:15: SettingWithCopyWarning: \n",
            "A value is trying to be set on a copy of a slice from a DataFrame\n",
            "\n",
            "See the caveats in the documentation: https://pandas.pydata.org/pandas-docs/stable/user_guide/indexing.html#returning-a-view-versus-a-copy\n",
            "  df.loc[:, columns] = scaler.fit_transform(df[columns])\n"
          ]
        },
        {
          "output_type": "stream",
          "name": "stdout",
          "text": [
            "Processed and saved: /content/drive/MyDrive/Data/StandardData/ProcessedStandardizedData_Subject37.csv\n",
            "Head of the processed file ProcessedStandardizedData_Subject37.csv:\n",
            "       Time [s]  Pressure [cmH2O]  Flow [L/s]  V_tidal [L]\n",
            "0 -1.000000e-02         -0.119936   -0.018139    -0.934702\n",
            "1 -4.551914e-15         -0.045062   -0.725831    -0.934958\n",
            "2  1.000000e-02         -0.119936   -0.755383    -0.936504\n",
            "3  2.000000e-02         -0.352878   -0.755383    -0.938101\n",
            "4  3.000000e-02         -0.406953   -0.903071    -0.939957\n",
            "\n",
            "\n"
          ]
        },
        {
          "output_type": "stream",
          "name": "stderr",
          "text": [
            "<ipython-input-2-f88a7942cfa1>:15: SettingWithCopyWarning: \n",
            "A value is trying to be set on a copy of a slice from a DataFrame\n",
            "\n",
            "See the caveats in the documentation: https://pandas.pydata.org/pandas-docs/stable/user_guide/indexing.html#returning-a-view-versus-a-copy\n",
            "  df.loc[:, columns] = scaler.fit_transform(df[columns])\n"
          ]
        },
        {
          "output_type": "stream",
          "name": "stdout",
          "text": [
            "Processed and saved: /content/drive/MyDrive/Data/StandardData/ProcessedStandardizedData_Subject39.csv\n",
            "Head of the processed file ProcessedStandardizedData_Subject39.csv:\n",
            "       Time [s]  Pressure [cmH2O]  Flow [L/s]  V_tidal [L]\n",
            "0 -1.000000e-02         -0.101442   -0.973939    -1.287806\n",
            "1 -6.772360e-15         -0.130849   -0.922855    -1.289412\n",
            "2  1.000000e-02         -0.123497   -0.957453    -1.290993\n",
            "3  2.000000e-02         -0.130849   -0.922855    -1.292574\n",
            "4  3.000000e-02         -0.141877   -0.865927    -1.294016\n",
            "\n",
            "\n"
          ]
        },
        {
          "output_type": "stream",
          "name": "stderr",
          "text": [
            "<ipython-input-2-f88a7942cfa1>:15: SettingWithCopyWarning: \n",
            "A value is trying to be set on a copy of a slice from a DataFrame\n",
            "\n",
            "See the caveats in the documentation: https://pandas.pydata.org/pandas-docs/stable/user_guide/indexing.html#returning-a-view-versus-a-copy\n",
            "  df.loc[:, columns] = scaler.fit_transform(df[columns])\n"
          ]
        },
        {
          "output_type": "stream",
          "name": "stdout",
          "text": [
            "Processed and saved: /content/drive/MyDrive/Data/StandardData/ProcessedStandardizedData_Subject47.csv\n",
            "Head of the processed file ProcessedStandardizedData_Subject47.csv:\n",
            "   Time [s]  Pressure [cmH2O]  Flow [L/s]  V_tidal [L]\n",
            "0      0.00         -1.921287   -0.018025    -1.348472\n",
            "1      0.01         -1.947046    0.093119    -1.345074\n",
            "2      0.02         -1.947046   -0.018025    -1.341676\n",
            "3      0.03         -1.967653   -0.018025    -1.338448\n",
            "4      0.04         -1.967653    0.093119    -1.335050\n",
            "\n",
            "\n"
          ]
        },
        {
          "output_type": "stream",
          "name": "stderr",
          "text": [
            "<ipython-input-2-f88a7942cfa1>:15: SettingWithCopyWarning: \n",
            "A value is trying to be set on a copy of a slice from a DataFrame\n",
            "\n",
            "See the caveats in the documentation: https://pandas.pydata.org/pandas-docs/stable/user_guide/indexing.html#returning-a-view-versus-a-copy\n",
            "  df.loc[:, columns] = scaler.fit_transform(df[columns])\n"
          ]
        },
        {
          "output_type": "stream",
          "name": "stdout",
          "text": [
            "Processed and saved: /content/drive/MyDrive/Data/StandardData/ProcessedStandardizedData_Subject50.csv\n",
            "Head of the processed file ProcessedStandardizedData_Subject50.csv:\n",
            "       Time [s]  Pressure [cmH2O]  Flow [L/s]  V_tidal [L]\n",
            "0 -1.000000e-02         -2.654454    0.008173    -0.964160\n",
            "1  1.776357e-15         -2.590219    0.118001    -0.962640\n",
            "2  1.000000e-02         -2.578540    0.053039    -0.961098\n",
            "3  2.000000e-02         -2.561022    0.008173    -0.959610\n",
            "4  3.000000e-02         -2.496788    0.074992    -0.958111\n",
            "\n",
            "\n"
          ]
        },
        {
          "output_type": "stream",
          "name": "stderr",
          "text": [
            "<ipython-input-2-f88a7942cfa1>:15: SettingWithCopyWarning: \n",
            "A value is trying to be set on a copy of a slice from a DataFrame\n",
            "\n",
            "See the caveats in the documentation: https://pandas.pydata.org/pandas-docs/stable/user_guide/indexing.html#returning-a-view-versus-a-copy\n",
            "  df.loc[:, columns] = scaler.fit_transform(df[columns])\n"
          ]
        },
        {
          "output_type": "stream",
          "name": "stdout",
          "text": [
            "Processed and saved: /content/drive/MyDrive/Data/StandardData/ProcessedStandardizedData_Subject44.csv\n",
            "Head of the processed file ProcessedStandardizedData_Subject44.csv:\n",
            "       Time [s]  Pressure [cmH2O]  Flow [L/s]  V_tidal [L]\n",
            "0 -1.000000e-02         -0.773613   -1.093712    -1.536114\n",
            "1 -1.820766e-14         -0.773613   -0.921183    -1.537051\n",
            "2  1.000000e-02         -0.787743   -1.093712    -1.537989\n",
            "3  2.000000e-02         -0.773613   -1.093712    -1.539139\n",
            "4  3.000000e-02         -0.632307   -0.262642    -1.539267\n",
            "\n",
            "\n"
          ]
        },
        {
          "output_type": "stream",
          "name": "stderr",
          "text": [
            "<ipython-input-2-f88a7942cfa1>:15: SettingWithCopyWarning: \n",
            "A value is trying to be set on a copy of a slice from a DataFrame\n",
            "\n",
            "See the caveats in the documentation: https://pandas.pydata.org/pandas-docs/stable/user_guide/indexing.html#returning-a-view-versus-a-copy\n",
            "  df.loc[:, columns] = scaler.fit_transform(df[columns])\n"
          ]
        },
        {
          "output_type": "stream",
          "name": "stdout",
          "text": [
            "Processed and saved: /content/drive/MyDrive/Data/StandardData/ProcessedStandardizedData_Subject45.csv\n",
            "Head of the processed file ProcessedStandardizedData_Subject45.csv:\n",
            "       Time [s]  Pressure [cmH2O]  Flow [L/s]  V_tidal [L]\n",
            "0 -1.000000e-02         -0.417409   -0.775588    -1.588559\n",
            "1 -4.996004e-14         -0.428519   -0.662184    -1.591138\n",
            "2  1.000000e-02         -0.447037   -0.733431    -1.593601\n",
            "3  2.000000e-02         -0.454444   -0.662184    -1.596064\n",
            "4  3.000000e-02         -0.447037   -0.710908    -1.598466\n",
            "\n",
            "\n"
          ]
        },
        {
          "output_type": "stream",
          "name": "stderr",
          "text": [
            "<ipython-input-2-f88a7942cfa1>:15: SettingWithCopyWarning: \n",
            "A value is trying to be set on a copy of a slice from a DataFrame\n",
            "\n",
            "See the caveats in the documentation: https://pandas.pydata.org/pandas-docs/stable/user_guide/indexing.html#returning-a-view-versus-a-copy\n",
            "  df.loc[:, columns] = scaler.fit_transform(df[columns])\n"
          ]
        },
        {
          "output_type": "stream",
          "name": "stdout",
          "text": [
            "Processed and saved: /content/drive/MyDrive/Data/StandardData/ProcessedStandardizedData_Subject46.csv\n",
            "Head of the processed file ProcessedStandardizedData_Subject46.csv:\n",
            "       Time [s]  Pressure [cmH2O]  Flow [L/s]  V_tidal [L]\n",
            "0 -1.000000e-02         -1.739838    0.417476    -1.180047\n",
            "1  1.365574e-14         -1.753317    0.321486    -1.177501\n",
            "2  1.000000e-02         -1.739838    0.417476    -1.174955\n",
            "3  2.000000e-02         -1.717372    0.417476    -1.172249\n",
            "4  3.000000e-02         -1.708385    0.394572    -1.169582\n",
            "\n",
            "\n"
          ]
        },
        {
          "output_type": "stream",
          "name": "stderr",
          "text": [
            "<ipython-input-2-f88a7942cfa1>:15: SettingWithCopyWarning: \n",
            "A value is trying to be set on a copy of a slice from a DataFrame\n",
            "\n",
            "See the caveats in the documentation: https://pandas.pydata.org/pandas-docs/stable/user_guide/indexing.html#returning-a-view-versus-a-copy\n",
            "  df.loc[:, columns] = scaler.fit_transform(df[columns])\n"
          ]
        },
        {
          "output_type": "stream",
          "name": "stdout",
          "text": [
            "Processed and saved: /content/drive/MyDrive/Data/StandardData/ProcessedStandardizedData_Subject49.csv\n",
            "Head of the processed file ProcessedStandardizedData_Subject49.csv:\n",
            "       Time [s]  Pressure [cmH2O]  Flow [L/s]  V_tidal [L]\n",
            "0 -1.000000e-02         -0.963487   -0.870467    -1.344441\n",
            "1 -3.863576e-14         -0.963487   -0.356442    -1.344577\n",
            "2  1.000000e-02         -0.963487   -0.356442    -1.343891\n",
            "3  2.000000e-02         -0.972907   -0.870467    -1.344027\n",
            "4  3.000000e-02         -0.972907   -0.870467    -1.344986\n",
            "\n",
            "\n"
          ]
        },
        {
          "output_type": "stream",
          "name": "stderr",
          "text": [
            "<ipython-input-2-f88a7942cfa1>:15: SettingWithCopyWarning: \n",
            "A value is trying to be set on a copy of a slice from a DataFrame\n",
            "\n",
            "See the caveats in the documentation: https://pandas.pydata.org/pandas-docs/stable/user_guide/indexing.html#returning-a-view-versus-a-copy\n",
            "  df.loc[:, columns] = scaler.fit_transform(df[columns])\n"
          ]
        },
        {
          "output_type": "stream",
          "name": "stdout",
          "text": [
            "Processed and saved: /content/drive/MyDrive/Data/StandardData/ProcessedStandardizedData_Subject43.csv\n",
            "Head of the processed file ProcessedStandardizedData_Subject43.csv:\n",
            "       Time [s]  Pressure [cmH2O]  Flow [L/s]  V_tidal [L]\n",
            "0 -1.000000e-02         -1.803467    0.474064    -0.935123\n",
            "1 -4.551914e-15         -1.789904    0.474064    -0.932799\n",
            "2  1.000000e-02         -1.776340    0.392814    -0.930582\n",
            "3  2.000000e-02         -1.776340    0.474064    -0.928366\n",
            "4  3.000000e-02         -1.753735    0.474064    -0.926041\n",
            "\n",
            "\n"
          ]
        },
        {
          "output_type": "stream",
          "name": "stderr",
          "text": [
            "<ipython-input-2-f88a7942cfa1>:15: SettingWithCopyWarning: \n",
            "A value is trying to be set on a copy of a slice from a DataFrame\n",
            "\n",
            "See the caveats in the documentation: https://pandas.pydata.org/pandas-docs/stable/user_guide/indexing.html#returning-a-view-versus-a-copy\n",
            "  df.loc[:, columns] = scaler.fit_transform(df[columns])\n"
          ]
        },
        {
          "output_type": "stream",
          "name": "stdout",
          "text": [
            "Processed and saved: /content/drive/MyDrive/Data/StandardData/ProcessedStandardizedData_Subject48.csv\n",
            "Head of the processed file ProcessedStandardizedData_Subject48.csv:\n",
            "       Time [s]  Pressure [cmH2O]  Flow [L/s]  V_tidal [L]\n",
            "0 -1.000000e-02         -1.121585   -0.772665    -1.069831\n",
            "1 -3.635980e-14         -1.121585   -0.772665    -1.069098\n",
            "2  1.000000e-02         -1.110191   -0.772665    -1.068366\n",
            "3  2.000000e-02         -1.110191   -0.772665    -1.067633\n",
            "4  3.000000e-02         -1.093101   -0.772665    -1.066901\n",
            "\n",
            "\n"
          ]
        },
        {
          "output_type": "stream",
          "name": "stderr",
          "text": [
            "<ipython-input-2-f88a7942cfa1>:15: SettingWithCopyWarning: \n",
            "A value is trying to be set on a copy of a slice from a DataFrame\n",
            "\n",
            "See the caveats in the documentation: https://pandas.pydata.org/pandas-docs/stable/user_guide/indexing.html#returning-a-view-versus-a-copy\n",
            "  df.loc[:, columns] = scaler.fit_transform(df[columns])\n"
          ]
        },
        {
          "output_type": "stream",
          "name": "stdout",
          "text": [
            "Processed and saved: /content/drive/MyDrive/Data/StandardData/ProcessedStandardizedData_Subject55.csv\n",
            "Head of the processed file ProcessedStandardizedData_Subject55.csv:\n",
            "       Time [s]  Pressure [cmH2O]  Flow [L/s]  V_tidal [L]\n",
            "0 -1.000000e-02         -0.721142   -0.698364    -1.334742\n",
            "1  3.641532e-14         -0.721142   -0.698364    -1.336172\n",
            "2  1.000000e-02         -0.721142   -0.698364    -1.337603\n",
            "3  2.000000e-02         -0.712507   -0.611473    -1.338872\n",
            "4  3.000000e-02         -0.699555   -0.698364    -1.340140\n",
            "\n",
            "\n"
          ]
        },
        {
          "output_type": "stream",
          "name": "stderr",
          "text": [
            "<ipython-input-2-f88a7942cfa1>:15: SettingWithCopyWarning: \n",
            "A value is trying to be set on a copy of a slice from a DataFrame\n",
            "\n",
            "See the caveats in the documentation: https://pandas.pydata.org/pandas-docs/stable/user_guide/indexing.html#returning-a-view-versus-a-copy\n",
            "  df.loc[:, columns] = scaler.fit_transform(df[columns])\n"
          ]
        },
        {
          "output_type": "stream",
          "name": "stdout",
          "text": [
            "Processed and saved: /content/drive/MyDrive/Data/StandardData/ProcessedStandardizedData_Subject51.csv\n",
            "Head of the processed file ProcessedStandardizedData_Subject51.csv:\n",
            "       Time [s]  Pressure [cmH2O]  Flow [L/s]  V_tidal [L]\n",
            "0 -1.000000e-02         -1.255571    0.044872    -0.711050\n",
            "1 -2.275957e-14         -1.308828   -0.142924    -0.710542\n",
            "2  1.000000e-02         -1.317704    0.233178    -0.709866\n",
            "3  2.000000e-02         -1.375399    0.129488    -0.708945\n",
            "4  3.000000e-02         -1.419779    0.320622    -0.707947\n",
            "\n",
            "\n"
          ]
        },
        {
          "output_type": "stream",
          "name": "stderr",
          "text": [
            "<ipython-input-2-f88a7942cfa1>:15: SettingWithCopyWarning: \n",
            "A value is trying to be set on a copy of a slice from a DataFrame\n",
            "\n",
            "See the caveats in the documentation: https://pandas.pydata.org/pandas-docs/stable/user_guide/indexing.html#returning-a-view-versus-a-copy\n",
            "  df.loc[:, columns] = scaler.fit_transform(df[columns])\n"
          ]
        },
        {
          "output_type": "stream",
          "name": "stdout",
          "text": [
            "Processed and saved: /content/drive/MyDrive/Data/StandardData/ProcessedStandardizedData_Subject52.csv\n",
            "Head of the processed file ProcessedStandardizedData_Subject52.csv:\n",
            "       Time [s]  Pressure [cmH2O]  Flow [L/s]  V_tidal [L]\n",
            "0 -1.000000e-02         -0.814509   -0.147575    -1.062539\n",
            "1 -5.906386e-14         -0.786777   -0.147575    -1.061994\n",
            "2  1.000000e-02         -0.751120    0.097955    -1.061058\n",
            "3  2.000000e-02         -0.806586   -0.558286    -1.060776\n",
            "4  3.000000e-02         -0.846204   -0.147575    -1.060884\n",
            "\n",
            "\n"
          ]
        },
        {
          "output_type": "stream",
          "name": "stderr",
          "text": [
            "<ipython-input-2-f88a7942cfa1>:15: SettingWithCopyWarning: \n",
            "A value is trying to be set on a copy of a slice from a DataFrame\n",
            "\n",
            "See the caveats in the documentation: https://pandas.pydata.org/pandas-docs/stable/user_guide/indexing.html#returning-a-view-versus-a-copy\n",
            "  df.loc[:, columns] = scaler.fit_transform(df[columns])\n"
          ]
        },
        {
          "output_type": "stream",
          "name": "stdout",
          "text": [
            "Processed and saved: /content/drive/MyDrive/Data/StandardData/ProcessedStandardizedData_Subject53.csv\n",
            "Head of the processed file ProcessedStandardizedData_Subject53.csv:\n",
            "   Time [s]  Pressure [cmH2O]  Flow [L/s]  V_tidal [L]\n",
            "0      0.00         -0.061046   -0.908006    -1.047584\n",
            "1      0.01         -0.119303   -0.990267    -1.050462\n",
            "2      0.02         -0.235818   -1.063457    -1.053697\n",
            "3      0.03         -0.361294   -1.130043    -1.057252\n",
            "4      0.04         -0.406107   -1.086297    -1.060860\n",
            "\n",
            "\n"
          ]
        },
        {
          "output_type": "stream",
          "name": "stderr",
          "text": [
            "<ipython-input-2-f88a7942cfa1>:15: SettingWithCopyWarning: \n",
            "A value is trying to be set on a copy of a slice from a DataFrame\n",
            "\n",
            "See the caveats in the documentation: https://pandas.pydata.org/pandas-docs/stable/user_guide/indexing.html#returning-a-view-versus-a-copy\n",
            "  df.loc[:, columns] = scaler.fit_transform(df[columns])\n"
          ]
        },
        {
          "output_type": "stream",
          "name": "stdout",
          "text": [
            "Processed and saved: /content/drive/MyDrive/Data/StandardData/ProcessedStandardizedData_Subject54.csv\n",
            "Head of the processed file ProcessedStandardizedData_Subject54.csv:\n",
            "       Time [s]  Pressure [cmH2O]  Flow [L/s]  V_tidal [L]\n",
            "0 -1.000000e-02         -2.145991    0.783795    -0.784479\n",
            "1 -2.731149e-14         -2.145991    0.729820    -0.781382\n",
            "2  1.000000e-02         -2.137200    0.729820    -0.778366\n",
            "3  2.000000e-02         -2.102033    0.672754    -0.775436\n",
            "4  3.000000e-02         -2.124012    0.783795    -0.772425\n",
            "\n",
            "\n"
          ]
        },
        {
          "output_type": "stream",
          "name": "stderr",
          "text": [
            "<ipython-input-2-f88a7942cfa1>:15: SettingWithCopyWarning: \n",
            "A value is trying to be set on a copy of a slice from a DataFrame\n",
            "\n",
            "See the caveats in the documentation: https://pandas.pydata.org/pandas-docs/stable/user_guide/indexing.html#returning-a-view-versus-a-copy\n",
            "  df.loc[:, columns] = scaler.fit_transform(df[columns])\n"
          ]
        },
        {
          "output_type": "stream",
          "name": "stdout",
          "text": [
            "Processed and saved: /content/drive/MyDrive/Data/StandardData/ProcessedStandardizedData_Subject56.csv\n",
            "Head of the processed file ProcessedStandardizedData_Subject56.csv:\n",
            "       Time [s]  Pressure [cmH2O]  Flow [L/s]  V_tidal [L]\n",
            "0 -1.000000e-02         -2.221732    0.682675    -0.642022\n",
            "1 -2.731149e-14         -2.208126    0.682675    -0.637155\n",
            "2  1.000000e-02         -2.235337    0.682675    -0.632287\n",
            "3  2.000000e-02         -2.221732    0.728906    -0.627311\n",
            "4  3.000000e-02         -2.208126    0.682675    -0.622335\n",
            "\n",
            "\n"
          ]
        },
        {
          "output_type": "stream",
          "name": "stderr",
          "text": [
            "<ipython-input-2-f88a7942cfa1>:15: SettingWithCopyWarning: \n",
            "A value is trying to be set on a copy of a slice from a DataFrame\n",
            "\n",
            "See the caveats in the documentation: https://pandas.pydata.org/pandas-docs/stable/user_guide/indexing.html#returning-a-view-versus-a-copy\n",
            "  df.loc[:, columns] = scaler.fit_transform(df[columns])\n"
          ]
        },
        {
          "output_type": "stream",
          "name": "stdout",
          "text": [
            "Processed and saved: /content/drive/MyDrive/Data/StandardData/ProcessedStandardizedData_Subject60.csv\n",
            "Head of the processed file ProcessedStandardizedData_Subject60.csv:\n",
            "       Time [s]  Pressure [cmH2O]  Flow [L/s]  V_tidal [L]\n",
            "0 -1.000000e-02         -0.579703   -1.028000    -0.985943\n",
            "1 -7.727152e-14         -0.592612   -0.916303    -0.987292\n",
            "2  1.000000e-02         -0.579703   -0.916303    -0.988482\n",
            "3  2.000000e-02         -0.601219   -0.821185    -0.989538\n",
            "4  3.000000e-02         -0.601219   -0.916303    -0.990594\n",
            "\n",
            "\n"
          ]
        },
        {
          "output_type": "stream",
          "name": "stderr",
          "text": [
            "<ipython-input-2-f88a7942cfa1>:15: SettingWithCopyWarning: \n",
            "A value is trying to be set on a copy of a slice from a DataFrame\n",
            "\n",
            "See the caveats in the documentation: https://pandas.pydata.org/pandas-docs/stable/user_guide/indexing.html#returning-a-view-versus-a-copy\n",
            "  df.loc[:, columns] = scaler.fit_transform(df[columns])\n"
          ]
        },
        {
          "output_type": "stream",
          "name": "stdout",
          "text": [
            "Processed and saved: /content/drive/MyDrive/Data/StandardData/ProcessedStandardizedData_Subject59.csv\n",
            "Head of the processed file ProcessedStandardizedData_Subject59.csv:\n",
            "       Time [s]  Pressure [cmH2O]  Flow [L/s]  V_tidal [L]\n",
            "0 -1.000000e-02         -0.900696   -0.432821    -0.705007\n",
            "1 -5.451195e-14         -0.930238   -0.133314    -0.704516\n",
            "2  1.000000e-02         -0.930238   -0.432821    -0.704025\n",
            "3  2.000000e-02         -0.930238   -0.432821    -0.652846\n",
            "4  3.000000e-02         -0.940085   -0.133314    -0.652355\n",
            "\n",
            "\n"
          ]
        },
        {
          "output_type": "stream",
          "name": "stderr",
          "text": [
            "<ipython-input-2-f88a7942cfa1>:15: SettingWithCopyWarning: \n",
            "A value is trying to be set on a copy of a slice from a DataFrame\n",
            "\n",
            "See the caveats in the documentation: https://pandas.pydata.org/pandas-docs/stable/user_guide/indexing.html#returning-a-view-versus-a-copy\n",
            "  df.loc[:, columns] = scaler.fit_transform(df[columns])\n"
          ]
        },
        {
          "output_type": "stream",
          "name": "stdout",
          "text": [
            "Processed and saved: /content/drive/MyDrive/Data/StandardData/ProcessedStandardizedData_Subject58.csv\n",
            "Head of the processed file ProcessedStandardizedData_Subject58.csv:\n",
            "   Time [s]  Pressure [cmH2O]  Flow [L/s]  V_tidal [L]\n",
            "0      0.00         -0.030949   -1.259853    -1.260187\n",
            "1      0.01         -0.049026   -1.259853    -1.260133\n",
            "2      0.02         -0.049026   -1.259853    -1.260079\n",
            "3      0.03         -0.049026   -0.838811    -1.259685\n",
            "4      0.04         -0.049026   -1.259853    -1.259292\n",
            "\n",
            "\n"
          ]
        },
        {
          "output_type": "stream",
          "name": "stderr",
          "text": [
            "<ipython-input-2-f88a7942cfa1>:15: SettingWithCopyWarning: \n",
            "A value is trying to be set on a copy of a slice from a DataFrame\n",
            "\n",
            "See the caveats in the documentation: https://pandas.pydata.org/pandas-docs/stable/user_guide/indexing.html#returning-a-view-versus-a-copy\n",
            "  df.loc[:, columns] = scaler.fit_transform(df[columns])\n"
          ]
        },
        {
          "output_type": "stream",
          "name": "stdout",
          "text": [
            "Processed and saved: /content/drive/MyDrive/Data/StandardData/ProcessedStandardizedData_Subject57.csv\n",
            "Head of the processed file ProcessedStandardizedData_Subject57.csv:\n",
            "       Time [s]  Pressure [cmH2O]  Flow [L/s]  V_tidal [L]\n",
            "0 -1.000000e-02         -1.586235    0.252672    -1.198707\n",
            "1  5.107026e-15         -1.576958    0.252672    -1.196908\n",
            "2  1.000000e-02         -1.576958    0.031649    -1.195372\n",
            "3  2.000000e-02         -1.586235    0.252672    -1.193835\n",
            "4  3.000000e-02         -1.600151    0.252672    -1.192036\n",
            "\n",
            "\n"
          ]
        },
        {
          "output_type": "stream",
          "name": "stderr",
          "text": [
            "<ipython-input-2-f88a7942cfa1>:15: SettingWithCopyWarning: \n",
            "A value is trying to be set on a copy of a slice from a DataFrame\n",
            "\n",
            "See the caveats in the documentation: https://pandas.pydata.org/pandas-docs/stable/user_guide/indexing.html#returning-a-view-versus-a-copy\n",
            "  df.loc[:, columns] = scaler.fit_transform(df[columns])\n"
          ]
        },
        {
          "output_type": "stream",
          "name": "stdout",
          "text": [
            "Processed and saved: /content/drive/MyDrive/Data/StandardData/ProcessedStandardizedData_Subject61.csv\n",
            "Head of the processed file ProcessedStandardizedData_Subject61.csv:\n",
            "       Time [s]  Pressure [cmH2O]  Flow [L/s]  V_tidal [L]\n",
            "0 -1.000000e-02         -0.127848   -1.535363    -1.074202\n",
            "1 -2.775558e-16         -0.151112   -1.496264    -1.076968\n",
            "2  1.000000e-02         -0.127848   -1.535363    -1.079734\n",
            "3  2.000000e-02         -0.141806   -1.434114    -1.082404\n",
            "4  3.000000e-02         -0.118542   -1.535363    -1.085074\n",
            "\n",
            "\n"
          ]
        },
        {
          "output_type": "stream",
          "name": "stderr",
          "text": [
            "<ipython-input-2-f88a7942cfa1>:15: SettingWithCopyWarning: \n",
            "A value is trying to be set on a copy of a slice from a DataFrame\n",
            "\n",
            "See the caveats in the documentation: https://pandas.pydata.org/pandas-docs/stable/user_guide/indexing.html#returning-a-view-versus-a-copy\n",
            "  df.loc[:, columns] = scaler.fit_transform(df[columns])\n"
          ]
        },
        {
          "output_type": "stream",
          "name": "stdout",
          "text": [
            "Processed and saved: /content/drive/MyDrive/Data/StandardData/ProcessedStandardizedData_Subject62.csv\n",
            "Head of the processed file ProcessedStandardizedData_Subject62.csv:\n",
            "       Time [s]  Pressure [cmH2O]  Flow [L/s]  V_tidal [L]\n",
            "0 -1.000000e-02         -1.119495   -1.197644    -0.882284\n",
            "1 -4.440892e-16         -1.119495   -1.549973    -0.881823\n",
            "2  1.000000e-02         -1.086199   -1.372277    -0.881458\n",
            "3  2.000000e-02         -1.064001   -1.197644    -0.880901\n",
            "4  3.000000e-02         -1.030705   -1.372277    -0.880344\n",
            "\n",
            "\n"
          ]
        },
        {
          "output_type": "stream",
          "name": "stderr",
          "text": [
            "<ipython-input-2-f88a7942cfa1>:15: SettingWithCopyWarning: \n",
            "A value is trying to be set on a copy of a slice from a DataFrame\n",
            "\n",
            "See the caveats in the documentation: https://pandas.pydata.org/pandas-docs/stable/user_guide/indexing.html#returning-a-view-versus-a-copy\n",
            "  df.loc[:, columns] = scaler.fit_transform(df[columns])\n"
          ]
        },
        {
          "output_type": "stream",
          "name": "stdout",
          "text": [
            "Processed and saved: /content/drive/MyDrive/Data/StandardData/ProcessedStandardizedData_Subject67.csv\n",
            "Head of the processed file ProcessedStandardizedData_Subject67.csv:\n",
            "   Time [s]  Pressure [cmH2O]  Flow [L/s]  V_tidal [L]\n",
            "0      0.00         -0.968428   -1.814997    -0.849247\n",
            "1      0.01         -1.022921   -2.488539    -0.849314\n",
            "2      0.02         -1.022921   -2.060286    -0.849529\n",
            "3      0.03         -1.022921   -2.060286    -0.849486\n",
            "4      0.04         -1.022921   -2.060286    -0.849443\n",
            "\n",
            "\n"
          ]
        },
        {
          "output_type": "stream",
          "name": "stderr",
          "text": [
            "<ipython-input-2-f88a7942cfa1>:15: SettingWithCopyWarning: \n",
            "A value is trying to be set on a copy of a slice from a DataFrame\n",
            "\n",
            "See the caveats in the documentation: https://pandas.pydata.org/pandas-docs/stable/user_guide/indexing.html#returning-a-view-versus-a-copy\n",
            "  df.loc[:, columns] = scaler.fit_transform(df[columns])\n"
          ]
        },
        {
          "output_type": "stream",
          "name": "stdout",
          "text": [
            "Processed and saved: /content/drive/MyDrive/Data/StandardData/ProcessedStandardizedData_Subject63.csv\n",
            "Head of the processed file ProcessedStandardizedData_Subject63.csv:\n",
            "       Time [s]  Pressure [cmH2O]  Flow [L/s]  V_tidal [L]\n",
            "0 -1.000000e-02         -0.135861    0.137682    -0.253369\n",
            "1 -9.103829e-15         -0.300324    0.052074    -0.254036\n",
            "2  1.000000e-02         -0.311288    0.052074    -0.254789\n",
            "3  2.000000e-02         -0.327735    0.137682    -0.255456\n",
            "4  3.000000e-02         -0.338699    0.052074    -0.256123\n",
            "\n",
            "\n"
          ]
        },
        {
          "output_type": "stream",
          "name": "stderr",
          "text": [
            "<ipython-input-2-f88a7942cfa1>:15: SettingWithCopyWarning: \n",
            "A value is trying to be set on a copy of a slice from a DataFrame\n",
            "\n",
            "See the caveats in the documentation: https://pandas.pydata.org/pandas-docs/stable/user_guide/indexing.html#returning-a-view-versus-a-copy\n",
            "  df.loc[:, columns] = scaler.fit_transform(df[columns])\n"
          ]
        },
        {
          "output_type": "stream",
          "name": "stdout",
          "text": [
            "Processed and saved: /content/drive/MyDrive/Data/StandardData/ProcessedStandardizedData_Subject66.csv\n",
            "Head of the processed file ProcessedStandardizedData_Subject66.csv:\n",
            "       Time [s]  Pressure [cmH2O]  Flow [L/s]  V_tidal [L]\n",
            "0 -1.000000e-02          0.150378   -0.886407    -0.805752\n",
            "1  4.085621e-14          0.133675   -0.865388    -0.808637\n",
            "2  1.000000e-02          0.106950   -0.774809    -0.811315\n",
            "3  2.000000e-02          0.133675   -0.832732    -0.813932\n",
            "4  3.000000e-02          0.133675   -0.896709    -0.816776\n",
            "\n",
            "\n"
          ]
        },
        {
          "output_type": "stream",
          "name": "stderr",
          "text": [
            "<ipython-input-2-f88a7942cfa1>:15: SettingWithCopyWarning: \n",
            "A value is trying to be set on a copy of a slice from a DataFrame\n",
            "\n",
            "See the caveats in the documentation: https://pandas.pydata.org/pandas-docs/stable/user_guide/indexing.html#returning-a-view-versus-a-copy\n",
            "  df.loc[:, columns] = scaler.fit_transform(df[columns])\n"
          ]
        },
        {
          "output_type": "stream",
          "name": "stdout",
          "text": [
            "Processed and saved: /content/drive/MyDrive/Data/StandardData/ProcessedStandardizedData_Subject64.csv\n",
            "Head of the processed file ProcessedStandardizedData_Subject64.csv:\n",
            "       Time [s]  Pressure [cmH2O]  Flow [L/s]  V_tidal [L]\n",
            "0 -1.000000e-02         -2.066508    1.803417     0.147607\n",
            "1 -3.330669e-16         -2.091044    1.803417     0.149722\n",
            "2  1.000000e-02         -2.051787    1.749696     0.151776\n",
            "3  2.000000e-02         -2.076322    1.749696     0.153771\n",
            "4  3.000000e-02         -2.091044    1.749696     0.155765\n",
            "\n",
            "\n"
          ]
        },
        {
          "output_type": "stream",
          "name": "stderr",
          "text": [
            "<ipython-input-2-f88a7942cfa1>:15: SettingWithCopyWarning: \n",
            "A value is trying to be set on a copy of a slice from a DataFrame\n",
            "\n",
            "See the caveats in the documentation: https://pandas.pydata.org/pandas-docs/stable/user_guide/indexing.html#returning-a-view-versus-a-copy\n",
            "  df.loc[:, columns] = scaler.fit_transform(df[columns])\n"
          ]
        },
        {
          "output_type": "stream",
          "name": "stdout",
          "text": [
            "Processed and saved: /content/drive/MyDrive/Data/StandardData/ProcessedStandardizedData_Subject68.csv\n",
            "Head of the processed file ProcessedStandardizedData_Subject68.csv:\n",
            "       Time [s]  Pressure [cmH2O]  Flow [L/s]  V_tidal [L]\n",
            "0 -1.000000e-02         -0.773746   -0.627583    -1.549136\n",
            "1  7.438494e-15         -0.773746   -0.722598    -1.551076\n",
            "2  1.000000e-02         -0.773746   -0.799773    -1.553465\n",
            "3  2.000000e-02         -0.786888   -0.799773    -1.556055\n",
            "4  3.000000e-02         -0.786888   -0.722598    -1.558444\n",
            "\n",
            "\n"
          ]
        },
        {
          "output_type": "stream",
          "name": "stderr",
          "text": [
            "<ipython-input-2-f88a7942cfa1>:15: SettingWithCopyWarning: \n",
            "A value is trying to be set on a copy of a slice from a DataFrame\n",
            "\n",
            "See the caveats in the documentation: https://pandas.pydata.org/pandas-docs/stable/user_guide/indexing.html#returning-a-view-versus-a-copy\n",
            "  df.loc[:, columns] = scaler.fit_transform(df[columns])\n"
          ]
        },
        {
          "output_type": "stream",
          "name": "stdout",
          "text": [
            "Processed and saved: /content/drive/MyDrive/Data/StandardData/ProcessedStandardizedData_Subject65.csv\n",
            "Head of the processed file ProcessedStandardizedData_Subject65.csv:\n",
            "       Time [s]  Pressure [cmH2O]  Flow [L/s]  V_tidal [L]\n",
            "0 -1.000000e-02         -2.620077    1.888789     0.716431\n",
            "1 -9.436896e-16         -2.599732    1.868752     0.717136\n",
            "2  1.000000e-02         -2.565823    1.888789     0.717841\n",
            "3  2.000000e-02         -2.620077    1.888789     0.718561\n",
            "4  3.000000e-02         -2.599732    1.888789     0.719280\n",
            "\n",
            "\n"
          ]
        },
        {
          "output_type": "stream",
          "name": "stderr",
          "text": [
            "<ipython-input-2-f88a7942cfa1>:15: SettingWithCopyWarning: \n",
            "A value is trying to be set on a copy of a slice from a DataFrame\n",
            "\n",
            "See the caveats in the documentation: https://pandas.pydata.org/pandas-docs/stable/user_guide/indexing.html#returning-a-view-versus-a-copy\n",
            "  df.loc[:, columns] = scaler.fit_transform(df[columns])\n"
          ]
        },
        {
          "output_type": "stream",
          "name": "stdout",
          "text": [
            "Processed and saved: /content/drive/MyDrive/Data/StandardData/ProcessedStandardizedData_Subject69.csv\n",
            "Head of the processed file ProcessedStandardizedData_Subject69.csv:\n",
            "   Time [s]  Pressure [cmH2O]  Flow [L/s]  V_tidal [L]\n",
            "0      0.00         -2.203652    0.716078    -1.258019\n",
            "1      0.01         -2.203652    0.772115    -1.250122\n",
            "2      0.02         -2.214975    0.804281    -1.241867\n",
            "3      0.03         -2.203652    0.716078    -1.233839\n",
            "4      0.04         -2.196103    0.772115    -1.225942\n",
            "\n",
            "\n"
          ]
        },
        {
          "output_type": "stream",
          "name": "stderr",
          "text": [
            "<ipython-input-2-f88a7942cfa1>:15: SettingWithCopyWarning: \n",
            "A value is trying to be set on a copy of a slice from a DataFrame\n",
            "\n",
            "See the caveats in the documentation: https://pandas.pydata.org/pandas-docs/stable/user_guide/indexing.html#returning-a-view-versus-a-copy\n",
            "  df.loc[:, columns] = scaler.fit_transform(df[columns])\n"
          ]
        },
        {
          "output_type": "stream",
          "name": "stdout",
          "text": [
            "Processed and saved: /content/drive/MyDrive/Data/StandardData/ProcessedStandardizedData_Subject73.csv\n",
            "Head of the processed file ProcessedStandardizedData_Subject73.csv:\n",
            "   Time [s]  Pressure [cmH2O]  Flow [L/s]  V_tidal [L]\n",
            "0     -0.01         -1.565121    0.381414    -0.565177\n",
            "1      0.00         -1.565121    0.381414    -0.561152\n",
            "2      0.01         -1.544303    0.381414    -0.557127\n",
            "3      0.02         -1.544303    0.486734    -0.552791\n",
            "4      0.03         -1.535976    0.309549    -0.548668\n",
            "\n",
            "\n"
          ]
        },
        {
          "output_type": "stream",
          "name": "stderr",
          "text": [
            "<ipython-input-2-f88a7942cfa1>:15: SettingWithCopyWarning: \n",
            "A value is trying to be set on a copy of a slice from a DataFrame\n",
            "\n",
            "See the caveats in the documentation: https://pandas.pydata.org/pandas-docs/stable/user_guide/indexing.html#returning-a-view-versus-a-copy\n",
            "  df.loc[:, columns] = scaler.fit_transform(df[columns])\n"
          ]
        },
        {
          "output_type": "stream",
          "name": "stdout",
          "text": [
            "Processed and saved: /content/drive/MyDrive/Data/StandardData/ProcessedStandardizedData_Subject76.csv\n",
            "Head of the processed file ProcessedStandardizedData_Subject76.csv:\n",
            "       Time [s]  Pressure [cmH2O]  Flow [L/s]  V_tidal [L]\n",
            "0 -1.000000e-02         -1.819750    0.268694    -0.757181\n",
            "1  9.103829e-14         -1.828797    0.346579    -0.754294\n",
            "2  1.000000e-02         -1.842368    0.321562    -0.751298\n",
            "3  2.000000e-02         -1.842368    0.394227    -0.748204\n",
            "4  3.000000e-02         -1.842368    0.394227    -0.744960\n",
            "\n",
            "\n"
          ]
        },
        {
          "output_type": "stream",
          "name": "stderr",
          "text": [
            "<ipython-input-2-f88a7942cfa1>:15: SettingWithCopyWarning: \n",
            "A value is trying to be set on a copy of a slice from a DataFrame\n",
            "\n",
            "See the caveats in the documentation: https://pandas.pydata.org/pandas-docs/stable/user_guide/indexing.html#returning-a-view-versus-a-copy\n",
            "  df.loc[:, columns] = scaler.fit_transform(df[columns])\n"
          ]
        },
        {
          "output_type": "stream",
          "name": "stdout",
          "text": [
            "Processed and saved: /content/drive/MyDrive/Data/StandardData/ProcessedStandardizedData_Subject74.csv\n",
            "Head of the processed file ProcessedStandardizedData_Subject74.csv:\n",
            "       Time [s]  Pressure [cmH2O]  Flow [L/s]  V_tidal [L]\n",
            "0 -1.000000e-02         -1.011629   -0.922580    -0.852502\n",
            "1 -3.552714e-15         -1.011629   -0.922580    -0.851689\n",
            "2  1.000000e-02         -1.011629   -0.854398    -0.850814\n",
            "3  2.000000e-02         -1.011629   -0.854398    -0.849876\n",
            "4  3.000000e-02         -1.028348   -0.922580    -0.849001\n",
            "\n",
            "\n"
          ]
        },
        {
          "output_type": "stream",
          "name": "stderr",
          "text": [
            "<ipython-input-2-f88a7942cfa1>:15: SettingWithCopyWarning: \n",
            "A value is trying to be set on a copy of a slice from a DataFrame\n",
            "\n",
            "See the caveats in the documentation: https://pandas.pydata.org/pandas-docs/stable/user_guide/indexing.html#returning-a-view-versus-a-copy\n",
            "  df.loc[:, columns] = scaler.fit_transform(df[columns])\n"
          ]
        },
        {
          "output_type": "stream",
          "name": "stdout",
          "text": [
            "Processed and saved: /content/drive/MyDrive/Data/StandardData/ProcessedStandardizedData_Subject72.csv\n",
            "Head of the processed file ProcessedStandardizedData_Subject72.csv:\n",
            "   Time [s]  Pressure [cmH2O]  Flow [L/s]  V_tidal [L]\n",
            "0      0.00         -0.540019   -0.510755    -1.395477\n",
            "1      0.01         -0.631776   -0.660838    -1.398834\n",
            "2      0.02         -0.719164   -0.818346    -1.403631\n",
            "3      0.03         -0.732272   -0.745613    -1.408826\n",
            "4      0.04         -0.732272   -0.690823    -1.413424\n",
            "\n",
            "\n",
            "Processed and saved: /content/drive/MyDrive/Data/StandardData/ProcessedStandardizedData_Subject71.csv\n",
            "Head of the processed file ProcessedStandardizedData_Subject71.csv:\n",
            "   Time [s]  Pressure [cmH2O]  Flow [L/s]  V_tidal [L]\n",
            "0      0.00         -0.510386   -1.414600    -1.467467\n",
            "1      0.01         -0.520243   -1.131755    -1.467699\n",
            "2      0.02         -0.510386   -1.414600    -1.467932\n",
            "3      0.03         -0.510386   -1.131755    -1.468164\n",
            "4      0.04         -0.510386   -0.835627    -1.467826\n",
            "\n",
            "\n"
          ]
        },
        {
          "output_type": "stream",
          "name": "stderr",
          "text": [
            "<ipython-input-2-f88a7942cfa1>:15: SettingWithCopyWarning: \n",
            "A value is trying to be set on a copy of a slice from a DataFrame\n",
            "\n",
            "See the caveats in the documentation: https://pandas.pydata.org/pandas-docs/stable/user_guide/indexing.html#returning-a-view-versus-a-copy\n",
            "  df.loc[:, columns] = scaler.fit_transform(df[columns])\n"
          ]
        },
        {
          "output_type": "stream",
          "name": "stdout",
          "text": [
            "Processed and saved: /content/drive/MyDrive/Data/StandardData/ProcessedStandardizedData_Subject75.csv\n",
            "Head of the processed file ProcessedStandardizedData_Subject75.csv:\n",
            "       Time [s]  Pressure [cmH2O]  Flow [L/s]  V_tidal [L]\n",
            "0 -1.000000e-02         -0.274699   -1.638085    -1.024242\n",
            "1 -1.415534e-15         -0.300638   -1.767981    -1.025980\n",
            "2  1.000000e-02         -0.326577   -1.767981    -1.027851\n",
            "3  2.000000e-02         -0.326577   -1.767981    -1.029722\n",
            "4  3.000000e-02         -0.326577   -1.815049    -1.031641\n",
            "\n",
            "\n"
          ]
        },
        {
          "output_type": "stream",
          "name": "stderr",
          "text": [
            "<ipython-input-2-f88a7942cfa1>:15: SettingWithCopyWarning: \n",
            "A value is trying to be set on a copy of a slice from a DataFrame\n",
            "\n",
            "See the caveats in the documentation: https://pandas.pydata.org/pandas-docs/stable/user_guide/indexing.html#returning-a-view-versus-a-copy\n",
            "  df.loc[:, columns] = scaler.fit_transform(df[columns])\n"
          ]
        },
        {
          "output_type": "stream",
          "name": "stdout",
          "text": [
            "Processed and saved: /content/drive/MyDrive/Data/StandardData/ProcessedStandardizedData_Subject70.csv\n",
            "Head of the processed file ProcessedStandardizedData_Subject70.csv:\n",
            "       Time [s]  Pressure [cmH2O]  Flow [L/s]  V_tidal [L]\n",
            "0 -1.000000e-02         -1.147296   -0.565452    -0.930780\n",
            "1  5.662137e-15         -1.162689   -0.565452    -0.929262\n",
            "2  1.000000e-02         -1.172952   -0.453857    -0.927573\n",
            "3  2.000000e-02         -1.172952   -0.453857    -0.925714\n",
            "4  3.000000e-02         -1.188346   -0.453857    -0.923855\n",
            "\n",
            "\n"
          ]
        },
        {
          "output_type": "stream",
          "name": "stderr",
          "text": [
            "<ipython-input-2-f88a7942cfa1>:15: SettingWithCopyWarning: \n",
            "A value is trying to be set on a copy of a slice from a DataFrame\n",
            "\n",
            "See the caveats in the documentation: https://pandas.pydata.org/pandas-docs/stable/user_guide/indexing.html#returning-a-view-versus-a-copy\n",
            "  df.loc[:, columns] = scaler.fit_transform(df[columns])\n"
          ]
        },
        {
          "output_type": "stream",
          "name": "stdout",
          "text": [
            "Processed and saved: /content/drive/MyDrive/Data/StandardData/ProcessedStandardizedData_Subject78.csv\n",
            "Head of the processed file ProcessedStandardizedData_Subject78.csv:\n",
            "   Time [s]  Pressure [cmH2O]  Flow [L/s]  V_tidal [L]\n",
            "0      0.00          0.861110   -1.345035    -1.292268\n",
            "1      0.01          0.827419   -1.451292    -1.294584\n",
            "2      0.02          0.837045   -1.451292    -1.297076\n",
            "3      0.03          0.812980   -1.508356    -1.299662\n",
            "4      0.04          0.812980   -1.544254    -1.302404\n",
            "\n",
            "\n"
          ]
        },
        {
          "output_type": "stream",
          "name": "stderr",
          "text": [
            "<ipython-input-2-f88a7942cfa1>:15: SettingWithCopyWarning: \n",
            "A value is trying to be set on a copy of a slice from a DataFrame\n",
            "\n",
            "See the caveats in the documentation: https://pandas.pydata.org/pandas-docs/stable/user_guide/indexing.html#returning-a-view-versus-a-copy\n",
            "  df.loc[:, columns] = scaler.fit_transform(df[columns])\n"
          ]
        },
        {
          "output_type": "stream",
          "name": "stdout",
          "text": [
            "Processed and saved: /content/drive/MyDrive/Data/StandardData/ProcessedStandardizedData_Subject77.csv\n",
            "Head of the processed file ProcessedStandardizedData_Subject77.csv:\n",
            "       Time [s]  Pressure [cmH2O]  Flow [L/s]  V_tidal [L]\n",
            "0 -1.000000e-02         -2.020537    0.528629    -0.771793\n",
            "1 -1.709743e-14         -1.989147    0.591730    -0.766203\n",
            "2  1.000000e-02         -2.007085    0.528629    -0.760612\n",
            "3  2.000000e-02         -2.007085    0.460839    -0.755409\n",
            "4  3.000000e-02         -2.020537    0.611878    -0.749959\n",
            "\n",
            "\n"
          ]
        },
        {
          "output_type": "stream",
          "name": "stderr",
          "text": [
            "<ipython-input-2-f88a7942cfa1>:15: SettingWithCopyWarning: \n",
            "A value is trying to be set on a copy of a slice from a DataFrame\n",
            "\n",
            "See the caveats in the documentation: https://pandas.pydata.org/pandas-docs/stable/user_guide/indexing.html#returning-a-view-versus-a-copy\n",
            "  df.loc[:, columns] = scaler.fit_transform(df[columns])\n"
          ]
        },
        {
          "output_type": "stream",
          "name": "stdout",
          "text": [
            "Processed and saved: /content/drive/MyDrive/Data/StandardData/ProcessedStandardizedData_Subject80.csv\n",
            "Head of the processed file ProcessedStandardizedData_Subject80.csv:\n",
            "       Time [s]  Pressure [cmH2O]  Flow [L/s]  V_tidal [L]\n",
            "0 -1.000000e-02         -1.547299    0.276442    -0.966965\n",
            "1 -9.103829e-15         -1.582683    0.424339    -0.962099\n",
            "2  1.000000e-02         -1.618067    0.354112    -0.956974\n",
            "3  2.000000e-02         -1.653451    0.354112    -0.952083\n",
            "4  3.000000e-02         -1.653451    0.354112    -0.947191\n",
            "\n",
            "\n"
          ]
        },
        {
          "output_type": "stream",
          "name": "stderr",
          "text": [
            "<ipython-input-2-f88a7942cfa1>:15: SettingWithCopyWarning: \n",
            "A value is trying to be set on a copy of a slice from a DataFrame\n",
            "\n",
            "See the caveats in the documentation: https://pandas.pydata.org/pandas-docs/stable/user_guide/indexing.html#returning-a-view-versus-a-copy\n",
            "  df.loc[:, columns] = scaler.fit_transform(df[columns])\n"
          ]
        },
        {
          "output_type": "stream",
          "name": "stdout",
          "text": [
            "Processed and saved: /content/drive/MyDrive/Data/StandardData/ProcessedStandardizedData_Subject79.csv\n",
            "Head of the processed file ProcessedStandardizedData_Subject79.csv:\n",
            "   Time [s]  Pressure [cmH2O]  Flow [L/s]  V_tidal [L]\n",
            "0      0.00         -1.679168    0.492699    -1.475064\n",
            "1      0.01         -1.659488    0.422948    -1.472400\n",
            "2      0.02         -1.679168    0.492699    -1.469736\n",
            "3      0.03         -1.671296    0.422948    -1.467071\n",
            "4      0.04         -1.694912    0.422948    -1.464541\n",
            "\n",
            "\n"
          ]
        }
      ],
      "source": [
        "import os\n",
        "import glob\n",
        "import pandas as pd\n",
        "import numpy as np\n",
        "from scipy import stats\n",
        "from sklearn.preprocessing import StandardScaler\n",
        "\n",
        "def remove_outliers(df, columns):\n",
        "    z_scores = np.abs(stats.zscore(df[columns]))\n",
        "    filtered_entries = (z_scores < 4).all(axis=1)  # Relaxing the threshold to 4\n",
        "    return df[filtered_entries]\n",
        "\n",
        "def standardize(df, columns):\n",
        "    scaler = StandardScaler()\n",
        "    df.loc[:, columns] = scaler.fit_transform(df[columns])\n",
        "    return df\n",
        "\n",
        "# Original file pattern\n",
        "file_pattern = '/content/drive/MyDrive/Data/ProcessedData_Subject*.csv'\n",
        "\n",
        "# List of files that match the pattern\n",
        "files = glob.glob(file_pattern)\n",
        "\n",
        "# New directory where the processed files will be saved\n",
        "new_directory = r\"/content/drive/MyDrive/Data/StandardData\"\n",
        "\n",
        "# Ensure the new directory exists\n",
        "if not os.path.exists(new_directory):\n",
        "    os.makedirs(new_directory)\n",
        "\n",
        "# Explicitly define columns to process\n",
        "columns_to_process = ['Time [s]', 'Pressure [cmH2O]', 'Flow [L/s]', 'V_tidal [L]']\n",
        "\n",
        "for filepath in files:\n",
        "    # Read the CSV file, including only the specified columns\n",
        "    df = pd.read_csv(filepath, usecols=columns_to_process)\n",
        "\n",
        "    # Fill missing values with forward fill\n",
        "    df.ffill(inplace=True)\n",
        "\n",
        "    # Remove 'Time [s]' from the list for processing steps like outlier removal and standardization\n",
        "    process_columns = [col for col in columns_to_process if col != 'Time [s]']\n",
        "\n",
        "    df_clean = remove_outliers(df, process_columns)\n",
        "\n",
        "    # Check if df_clean is empty\n",
        "    if not df_clean.empty:\n",
        "        df_standardized = standardize(df_clean, process_columns)\n",
        "\n",
        "        # Define the new filename based on the original filename\n",
        "        original_filename = os.path.basename(filepath)\n",
        "        new_filename = original_filename.replace('ProcessedData_', 'ProcessedStandardizedData_')\n",
        "\n",
        "        # Construct the new file path\n",
        "        new_filepath = os.path.join(new_directory, new_filename)\n",
        "\n",
        "        # Save the processed file to the new directory\n",
        "        df_standardized.to_csv(new_filepath, index=False)\n",
        "\n",
        "        # Read the newly saved file and print its head\n",
        "        print(f'Processed and saved: {new_filepath}')\n",
        "        df_new = pd.read_csv(new_filepath)\n",
        "        print(f'Head of the processed file {new_filename}:')\n",
        "        print(df_new.head())  # Print the first 5 rows by default\n",
        "        print(\"\\n\")  # Add a new line for better readability between files\n",
        "    else:\n",
        "        print(f'No data left after outlier removal in file: {filepath}. Skipping standardization and saving.')\n"
      ]
    },
    {
      "cell_type": "code",
      "source": [
        "import os\n",
        "import glob\n",
        "import pandas as pd\n",
        "\n",
        "# Original file pattern (modify this path to match your actual file locations)\n",
        "file_pattern = '/content/drive/MyDrive/Data/ProcessedData_Subject*.csv'\n",
        "\n",
        "# List of files that match the pattern\n",
        "files = glob.glob(file_pattern)\n",
        "\n",
        "for filepath in files:\n",
        "    # Read the CSV file into a DataFrame\n",
        "    df = pd.read_csv(filepath)\n",
        "\n",
        "    # Print the head of the DataFrame to confirm it's been read correctly\n",
        "    print(f'File read: {filepath}')\n",
        "    print(df.head())\n",
        "    print(\"\\n\" + \"-\"*50 + \"\\n\")  # Print a separator for readability\n"
      ],
      "metadata": {
        "colab": {
          "base_uri": "https://localhost:8080/"
        },
        "id": "ep3pAQTRQXRs",
        "outputId": "cf7ec940-cc84-403c-bac0-608afd19d868"
      },
      "execution_count": 5,
      "outputs": [
        {
          "output_type": "stream",
          "name": "stdout",
          "text": [
            "File read: /content/drive/MyDrive/Data/ProcessedData_Subject01.csv\n",
            "       Time [s]  Pressure [cmH2O]  Flow [L/s]  V_tidal [L]  Chest [mm]  \\\n",
            "0 -1.000000e-02         -3.400773    0.713827     0.299421  830.612330   \n",
            "1  2.275957e-15         -3.400773    0.713827     0.306559  830.644927   \n",
            "2  1.000000e-02         -3.282765    0.659553     0.313426  830.710121   \n",
            "3  2.000000e-02         -3.400773    0.739471     0.320421  830.742718   \n",
            "4  3.000000e-02         -3.325677    0.739471     0.327816  830.775315   \n",
            "\n",
            "     Abd [mm]  Inspiratory Indicies  Time (Aeration Data)_[s]  \\\n",
            "0  735.557369                   407                      0.02   \n",
            "1  735.557369                   929                      0.04   \n",
            "2  735.557369                  1355                      0.06   \n",
            "3  735.557369                  1767                      0.08   \n",
            "4  735.655851                  2150                      0.10   \n",
            "\n",
            "   Global Aeration  Inspiratory Indicies (Aeration Data)  \n",
            "0      3876.637580                                   203  \n",
            "1      3965.719724                                   464  \n",
            "2      4075.263814                                   677  \n",
            "3      4176.425315                                   883  \n",
            "4      4277.385426                                  1075  \n",
            "\n",
            "--------------------------------------------------\n",
            "\n",
            "File read: /content/drive/MyDrive/Data/ProcessedData_Subject04.csv\n",
            "       Time [s]  Pressure [cmH2O]  Flow [L/s]  V_tidal [L]   Chest [mm]  \\\n",
            "0 -1.000000e-02          1.823758   -0.510568    -0.248067  1034.860261   \n",
            "1 -8.326673e-16          1.845214   -0.416796    -0.252704  1034.828124   \n",
            "2  1.000000e-02          1.823758   -0.459334    -0.257084  1034.828124   \n",
            "3  2.000000e-02          1.791574   -0.369391    -0.261228  1034.699576   \n",
            "4  3.000000e-02          1.770118   -0.485627    -0.265503  1034.538892   \n",
            "\n",
            "     Abd [mm]  Inspiratory Indicies  Time (Aeration Data)_[s]  \\\n",
            "0  908.856548                    63                      0.02   \n",
            "1  908.856548                   540                      0.04   \n",
            "2  908.856548                  1130                      0.06   \n",
            "3  908.759447                  1695                      0.08   \n",
            "4  908.597612                  2235                      0.10   \n",
            "\n",
            "   Global Aeration  Inspiratory Indicies (Aeration Data)  \n",
            "0      5109.781175                                    31  \n",
            "1      5047.462647                                   270  \n",
            "2      4975.127715                                   565  \n",
            "3      4917.795526                                   847  \n",
            "4      4853.413981                                  1117  \n",
            "\n",
            "--------------------------------------------------\n",
            "\n",
            "File read: /content/drive/MyDrive/Data/ProcessedData_Subject02.csv\n",
            "       Time [s]  Pressure [cmH2O]  Flow [L/s]  V_tidal [L]   Chest [mm]  \\\n",
            "0 -1.000000e-02          2.703454   -0.610317     0.117958  1048.261347   \n",
            "1 -3.635980e-14          2.757094   -0.610317     0.111855  1048.261347   \n",
            "2  1.000000e-02          2.832189   -0.668600     0.105461  1048.261347   \n",
            "3  2.000000e-02          2.918013   -0.610317     0.099066  1048.261347   \n",
            "4  3.000000e-02          2.993109   -0.686929     0.092580  1048.261347   \n",
            "\n",
            "      Abd [mm]  Inspiratory Indicies  Time (Aeration Data)_[s]  \\\n",
            "0  1031.678708                   209                      0.02   \n",
            "1  1031.678708                   600                      0.04   \n",
            "2  1031.678708                  1124                      0.06   \n",
            "3  1031.678708                  1705                      0.08   \n",
            "4  1031.678708                  2126                      0.10   \n",
            "\n",
            "   Global Aeration  Inspiratory Indicies (Aeration Data)  \n",
            "0      6814.612475                                   104  \n",
            "1      6766.346441                                   300  \n",
            "2      6705.656658                                   562  \n",
            "3      6632.725560                                   852  \n",
            "4      6549.686596                                  1063  \n",
            "\n",
            "--------------------------------------------------\n",
            "\n",
            "File read: /content/drive/MyDrive/Data/ProcessedData_Subject06.csv\n",
            "       Time [s]  Pressure [cmH2O]  Flow [L/s]  V_tidal [L]  Chest [mm]  \\\n",
            "0 -1.000000e-02          0.686591   -0.314929    -0.039403  975.759126   \n",
            "1 -3.519407e-14          0.686591   -0.192523    -0.041940  975.759126   \n",
            "2  1.000000e-02          0.708047   -0.156978    -0.043687  975.759126   \n",
            "3  2.000000e-02          0.708047   -0.192523    -0.045435  975.759126   \n",
            "4  3.000000e-02          0.686591   -0.192523    -0.047360  975.759126   \n",
            "\n",
            "     Abd [mm]  Inspiratory Indicies  Time (Aeration Data)_[s]  \\\n",
            "0  863.861363                    96                      0.02   \n",
            "1  863.828766                   584                      0.04   \n",
            "2  863.828766                   988                      0.06   \n",
            "3  863.796169                  1448                      0.08   \n",
            "4  863.763572                  1872                      0.10   \n",
            "\n",
            "   Global Aeration  Inspiratory Indicies (Aeration Data)  \n",
            "0     10261.235935                                    48  \n",
            "1     10133.879344                                   292  \n",
            "2     10094.370233                                   494  \n",
            "3      9995.009820                                   724  \n",
            "4      9964.667400                                   936  \n",
            "\n",
            "--------------------------------------------------\n",
            "\n",
            "File read: /content/drive/MyDrive/Data/ProcessedData_Subject08.csv\n",
            "       Time [s]  Pressure [cmH2O]  Flow [L/s]  V_tidal [L]   Chest [mm]  \\\n",
            "0 -1.000000e-02         -3.003837    0.739471     0.434019  1059.348577   \n",
            "1 -1.365574e-14         -3.003837    0.687226     0.441152  1059.380714   \n",
            "2  1.000000e-02         -3.068205    0.687226     0.448025  1059.380714   \n",
            "3  2.000000e-02         -3.003837    0.713827     0.455030  1059.380714   \n",
            "4  3.000000e-02         -2.982381    0.687226     0.462035  1059.380714   \n",
            "\n",
            "      Abd [mm]  Inspiratory Indicies  Time (Aeration Data)_[s]  \\\n",
            "0  1119.091069                   545                      0.02   \n",
            "1  1119.091069                  1190                      0.04   \n",
            "2  1119.123206                  1851                      0.06   \n",
            "3  1119.123206                  2515                      0.08   \n",
            "4  1119.123206                  3160                      0.10   \n",
            "\n",
            "   Global Aeration  Inspiratory Indicies (Aeration Data)  \n",
            "0      3637.117581                                   272  \n",
            "1      3652.666825                                   595  \n",
            "2      3689.820454                                   925  \n",
            "3      3772.603347                                  1257  \n",
            "4      3709.474532                                  1580  \n",
            "\n",
            "--------------------------------------------------\n",
            "\n",
            "File read: /content/drive/MyDrive/Data/ProcessedData_Subject05.csv\n",
            "       Time [s]  Pressure [cmH2O]  Flow [L/s]  V_tidal [L]  Chest [mm]  \\\n",
            "0 -1.000000e-02         -0.386208    0.193579     0.003872  889.221901   \n",
            "1  2.728373e-14         -0.386208    0.112370     0.005401  889.221901   \n",
            "2  1.000000e-02         -0.354024    0.193579     0.006931  889.221901   \n",
            "3  2.000000e-02         -0.354024    0.112370     0.008461  889.221901   \n",
            "4  3.000000e-02         -0.354024    0.112370     0.009585  889.221901   \n",
            "\n",
            "     Abd [mm]  Inspiratory Indicies  Time (Aeration Data)_[s]  \\\n",
            "0  754.629966                   304                      0.02   \n",
            "1  754.629966                   671                      0.04   \n",
            "2  754.629966                  1116                      0.06   \n",
            "3  754.629966                  1506                      0.08   \n",
            "4  754.629966                  1937                      0.10   \n",
            "\n",
            "   Global Aeration  Inspiratory Indicies (Aeration Data)  \n",
            "0      5888.651982                                   152  \n",
            "1      5873.382278                                   335  \n",
            "2      5848.315656                                   558  \n",
            "3      5849.990309                                   753  \n",
            "4      5820.606486                                   968  \n",
            "\n",
            "--------------------------------------------------\n",
            "\n",
            "File read: /content/drive/MyDrive/Data/ProcessedData_Subject03.csv\n",
            "       Time [s]  Pressure [cmH2O]  Flow [L/s]  V_tidal [L]  Chest [mm]  \\\n",
            "0 -1.000000e-02         -1.619927    0.459778     0.660224  825.950946   \n",
            "1  4.662937e-15         -1.587743    0.459778     0.664822  826.048737   \n",
            "2  1.000000e-02         -1.501919    0.417285     0.669207  826.081334   \n",
            "3  2.000000e-02         -1.534103    0.417285     0.673380  826.113931   \n",
            "4  3.000000e-02         -1.480463    0.459778     0.677765  826.146528   \n",
            "\n",
            "     Abd [mm]  Inspiratory Indicies  Time (Aeration Data)_[s]  \\\n",
            "0  713.628807                   196                      0.02   \n",
            "1  713.628807                   568                      0.04   \n",
            "2  713.628807                   910                      0.06   \n",
            "3  713.628807                  1291                      0.08   \n",
            "4  713.661634                  1608                      0.10   \n",
            "\n",
            "   Global Aeration  Inspiratory Indicies (Aeration Data)  \n",
            "0      6902.727184                                    98  \n",
            "1      7025.347846                                   284  \n",
            "2      7157.869710                                   455  \n",
            "3      7256.047186                                   645  \n",
            "4      7384.669236                                   804  \n",
            "\n",
            "--------------------------------------------------\n",
            "\n",
            "File read: /content/drive/MyDrive/Data/ProcessedData_Subject07.csv\n",
            "   Time [s]  Pressure [cmH2O]  Flow [L/s]  V_tidal [L]  Chest [mm]  \\\n",
            "0     -0.01         -0.954791    0.431914     0.637655  984.724783   \n",
            "1      0.00         -0.954791    0.386368     0.641746  984.724783   \n",
            "2      0.01         -0.954791    0.431914     0.645838  984.724783   \n",
            "3      0.02         -0.954791    0.431914     0.650157  984.724783   \n",
            "4      0.03         -0.954791    0.386368     0.654248  984.724783   \n",
            "\n",
            "     Abd [mm]  Inspiratory Indicies  Time (Aeration Data)_[s]  \\\n",
            "0  926.464193                   430                      0.02   \n",
            "1  926.464193                   998                      0.04   \n",
            "2  926.464193                  1735                      0.06   \n",
            "3  926.464193                  2604                      0.08   \n",
            "4  926.464193                  3187                      0.10   \n",
            "\n",
            "   Global Aeration  Inspiratory Indicies (Aeration Data)  \n",
            "0      1720.496002                                   499  \n",
            "1      1808.342626                                   867  \n",
            "2      1913.453760                                  1302  \n",
            "3      2028.202661                                  1593  \n",
            "4      2150.864469                                  2105  \n",
            "\n",
            "--------------------------------------------------\n",
            "\n",
            "File read: /content/drive/MyDrive/Data/ProcessedData_Subject12.csv\n",
            "       Time [s]  Pressure [cmH2O]  Flow [L/s]  V_tidal [L]   Chest [mm]  \\\n",
            "0 -1.000000e-02         -2.724910    0.610651     0.455406  1143.965028   \n",
            "1 -2.731149e-14         -2.639086    0.640441     0.461662  1143.997165   \n",
            "2  1.000000e-02         -2.606902    0.610651     0.467917  1144.061439   \n",
            "3  2.000000e-02         -2.639086    0.610651     0.474024  1144.254260   \n",
            "4  3.000000e-02         -2.606902    0.640441     0.480279  1144.318534   \n",
            "\n",
            "     Abd [mm]  Inspiratory Indicies  Time (Aeration Data)_[s]  \\\n",
            "0  1028.48496                   750                      0.02   \n",
            "1  1028.48496                  2110                      0.04   \n",
            "2  1028.48496                  3412                      0.06   \n",
            "3  1028.48496                  4317                      0.08   \n",
            "4  1028.48496                  4657                      0.10   \n",
            "\n",
            "   Global Aeration  Inspiratory Indicies (Aeration Data)  \n",
            "0      8092.237382                                   375  \n",
            "1      8160.636677                                  1055  \n",
            "2      8263.706529                                  1706  \n",
            "3      8319.434448                                  2158  \n",
            "4      8401.119898                                  2328  \n",
            "\n",
            "--------------------------------------------------\n",
            "\n",
            "File read: /content/drive/MyDrive/Data/ProcessedData_Subject15.csv\n",
            "       Time [s]  Pressure [cmH2O]  Flow [L/s]  V_tidal [L]   Chest [mm]  \\\n",
            "0 -1.000000e-02          0.193104    0.112370     0.061716  1073.263853   \n",
            "1  8.637535e-14          0.214560    0.112370     0.062839  1073.263853   \n",
            "2  1.000000e-02          0.214560    0.014279     0.063473  1073.263853   \n",
            "3  2.000000e-02          0.214560    0.112370     0.064106  1073.263853   \n",
            "4  3.000000e-02          0.214560    0.193579     0.065636  1073.231717   \n",
            "\n",
            "      Abd [mm]  Inspiratory Indicies  Time (Aeration Data)_[s]  \\\n",
            "0  1048.325621                   704                      0.02   \n",
            "1  1048.325621                  1371                      0.04   \n",
            "2  1048.325621                  2238                      0.06   \n",
            "3  1048.325621                  3166                      0.08   \n",
            "4  1048.325621                  3939                      0.10   \n",
            "\n",
            "   Global Aeration  Inspiratory Indicies (Aeration Data)  \n",
            "0      3824.181206                                   352  \n",
            "1      3793.357316                                   685  \n",
            "2      3780.323622                                  1119  \n",
            "3      3724.276265                                  1583  \n",
            "4      3685.701638                                  1969  \n",
            "\n",
            "--------------------------------------------------\n",
            "\n",
            "File read: /content/drive/MyDrive/Data/ProcessedData_Subject10.csv\n",
            "       Time [s]  Pressure [cmH2O]  Flow [L/s]  V_tidal [L]   Chest [mm]  \\\n",
            "0 -1.000000e-02          0.472032   -0.156978    -0.273996  1036.820612   \n",
            "1 -4.551914e-15          0.439848    0.014279    -0.274710  1036.820612   \n",
            "2  1.000000e-02          0.439848   -0.156978    -0.275423  1036.788475   \n",
            "3  2.000000e-02          0.439848   -0.156978    -0.276993  1036.788475   \n",
            "4  3.000000e-02          0.472032    0.014279    -0.277707  1036.756338   \n",
            "\n",
            "     Abd [mm]  Inspiratory Indicies  Time (Aeration Data)_[s]  \\\n",
            "0  862.524883                    10                      0.02   \n",
            "1  862.524883                   822                      0.04   \n",
            "2  862.524883                  1564                      0.06   \n",
            "3  862.492285                  2306                      0.08   \n",
            "4  862.264106                  3006                      0.10   \n",
            "\n",
            "   Global Aeration  Inspiratory Indicies (Aeration Data)  \n",
            "0      7307.957662                                     5  \n",
            "1      7244.277764                                   411  \n",
            "2      7197.492561                                   782  \n",
            "3      7147.464388                                  1153  \n",
            "4      7100.240271                                  1503  \n",
            "\n",
            "--------------------------------------------------\n",
            "\n",
            "File read: /content/drive/MyDrive/Data/ProcessedData_Subject14.csv\n",
            "       Time [s]  Pressure [cmH2O]  Flow [L/s]  V_tidal [L]  Chest [mm]  \\\n",
            "0 -1.000000e-02         -2.810733    0.668905     0.748768  849.094881   \n",
            "1  3.641532e-14         -2.757094    0.713827     0.755681  849.127478   \n",
            "2  1.000000e-02         -2.692726    0.668905     0.762595  849.160075   \n",
            "3  2.000000e-02         -2.724910    0.668905     0.769284  849.192672   \n",
            "4  3.000000e-02         -2.671270    0.640441     0.775831  849.257866   \n",
            "\n",
            "     Abd [mm]  Inspiratory Indicies  Time (Aeration Data)_[s]  \\\n",
            "0  781.440806                   269                      0.02   \n",
            "1  781.440806                   670                      0.04   \n",
            "2  781.440806                  1057                      0.06   \n",
            "3  781.440806                  1481                      0.08   \n",
            "4  781.440806                  1873                      0.10   \n",
            "\n",
            "   Global Aeration  Inspiratory Indicies (Aeration Data)  \n",
            "0     2.274803e+06                                   134  \n",
            "1     2.276430e+06                                   335  \n",
            "2     2.278899e+06                                   528  \n",
            "3     2.281853e+06                                   740  \n",
            "4     2.286046e+06                                   936  \n",
            "\n",
            "--------------------------------------------------\n",
            "\n",
            "File read: /content/drive/MyDrive/Data/ProcessedData_Subject13.csv\n",
            "   Time [s]  Pressure [cmH2O]  Flow [L/s]  V_tidal [L]  Chest [mm]  \\\n",
            "0      0.00          6.876642   -0.401616     0.000000  937.404237   \n",
            "1      0.01          7.080474   -0.557110    -0.004794  937.404237   \n",
            "2      0.02          7.273577   -0.686929    -0.011014  937.404237   \n",
            "3      0.03          7.370129   -0.610317    -0.017500  937.404237   \n",
            "4      0.04          7.584689   -0.739195    -0.024248  937.404237   \n",
            "\n",
            "     Abd [mm]  Inspiratory Indicies  Time (Aeration Data)_[s]  \\\n",
            "0  893.915882                   302                      0.00   \n",
            "1  893.850688                  1017                      0.02   \n",
            "2  893.785494                  2032                      0.04   \n",
            "3  893.720299                  3140                      0.06   \n",
            "4  893.655105                  4000                      0.08   \n",
            "\n",
            "   Global Aeration  Inspiratory Indicies (Aeration Data)  \n",
            "0     28119.791445                                   375  \n",
            "1     28218.821904                                  1055  \n",
            "2     28294.406252                                  1706  \n",
            "3     28359.354962                                  2158  \n",
            "4     28448.432444                                  2328  \n",
            "\n",
            "--------------------------------------------------\n",
            "\n",
            "File read: /content/drive/MyDrive/Data/ProcessedData_Subject11.csv\n",
            "       Time [s]  Pressure [cmH2O]  Flow [L/s]  V_tidal [L]  Chest [mm]  \\\n",
            "0 -1.000000e-02         -3.636789    0.803867     1.214245  957.083370   \n",
            "1 -4.440892e-16         -3.829893    0.803867     1.222283  957.148104   \n",
            "2  1.000000e-02         -3.797709    0.848964     1.230547  957.212838   \n",
            "3  2.000000e-02         -3.883533    0.826723     1.238926  957.277572   \n",
            "4  3.000000e-02         -3.829893    0.848964     1.247304  957.342306   \n",
            "\n",
            "     Abd [mm]  Inspiratory Indicies  Time (Aeration Data)_[s]  \\\n",
            "0  841.890923                   594                      0.02   \n",
            "1  841.890923                  1602                      0.04   \n",
            "2  841.890923                  2316                      0.06   \n",
            "3  841.988715                  3246                      0.08   \n",
            "4  842.119103                  4110                      0.10   \n",
            "\n",
            "   Global Aeration  Inspiratory Indicies (Aeration Data)  \n",
            "0     12092.493017                                   297  \n",
            "1     12166.893325                                   801  \n",
            "2     12240.536030                                  1158  \n",
            "3     12346.645045                                  1623  \n",
            "4     12519.399187                                  2055  \n",
            "\n",
            "--------------------------------------------------\n",
            "\n",
            "File read: /content/drive/MyDrive/Data/ProcessedData_Subject09.csv\n",
            "       Time [s]  Pressure [cmH2O]  Flow [L/s]  V_tidal [L]  Chest [mm]  \\\n",
            "0 -1.000000e-02          1.544831    0.014279    -0.003995  966.534532   \n",
            "1 -3.182177e-14          1.544831   -0.156978    -0.004709  966.502165   \n",
            "2  1.000000e-02          1.523375    0.014279    -0.005422  966.502165   \n",
            "3  2.000000e-02          1.523375   -0.156978    -0.006136  966.502165   \n",
            "4  3.000000e-02          1.523375    0.014279    -0.006849  966.469798   \n",
            "\n",
            "     Abd [mm]  Inspiratory Indicies  Time (Aeration Data)_[s]  \\\n",
            "0  914.682607                    51                      0.02   \n",
            "1  914.682607                   368                      0.04   \n",
            "2  914.682607                   709                      0.06   \n",
            "3  914.682607                  1002                      0.08   \n",
            "4  914.682607                  1344                      0.10   \n",
            "\n",
            "   Global Aeration  Inspiratory Indicies (Aeration Data)  \n",
            "0      4357.360232                                    25  \n",
            "1      4322.189232                                   184  \n",
            "2      4282.047482                                   354  \n",
            "3      4246.650903                                   501  \n",
            "4      4219.089672                                   672  \n",
            "\n",
            "--------------------------------------------------\n",
            "\n",
            "File read: /content/drive/MyDrive/Data/ProcessedData_Subject19.csv\n",
            "   Time [s]  Pressure [cmH2O]  Flow [L/s]  V_tidal [L]  Chest [mm]  \\\n",
            "0      0.00         -1.448279    0.417285     0.000000   1012.6575   \n",
            "1      0.01         -1.426823    0.386368     0.004018   1012.6575   \n",
            "2      0.02         -1.340999    0.386368     0.007882   1012.6575   \n",
            "3      0.03         -1.287359    0.386368     0.011746   1012.6575   \n",
            "4      0.04         -1.201535    0.386368     0.015609   1012.6575   \n",
            "\n",
            "     Abd [mm]  Inspiratory Indicies  Time (Aeration Data)_[s]  \\\n",
            "0  830.905704                   295                      0.00   \n",
            "1  830.938301                   965                      0.02   \n",
            "2  830.970898                  2013                      0.04   \n",
            "3  830.970898                  2645                      0.06   \n",
            "4  830.970898                  2779                      0.08   \n",
            "\n",
            "   Global Aeration  Inspiratory Indicies (Aeration Data)  \n",
            "0     12898.292786                                   229  \n",
            "1     12984.588016                                   511  \n",
            "2     13079.489742                                   820  \n",
            "3     13213.103504                                  1100  \n",
            "4     13268.654926                                  1506  \n",
            "\n",
            "--------------------------------------------------\n",
            "\n",
            "File read: /content/drive/MyDrive/Data/ProcessedData_Subject20.csv\n",
            "       Time [s]  Pressure [cmH2O]  Flow [L/s]  V_tidal [L]  Chest [mm]  \\\n",
            "0 -1.000000e-02          1.405367   -0.369391    -0.209998  840.228472   \n",
            "1  1.665335e-15          1.437551   -0.401616    -0.213853  840.228472   \n",
            "2  1.000000e-02          1.405367   -0.314929    -0.217435  840.195875   \n",
            "3  2.000000e-02          1.437551   -0.401616    -0.221018  840.163278   \n",
            "4  3.000000e-02          2.038318    0.014279    -0.222955  840.130681   \n",
            "\n",
            "     Abd [mm]  Inspiratory Indicies  Time (Aeration Data)_[s]  \\\n",
            "0  779.793464                    81                      0.02   \n",
            "1  779.695672                   556                      0.04   \n",
            "2  779.630478                  1039                      0.06   \n",
            "3  779.630478                  1521                      0.08   \n",
            "4  779.630478                  1976                      0.10   \n",
            "\n",
            "   Global Aeration  Inspiratory Indicies (Aeration Data)  \n",
            "0      4669.703324                                    40  \n",
            "1      4473.782146                                   278  \n",
            "2      4307.433024                                   519  \n",
            "3      4167.105777                                   760  \n",
            "4      4040.826221                                   988  \n",
            "\n",
            "--------------------------------------------------\n",
            "\n",
            "File read: /content/drive/MyDrive/Data/ProcessedData_Subject21.csv\n",
            "       Time [s]  Pressure [cmH2O]  Flow [L/s]  V_tidal [L]   Chest [mm]  \\\n",
            "0 -1.000000e-02          0.986975   -0.248820     0.750766  1017.318347   \n",
            "1  3.552714e-15          0.986975   -0.248820     0.748277  1017.318347   \n",
            "2  1.000000e-02          0.986975    0.014279     0.747105  1017.318347   \n",
            "3  2.000000e-02          0.986975   -0.192523     0.746213  1017.318347   \n",
            "4  3.000000e-02          0.986975   -0.248820     0.744007  1017.318347   \n",
            "\n",
            "      Abd [mm]  Inspiratory Indicies  Time (Aeration Data)_[s]  \\\n",
            "0  1060.698327                   232                      0.02   \n",
            "1  1060.698327                   611                      0.04   \n",
            "2  1060.698327                   929                      0.06   \n",
            "3  1060.698327                  1506                      0.08   \n",
            "4  1060.698327                  2019                      0.10   \n",
            "\n",
            "   Global Aeration  Inspiratory Indicies (Aeration Data)  \n",
            "0      7281.272764                                   116  \n",
            "1      7139.270451                                   305  \n",
            "2      7121.001787                                   464  \n",
            "3      6976.414367                                   753  \n",
            "4      6946.114104                                  1009  \n",
            "\n",
            "--------------------------------------------------\n",
            "\n",
            "File read: /content/drive/MyDrive/Data/ProcessedData_Subject18.csv\n",
            "       Time [s]  Pressure [cmH2O]  Flow [L/s]  V_tidal [L]  Chest [mm]  \\\n",
            "0 -1.000000e-02         -1.673567    0.473095     0.205328  841.564953   \n",
            "1 -2.731149e-14         -1.727206    0.417285     0.209779  841.597550   \n",
            "2  1.000000e-02         -1.673567    0.459778     0.214165  841.630147   \n",
            "3  2.000000e-02         -1.673567    0.417285     0.218550  841.662744   \n",
            "4  3.000000e-02         -1.641383    0.417285     0.222723  841.662744   \n",
            "\n",
            "     Abd [mm]  Inspiratory Indicies  Time (Aeration Data)_[s]  \\\n",
            "0  777.412035                   459                      0.02   \n",
            "1  777.412035                  1022                      0.04   \n",
            "2  777.412035                  1641                      0.06   \n",
            "3  777.412035                  2200                      0.08   \n",
            "4  777.412035                  3013                      0.10   \n",
            "\n",
            "   Global Aeration  Inspiratory Indicies (Aeration Data)  \n",
            "0      5963.457039                                   229  \n",
            "1      6064.347280                                   511  \n",
            "2      6160.933870                                   820  \n",
            "3      6256.575324                                  1100  \n",
            "4      6355.749250                                  1506  \n",
            "\n",
            "--------------------------------------------------\n",
            "\n",
            "File read: /content/drive/MyDrive/Data/ProcessedData_Subject22.csv\n",
            "       Time [s]  Pressure [cmH2O]  Flow [L/s]  V_tidal [L]  Chest [mm]  \\\n",
            "0 -1.000000e-02         -0.439848    0.273390     0.838670  844.270511   \n",
            "1  3.996803e-15         -0.354024    0.193579     0.841005  844.270511   \n",
            "2  1.000000e-02         -0.225288    0.193579     0.842941  844.270511   \n",
            "3  2.000000e-02         -0.171648    0.112370     0.844471  844.303108   \n",
            "4  3.000000e-02         -0.107280    0.223374     0.846149  844.303108   \n",
            "\n",
            "     Abd [mm]  Inspiratory Indicies  Time (Aeration Data)_[s]  \\\n",
            "0  761.458021                   170                      0.02   \n",
            "1  761.458021                   469                      0.04   \n",
            "2  761.458021                   758                      0.06   \n",
            "3  761.458021                  1082                      0.08   \n",
            "4  761.458021                  1387                      0.10   \n",
            "\n",
            "   Global Aeration  Inspiratory Indicies (Aeration Data)  \n",
            "0     12818.285009                                    85  \n",
            "1     12636.592141                                   234  \n",
            "2     12343.840474                                   379  \n",
            "3     12056.538375                                   541  \n",
            "4     11836.225825                                   693  \n",
            "\n",
            "--------------------------------------------------\n",
            "\n",
            "File read: /content/drive/MyDrive/Data/ProcessedData_Subject16.csv\n",
            "       Time [s]  Pressure [cmH2O]  Flow [L/s]  V_tidal [L]  Chest [mm]  \\\n",
            "0 -1.000000e-02         -2.327974    0.579332     0.383500  909.406787   \n",
            "1  3.186340e-14         -2.274334    0.579332     0.389294  909.406787   \n",
            "2  1.000000e-02         -2.242150    0.579332     0.395087  909.406787   \n",
            "3  2.000000e-02         -2.209966    0.546221     0.400715  909.406787   \n",
            "4  3.000000e-02         -2.188510    0.522983     0.406061  909.406787   \n",
            "\n",
            "     Abd [mm]  Inspiratory Indicies  Time (Aeration Data)_[s]  \\\n",
            "0  779.283185                   315                      0.02   \n",
            "1  779.316012                   716                      0.04   \n",
            "2  779.316012                  1175                      0.06   \n",
            "3  779.316012                  1576                      0.08   \n",
            "4  779.348839                  1992                      0.10   \n",
            "\n",
            "   Global Aeration  Inspiratory Indicies (Aeration Data)  \n",
            "0     2.917259e+06                                   157  \n",
            "1     2.920736e+06                                   358  \n",
            "2     2.925605e+06                                   587  \n",
            "3     2.930540e+06                                   788  \n",
            "4     2.935561e+06                                   996  \n",
            "\n",
            "--------------------------------------------------\n",
            "\n",
            "File read: /content/drive/MyDrive/Data/ProcessedData_Subject17.csv\n",
            "       Time [s]  Pressure [cmH2O]  Flow [L/s]  V_tidal [L]  Chest [mm]  \\\n",
            "0 -1.000000e-02          0.815327   -0.314929    -0.099058  980.873111   \n",
            "1  5.662137e-15          0.793871   -0.248820    -0.101876  980.873111   \n",
            "2  1.000000e-02          0.815327   -0.314929    -0.104695  980.873111   \n",
            "3  2.000000e-02          0.793871   -0.314929    -0.107844  980.873111   \n",
            "4  3.000000e-02          0.793871   -0.314929    -0.110994  980.873111   \n",
            "\n",
            "     Abd [mm]  Inspiratory Indicies  Time (Aeration Data)_[s]  \\\n",
            "0  893.329134                    35                      0.02   \n",
            "1  893.329134                   575                      0.04   \n",
            "2  893.329134                  1140                      0.06   \n",
            "3  893.329134                  1717                      0.08   \n",
            "4  893.296537                  2207                      0.10   \n",
            "\n",
            "   Global Aeration  Inspiratory Indicies (Aeration Data)  \n",
            "0      2668.654798                                    17  \n",
            "1      2610.433758                                   287  \n",
            "2      2589.994861                                   570  \n",
            "3      2547.545281                                   858  \n",
            "4      2469.634219                                  1103  \n",
            "\n",
            "--------------------------------------------------\n",
            "\n",
            "File read: /content/drive/MyDrive/Data/ProcessedData_Subject24.csv\n",
            "       Time [s]  Pressure [cmH2O]  Flow [L/s]  V_tidal [L]  Chest [mm]  \\\n",
            "0 -1.000000e-02          0.740231    0.014279    -0.102334  949.185823   \n",
            "1 -4.551914e-14          0.761687    0.014279    -0.102191  949.185823   \n",
            "2  1.000000e-02          0.761687    0.014279    -0.102049  949.185823   \n",
            "3  2.000000e-02          0.761687    0.014279    -0.101906  949.153456   \n",
            "4  3.000000e-02          0.761687   -0.248820    -0.103079  949.153456   \n",
            "\n",
            "     Abd [mm]  Inspiratory Indicies  Time (Aeration Data)_[s]  \\\n",
            "0  837.522913                   146                      0.02   \n",
            "1  837.522913                   941                      0.04   \n",
            "2  837.490316                  1790                      0.06   \n",
            "3  837.490316                  2839                      0.08   \n",
            "4  837.490316                  3925                      0.10   \n",
            "\n",
            "   Global Aeration  Inspiratory Indicies (Aeration Data)  \n",
            "0     10326.967498                                    73  \n",
            "1     10270.866623                                   470  \n",
            "2     10224.014906                                   895  \n",
            "3     10173.297790                                  1419  \n",
            "4     10086.776298                                  1962  \n",
            "\n",
            "--------------------------------------------------\n",
            "\n",
            "File read: /content/drive/MyDrive/Data/ProcessedData_Subject28.csv\n",
            "       Time [s]  Pressure [cmH2O]  Flow [L/s]  V_tidal [L]   Chest [mm]  \\\n",
            "0 -1.000000e-02          0.214560    0.193579     0.064202  1024.600921   \n",
            "1  4.440892e-16          0.214560    0.112370     0.065732  1024.600921   \n",
            "2  1.000000e-02          0.214560    0.112370     0.066855  1024.600921   \n",
            "3  2.000000e-02          0.193104    0.112370     0.067979  1024.600921   \n",
            "4  3.000000e-02          0.193104    0.193579     0.069509  1024.600921   \n",
            "\n",
            "     Abd [mm]  Inspiratory Indicies  Time (Aeration Data)_[s]  \\\n",
            "0  979.740266                   828                      0.02   \n",
            "1  979.740266                  1318                      0.04   \n",
            "2  979.740266                  2583                      0.06   \n",
            "3  979.707899                  3254                      0.08   \n",
            "4  979.643165                  3612                      0.10   \n",
            "\n",
            "   Global Aeration  Inspiratory Indicies (Aeration Data)  \n",
            "0      3359.447036                                   414  \n",
            "1      3294.478819                                   659  \n",
            "2      3226.862329                                  1291  \n",
            "3      3162.389022                                  1627  \n",
            "4      3094.095372                                  1806  \n",
            "\n",
            "--------------------------------------------------\n",
            "\n",
            "File read: /content/drive/MyDrive/Data/ProcessedData_Subject26.csv\n",
            "       Time [s]  Pressure [cmH2O]  Flow [L/s]  V_tidal [L]  Chest [mm]  \\\n",
            "0 -1.000000e-02          0.933335   -0.352174    -0.094003  964.527779   \n",
            "1  2.953193e-14          0.933335   -0.352174    -0.097525  964.527779   \n",
            "2  1.000000e-02          0.954791   -0.314929    -0.100860  964.527779   \n",
            "3  2.000000e-02          0.954791   -0.352174    -0.104196  964.527779   \n",
            "4  3.000000e-02          0.986975   -0.314929    -0.107531  964.527779   \n",
            "\n",
            "     Abd [mm]  Inspiratory Indicies  Time (Aeration Data)_[s]  \\\n",
            "0  884.984279                   387                      0.02   \n",
            "1  884.984279                  1419                      0.04   \n",
            "2  884.984279                  2129                      0.06   \n",
            "3  884.984279                  2330                      0.08   \n",
            "4  884.984279                  3300                      0.10   \n",
            "\n",
            "   Global Aeration  Inspiratory Indicies (Aeration Data)  \n",
            "0     10255.223283                                   193  \n",
            "1     10251.458815                                   709  \n",
            "2     10194.513488                                  1064  \n",
            "3     10205.859893                                  1165  \n",
            "4     10191.679973                                  1650  \n",
            "\n",
            "--------------------------------------------------\n",
            "\n",
            "File read: /content/drive/MyDrive/Data/ProcessedData_Subject25.csv\n",
            "       Time [s]  Pressure [cmH2O]  Flow [L/s]  V_tidal [L]  Chest [mm]  \\\n",
            "0 -1.000000e-02         -1.641383    0.459778     0.247914  867.610029   \n",
            "1 -3.186340e-14         -1.673567    0.459778     0.252512  867.610029   \n",
            "2  1.000000e-02         -1.695022    0.459778     0.257109  867.610029   \n",
            "3  2.000000e-02         -1.695022    0.546221     0.262139  867.610029   \n",
            "4  3.000000e-02         -1.727206    0.459778     0.267169  867.610029   \n",
            "\n",
            "     Abd [mm]  Inspiratory Indicies  Time (Aeration Data)_[s]  \\\n",
            "0  720.949270                   484                      0.02   \n",
            "1  720.982098                  1226                      0.04   \n",
            "2  720.982098                  1544                      0.06   \n",
            "3  721.014925                  1828                      0.08   \n",
            "4  721.014925                  2524                      0.10   \n",
            "\n",
            "   Global Aeration  Inspiratory Indicies (Aeration Data)  \n",
            "0     2.463255e+06                                   242  \n",
            "1     2.463693e+06                                   613  \n",
            "2     2.465905e+06                                   772  \n",
            "3     2.468162e+06                                   914  \n",
            "4     2.471098e+06                                  1262  \n",
            "\n",
            "--------------------------------------------------\n",
            "\n",
            "File read: /content/drive/MyDrive/Data/ProcessedData_Subject23.csv\n",
            "       Time [s]  Pressure [cmH2O]  Flow [L/s]  V_tidal [L]  Chest [mm]  \\\n",
            "0 -1.000000e-02         -2.606902    0.640441     0.255701  907.965228   \n",
            "1  4.091172e-14         -2.606902    0.640441     0.262105  907.965228   \n",
            "2  1.000000e-02         -2.606902    0.640441     0.268509  907.965228   \n",
            "3  2.000000e-02         -2.606902    0.668905     0.275056  907.965228   \n",
            "4  3.000000e-02         -2.606902    0.640441     0.281603  907.997826   \n",
            "\n",
            "     Abd [mm]  Inspiratory Indicies  Time (Aeration Data)_[s]  \\\n",
            "0  725.643558                   298                      0.02   \n",
            "1  725.643558                   778                      0.04   \n",
            "2  725.643558                  1287                      0.06   \n",
            "3  725.643558                  1740                      0.08   \n",
            "4  725.643558                  2216                      0.10   \n",
            "\n",
            "   Global Aeration  Inspiratory Indicies (Aeration Data)  \n",
            "0      2567.690125                                   149  \n",
            "1      2597.015894                                   389  \n",
            "2      2640.655927                                   643  \n",
            "3      2682.183268                                   870  \n",
            "4      2728.565592                                  1108  \n",
            "\n",
            "--------------------------------------------------\n",
            "\n",
            "File read: /content/drive/MyDrive/Data/ProcessedData_Subject29.csv\n",
            "       Time [s]  Pressure [cmH2O]  Flow [L/s]  V_tidal [L]  Chest [mm]  \\\n",
            "0 -1.000000e-02         -0.439848    0.273390     0.273757  841.434564   \n",
            "1 -2.220446e-15         -0.354024    0.273390     0.276491  841.434564   \n",
            "2  1.000000e-02         -0.289656    0.223374     0.278975  841.467161   \n",
            "3  2.000000e-02         -0.225288    0.223374     0.281208  841.467161   \n",
            "4  3.000000e-02         -0.225288    0.223374     0.283442  841.467161   \n",
            "\n",
            "     Abd [mm]  Inspiratory Indicies  Time (Aeration Data)_[s]  \\\n",
            "0  792.669315                   279                      0.02   \n",
            "1  792.669315                   780                      0.04   \n",
            "2  792.669315                  1266                      0.06   \n",
            "3  792.669315                  1895                      0.08   \n",
            "4  792.669315                  2459                      0.10   \n",
            "\n",
            "   Global Aeration  Inspiratory Indicies (Aeration Data)  \n",
            "0     17329.844824                                   139  \n",
            "1     17301.121934                                   390  \n",
            "2     17288.700946                                   633  \n",
            "3     17272.740651                                   947  \n",
            "4     17240.814288                                  1229  \n",
            "\n",
            "--------------------------------------------------\n",
            "\n",
            "File read: /content/drive/MyDrive/Data/ProcessedData_Subject27.csv\n",
            "   Time [s]  Pressure [cmH2O]  Flow [L/s]  V_tidal [L]  Chest [mm]  \\\n",
            "0      0.00          2.231422   -0.294546     0.000000  965.660624   \n",
            "1      0.01          1.909582   -0.352174    -0.003234  965.660624   \n",
            "2      0.02          1.598471   -0.369391    -0.006841  965.660624   \n",
            "3      0.03          1.459007   -0.369391    -0.010535  965.628257   \n",
            "4      0.04          1.405367   -0.369391    -0.014229  965.628257   \n",
            "\n",
            "     Abd [mm]  Inspiratory Indicies  Time (Aeration Data)_[s]  \\\n",
            "0  847.562817                   296                      0.00   \n",
            "1  847.562817                   913                      0.02   \n",
            "2  847.562817                  1262                      0.04   \n",
            "3  847.562817                  1646                      0.06   \n",
            "4  847.562817                  2265                      0.08   \n",
            "\n",
            "   Global Aeration  Inspiratory Indicies (Aeration Data)  \n",
            "0     10713.101268                                   193  \n",
            "1     10655.222211                                   709  \n",
            "2     10598.451466                                  1064  \n",
            "3     10541.844812                                  1165  \n",
            "4     10475.359925                                  1650  \n",
            "\n",
            "--------------------------------------------------\n",
            "\n",
            "File read: /content/drive/MyDrive/Data/ProcessedData_Subject34.csv\n",
            "   Time [s]  Pressure [cmH2O]  Flow [L/s]  V_tidal [L]  Chest [mm]  \\\n",
            "0      0.00          0.053640    0.112370     0.000000  811.380046   \n",
            "1      0.01         -0.053640    0.223374     0.001679  811.380046   \n",
            "2      0.02         -0.139464    0.223374     0.003912  811.380046   \n",
            "3      0.03         -0.193104    0.223374     0.006146  811.380046   \n",
            "4      0.04         -0.289656    0.223374     0.008380  811.380046   \n",
            "\n",
            "     Abd [mm]  Inspiratory Indicies  Time (Aeration Data)_[s]  \\\n",
            "0  681.687953                   312                      0.00   \n",
            "1  681.687953                   662                      0.02   \n",
            "2  681.687953                  1011                      0.04   \n",
            "3  681.687953                  1367                      0.06   \n",
            "4  681.687953                  1705                      0.08   \n",
            "\n",
            "   Global Aeration  Inspiratory Indicies (Aeration Data)  \n",
            "0       791.001867                                   107  \n",
            "1       745.240220                                   291  \n",
            "2       696.466650                                   503  \n",
            "3       602.053835                                   730  \n",
            "4       492.744518                                   937  \n",
            "\n",
            "--------------------------------------------------\n",
            "\n",
            "File read: /content/drive/MyDrive/Data/ProcessedData_Subject36.csv\n",
            "       Time [s]  Pressure [cmH2O]  Flow [L/s]  V_tidal [L]  Chest [mm]  \\\n",
            "0 -1.000000e-02          0.793871   -0.192523    -0.260213  958.151481   \n",
            "1  9.658940e-15          0.793871   -0.192523    -0.262138  958.151481   \n",
            "2  1.000000e-02          0.740231   -0.248820    -0.264345  958.119114   \n",
            "3  2.000000e-02          0.740231   -0.248820    -0.266833  958.119114   \n",
            "4  3.000000e-02          0.740231   -0.248820    -0.269321  958.119114   \n",
            "\n",
            "     Abd [mm]  Inspiratory Indicies  Time (Aeration Data)_[s]  \\\n",
            "0  947.373272                    49                      0.02   \n",
            "1  947.373272                   552                      0.04   \n",
            "2  947.373272                  1005                      0.06   \n",
            "3  947.373272                  1468                      0.08   \n",
            "4  947.373272                  2050                      0.10   \n",
            "\n",
            "   Global Aeration  Inspiratory Indicies (Aeration Data)  \n",
            "0      1584.563248                                    24  \n",
            "1      1745.640146                                   276  \n",
            "2      1719.670574                                   502  \n",
            "3      1599.442240                                   734  \n",
            "4      1669.330154                                  1025  \n",
            "\n",
            "--------------------------------------------------\n",
            "\n",
            "File read: /content/drive/MyDrive/Data/ProcessedData_Subject35.csv\n",
            "       Time [s]  Pressure [cmH2O]  Flow [L/s]  V_tidal [L]  Chest [mm]  \\\n",
            "0 -1.000000e-02          0.547128   -0.156978     0.497922  935.591686   \n",
            "1 -1.045830e-13          0.622223   -0.248820     0.495893  935.591686   \n",
            "2  1.000000e-02          0.686591   -0.248820     0.493405  935.591686   \n",
            "3  2.000000e-02          0.740231   -0.192523     0.491198  935.591686   \n",
            "4  3.000000e-02          0.815327   -0.248820     0.488991  935.591686   \n",
            "\n",
            "     Abd [mm]  Inspiratory Indicies  Time (Aeration Data)_[s]  \\\n",
            "0  952.131220                   210                      0.02   \n",
            "1  952.131220                   655                      0.04   \n",
            "2  952.098853                   926                      0.06   \n",
            "3  952.098853                  1239                      0.08   \n",
            "4  952.066486                  1570                      0.10   \n",
            "\n",
            "   Global Aeration  Inspiratory Indicies (Aeration Data)  \n",
            "0      6926.589651                                   105  \n",
            "1      7033.440465                                   327  \n",
            "2      7126.458510                                   463  \n",
            "3      7227.539612                                   619  \n",
            "4      7306.077034                                   785  \n",
            "\n",
            "--------------------------------------------------\n",
            "\n",
            "File read: /content/drive/MyDrive/Data/ProcessedData_Subject32.csv\n",
            "       Time [s]  Pressure [cmH2O]  Flow [L/s]  V_tidal [L]  Chest [mm]  \\\n",
            "0 -1.000000e-02          1.598471    0.193579    -0.071450  816.497789   \n",
            "1  1.249001e-14          1.684294    0.014279    -0.070411  816.497789   \n",
            "2  1.000000e-02          1.459007   -0.248820    -0.071583  816.497789   \n",
            "3  2.000000e-02          1.276631   -0.248820    -0.074071  816.465192   \n",
            "4  3.000000e-02          1.276631   -0.248820    -0.076560  816.465192   \n",
            "\n",
            "     Abd [mm]  Inspiratory Indicies  Time (Aeration Data)_[s]  \\\n",
            "0  681.294026                   174                      0.02   \n",
            "1  681.294026                   597                      0.04   \n",
            "2  681.261199                  1496                      0.06   \n",
            "3  681.261199                  1975                      0.08   \n",
            "4  681.261199                  2334                      0.10   \n",
            "\n",
            "   Global Aeration  Inspiratory Indicies (Aeration Data)  \n",
            "0      7732.843624                                    87  \n",
            "1      7663.188575                                   298  \n",
            "2      7614.784811                                   748  \n",
            "3      7551.467499                                   987  \n",
            "4      7479.869137                                  1167  \n",
            "\n",
            "--------------------------------------------------\n",
            "\n",
            "File read: /content/drive/MyDrive/Data/ProcessedData_Subject30.csv\n",
            "       Time [s]  Pressure [cmH2O]  Flow [L/s]  V_tidal [L]  Chest [mm]  \\\n",
            "0 -1.000000e-02         -1.255175    0.334681     0.319681  776.098948   \n",
            "1 -5.229150e-14         -1.255175    0.386368     0.323286  776.131775   \n",
            "2  1.000000e-02         -1.233719    0.459778     0.327517  776.164602   \n",
            "3  2.000000e-02         -1.233719    0.334681     0.331489  776.197429   \n",
            "4  3.000000e-02         -1.169351    0.431914     0.335322  776.230256   \n",
            "\n",
            "     Abd [mm]  Inspiratory Indicies  Time (Aeration Data)_[s]  \\\n",
            "0  653.456570                   196                      0.02   \n",
            "1  653.456570                   494                      0.04   \n",
            "2  653.522224                   816                      0.06   \n",
            "3  653.653533                  1144                      0.08   \n",
            "4  653.817669                  1477                      0.10   \n",
            "\n",
            "   Global Aeration  Inspiratory Indicies (Aeration Data)  \n",
            "0      6128.360698                                    98  \n",
            "1      6210.328072                                   247  \n",
            "2      6295.175327                                   408  \n",
            "3      6374.634525                                   572  \n",
            "4      6453.825480                                   738  \n",
            "\n",
            "--------------------------------------------------\n",
            "\n",
            "File read: /content/drive/MyDrive/Data/ProcessedData_Subject33.csv\n",
            "       Time [s]  Pressure [cmH2O]  Flow [L/s]  V_tidal [L]   Chest [mm]  \\\n",
            "0 -1.000000e-02         -1.426823    0.431914     0.234421  1030.843149   \n",
            "1 -1.110223e-15         -1.394639    0.431914     0.238740  1030.843149   \n",
            "2  1.000000e-02         -1.426823    0.459778     0.243199  1030.843149   \n",
            "3  2.000000e-02         -1.362455    0.431914     0.247657  1030.843149   \n",
            "4  3.000000e-02         -1.340999    0.431914     0.251976  1030.843149   \n",
            "\n",
            "      Abd [mm]  Inspiratory Indicies  Time (Aeration Data)_[s]  \\\n",
            "0  1127.414526                   214                      0.02   \n",
            "1  1127.414526                   582                      0.04   \n",
            "2  1127.414526                  1007                      0.06   \n",
            "3  1127.414526                  1461                      0.08   \n",
            "4  1127.414526                  1874                      0.10   \n",
            "\n",
            "   Global Aeration  Inspiratory Indicies (Aeration Data)  \n",
            "0       958.301483                                   107  \n",
            "1       981.267496                                   291  \n",
            "2      1030.978138                                   503  \n",
            "3      1093.406090                                   730  \n",
            "4      1132.029133                                   937  \n",
            "\n",
            "--------------------------------------------------\n",
            "\n",
            "File read: /content/drive/MyDrive/Data/ProcessedData_Subject31.csv\n",
            "       Time [s]  Pressure [cmH2O]  Flow [L/s]  V_tidal [L]  Chest [mm]  \\\n",
            "0 -1.000000e-02         -0.171648    0.112370     0.591854  836.414612   \n",
            "1 -3.330669e-15         -0.032184    0.014279     0.592487  836.414612   \n",
            "2  1.000000e-02          0.107280    0.193579     0.593526  836.414612   \n",
            "3  2.000000e-02          0.332568    0.112370     0.595056  836.414612   \n",
            "4  3.000000e-02          0.407664    0.112370     0.596180  836.414612   \n",
            "\n",
            "     Abd [mm]  Inspiratory Indicies  Time (Aeration Data)_[s]  \\\n",
            "0  782.564217                   168                      0.02   \n",
            "1  782.564217                   540                      0.04   \n",
            "2  782.564217                   871                      0.06   \n",
            "3  782.564217                  1185                      0.08   \n",
            "4  782.564217                  1475                      0.10   \n",
            "\n",
            "   Global Aeration  Inspiratory Indicies (Aeration Data)  \n",
            "0     10558.211374                                    84  \n",
            "1     10427.625724                                   270  \n",
            "2     10227.832858                                   435  \n",
            "3     10031.208089                                   592  \n",
            "4      9884.403527                                   737  \n",
            "\n",
            "--------------------------------------------------\n",
            "\n",
            "File read: /content/drive/MyDrive/Data/ProcessedData_Subject40.csv\n",
            "       Time [s]  Pressure [cmH2O]  Flow [L/s]  V_tidal [L]  Chest [mm]  \\\n",
            "0 -1.000000e-02         -1.362455    0.498663     0.375113  996.441635   \n",
            "1  2.275957e-14         -1.362455    0.431914     0.379766  996.474002   \n",
            "2  1.000000e-02         -1.287359    0.459778     0.384225  996.474002   \n",
            "3  2.000000e-02         -1.287359    0.431914     0.388683  996.474002   \n",
            "4  3.000000e-02         -1.255175    0.431914     0.393002  996.474002   \n",
            "\n",
            "     Abd [mm]  Inspiratory Indicies  Time (Aeration Data)_[s]  \\\n",
            "0  861.775149                   315                      0.02   \n",
            "1  861.775149                   930                      0.04   \n",
            "2  861.775149                  1474                      0.06   \n",
            "3  861.775149                  2196                      0.08   \n",
            "4  861.775149                  2982                      0.10   \n",
            "\n",
            "   Global Aeration  Inspiratory Indicies (Aeration Data)  \n",
            "0      5250.633131                                   157  \n",
            "1      5317.189908                                   465  \n",
            "2      5366.227902                                   737  \n",
            "3      5436.580175                                  1098  \n",
            "4      5519.613116                                  1491  \n",
            "\n",
            "--------------------------------------------------\n",
            "\n",
            "File read: /content/drive/MyDrive/Data/ProcessedData_Subject42.csv\n",
            "       Time [s]  Pressure [cmH2O]  Flow [L/s]  V_tidal [L]  Chest [mm]  \\\n",
            "0 -1.000000e-02          0.622223   -0.192523     0.177103  826.668082   \n",
            "1 -7.283063e-14          0.600767   -0.192523     0.175178  826.668082   \n",
            "2  1.000000e-02          0.600767   -0.192523     0.173253  826.668082   \n",
            "3  2.000000e-02          0.600767   -0.192523     0.171328  826.635485   \n",
            "4  3.000000e-02          0.600767   -0.192523     0.169402  826.635485   \n",
            "\n",
            "     Abd [mm]  Inspiratory Indicies  Time (Aeration Data)_[s]  \\\n",
            "0  690.912393                    52                      0.02   \n",
            "1  690.748257                   353                      0.04   \n",
            "2  690.616948                   732                      0.06   \n",
            "3  690.452812                  1113                      0.08   \n",
            "4  690.354330                  1494                      0.10   \n",
            "\n",
            "   Global Aeration  Inspiratory Indicies (Aeration Data)  \n",
            "0     2.644564e+06                                    26  \n",
            "1     2.643028e+06                                   176  \n",
            "2     2.638569e+06                                   366  \n",
            "3     2.636315e+06                                   556  \n",
            "4     2.631694e+06                                   747  \n",
            "\n",
            "--------------------------------------------------\n",
            "\n",
            "File read: /content/drive/MyDrive/Data/ProcessedData_Subject41.csv\n",
            "       Time [s]  Pressure [cmH2O]  Flow [L/s]  V_tidal [L]  Chest [mm]  \\\n",
            "0 -1.000000e-02          0.847511   -0.294546     0.005563  992.719431   \n",
            "1 -2.886580e-15          0.879695   -0.248820     0.002847  992.719431   \n",
            "2  1.000000e-02          0.901151   -0.192523     0.000640  992.719431   \n",
            "3  2.000000e-02          0.901151   -0.192523    -0.001285  992.687064   \n",
            "4  3.000000e-02          0.901151   -0.294546    -0.003721  992.687064   \n",
            "\n",
            "     Abd [mm]  Inspiratory Indicies  Time (Aeration Data)_[s]  \\\n",
            "0  932.743390                   216                      0.02   \n",
            "1  932.743390                   958                      0.04   \n",
            "2  932.581555                  1600                      0.06   \n",
            "3  932.419720                  2353                      0.08   \n",
            "4  932.290252                  3053                      0.10   \n",
            "\n",
            "   Global Aeration  Inspiratory Indicies (Aeration Data)  \n",
            "0     14474.110642                                   108  \n",
            "1     14299.023259                                   479  \n",
            "2     14144.523482                                   800  \n",
            "3     13953.012817                                  1176  \n",
            "4     13835.009612                                  1526  \n",
            "\n",
            "--------------------------------------------------\n",
            "\n",
            "File read: /content/drive/MyDrive/Data/ProcessedData_Subject38.csv\n",
            "       Time [s]  Pressure [cmH2O]  Flow [L/s]  V_tidal [L]  Chest [mm]  \\\n",
            "0 -1.000000e-02          0.815327   -0.192523    -0.246279  901.836975   \n",
            "1 -1.709743e-14          0.793871    0.014279    -0.247170  901.836975   \n",
            "2  1.000000e-02          0.793871    0.014279    -0.247028  901.836975   \n",
            "3  2.000000e-02          0.761687   -0.156978    -0.247741  901.836975   \n",
            "4  3.000000e-02          0.761687    0.014279    -0.248455  901.804378   \n",
            "\n",
            "     Abd [mm]  Inspiratory Indicies  Time (Aeration Data)_[s]  \\\n",
            "0  821.028785                    83                      0.02   \n",
            "1  821.028785                   605                      0.04   \n",
            "2  821.028785                  1214                      0.06   \n",
            "3  821.028785                  1687                      0.08   \n",
            "4  821.028785                  2234                      0.10   \n",
            "\n",
            "   Global Aeration  Inspiratory Indicies (Aeration Data)  \n",
            "0      5228.151225                                    41  \n",
            "1      5176.842654                                   302  \n",
            "2      5106.161361                                   607  \n",
            "3      5015.384913                                   843  \n",
            "4      4850.085646                                  1117  \n",
            "\n",
            "--------------------------------------------------\n",
            "\n",
            "File read: /content/drive/MyDrive/Data/ProcessedData_Subject37.csv\n",
            "       Time [s]  Pressure [cmH2O]  Flow [L/s]  V_tidal [L]  Chest [mm]  \\\n",
            "0 -1.000000e-02          2.370886    0.193579    -0.262548  949.930264   \n",
            "1 -4.551914e-15          2.563990   -0.294546    -0.263053  949.930264   \n",
            "2  1.000000e-02          2.370886   -0.314929    -0.266100  949.930264   \n",
            "3  2.000000e-02          1.770118   -0.314929    -0.269250  949.930264   \n",
            "4  3.000000e-02          1.630655   -0.416796    -0.272908  949.930264   \n",
            "\n",
            "     Abd [mm]  Inspiratory Indicies  Time (Aeration Data)_[s]  \\\n",
            "0  891.145129                    57                      0.02   \n",
            "1  891.145129                   452                      0.04   \n",
            "2  891.145129                   856                      0.06   \n",
            "3  891.145129                  1270                      0.08   \n",
            "4  891.145129                  1677                      0.10   \n",
            "\n",
            "   Global Aeration  Inspiratory Indicies (Aeration Data)  \n",
            "0      5005.083303                                    28  \n",
            "1      4892.652208                                   226  \n",
            "2      4744.738446                                   428  \n",
            "3      4660.047251                                   635  \n",
            "4      4510.546806                                   838  \n",
            "\n",
            "--------------------------------------------------\n",
            "\n",
            "File read: /content/drive/MyDrive/Data/ProcessedData_Subject39.csv\n",
            "       Time [s]  Pressure [cmH2O]  Flow [L/s]  V_tidal [L]  Chest [mm]  \\\n",
            "0 -1.000000e-02          1.716478   -0.459334    -0.332516  941.223543   \n",
            "1 -6.772360e-15          1.630655   -0.416796    -0.336897  941.223543   \n",
            "2  1.000000e-02          1.652111   -0.445606    -0.341209  941.223543   \n",
            "3  2.000000e-02          1.630655   -0.416796    -0.345521  941.223543   \n",
            "4  3.000000e-02          1.598471   -0.369391    -0.349452  941.223543   \n",
            "\n",
            "     Abd [mm]  Inspiratory Indicies  Time (Aeration Data)_[s]  \\\n",
            "0  842.575462                   118                      0.02   \n",
            "1  842.575462                   809                      0.04   \n",
            "2  842.542865                  1465                      0.06   \n",
            "3  842.510268                  2228                      0.08   \n",
            "4  842.510268                  3113                      0.10   \n",
            "\n",
            "   Global Aeration  Inspiratory Indicies (Aeration Data)  \n",
            "0     3.121724e+06                                    59  \n",
            "1     3.116654e+06                                   404  \n",
            "2     3.111064e+06                                   732  \n",
            "3     3.105556e+06                                  1114  \n",
            "4     3.099917e+06                                  1556  \n",
            "\n",
            "--------------------------------------------------\n",
            "\n",
            "File read: /content/drive/MyDrive/Data/ProcessedData_Subject47.csv\n",
            "   Time [s]  Pressure [cmH2O]  Flow [L/s]  V_tidal [L]   Chest [mm]  \\\n",
            "0      0.00         -1.695022    0.473095     0.000000  1019.066165   \n",
            "1      0.01         -1.748662    0.522983     0.004980  1019.066165   \n",
            "2      0.02         -1.748662    0.473095     0.009961  1019.066165   \n",
            "3      0.03         -1.791574    0.473095     0.014692  1019.066165   \n",
            "4      0.04         -1.791574    0.522983     0.019672  1019.066165   \n",
            "\n",
            "      Abd [mm]  Inspiratory Indicies  Time (Aeration Data)_[s]  \\\n",
            "0  1029.747273                   566                      0.00   \n",
            "1  1029.747273                  1108                      0.02   \n",
            "2  1029.747273                  1549                      0.04   \n",
            "3  1029.747273                  2098                      0.06   \n",
            "4  1029.747273                  2791                      0.08   \n",
            "\n",
            "   Global Aeration  Inspiratory Indicies (Aeration Data)  \n",
            "0       369.013369                                   446  \n",
            "1       377.973785                                   954  \n",
            "2       406.371267                                  1046  \n",
            "3       436.353700                                  1386  \n",
            "4       481.311695                                  1489  \n",
            "\n",
            "--------------------------------------------------\n",
            "\n",
            "File read: /content/drive/MyDrive/Data/ProcessedData_Subject50.csv\n",
            "       Time [s]  Pressure [cmH2O]  Flow [L/s]  V_tidal [L]  Chest [mm]  \\\n",
            "0 -1.000000e-02         -2.928741    0.640441     1.187187  993.755175   \n",
            "1  1.776357e-15         -2.810733    0.687226     1.193826  993.755175   \n",
            "2  1.000000e-02         -2.789278    0.659553     1.200560  993.787542   \n",
            "3  2.000000e-02         -2.757094    0.640441     1.207060  993.787542   \n",
            "4  3.000000e-02         -2.639086    0.668905     1.213606  993.787542   \n",
            "\n",
            "     Abd [mm]  Inspiratory Indicies  Time (Aeration Data)_[s]  \\\n",
            "0  881.528987                   539                      0.02   \n",
            "1  881.528987                  1256                      0.04   \n",
            "2  881.528987                  1425                      0.06   \n",
            "3  881.528987                  3083                      0.08   \n",
            "4  881.528987                  3930                      0.10   \n",
            "\n",
            "   Global Aeration  Inspiratory Indicies (Aeration Data)  \n",
            "0      5381.712360                                   269  \n",
            "1      5441.911393                                   628  \n",
            "2      5497.542713                                   712  \n",
            "3      5512.394755                                  1541  \n",
            "4      5578.124693                                  1965  \n",
            "\n",
            "--------------------------------------------------\n",
            "\n",
            "File read: /content/drive/MyDrive/Data/ProcessedData_Subject44.csv\n",
            "       Time [s]  Pressure [cmH2O]  Flow [L/s]  V_tidal [L]  Chest [mm]  \\\n",
            "0 -1.000000e-02          0.686591   -0.248820    -0.324035         108   \n",
            "1 -1.820766e-14          0.686591   -0.156978    -0.326064         108   \n",
            "2  1.000000e-02          0.654407   -0.248820    -0.328093         108   \n",
            "3  2.000000e-02          0.686591   -0.248820    -0.330581         108   \n",
            "4  3.000000e-02          1.008431    0.193579    -0.330857         108   \n",
            "\n",
            "   Abd [mm]  Inspiratory Indicies  Time (Aeration Data)_[s]  Global Aeration  \\\n",
            "0       108                    29                      0.02       921.298818   \n",
            "1       108                   660                      0.04       883.328490   \n",
            "2       108                  1336                      0.06       861.133946   \n",
            "3       108                  1958                      0.08       856.916853   \n",
            "4       108                  2585                      0.10       789.112269   \n",
            "\n",
            "   Inspiratory Indicies (Aeration Data)  \n",
            "0                                    14  \n",
            "1                                   330  \n",
            "2                                   668  \n",
            "3                                   979  \n",
            "4                                  1292  \n",
            "\n",
            "--------------------------------------------------\n",
            "\n",
            "File read: /content/drive/MyDrive/Data/ProcessedData_Subject45.csv\n",
            "       Time [s]  Pressure [cmH2O]  Flow [L/s]  V_tidal [L]  Chest [mm]  \\\n",
            "0 -1.000000e-02          1.383911   -0.401616    -0.516725  867.544835   \n",
            "1 -4.996004e-14          1.351727   -0.314929    -0.520307  867.512238   \n",
            "2  1.000000e-02          1.298087   -0.369391    -0.523729  867.479641   \n",
            "3  2.000000e-02          1.276631   -0.314929    -0.527151  867.447043   \n",
            "4  3.000000e-02          1.298087   -0.352174    -0.530486  867.381849   \n",
            "\n",
            "     Abd [mm]  Inspiratory Indicies  Time (Aeration Data)_[s]  \\\n",
            "0  749.902851                    79                      0.02   \n",
            "1  749.902851                   522                      0.04   \n",
            "2  749.870024                   916                      0.06   \n",
            "3  749.870024                  1367                      0.08   \n",
            "4  749.870024                  1781                      0.10   \n",
            "\n",
            "   Global Aeration  Inspiratory Indicies (Aeration Data)  \n",
            "0     2.541126e+06                                    39  \n",
            "1     2.536923e+06                                   261  \n",
            "2     2.532379e+06                                   458  \n",
            "3     2.526523e+06                                   683  \n",
            "4     2.522270e+06                                   890  \n",
            "\n",
            "--------------------------------------------------\n",
            "\n",
            "File read: /content/drive/MyDrive/Data/ProcessedData_Subject46.csv\n",
            "       Time [s]  Pressure [cmH2O]  Flow [L/s]  V_tidal [L]  Chest [mm]  \\\n",
            "0 -1.000000e-02         -1.555559    0.473095     0.410221  883.941172   \n",
            "1  1.365574e-14         -1.587743    0.417285     0.414673  883.941172   \n",
            "2  1.000000e-02         -1.555559    0.473095     0.419125  883.941172   \n",
            "3  2.000000e-02         -1.501919    0.473095     0.423856  883.941172   \n",
            "4  3.000000e-02         -1.480463    0.459778     0.428520  883.941172   \n",
            "\n",
            "     Abd [mm]  Inspiratory Indicies  Time (Aeration Data)_[s]  \\\n",
            "0  691.437628                   892                      0.02   \n",
            "1  691.437628                  1908                      0.04   \n",
            "2  691.437628                  2092                      0.06   \n",
            "3  691.437628                  2772                      0.08   \n",
            "4  691.437628                  2978                      0.10   \n",
            "\n",
            "   Global Aeration  Inspiratory Indicies (Aeration Data)  \n",
            "0      4260.775033                                   446  \n",
            "1      4414.835009                                   954  \n",
            "2      4575.478194                                  1046  \n",
            "3      4698.733982                                  1386  \n",
            "4      4832.394430                                  1489  \n",
            "\n",
            "--------------------------------------------------\n",
            "\n",
            "File read: /content/drive/MyDrive/Data/ProcessedData_Subject49.csv\n",
            "       Time [s]  Pressure [cmH2O]  Flow [L/s]  V_tidal [L]  Chest [mm]  \\\n",
            "0 -1.000000e-02          0.354024   -0.156978    -0.117278  780.282420   \n",
            "1 -3.863576e-14          0.354024    0.112370    -0.117501  780.249823   \n",
            "2  1.000000e-02          0.354024    0.112370    -0.116377  780.249823   \n",
            "3  2.000000e-02          0.332568   -0.156978    -0.116600  780.249823   \n",
            "4  3.000000e-02          0.332568   -0.156978    -0.118170  780.249823   \n",
            "\n",
            "     Abd [mm]  Inspiratory Indicies  Time (Aeration Data)_[s]  \\\n",
            "0  676.369948                   110                      0.02   \n",
            "1  676.369948                  1195                      0.04   \n",
            "2  676.369948                  2184                      0.06   \n",
            "3  676.369948                  2943                      0.08   \n",
            "4  676.369948                  3941                      0.10   \n",
            "\n",
            "   Global Aeration  Inspiratory Indicies (Aeration Data)  \n",
            "0      7397.614463                                    55  \n",
            "1      7328.780843                                   597  \n",
            "2      7247.901088                                  1092  \n",
            "3      7186.805747                                  1471  \n",
            "4      7183.010358                                  1970  \n",
            "\n",
            "--------------------------------------------------\n",
            "\n",
            "File read: /content/drive/MyDrive/Data/ProcessedData_Subject43.csv\n",
            "       Time [s]  Pressure [cmH2O]  Flow [L/s]  V_tidal [L]  Chest [mm]  \\\n",
            "0 -1.000000e-02         -1.619927    0.459778     0.340501       108.0   \n",
            "1 -4.551914e-15         -1.587743    0.459778     0.345099       108.0   \n",
            "2  1.000000e-02         -1.555559    0.417285     0.349484       108.0   \n",
            "3  2.000000e-02         -1.555559    0.459778     0.353870       108.0   \n",
            "4  3.000000e-02         -1.501919    0.459778     0.358467       108.0   \n",
            "\n",
            "     Abd [mm]  Inspiratory Indicies  Time (Aeration Data)_[s]  \\\n",
            "0  747.112540                   316                      0.02   \n",
            "1  747.112540                   978                      0.04   \n",
            "2  747.112540                  1645                      0.06   \n",
            "3  747.112540                  2415                      0.08   \n",
            "4  747.145367                  3083                      0.10   \n",
            "\n",
            "   Global Aeration  Inspiratory Indicies (Aeration Data)  \n",
            "0      9071.413997                                   158  \n",
            "1      9059.739331                                   489  \n",
            "2      9058.916575                                   822  \n",
            "3      9086.367953                                  1207  \n",
            "4      9143.074871                                  1541  \n",
            "\n",
            "--------------------------------------------------\n",
            "\n",
            "File read: /content/drive/MyDrive/Data/ProcessedData_Subject48.csv\n",
            "       Time [s]  Pressure [cmH2O]  Flow [L/s]  V_tidal [L]  Chest [mm]  \\\n",
            "0 -1.000000e-02          0.139464    0.193579     0.108096  926.884964   \n",
            "1 -3.635980e-14          0.139464    0.193579     0.110032  926.884964   \n",
            "2  1.000000e-02          0.160920    0.193579     0.111968  926.884964   \n",
            "3  2.000000e-02          0.160920    0.193579     0.113903  926.884964   \n",
            "4  3.000000e-02          0.193104    0.193579     0.115839  926.884964   \n",
            "\n",
            "     Abd [mm]  Inspiratory Indicies  Time (Aeration Data)_[s]  \\\n",
            "0  884.430128                   188                      0.02   \n",
            "1  884.430128                   587                      0.04   \n",
            "2  884.430128                  1009                      0.06   \n",
            "3  884.430128                  1369                      0.08   \n",
            "4  884.430128                  1798                      0.10   \n",
            "\n",
            "   Global Aeration  Inspiratory Indicies (Aeration Data)  \n",
            "0      6402.871633                                    94  \n",
            "1      6365.752916                                   293  \n",
            "2      6309.550197                                   504  \n",
            "3      6228.126395                                   684  \n",
            "4      6102.398642                                   899  \n",
            "\n",
            "--------------------------------------------------\n",
            "\n",
            "File read: /content/drive/MyDrive/Data/ProcessedData_Subject55.csv\n",
            "       Time [s]  Pressure [cmH2O]  Flow [L/s]  V_tidal [L]   Chest [mm]  \\\n",
            "0 -1.000000e-02          0.879695   -0.248820     0.031595  1038.588141   \n",
            "1  3.641532e-14          0.879695   -0.248820     0.029106  1038.588141   \n",
            "2  1.000000e-02          0.879695   -0.248820     0.026618  1038.588141   \n",
            "3  2.000000e-02          0.901151   -0.192523     0.024411  1038.588141   \n",
            "4  3.000000e-02          0.933335   -0.248820     0.022205  1038.588141   \n",
            "\n",
            "     Abd [mm]  Inspiratory Indicies  Time (Aeration Data)_[s]  \\\n",
            "0  975.111786                   417                      0.02   \n",
            "1  975.111786                  1355                      0.04   \n",
            "2  975.111786                  2027                      0.06   \n",
            "3  975.111786                  2905                      0.08   \n",
            "4  975.111786                  3803                      0.10   \n",
            "\n",
            "   Global Aeration  Inspiratory Indicies (Aeration Data)  \n",
            "0     17357.296559                                   208  \n",
            "1     17319.047889                                   677  \n",
            "2     17277.588519                                  1013  \n",
            "3     17254.071853                                  1452  \n",
            "4     17224.497202                                  1901  \n",
            "\n",
            "--------------------------------------------------\n",
            "\n",
            "File read: /content/drive/MyDrive/Data/ProcessedData_Subject51.csv\n",
            "       Time [s]  Pressure [cmH2O]  Flow [L/s]  V_tidal [L]  Chest [mm]  \\\n",
            "0 -1.000000e-02         -0.257472    0.223374     0.119836  885.668818   \n",
            "1 -2.275957e-14         -0.386208    0.112370     0.121515  885.668818   \n",
            "2  1.000000e-02         -0.407664    0.334681     0.123750  885.668818   \n",
            "3  2.000000e-02         -0.547128    0.273390     0.126790  885.668818   \n",
            "4  3.000000e-02         -0.654407    0.386368     0.130089  885.668818   \n",
            "\n",
            "    Abd [mm]  Inspiratory Indicies  Time (Aeration Data)_[s]  Global Aeration  \\\n",
            "0  826.01614                   508                      0.02      2695.126181   \n",
            "1  826.01614                  1191                      0.04      2655.722990   \n",
            "2  826.01614                  1977                      0.06      2655.444855   \n",
            "3  826.01614                  2681                      0.08      2666.560254   \n",
            "4  826.01614                  3250                      0.10      2685.649188   \n",
            "\n",
            "   Inspiratory Indicies (Aeration Data)  \n",
            "0                                   254  \n",
            "1                                   595  \n",
            "2                                   988  \n",
            "3                                  1340  \n",
            "4                                  1625  \n",
            "\n",
            "--------------------------------------------------\n",
            "\n",
            "File read: /content/drive/MyDrive/Data/ProcessedData_Subject52.csv\n",
            "       Time [s]  Pressure [cmH2O]  Flow [L/s]  V_tidal [L]   Chest [mm]  \\\n",
            "0 -1.000000e-02          0.332568    0.112370     0.000000  1032.160762   \n",
            "1 -5.906386e-14          0.407664    0.112370     0.001124  1032.160762   \n",
            "2  1.000000e-02          0.504216    0.273390     0.003052  1032.160762   \n",
            "3  2.000000e-02          0.354024   -0.156978     0.003635  1032.160762   \n",
            "4  3.000000e-02          0.246744    0.112370     0.003412  1032.160762   \n",
            "\n",
            "     Abd [mm]  Inspiratory Indicies  Time (Aeration Data)_[s]  \\\n",
            "0  907.885538                   440                      0.02   \n",
            "1  907.885538                  1000                      0.04   \n",
            "2  907.885538                  1734                      0.06   \n",
            "3  907.885538                  2440                      0.08   \n",
            "4  907.885538                  2967                      0.10   \n",
            "\n",
            "   Global Aeration  Inspiratory Indicies (Aeration Data)  \n",
            "0     2.260060e+06                                   220  \n",
            "1     2.259438e+06                                   500  \n",
            "2     2.259389e+06                                   867  \n",
            "3     2.258783e+06                                  1220  \n",
            "4     2.258521e+06                                  1483  \n",
            "\n",
            "--------------------------------------------------\n",
            "\n",
            "File read: /content/drive/MyDrive/Data/ProcessedData_Subject53.csv\n",
            "   Time [s]  Pressure [cmH2O]  Flow [L/s]  V_tidal [L]  Chest [mm]  \\\n",
            "0      0.00          2.563990   -0.352174     0.000000  951.775183   \n",
            "1      0.01          2.424526   -0.401616    -0.003769  951.775183   \n",
            "2      0.02          2.145598   -0.445606    -0.008005  951.775183   \n",
            "3      0.03          1.845214   -0.485627    -0.012661  951.775183   \n",
            "4      0.04          1.737934   -0.459334    -0.017386  951.775183   \n",
            "\n",
            "     Abd [mm]  Inspiratory Indicies  Time (Aeration Data)_[s]  \\\n",
            "0  845.346215                   160                      0.00   \n",
            "1  845.346215                   567                      0.02   \n",
            "2  845.346215                  1020                      0.04   \n",
            "3  845.346215                  1442                      0.06   \n",
            "4  845.346215                  1696                      0.08   \n",
            "\n",
            "   Global Aeration  Inspiratory Indicies (Aeration Data)  \n",
            "0      6156.491167                                   220  \n",
            "1      6031.880517                                   500  \n",
            "2      5916.046774                                   867  \n",
            "3      5811.381424                                  1220  \n",
            "4      5777.766224                                  1483  \n",
            "\n",
            "--------------------------------------------------\n",
            "\n",
            "File read: /content/drive/MyDrive/Data/ProcessedData_Subject54.csv\n",
            "       Time [s]  Pressure [cmH2O]  Flow [L/s]  V_tidal [L]  Chest [mm]  \\\n",
            "0 -1.000000e-02         -2.488894    0.610651     0.268348  806.816453   \n",
            "1 -2.731149e-14         -2.488894    0.579332     0.274298  806.881647   \n",
            "2  1.000000e-02         -2.467438    0.579332     0.280092  806.979438   \n",
            "3  2.000000e-02         -2.381614    0.546221     0.285719  807.077230   \n",
            "4  3.000000e-02         -2.435254    0.610651     0.291504  807.142424   \n",
            "\n",
            "     Abd [mm]  Inspiratory Indicies  Time (Aeration Data)_[s]  \\\n",
            "0  725.282459                   524                      0.02   \n",
            "1  725.282459                   913                      0.04   \n",
            "2  725.282459                  1461                      0.06   \n",
            "3  725.282459                  1994                      0.08   \n",
            "4  725.282459                  2689                      0.10   \n",
            "\n",
            "   Global Aeration  Inspiratory Indicies (Aeration Data)  \n",
            "0      4188.270865                                   262  \n",
            "1      4262.546145                                   456  \n",
            "2      4437.689922                                   730  \n",
            "3      4395.334758                                   997  \n",
            "4      4666.844354                                  1344  \n",
            "\n",
            "--------------------------------------------------\n",
            "\n",
            "File read: /content/drive/MyDrive/Data/ProcessedData_Subject56.csv\n",
            "       Time [s]  Pressure [cmH2O]  Flow [L/s]  V_tidal [L]  Chest [mm]  \\\n",
            "0 -1.000000e-02         -2.639086    0.640441     0.406264  798.276015   \n",
            "1 -2.731149e-14         -2.606902    0.640441     0.412668  798.276015   \n",
            "2  1.000000e-02         -2.671270    0.640441     0.419073  798.308612   \n",
            "3  2.000000e-02         -2.639086    0.668905     0.425619  798.308612   \n",
            "4  3.000000e-02         -2.606902    0.640441     0.432166  798.308612   \n",
            "\n",
            "     Abd [mm]  Inspiratory Indicies  Time (Aeration Data)_[s]  \\\n",
            "0  698.167201                   238                      0.02   \n",
            "1  698.167201                   584                      0.04   \n",
            "2  698.167201                  1008                      0.06   \n",
            "3  698.167201                  1558                      0.08   \n",
            "4  698.167201                  1968                      0.10   \n",
            "\n",
            "   Global Aeration  Inspiratory Indicies (Aeration Data)  \n",
            "0      4503.238304                                   119  \n",
            "1      4655.312858                                   292  \n",
            "2      4844.123886                                   504  \n",
            "3      5002.613272                                   779  \n",
            "4      5155.787042                                   984  \n",
            "\n",
            "--------------------------------------------------\n",
            "\n",
            "File read: /content/drive/MyDrive/Data/ProcessedData_Subject60.csv\n",
            "       Time [s]  Pressure [cmH2O]  Flow [L/s]  V_tidal [L]  Chest [mm]  \\\n",
            "0 -1.000000e-02          0.933335   -0.314929     0.070051  924.975311   \n",
            "1 -7.727152e-14          0.901151   -0.248820     0.067232  924.975311   \n",
            "2  1.000000e-02          0.933335   -0.248820     0.064744  924.942944   \n",
            "3  2.000000e-02          0.879695   -0.192523     0.062537  924.942944   \n",
            "4  3.000000e-02          0.879695   -0.248820     0.060331  924.910577   \n",
            "\n",
            "     Abd [mm]  Inspiratory Indicies  Time (Aeration Data)_[s]  \\\n",
            "0  919.440555                    75                      0.02   \n",
            "1  919.440555                   608                      0.04   \n",
            "2  919.440555                  1264                      0.06   \n",
            "3  919.440555                  1882                      0.08   \n",
            "4  919.440555                  2509                      0.10   \n",
            "\n",
            "   Global Aeration  Inspiratory Indicies (Aeration Data)  \n",
            "0     2.989213e+06                                    37  \n",
            "1     2.987689e+06                                   304  \n",
            "2     2.987528e+06                                   632  \n",
            "3     2.984931e+06                                   941  \n",
            "4     2.984880e+06                                  1254  \n",
            "\n",
            "--------------------------------------------------\n",
            "\n",
            "File read: /content/drive/MyDrive/Data/ProcessedData_Subject59.csv\n",
            "       Time [s]  Pressure [cmH2O]  Flow [L/s]  V_tidal [L]  Chest [mm]  \\\n",
            "0 -1.000000e-02          0.472032    0.014279    -0.110342  945.852023   \n",
            "1 -5.451195e-14          0.407664    0.193579    -0.109303  945.852023   \n",
            "2  1.000000e-02          0.407664    0.014279    -0.108263  945.852023   \n",
            "3  2.000000e-02          0.407664    0.014279     0.000000  945.852023   \n",
            "4  3.000000e-02          0.386208    0.193579     0.001039  945.852023   \n",
            "\n",
            "     Abd [mm]  Inspiratory Indicies  Time (Aeration Data)_[s]  \\\n",
            "0  920.476299                     3                      0.02   \n",
            "1  920.411565                   288                      0.04   \n",
            "2  920.379198                   625                      0.06   \n",
            "3  920.346831                   993                      0.08   \n",
            "4  920.314464                  1472                      0.10   \n",
            "\n",
            "   Global Aeration  Inspiratory Indicies (Aeration Data)  \n",
            "0      1609.929466                                     1  \n",
            "1      1516.913700                                   144  \n",
            "2      1608.793682                                   312  \n",
            "3      1430.633109                                   496  \n",
            "4      1413.641101                                   736  \n",
            "\n",
            "--------------------------------------------------\n",
            "\n",
            "File read: /content/drive/MyDrive/Data/ProcessedData_Subject58.csv\n",
            "   Time [s]  Pressure [cmH2O]  Flow [L/s]  V_tidal [L]   Chest [mm]  \\\n",
            "0      0.00          1.684294    0.014279     0.000000  1032.192898   \n",
            "1      0.01          1.652111    0.014279     0.000143  1032.192898   \n",
            "2      0.02          1.652111    0.014279     0.000286  1032.192898   \n",
            "3      0.03          1.652111    0.193579     0.001325  1032.192898   \n",
            "4      0.04          1.652111    0.014279     0.002364  1032.160762   \n",
            "\n",
            "      Abd [mm]  Inspiratory Indicies  Time (Aeration Data)_[s]  \\\n",
            "0  1030.328958                    93                      0.00   \n",
            "1  1030.328958                   801                      0.02   \n",
            "2  1030.328958                  1477                      0.04   \n",
            "3  1030.328958                  2238                      0.06   \n",
            "4  1030.328958                  3033                      0.08   \n",
            "\n",
            "   Global Aeration  Inspiratory Indicies (Aeration Data)  \n",
            "0      2183.919750                                   336  \n",
            "1      2141.299494                                   811  \n",
            "2      2114.012378                                   983  \n",
            "3      2063.652937                                  1330  \n",
            "4      2029.212020                                  1867  \n",
            "\n",
            "--------------------------------------------------\n",
            "\n",
            "File read: /content/drive/MyDrive/Data/ProcessedData_Subject57.csv\n",
            "       Time [s]  Pressure [cmH2O]  Flow [L/s]  V_tidal [L]  Chest [mm]  \\\n",
            "0 -1.000000e-02         -0.847511    0.386368     0.326328  808.935264   \n",
            "1  5.107026e-15         -0.826055    0.386368     0.330192  808.967861   \n",
            "2  1.000000e-02         -0.826055    0.273390     0.333490  809.000458   \n",
            "3  2.000000e-02         -0.847511    0.386368     0.336789  809.000458   \n",
            "4  3.000000e-02         -0.879695    0.386368     0.340653  809.033055   \n",
            "\n",
            "     Abd [mm]  Inspiratory Indicies  Time (Aeration Data)_[s]  \\\n",
            "0  656.542326                   672                      0.02   \n",
            "1  656.542326                  1622                      0.04   \n",
            "2  656.542326                  1967                      0.06   \n",
            "3  656.542326                  2660                      0.08   \n",
            "4  656.542326                  3735                      0.10   \n",
            "\n",
            "   Global Aeration  Inspiratory Indicies (Aeration Data)  \n",
            "0      3764.762070                                   336  \n",
            "1      3873.903312                                   811  \n",
            "2      3983.114364                                   983  \n",
            "3      4079.829529                                  1330  \n",
            "4      4150.472387                                  1867  \n",
            "\n",
            "--------------------------------------------------\n",
            "\n",
            "File read: /content/drive/MyDrive/Data/ProcessedData_Subject61.csv\n",
            "       Time [s]  Pressure [cmH2O]  Flow [L/s]  V_tidal [L]   Chest [mm]  \\\n",
            "0 -1.000000e-02          2.231422   -0.545847    -0.135007  1014.081648   \n",
            "1 -2.775558e-16          2.177782   -0.522593    -0.140349  1014.049281   \n",
            "2  1.000000e-02          2.231422   -0.545847    -0.145691  1014.016914   \n",
            "3  2.000000e-02          2.199238   -0.485627    -0.150849  1013.984547   \n",
            "4  3.000000e-02          2.252878   -0.545847    -0.156006  1013.952180   \n",
            "\n",
            "     Abd [mm]  Inspiratory Indicies  Time (Aeration Data)_[s]  \\\n",
            "0  784.650430                   140                      0.02   \n",
            "1  784.650430                   524                      0.04   \n",
            "2  784.617833                   869                      0.06   \n",
            "3  784.585236                  1259                      0.08   \n",
            "4  784.454848                  1649                      0.10   \n",
            "\n",
            "   Global Aeration  Inspiratory Indicies (Aeration Data)  \n",
            "0      4939.618836                                    70  \n",
            "1      4890.167180                                   262  \n",
            "2      4823.712507                                   434  \n",
            "3      4750.547285                                   629  \n",
            "4      4681.816833                                   824  \n",
            "\n",
            "--------------------------------------------------\n",
            "\n",
            "File read: /content/drive/MyDrive/Data/ProcessedData_Subject62.csv\n",
            "       Time [s]  Pressure [cmH2O]  Flow [L/s]  V_tidal [L]  Chest [mm]  \\\n",
            "0 -1.000000e-02         -0.085824    0.273390     0.729636  998.610224   \n",
            "1 -4.440892e-16         -0.085824    0.112370     0.731565  998.610224   \n",
            "2  1.000000e-02         -0.053640    0.193579     0.733095  998.610224   \n",
            "3  2.000000e-02         -0.032184    0.273390     0.735429  998.610224   \n",
            "4  3.000000e-02          0.000000    0.193579     0.737764  998.577857   \n",
            "\n",
            "     Abd [mm]  Inspiratory Indicies  Time (Aeration Data)_[s]  \\\n",
            "0  906.655592                   333                      0.02   \n",
            "1  906.655592                  1104                      0.04   \n",
            "2  906.655592                  1842                      0.06   \n",
            "3  906.655592                  2838                      0.08   \n",
            "4  906.655592                  3807                      0.10   \n",
            "\n",
            "   Global Aeration  Inspiratory Indicies (Aeration Data)  \n",
            "0     13380.104220                                   166  \n",
            "1     13442.521804                                   552  \n",
            "2     13491.227500                                   921  \n",
            "3     13532.010166                                  1419  \n",
            "4     13568.546447                                  1903  \n",
            "\n",
            "--------------------------------------------------\n",
            "\n",
            "File read: /content/drive/MyDrive/Data/ProcessedData_Subject67.csv\n",
            "   Time [s]  Pressure [cmH2O]  Flow [L/s]  V_tidal [L]   Chest [mm]  \\\n",
            "0      0.00          0.332568    0.112370     0.000000  1013.984547   \n",
            "1      0.01          0.246744   -0.156978    -0.000223  1013.984547   \n",
            "2      0.02          0.246744    0.014279    -0.000937  1013.984547   \n",
            "3      0.03          0.246744    0.014279    -0.000794  1013.984547   \n",
            "4      0.04          0.246744    0.014279    -0.000651  1013.984547   \n",
            "\n",
            "     Abd [mm]  Inspiratory Indicies  Time (Aeration Data)_[s]  \\\n",
            "0  949.282924                  1391                      0.00   \n",
            "1  949.153456                  2784                      0.02   \n",
            "2  949.023988                  3039                      0.04   \n",
            "3  948.862153                  3305                      0.06   \n",
            "4  948.732685                  3928                      0.08   \n",
            "\n",
            "   Global Aeration  Inspiratory Indicies (Aeration Data)  \n",
            "0      5114.642604                                    84  \n",
            "1      5117.591469                                   265  \n",
            "2      5087.175246                                   614  \n",
            "3      4998.914770                                   949  \n",
            "4      4946.385405                                  1357  \n",
            "\n",
            "--------------------------------------------------\n",
            "\n",
            "File read: /content/drive/MyDrive/Data/ProcessedData_Subject63.csv\n",
            "       Time [s]  Pressure [cmH2O]  Flow [L/s]  V_tidal [L]   Chest [mm]  \\\n",
            "0 -1.000000e-02          1.276631   -0.192523    -0.428556  1080.526792   \n",
            "1 -9.103829e-15          0.954791   -0.248820    -0.430762  1080.526792   \n",
            "2  1.000000e-02          0.933335   -0.248820    -0.433250  1080.526792   \n",
            "3  2.000000e-02          0.901151   -0.192523    -0.435457  1080.494655   \n",
            "4  3.000000e-02          0.879695   -0.248820    -0.437664  1080.494655   \n",
            "\n",
            "     Abd [mm]  Inspiratory Indicies  Time (Aeration Data)_[s]  \\\n",
            "0  998.836793                    25                      0.02   \n",
            "1  998.836793                   838                      0.04   \n",
            "2  998.836793                  1672                      0.06   \n",
            "3  998.836793                  2440                      0.08   \n",
            "4  998.804426                  3200                      0.10   \n",
            "\n",
            "   Global Aeration  Inspiratory Indicies (Aeration Data)  \n",
            "0     2.265727e+06                                    12  \n",
            "1     2.266010e+06                                   419  \n",
            "2     2.264406e+06                                   836  \n",
            "3     2.264184e+06                                  1220  \n",
            "4     2.262782e+06                                  1600  \n",
            "\n",
            "--------------------------------------------------\n",
            "\n",
            "File read: /content/drive/MyDrive/Data/ProcessedData_Subject66.csv\n",
            "       Time [s]  Pressure [cmH2O]  Flow [L/s]  V_tidal [L]   Chest [mm]  \\\n",
            "0 -1.000000e-02          3.132573   -0.686929     0.773058  1012.884069   \n",
            "1  4.085621e-14          3.078933   -0.668600     0.766281  1012.884069   \n",
            "2  1.000000e-02          2.993109   -0.589611     0.759990  1012.884069   \n",
            "3  2.000000e-02          3.078933   -0.640122     0.753841  1012.851702   \n",
            "4  3.000000e-02          3.078933   -0.695913     0.747161  1012.851702   \n",
            "\n",
            "     Abd [mm]  Inspiratory Indicies  Time (Aeration Data)_[s]  \\\n",
            "0  784.813416                   169                      0.02   \n",
            "1  784.813416                   531                      0.04   \n",
            "2  784.813416                  1229                      0.06   \n",
            "3  784.813416                  1898                      0.08   \n",
            "4  784.813416                  2714                      0.10   \n",
            "\n",
            "   Global Aeration  Inspiratory Indicies (Aeration Data)  \n",
            "0     3.224064e+06                                    84  \n",
            "1     3.229311e+06                                   265  \n",
            "2     3.234169e+06                                   614  \n",
            "3     3.238530e+06                                   949  \n",
            "4     3.242216e+06                                  1357  \n",
            "\n",
            "--------------------------------------------------\n",
            "\n",
            "File read: /content/drive/MyDrive/Data/ProcessedData_Subject64.csv\n",
            "       Time [s]  Pressure [cmH2O]  Flow [L/s]  V_tidal [L]  Chest [mm]  \\\n",
            "0 -1.000000e-02         -2.134870    0.579332     0.169331  906.331922   \n",
            "1 -3.330669e-16         -2.188510    0.579332     0.175125  906.331922   \n",
            "2  1.000000e-02         -2.102686    0.546221     0.180752  906.331922   \n",
            "3  2.000000e-02         -2.156326    0.546221     0.186214  906.331922   \n",
            "4  3.000000e-02         -2.188510    0.546221     0.191677  906.331922   \n",
            "\n",
            "     Abd [mm]  Inspiratory Indicies  Time (Aeration Data)_[s]  \\\n",
            "0  843.390390                   328                      0.02   \n",
            "1  843.488181                   768                      0.04   \n",
            "2  843.553375                  1100                      0.06   \n",
            "3  843.585972                  1602                      0.08   \n",
            "4  843.618569                  1951                      0.10   \n",
            "\n",
            "   Global Aeration  Inspiratory Indicies (Aeration Data)  \n",
            "0      2536.681081                                   164  \n",
            "1      2651.242131                                   384  \n",
            "2      2754.065490                                   550  \n",
            "3      2873.969588                                   801  \n",
            "4      2993.180145                                   975  \n",
            "\n",
            "--------------------------------------------------\n",
            "\n",
            "File read: /content/drive/MyDrive/Data/ProcessedData_Subject68.csv\n",
            "       Time [s]  Pressure [cmH2O]  Flow [L/s]  V_tidal [L]  Chest [mm]  \\\n",
            "0 -1.000000e-02          0.847511   -0.192523    -0.184823  981.973589   \n",
            "1  7.438494e-15          0.847511   -0.248820    -0.187030  981.973589   \n",
            "2  1.000000e-02          0.847511   -0.294546    -0.189747  981.973589   \n",
            "3  2.000000e-02          0.815327   -0.294546    -0.192692  981.973589   \n",
            "4  3.000000e-02          0.815327   -0.248820    -0.195409  981.973589   \n",
            "\n",
            "     Abd [mm]  Inspiratory Indicies  Time (Aeration Data)_[s]  \\\n",
            "0  852.843546                   117                      0.02   \n",
            "1  852.843546                   779                      0.04   \n",
            "2  852.810949                  1551                      0.06   \n",
            "3  852.745755                  2144                      0.08   \n",
            "4  852.615367                  2981                      0.10   \n",
            "\n",
            "   Global Aeration  Inspiratory Indicies (Aeration Data)  \n",
            "0      6134.118814                                    58  \n",
            "1      6061.918059                                   389  \n",
            "2      5946.779742                                   775  \n",
            "3      5888.694544                                  1072  \n",
            "4      5808.590340                                  1490  \n",
            "\n",
            "--------------------------------------------------\n",
            "\n",
            "File read: /content/drive/MyDrive/Data/ProcessedData_Subject65.csv\n",
            "       Time [s]  Pressure [cmH2O]  Flow [L/s]  V_tidal [L]  Chest [mm]  \\\n",
            "0 -1.000000e-02         -2.467438    0.687226     0.152191  982.491461   \n",
            "1 -9.436896e-16         -2.435254    0.659553     0.158925  982.491461   \n",
            "2  1.000000e-02         -2.381614    0.687226     0.165659  982.491461   \n",
            "3  2.000000e-02         -2.467438    0.687226     0.172531  982.491461   \n",
            "4  3.000000e-02         -2.435254    0.687226     0.179404  982.491461   \n",
            "\n",
            "     Abd [mm]  Inspiratory Indicies  Time (Aeration Data)_[s]  \\\n",
            "0  931.513444                   485                      0.02   \n",
            "1  931.513444                   927                      0.04   \n",
            "2  931.513444                  1582                      0.06   \n",
            "3  931.513444                  2193                      0.08   \n",
            "4  931.513444                  2803                      0.10   \n",
            "\n",
            "   Global Aeration  Inspiratory Indicies (Aeration Data)  \n",
            "0      1176.876670                                   242  \n",
            "1      1151.699521                                   463  \n",
            "2      1130.148014                                   791  \n",
            "3      1116.112078                                  1096  \n",
            "4      1098.635018                                  1401  \n",
            "\n",
            "--------------------------------------------------\n",
            "\n",
            "File read: /content/drive/MyDrive/Data/ProcessedData_Subject69.csv\n",
            "   Time [s]  Pressure [cmH2O]  Flow [L/s]  V_tidal [L]  Chest [mm]  \\\n",
            "0      0.00         -3.604605    0.713827     0.000000  893.003163   \n",
            "1      0.01         -3.604605    0.756084     0.007350  893.003163   \n",
            "2      0.02         -3.636789    0.780341     0.015032  893.003163   \n",
            "3      0.03         -3.604605    0.713827     0.022503  893.003163   \n",
            "4      0.04         -3.583149    0.756084     0.029852  893.003163   \n",
            "\n",
            "     Abd [mm]  Inspiratory Indicies  \n",
            "0  787.225601                   307  \n",
            "1  787.258198                   658  \n",
            "2  787.323392                  1032  \n",
            "3  787.551572                  1387  \n",
            "4  787.584169                  1717  \n",
            "\n",
            "--------------------------------------------------\n",
            "\n",
            "File read: /content/drive/MyDrive/Data/ProcessedData_Subject73.csv\n",
            "   Time [s]  Pressure [cmH2O]  Flow [L/s]  V_tidal [L]  Chest [mm]  \\\n",
            "0     -0.01         -1.308815    0.431914     0.616100  888.765541   \n",
            "1      0.00         -1.308815    0.431914     0.620419  888.830736   \n",
            "2      0.01         -1.255175    0.431914     0.624738  888.928527   \n",
            "3      0.02         -1.255175    0.498663     0.629391  888.961124   \n",
            "4      0.03         -1.233719    0.386368     0.633816  888.961124   \n",
            "\n",
            "     Abd [mm]  Inspiratory Indicies  Time (Aeration Data)_[s]  \\\n",
            "0  762.672627                   190                      0.02   \n",
            "1  762.672627                   587                      0.04   \n",
            "2  762.705455                   971                      0.06   \n",
            "3  762.705455                  1361                      0.08   \n",
            "4  762.738282                  1729                      0.10   \n",
            "\n",
            "   Global Aeration  Inspiratory Indicies (Aeration Data)  \n",
            "0      6593.773876                                    95  \n",
            "1      6712.943182                                   293  \n",
            "2      6808.130834                                   485  \n",
            "3      6862.526667                                   680  \n",
            "4      6849.254966                                   864  \n",
            "\n",
            "--------------------------------------------------\n",
            "\n",
            "File read: /content/drive/MyDrive/Data/ProcessedData_Subject76.csv\n",
            "       Time [s]  Pressure [cmH2O]  Flow [L/s]  V_tidal [L]  Chest [mm]  \\\n",
            "0 -1.000000e-02         -1.287359    0.386368     0.671871  788.268708   \n",
            "1  9.103829e-14         -1.308815    0.431914     0.675962  788.268708   \n",
            "2  1.000000e-02         -1.340999    0.417285     0.680208  788.301305   \n",
            "3  2.000000e-02         -1.340999    0.459778     0.684594  788.301305   \n",
            "4  3.000000e-02         -1.340999    0.459778     0.689191  788.301305   \n",
            "\n",
            "     Abd [mm]  Inspiratory Indicies  Time (Aeration Data)_[s]  \\\n",
            "0  691.503282                   524                      0.02   \n",
            "1  691.503282                  1162                      0.04   \n",
            "2  691.503282                  2021                      0.06   \n",
            "3  691.536109                  2651                      0.08   \n",
            "4  691.536109                  3313                      0.10   \n",
            "\n",
            "   Global Aeration  Inspiratory Indicies (Aeration Data)  \n",
            "0      6669.931823                                   262  \n",
            "1      6813.974293                                   581  \n",
            "2      6911.052434                                  1010  \n",
            "3      6963.966213                                  1325  \n",
            "4      7005.479471                                  1656  \n",
            "\n",
            "--------------------------------------------------\n",
            "\n",
            "File read: /content/drive/MyDrive/Data/ProcessedData_Subject74.csv\n",
            "       Time [s]  Pressure [cmH2O]  Flow [L/s]  V_tidal [L]  Chest [mm]  \\\n",
            "0 -1.000000e-02          0.193104    0.193579     0.033193  798.504194   \n",
            "1 -3.552714e-15          0.193104    0.193579     0.035129  798.439000   \n",
            "2  1.000000e-02          0.193104    0.223374     0.037214  798.406403   \n",
            "3  2.000000e-02          0.193104    0.223374     0.039447  798.406403   \n",
            "4  3.000000e-02          0.160920    0.193579     0.041532  798.406403   \n",
            "\n",
            "     Abd [mm]  Inspiratory Indicies  Time (Aeration Data)_[s]  \\\n",
            "0  719.472047                   334                      0.02   \n",
            "1  719.472047                   698                      0.04   \n",
            "2  719.472047                  1017                      0.06   \n",
            "3  719.472047                  1307                      0.08   \n",
            "4  719.472047                  1629                      0.10   \n",
            "\n",
            "   Global Aeration  Inspiratory Indicies (Aeration Data)  \n",
            "0     2.335421e+06                                   508  \n",
            "1     2.333930e+06                                   653  \n",
            "2     2.333430e+06                                   814  \n",
            "3     2.332908e+06                                   968  \n",
            "4     2.332504e+06                                  1146  \n",
            "\n",
            "--------------------------------------------------\n",
            "\n",
            "File read: /content/drive/MyDrive/Data/ProcessedData_Subject72.csv\n",
            "   Time [s]  Pressure [cmH2O]  Flow [L/s]  V_tidal [L]  Chest [mm]  \\\n",
            "0      0.00          1.770118   -0.192523     0.000000  828.102354   \n",
            "1      0.01          1.544831   -0.294546    -0.002435  828.102354   \n",
            "2      0.02          1.330271   -0.401616    -0.005916  828.102354   \n",
            "3      0.03          1.298087   -0.352174    -0.009685  828.102354   \n",
            "4      0.04          1.298087   -0.314929    -0.013021  828.102354   \n",
            "\n",
            "     Abd [mm]  Inspiratory Indicies  Time (Aeration Data)_[s]  \\\n",
            "0  756.829388                   140                      0.00   \n",
            "1  756.829388                   494                      0.02   \n",
            "2  756.829388                   875                      0.04   \n",
            "3  756.829388                  1238                      0.06   \n",
            "4  756.829388                  1612                      0.08   \n",
            "\n",
            "   Global Aeration  Inspiratory Indicies (Aeration Data)  \n",
            "0      7634.950597                                    72  \n",
            "1      7697.184589                                   431  \n",
            "2      7727.314347                                   767  \n",
            "3      7733.114829                                  1101  \n",
            "4      7717.250720                                  1618  \n",
            "\n",
            "--------------------------------------------------\n",
            "\n",
            "File read: /content/drive/MyDrive/Data/ProcessedData_Subject71.csv\n",
            "   Time [s]  Pressure [cmH2O]  Flow [L/s]  V_tidal [L]   Chest [mm]  \\\n",
            "0      0.00          0.300384   -0.156978     0.000000  1234.756749   \n",
            "1      0.01          0.278928    0.014279    -0.000713  1234.756749   \n",
            "2      0.02          0.300384   -0.156978    -0.001427  1234.756749   \n",
            "3      0.03          0.300384    0.014279    -0.002140  1234.756749   \n",
            "4      0.04          0.300384    0.193579    -0.001101  1234.756749   \n",
            "\n",
            "      Abd [mm]  Inspiratory Indicies  Time (Aeration Data)_[s]  \\\n",
            "0  1221.196359                   145                      0.00   \n",
            "1  1221.196359                   862                      0.02   \n",
            "2  1221.196359                  1534                      0.04   \n",
            "3  1221.196359                  2202                      0.06   \n",
            "4  1221.196359                  3236                      0.08   \n",
            "\n",
            "   Global Aeration  Inspiratory Indicies (Aeration Data)  \n",
            "0      6703.179287                                   206  \n",
            "1      6650.348629                                   371  \n",
            "2      6616.325990                                   558  \n",
            "3      6577.051578                                   752  \n",
            "4      6534.698721                                   937  \n",
            "\n",
            "--------------------------------------------------\n",
            "\n",
            "File read: /content/drive/MyDrive/Data/ProcessedData_Subject75.csv\n",
            "       Time [s]  Pressure [cmH2O]  Flow [L/s]  V_tidal [L]  Chest [mm]  \\\n",
            "0 -1.000000e-02          1.737934   -0.416796    -0.040175  834.035024   \n",
            "1 -1.415534e-15          1.684294   -0.485627    -0.044688  834.002427   \n",
            "2  1.000000e-02          1.630655   -0.485627    -0.049544  833.969830   \n",
            "3  2.000000e-02          1.630655   -0.485627    -0.054400  833.937233   \n",
            "4  3.000000e-02          1.630655   -0.510568    -0.059381  833.937233   \n",
            "\n",
            "     Abd [mm]  Inspiratory Indicies  Time (Aeration Data)_[s]  \\\n",
            "0  701.679711                    97                      0.02   \n",
            "1  701.679711                   463                      0.04   \n",
            "2  701.679711                   863                      0.06   \n",
            "3  701.679711                  1187                      0.08   \n",
            "4  701.679711                  1515                      0.10   \n",
            "\n",
            "   Global Aeration  Inspiratory Indicies (Aeration Data)  \n",
            "0      9231.589772                                    48  \n",
            "1      9189.932647                                   231  \n",
            "2      9157.201432                                   431  \n",
            "3      9113.875517                                   593  \n",
            "4      9033.086811                                   757  \n",
            "\n",
            "--------------------------------------------------\n",
            "\n",
            "File read: /content/drive/MyDrive/Data/ProcessedData_Subject70.csv\n",
            "       Time [s]  Pressure [cmH2O]  Flow [L/s]  V_tidal [L]  Chest [mm]  \\\n",
            "0 -1.000000e-02          0.000000    0.223374     0.044608  829.895194   \n",
            "1  5.662137e-15         -0.032184    0.223374     0.046842  829.895194   \n",
            "2  1.000000e-02         -0.053640    0.273390     0.049326  829.895194   \n",
            "3  2.000000e-02         -0.053640    0.273390     0.052059  829.895194   \n",
            "4  3.000000e-02         -0.085824    0.273390     0.054793  829.895194   \n",
            "\n",
            "     Abd [mm]  Inspiratory Indicies  Time (Aeration Data)_[s]  \\\n",
            "0  714.482314                   413                      0.02   \n",
            "1  714.482314                   742                      0.04   \n",
            "2  714.482314                  1117                      0.06   \n",
            "3  714.482314                  1505                      0.08   \n",
            "4  714.482314                  1875                      0.10   \n",
            "\n",
            "   Global Aeration  Inspiratory Indicies (Aeration Data)  \n",
            "0      1425.047896                                   371  \n",
            "1      1384.147518                                   558  \n",
            "2      1339.480819                                   752  \n",
            "3      1310.146213                                   937  \n",
            "4      1314.527128                                  1092  \n",
            "\n",
            "--------------------------------------------------\n",
            "\n",
            "File read: /content/drive/MyDrive/Data/ProcessedData_Subject78.csv\n",
            "   Time [s]  Pressure [cmH2O]  Flow [L/s]  V_tidal [L]  Chest [mm]  \\\n",
            "0      0.00          4.087364   -0.416796     0.000000  974.658648   \n",
            "1      0.01          4.012268   -0.485627    -0.004512  974.658648   \n",
            "2      0.02          4.033724   -0.485627    -0.009368  974.658648   \n",
            "3      0.03          3.980084   -0.522593    -0.014409  974.658648   \n",
            "4      0.04          3.980084   -0.545847    -0.019752  974.658648   \n",
            "\n",
            "     Abd [mm]  Inspiratory Indicies  Time (Aeration Data)_[s]  \\\n",
            "0  912.772954                   191                      0.00   \n",
            "1  912.772954                   781                      0.02   \n",
            "2  912.772954                  1499                      0.04   \n",
            "3  912.708220                  2491                      0.06   \n",
            "4  912.675853                  3256                      0.08   \n",
            "\n",
            "   Global Aeration  Inspiratory Indicies (Aeration Data)  \n",
            "0      8472.018967                                   124  \n",
            "1      8373.383523                                   340  \n",
            "2      8268.771440                                   580  \n",
            "3      8172.604459                                   720  \n",
            "4      8069.211005                                   965  \n",
            "\n",
            "--------------------------------------------------\n",
            "\n",
            "File read: /content/drive/MyDrive/Data/ProcessedData_Subject77.csv\n",
            "       Time [s]  Pressure [cmH2O]  Flow [L/s]  V_tidal [L]  Chest [mm]  \\\n",
            "0 -1.000000e-02         -1.823758    0.510967     0.297882  740.842547   \n",
            "1 -1.709743e-14         -1.748662    0.546221     0.303167  740.842547   \n",
            "2  1.000000e-02         -1.791574    0.510967     0.308453  740.842547   \n",
            "3  2.000000e-02         -1.791574    0.473095     0.313374  740.875374   \n",
            "4  3.000000e-02         -1.823758    0.557476     0.318527  740.875374   \n",
            "\n",
            "     Abd [mm]  Inspiratory Indicies  Time (Aeration Data)_[s]  \\\n",
            "0  601.545280                   248                      0.02   \n",
            "1  601.809738                   680                      0.04   \n",
            "2  601.975024                  1161                      0.06   \n",
            "3  602.107254                  1441                      0.08   \n",
            "4  602.140311                  1931                      0.10   \n",
            "\n",
            "   Global Aeration  Inspiratory Indicies (Aeration Data)  \n",
            "0     2.166055e+06                                   124  \n",
            "1     2.169479e+06                                   340  \n",
            "2     2.172778e+06                                   580  \n",
            "3     2.176090e+06                                   720  \n",
            "4     2.179912e+06                                   965  \n",
            "\n",
            "--------------------------------------------------\n",
            "\n",
            "File read: /content/drive/MyDrive/Data/ProcessedData_Subject80.csv\n",
            "       Time [s]  Pressure [cmH2O]  Flow [L/s]  V_tidal [L]  Chest [mm]  \\\n",
            "0 -1.000000e-02         -1.083527    0.386368     0.128367  797.721864   \n",
            "1 -9.103829e-15         -1.169351    0.473095     0.132664  797.721864   \n",
            "2  1.000000e-02         -1.255175    0.431914     0.137189  797.721864   \n",
            "3  2.000000e-02         -1.340999    0.431914     0.141508  797.721864   \n",
            "4  3.000000e-02         -1.340999    0.431914     0.145827  797.721864   \n",
            "\n",
            "     Abd [mm]  Inspiratory Indicies  Time (Aeration Data)_[s]  \\\n",
            "0  701.581229                   237                      0.02   \n",
            "1  701.581229                   592                      0.04   \n",
            "2  701.581229                   965                      0.06   \n",
            "3  701.581229                  1341                      0.08   \n",
            "4  701.581229                  1735                      0.10   \n",
            "\n",
            "   Global Aeration  Inspiratory Indicies (Aeration Data)  \n",
            "0       965.099825                                   118  \n",
            "1       927.192906                                   296  \n",
            "2       895.932648                                   482  \n",
            "3       862.177678                                   670  \n",
            "4       828.187824                                   867  \n",
            "\n",
            "--------------------------------------------------\n",
            "\n",
            "File read: /content/drive/MyDrive/Data/ProcessedData_Subject79.csv\n",
            "   Time [s]  Pressure [cmH2O]  Flow [L/s]  V_tidal [L]  Chest [mm]  \\\n",
            "0      0.00         -1.898854    0.522983     0.000000  958.539885   \n",
            "1      0.01         -1.845214    0.473095     0.004980  958.539885   \n",
            "2      0.02         -1.898854    0.522983     0.009961  958.604619   \n",
            "3      0.03         -1.877398    0.473095     0.014941  958.636986   \n",
            "4      0.04         -1.941766    0.473095     0.019672  958.636986   \n",
            "\n",
            "     Abd [mm]  Inspiratory Indicies  Time (Aeration Data)_[s]  \\\n",
            "0  843.194807                   451                      0.00   \n",
            "1  843.194807                  1028                      0.02   \n",
            "2  843.194807                  1792                      0.04   \n",
            "3  843.194807                  2667                      0.06   \n",
            "4  843.292598                  3496                      0.08   \n",
            "\n",
            "   Global Aeration  Inspiratory Indicies (Aeration Data)  \n",
            "0     10205.946313                                    95  \n",
            "1     10283.601943                                   390  \n",
            "2     10367.416686                                   749  \n",
            "3     10445.091520                                  1245  \n",
            "4     10546.487804                                  1628  \n",
            "\n",
            "--------------------------------------------------\n",
            "\n"
          ]
        }
      ]
    },
    {
      "cell_type": "code",
      "execution_count": 6,
      "metadata": {
        "id": "ft6T1MWkqPk4"
      },
      "outputs": [],
      "source": [
        "from sklearn.model_selection import train_test_split\n",
        "from tensorflow.keras.preprocessing.sequence import TimeseriesGenerator\n",
        "\n",
        "# Assuming df is your DataFrame with the standardized data\n",
        "features = df[['Pressure [cmH2O]', 'V_tidal [L]', 'Flow [L/s]']].to_numpy()\n",
        "targets = df['Flow [L/s]'].to_numpy()\n",
        "\n",
        "# Parameters\n",
        "n_input = 5  # Number of time steps in the input sequences\n",
        "n_features = features.shape[1]  # Number of features\n",
        "\n",
        "# Split data into training and test sets\n",
        "X_train, X_test, y_train, y_test = train_test_split(features, targets, test_size=0.2, random_state=42, shuffle=False)\n",
        "\n",
        "# Create generators\n",
        "train_generator = TimeseriesGenerator(X_train, y_train, length=n_input, batch_size=1)\n",
        "test_generator = TimeseriesGenerator(X_test, y_test, length=n_input, batch_size=1)\n"
      ]
    },
    {
      "cell_type": "code",
      "execution_count": 7,
      "metadata": {
        "id": "PGiSLodEs3F-",
        "colab": {
          "base_uri": "https://localhost:8080/"
        },
        "outputId": "16b07ae0-6cd7-41a9-e737-0adbdd6ed2b7"
      },
      "outputs": [
        {
          "output_type": "stream",
          "name": "stderr",
          "text": [
            "WARNING:tensorflow:Layer lstm will not use cuDNN kernels since it doesn't meet the criteria. It will use a generic GPU kernel as fallback when running on GPU.\n"
          ]
        },
        {
          "output_type": "stream",
          "name": "stdout",
          "text": [
            "Model: \"sequential_1\"\n",
            "_________________________________________________________________\n",
            " Layer (type)                Output Shape              Param #   \n",
            "=================================================================\n",
            " conv1d (Conv1D)             (None, 4, 5)              35        \n",
            "                                                                 \n",
            " max_pooling1d (MaxPooling1  (None, 2, 5)              0         \n",
            " D)                                                              \n",
            "                                                                 \n",
            " lstm (LSTM)                 (None, 3)                 108       \n",
            "                                                                 \n",
            " dense (Dense)               (None, 1)                 4         \n",
            "                                                                 \n",
            "=================================================================\n",
            "Total params: 147 (588.00 Byte)\n",
            "Trainable params: 147 (588.00 Byte)\n",
            "Non-trainable params: 0 (0.00 Byte)\n",
            "_________________________________________________________________\n"
          ]
        }
      ],
      "source": [
        "from tensorflow.keras.models import Sequential\n",
        "from tensorflow.keras.layers import Dense, LSTM, Conv1D, MaxPooling1D\n",
        "\n",
        "model = Sequential()\n",
        "model.add(Conv1D(filters=5, kernel_size=2, activation='relu', input_shape=(n_input, n_features)))\n",
        "model.add(MaxPooling1D(pool_size=2))\n",
        "# No Flatten layer here; LSTM can handle 3D input directly after Conv1D and MaxPooling1D\n",
        "model.add(LSTM(3, activation='relu'))\n",
        "model.add(Dense(1))\n",
        "\n",
        "model.compile(optimizer='adam', loss='mse')\n",
        "model.summary()\n"
      ]
    },
    {
      "cell_type": "code",
      "execution_count": 8,
      "metadata": {
        "colab": {
          "base_uri": "https://localhost:8080/"
        },
        "id": "da2tMOI4wzwI",
        "outputId": "95af751d-2f58-4e15-85a8-d91e15b5565a"
      },
      "outputs": [
        {
          "output_type": "stream",
          "name": "stdout",
          "text": [
            "Epoch 1/5\n",
            "95899/95899 [==============================] - 486s 5ms/step - loss: 0.0385\n",
            "Epoch 2/5\n",
            "95899/95899 [==============================] - 476s 5ms/step - loss: 0.0246\n",
            "Epoch 3/5\n",
            "95899/95899 [==============================] - 477s 5ms/step - loss: 0.0236\n",
            "Epoch 4/5\n",
            "95899/95899 [==============================] - 477s 5ms/step - loss: 0.0232\n",
            "Epoch 5/5\n",
            "95899/95899 [==============================] - 476s 5ms/step - loss: 0.0229\n"
          ]
        }
      ],
      "source": [
        "# Train the model\n",
        "history = model.fit(train_generator, epochs=5, verbose=1)\n"
      ]
    },
    {
      "cell_type": "code",
      "execution_count": 10,
      "metadata": {
        "colab": {
          "base_uri": "https://localhost:8080/",
          "height": 581
        },
        "id": "sf4JyYZzw12v",
        "outputId": "dcaf5d42-a69c-426f-9070-710277145cf1"
      },
      "outputs": [
        {
          "output_type": "stream",
          "name": "stdout",
          "text": [
            "23971/23971 [==============================] - 44s 2ms/step\n"
          ]
        },
        {
          "output_type": "display_data",
          "data": {
            "text/plain": [
              "<Figure size 1000x600 with 1 Axes>"
            ],
            "image/png": "[encoded data removed]"
          },
          "metadata": {}
        }
      ],
      "source": [
        "import matplotlib.pyplot as plt\n",
        "\n",
        "# Make predictions\n",
        "predictions = model.predict(test_generator)\n",
        "\n",
        "# Since the test_generator reduces the length of the test set by n_input, adjust the y_test accordingly\n",
        "adjusted_y_test = y_test[n_input:]\n",
        "\n",
        "# Plotting the results\n",
        "plt.figure(figsize=(10, 6))\n",
        "plt.plot(adjusted_y_test, label='Actual Flow', color='blue')\n",
        "plt.plot(predictions, label='Predicted Flow', color='red', linestyle='--')\n",
        "plt.title('Flow Prediction vs Actual Flow')\n",
        "plt.xlabel('Time Steps')\n",
        "plt.ylabel('Flow [L/s]')\n",
        "plt.legend()\n",
        "plt.show()"
      ]
    },
    {
      "cell_type": "code",
      "source": [],
      "metadata": {
        "id": "kZjYHcQyr0pz"
      },
      "execution_count": null,
      "outputs": []
    }
  ],
  "metadata": {
    "accelerator": "GPU",
    "colab": {
      "gpuType": "V100",
      "provenance": [],
      "machine_shape": "hm",
      "authorship_tag": "ABX9TyMyXaaaTF6Yk29b4BMJMu6H",
      "include_colab_link": true
    },
    "kernelspec": {
      "display_name": "Python 3",
      "name": "python3"
    },
    "language_info": {
      "name": "python"
    }
  },
  "nbformat": 4,
  "nbformat_minor": 0
}