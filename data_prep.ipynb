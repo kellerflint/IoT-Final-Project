{
 "cells": [
  {
   "cell_type": "markdown",
   "metadata": {},
   "source": [
    "# Preparing Data Frame(s)"
   ]
  },
  {
   "cell_type": "code",
   "execution_count": 1,
   "metadata": {},
   "outputs": [
    {
     "name": "stdout",
     "output_type": "stream",
     "text": [
      "            Time [s]  Pressure [cmH2O]  Flow [L/s]  V_tidal [L]   Chest [mm]  \\\n",
      "119837 -1.000000e-02          2.703454   -0.610317     0.117958  1048.261347   \n",
      "119838 -3.635980e-14          2.757094   -0.610317     0.111855  1048.261347   \n",
      "119839  1.000000e-02          2.832189   -0.668600     0.105461  1048.261347   \n",
      "119840  2.000000e-02          2.918013   -0.610317     0.099066  1048.261347   \n",
      "119841  3.000000e-02          2.993109   -0.686929     0.092580  1048.261347   \n",
      "\n",
      "           Abd [mm]  Inspiratory Indicies  Time (Aeration Data)_[s]  \\\n",
      "119837  1031.678708                   209                      0.02   \n",
      "119838  1031.678708                   600                      0.04   \n",
      "119839  1031.678708                  1124                      0.06   \n",
      "119840  1031.678708                  1705                      0.08   \n",
      "119841  1031.678708                  2126                      0.10   \n",
      "\n",
      "        Global Aeration  Inspiratory Indicies (Aeration Data)  ...  \\\n",
      "119837      6814.612475                                 104.0  ...   \n",
      "119838      6766.346441                                 300.0  ...   \n",
      "119839      6705.656658                                 562.0  ...   \n",
      "119840      6632.725560                                 852.0  ...   \n",
      "119841      6549.686596                                1063.0  ...   \n",
      "\n",
      "        Smoking Frequency Time as a smoker   History of Vaping (Y/N)  \\\n",
      "119837                NaN               NaN                        Y   \n",
      "119838                NaN               NaN                        Y   \n",
      "119839                NaN               NaN                        Y   \n",
      "119840                NaN               NaN                        Y   \n",
      "119841                NaN               NaN                        Y   \n",
      "\n",
      "        Current Vaper (Y/N)  How long since you quit vaping Vaping Frequency  \\\n",
      "119837                    Y                             NaN    4 times daily   \n",
      "119838                    Y                             NaN    4 times daily   \n",
      "119839                    Y                             NaN    4 times daily   \n",
      "119840                    Y                             NaN    4 times daily   \n",
      "119841                    Y                             NaN    4 times daily   \n",
      "\n",
      "       Time as a vaper Trial Classification  Chest Depth [mm] Chest Width [mm]  \n",
      "119837         2 years      Asthmatic Female             25.0             33.0  \n",
      "119838         2 years      Asthmatic Female             25.0             33.0  \n",
      "119839         2 years      Asthmatic Female             25.0             33.0  \n",
      "119840         2 years      Asthmatic Female             25.0             33.0  \n",
      "119841         2 years      Asthmatic Female             25.0             33.0  \n",
      "\n",
      "[5 rows x 31 columns]\n"
     ]
    }
   ],
   "source": [
    "#####\n",
    "#####\n",
    "\n",
    "# combined_df: contains all of the measurement data for every subject with their subject information\n",
    "\n",
    "# subject_info_df: contains only the subject information\n",
    "\n",
    "# data_dfs: contains a list of all of the measurements data for each subject. \n",
    "# data_dfs[0] would get first subject's measurement data.\n",
    "\n",
    "#####\n",
    "#####\n",
    "\n",
    "import pandas as pd\n",
    "import glob\n",
    "\n",
    "# Read in files\n",
    "files = glob.glob('data/ProcessedData_Subject*.csv')\n",
    "subject_info_df = pd.read_csv('data/subject-info.csv')\n",
    "\n",
    "\n",
    "data_dfs = []\n",
    "\n",
    "for filepath in files:\n",
    "    df = pd.read_csv(filepath)\n",
    "    \n",
    "    # Extract subject number from path\n",
    "    df['Subject Number'] = filepath.split('/')[-1].split('_Subject')[1].split('.')[0].lstrip('0')\n",
    "    \n",
    "    data_dfs.append(df)\n",
    "\n",
    "combined_df = pd.concat(data_dfs, axis=0, ignore_index=True)\n",
    "\n",
    "combined_df['Subject Number'] = combined_df['Subject Number'].astype(int)\n",
    "subject_info_df['Subject Number'] = subject_info_df['Subject Number'].astype(int)\n",
    "\n",
    "combined_df = pd.merge(combined_df, subject_info_df, on='Subject Number')\n",
    "\n",
    "print(combined_df[combined_df['Subject Number'] == 2].head())"
   ]
  }
 ],
 "metadata": {
  "kernelspec": {
   "display_name": "Python 3",
   "language": "python",
   "name": "python3"
  },
  "language_info": {
   "codemirror_mode": {
    "name": "ipython",
    "version": 3
   },
   "file_extension": ".py",
   "mimetype": "text/x-python",
   "name": "python",
   "nbconvert_exporter": "python",
   "pygments_lexer": "ipython3",
   "version": "3.11.3"
  }
 },
 "nbformat": 4,
 "nbformat_minor": 2
}
