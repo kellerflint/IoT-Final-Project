{
  "cells": [
    {
      "cell_type": "markdown",
      "metadata": {
        "id": "view-in-github",
        "colab_type": "text"
      },
      "source": [
        "<a href=\"https://colab.research.google.com/github/kellerflint/IoT-Final-Project/blob/angelb/Regular_model1.ipynb\" target=\"_parent\"><img src=\"https://colab.research.google.com/assets/colab-badge.svg\" alt=\"Open In Colab\"/></a>"
      ]
    },
    {
      "cell_type": "code",
      "execution_count": null,
      "metadata": {
        "colab": {
          "base_uri": "https://localhost:8080/"
        },
        "id": "9U1iX3gEp8BN",
        "outputId": "99820fe9-8c94-4548-d6a0-a36f80f04903"
      },
      "outputs": [
        {
          "name": "stdout",
          "output_type": "stream",
          "text": [
            "Mounted at /content/drive\n"
          ]
        }
      ],
      "source": [
        "from google.colab import drive\n",
        "drive.mount('/content/drive')"
      ]
    },
    {
      "cell_type": "code",
      "execution_count": null,
      "metadata": {
        "colab": {
          "base_uri": "https://localhost:8080/"
        },
        "id": "cc7RBO2_qCT5",
        "outputId": "6307b6fc-d2d7-49e6-e594-3610995a674a"
      },
      "outputs": [
        {
          "name": "stderr",
          "output_type": "stream",
          "text": [
            "<ipython-input-2-235a82f6e2df>:15: SettingWithCopyWarning: \n",
            "A value is trying to be set on a copy of a slice from a DataFrame\n",
            "\n",
            "See the caveats in the documentation: https://pandas.pydata.org/pandas-docs/stable/user_guide/indexing.html#returning-a-view-versus-a-copy\n",
            "  df.loc[:, columns] = scaler.fit_transform(df[columns])\n"
          ]
        },
        {
          "name": "stdout",
          "output_type": "stream",
          "text": [
            "Processed and saved: /content/drive/MyDrive/Data/StandardData/ProcessedStandardizedData_Subject01.csv\n"
          ]
        },
        {
          "name": "stderr",
          "output_type": "stream",
          "text": [
            "<ipython-input-2-235a82f6e2df>:15: SettingWithCopyWarning: \n",
            "A value is trying to be set on a copy of a slice from a DataFrame\n",
            "\n",
            "See the caveats in the documentation: https://pandas.pydata.org/pandas-docs/stable/user_guide/indexing.html#returning-a-view-versus-a-copy\n",
            "  df.loc[:, columns] = scaler.fit_transform(df[columns])\n"
          ]
        },
        {
          "name": "stdout",
          "output_type": "stream",
          "text": [
            "Processed and saved: /content/drive/MyDrive/Data/StandardData/ProcessedStandardizedData_Subject04.csv\n"
          ]
        },
        {
          "name": "stderr",
          "output_type": "stream",
          "text": [
            "<ipython-input-2-235a82f6e2df>:15: SettingWithCopyWarning: \n",
            "A value is trying to be set on a copy of a slice from a DataFrame\n",
            "\n",
            "See the caveats in the documentation: https://pandas.pydata.org/pandas-docs/stable/user_guide/indexing.html#returning-a-view-versus-a-copy\n",
            "  df.loc[:, columns] = scaler.fit_transform(df[columns])\n"
          ]
        },
        {
          "name": "stdout",
          "output_type": "stream",
          "text": [
            "Processed and saved: /content/drive/MyDrive/Data/StandardData/ProcessedStandardizedData_Subject02.csv\n"
          ]
        },
        {
          "name": "stderr",
          "output_type": "stream",
          "text": [
            "<ipython-input-2-235a82f6e2df>:15: SettingWithCopyWarning: \n",
            "A value is trying to be set on a copy of a slice from a DataFrame\n",
            "\n",
            "See the caveats in the documentation: https://pandas.pydata.org/pandas-docs/stable/user_guide/indexing.html#returning-a-view-versus-a-copy\n",
            "  df.loc[:, columns] = scaler.fit_transform(df[columns])\n"
          ]
        },
        {
          "name": "stdout",
          "output_type": "stream",
          "text": [
            "Processed and saved: /content/drive/MyDrive/Data/StandardData/ProcessedStandardizedData_Subject06.csv\n",
            "Processed and saved: /content/drive/MyDrive/Data/StandardData/ProcessedStandardizedData_Subject08.csv\n"
          ]
        },
        {
          "name": "stderr",
          "output_type": "stream",
          "text": [
            "<ipython-input-2-235a82f6e2df>:15: SettingWithCopyWarning: \n",
            "A value is trying to be set on a copy of a slice from a DataFrame\n",
            "\n",
            "See the caveats in the documentation: https://pandas.pydata.org/pandas-docs/stable/user_guide/indexing.html#returning-a-view-versus-a-copy\n",
            "  df.loc[:, columns] = scaler.fit_transform(df[columns])\n"
          ]
        },
        {
          "name": "stdout",
          "output_type": "stream",
          "text": [
            "Processed and saved: /content/drive/MyDrive/Data/StandardData/ProcessedStandardizedData_Subject05.csv\n"
          ]
        },
        {
          "name": "stderr",
          "output_type": "stream",
          "text": [
            "<ipython-input-2-235a82f6e2df>:15: SettingWithCopyWarning: \n",
            "A value is trying to be set on a copy of a slice from a DataFrame\n",
            "\n",
            "See the caveats in the documentation: https://pandas.pydata.org/pandas-docs/stable/user_guide/indexing.html#returning-a-view-versus-a-copy\n",
            "  df.loc[:, columns] = scaler.fit_transform(df[columns])\n"
          ]
        },
        {
          "name": "stdout",
          "output_type": "stream",
          "text": [
            "Processed and saved: /content/drive/MyDrive/Data/StandardData/ProcessedStandardizedData_Subject03.csv\n"
          ]
        },
        {
          "name": "stderr",
          "output_type": "stream",
          "text": [
            "<ipython-input-2-235a82f6e2df>:15: SettingWithCopyWarning: \n",
            "A value is trying to be set on a copy of a slice from a DataFrame\n",
            "\n",
            "See the caveats in the documentation: https://pandas.pydata.org/pandas-docs/stable/user_guide/indexing.html#returning-a-view-versus-a-copy\n",
            "  df.loc[:, columns] = scaler.fit_transform(df[columns])\n"
          ]
        },
        {
          "name": "stdout",
          "output_type": "stream",
          "text": [
            "Processed and saved: /content/drive/MyDrive/Data/StandardData/ProcessedStandardizedData_Subject07.csv\n",
            "Processed and saved: /content/drive/MyDrive/Data/StandardData/ProcessedStandardizedData_Subject12.csv\n"
          ]
        },
        {
          "name": "stderr",
          "output_type": "stream",
          "text": [
            "<ipython-input-2-235a82f6e2df>:15: SettingWithCopyWarning: \n",
            "A value is trying to be set on a copy of a slice from a DataFrame\n",
            "\n",
            "See the caveats in the documentation: https://pandas.pydata.org/pandas-docs/stable/user_guide/indexing.html#returning-a-view-versus-a-copy\n",
            "  df.loc[:, columns] = scaler.fit_transform(df[columns])\n"
          ]
        },
        {
          "name": "stdout",
          "output_type": "stream",
          "text": [
            "Processed and saved: /content/drive/MyDrive/Data/StandardData/ProcessedStandardizedData_Subject15.csv\n"
          ]
        },
        {
          "name": "stderr",
          "output_type": "stream",
          "text": [
            "<ipython-input-2-235a82f6e2df>:15: SettingWithCopyWarning: \n",
            "A value is trying to be set on a copy of a slice from a DataFrame\n",
            "\n",
            "See the caveats in the documentation: https://pandas.pydata.org/pandas-docs/stable/user_guide/indexing.html#returning-a-view-versus-a-copy\n",
            "  df.loc[:, columns] = scaler.fit_transform(df[columns])\n"
          ]
        },
        {
          "name": "stdout",
          "output_type": "stream",
          "text": [
            "Processed and saved: /content/drive/MyDrive/Data/StandardData/ProcessedStandardizedData_Subject10.csv\n"
          ]
        },
        {
          "name": "stderr",
          "output_type": "stream",
          "text": [
            "<ipython-input-2-235a82f6e2df>:15: SettingWithCopyWarning: \n",
            "A value is trying to be set on a copy of a slice from a DataFrame\n",
            "\n",
            "See the caveats in the documentation: https://pandas.pydata.org/pandas-docs/stable/user_guide/indexing.html#returning-a-view-versus-a-copy\n",
            "  df.loc[:, columns] = scaler.fit_transform(df[columns])\n"
          ]
        },
        {
          "name": "stdout",
          "output_type": "stream",
          "text": [
            "Processed and saved: /content/drive/MyDrive/Data/StandardData/ProcessedStandardizedData_Subject14.csv\n",
            "Processed and saved: /content/drive/MyDrive/Data/StandardData/ProcessedStandardizedData_Subject13.csv\n",
            "Processed and saved: /content/drive/MyDrive/Data/StandardData/ProcessedStandardizedData_Subject11.csv\n"
          ]
        },
        {
          "name": "stderr",
          "output_type": "stream",
          "text": [
            "<ipython-input-2-235a82f6e2df>:15: SettingWithCopyWarning: \n",
            "A value is trying to be set on a copy of a slice from a DataFrame\n",
            "\n",
            "See the caveats in the documentation: https://pandas.pydata.org/pandas-docs/stable/user_guide/indexing.html#returning-a-view-versus-a-copy\n",
            "  df.loc[:, columns] = scaler.fit_transform(df[columns])\n"
          ]
        },
        {
          "name": "stdout",
          "output_type": "stream",
          "text": [
            "Processed and saved: /content/drive/MyDrive/Data/StandardData/ProcessedStandardizedData_Subject09.csv\n"
          ]
        },
        {
          "name": "stderr",
          "output_type": "stream",
          "text": [
            "<ipython-input-2-235a82f6e2df>:15: SettingWithCopyWarning: \n",
            "A value is trying to be set on a copy of a slice from a DataFrame\n",
            "\n",
            "See the caveats in the documentation: https://pandas.pydata.org/pandas-docs/stable/user_guide/indexing.html#returning-a-view-versus-a-copy\n",
            "  df.loc[:, columns] = scaler.fit_transform(df[columns])\n"
          ]
        },
        {
          "name": "stdout",
          "output_type": "stream",
          "text": [
            "Processed and saved: /content/drive/MyDrive/Data/StandardData/ProcessedStandardizedData_Subject19.csv\n"
          ]
        },
        {
          "name": "stderr",
          "output_type": "stream",
          "text": [
            "<ipython-input-2-235a82f6e2df>:15: SettingWithCopyWarning: \n",
            "A value is trying to be set on a copy of a slice from a DataFrame\n",
            "\n",
            "See the caveats in the documentation: https://pandas.pydata.org/pandas-docs/stable/user_guide/indexing.html#returning-a-view-versus-a-copy\n",
            "  df.loc[:, columns] = scaler.fit_transform(df[columns])\n"
          ]
        },
        {
          "name": "stdout",
          "output_type": "stream",
          "text": [
            "Processed and saved: /content/drive/MyDrive/Data/StandardData/ProcessedStandardizedData_Subject20.csv\n"
          ]
        },
        {
          "name": "stderr",
          "output_type": "stream",
          "text": [
            "<ipython-input-2-235a82f6e2df>:15: SettingWithCopyWarning: \n",
            "A value is trying to be set on a copy of a slice from a DataFrame\n",
            "\n",
            "See the caveats in the documentation: https://pandas.pydata.org/pandas-docs/stable/user_guide/indexing.html#returning-a-view-versus-a-copy\n",
            "  df.loc[:, columns] = scaler.fit_transform(df[columns])\n"
          ]
        },
        {
          "name": "stdout",
          "output_type": "stream",
          "text": [
            "Processed and saved: /content/drive/MyDrive/Data/StandardData/ProcessedStandardizedData_Subject21.csv\n"
          ]
        },
        {
          "name": "stderr",
          "output_type": "stream",
          "text": [
            "<ipython-input-2-235a82f6e2df>:15: SettingWithCopyWarning: \n",
            "A value is trying to be set on a copy of a slice from a DataFrame\n",
            "\n",
            "See the caveats in the documentation: https://pandas.pydata.org/pandas-docs/stable/user_guide/indexing.html#returning-a-view-versus-a-copy\n",
            "  df.loc[:, columns] = scaler.fit_transform(df[columns])\n"
          ]
        },
        {
          "name": "stdout",
          "output_type": "stream",
          "text": [
            "Processed and saved: /content/drive/MyDrive/Data/StandardData/ProcessedStandardizedData_Subject18.csv\n"
          ]
        },
        {
          "name": "stderr",
          "output_type": "stream",
          "text": [
            "<ipython-input-2-235a82f6e2df>:15: SettingWithCopyWarning: \n",
            "A value is trying to be set on a copy of a slice from a DataFrame\n",
            "\n",
            "See the caveats in the documentation: https://pandas.pydata.org/pandas-docs/stable/user_guide/indexing.html#returning-a-view-versus-a-copy\n",
            "  df.loc[:, columns] = scaler.fit_transform(df[columns])\n"
          ]
        },
        {
          "name": "stdout",
          "output_type": "stream",
          "text": [
            "Processed and saved: /content/drive/MyDrive/Data/StandardData/ProcessedStandardizedData_Subject22.csv\n"
          ]
        },
        {
          "name": "stderr",
          "output_type": "stream",
          "text": [
            "<ipython-input-2-235a82f6e2df>:15: SettingWithCopyWarning: \n",
            "A value is trying to be set on a copy of a slice from a DataFrame\n",
            "\n",
            "See the caveats in the documentation: https://pandas.pydata.org/pandas-docs/stable/user_guide/indexing.html#returning-a-view-versus-a-copy\n",
            "  df.loc[:, columns] = scaler.fit_transform(df[columns])\n"
          ]
        },
        {
          "name": "stdout",
          "output_type": "stream",
          "text": [
            "Processed and saved: /content/drive/MyDrive/Data/StandardData/ProcessedStandardizedData_Subject16.csv\n",
            "Processed and saved: /content/drive/MyDrive/Data/StandardData/ProcessedStandardizedData_Subject17.csv\n"
          ]
        },
        {
          "name": "stderr",
          "output_type": "stream",
          "text": [
            "<ipython-input-2-235a82f6e2df>:15: SettingWithCopyWarning: \n",
            "A value is trying to be set on a copy of a slice from a DataFrame\n",
            "\n",
            "See the caveats in the documentation: https://pandas.pydata.org/pandas-docs/stable/user_guide/indexing.html#returning-a-view-versus-a-copy\n",
            "  df.loc[:, columns] = scaler.fit_transform(df[columns])\n"
          ]
        },
        {
          "name": "stdout",
          "output_type": "stream",
          "text": [
            "Processed and saved: /content/drive/MyDrive/Data/StandardData/ProcessedStandardizedData_Subject24.csv\n"
          ]
        },
        {
          "name": "stderr",
          "output_type": "stream",
          "text": [
            "<ipython-input-2-235a82f6e2df>:15: SettingWithCopyWarning: \n",
            "A value is trying to be set on a copy of a slice from a DataFrame\n",
            "\n",
            "See the caveats in the documentation: https://pandas.pydata.org/pandas-docs/stable/user_guide/indexing.html#returning-a-view-versus-a-copy\n",
            "  df.loc[:, columns] = scaler.fit_transform(df[columns])\n"
          ]
        },
        {
          "name": "stdout",
          "output_type": "stream",
          "text": [
            "Processed and saved: /content/drive/MyDrive/Data/StandardData/ProcessedStandardizedData_Subject28.csv\n",
            "Processed and saved: /content/drive/MyDrive/Data/StandardData/ProcessedStandardizedData_Subject26.csv\n"
          ]
        },
        {
          "name": "stderr",
          "output_type": "stream",
          "text": [
            "<ipython-input-2-235a82f6e2df>:15: SettingWithCopyWarning: \n",
            "A value is trying to be set on a copy of a slice from a DataFrame\n",
            "\n",
            "See the caveats in the documentation: https://pandas.pydata.org/pandas-docs/stable/user_guide/indexing.html#returning-a-view-versus-a-copy\n",
            "  df.loc[:, columns] = scaler.fit_transform(df[columns])\n"
          ]
        },
        {
          "name": "stdout",
          "output_type": "stream",
          "text": [
            "Processed and saved: /content/drive/MyDrive/Data/StandardData/ProcessedStandardizedData_Subject25.csv\n"
          ]
        },
        {
          "name": "stderr",
          "output_type": "stream",
          "text": [
            "<ipython-input-2-235a82f6e2df>:15: SettingWithCopyWarning: \n",
            "A value is trying to be set on a copy of a slice from a DataFrame\n",
            "\n",
            "See the caveats in the documentation: https://pandas.pydata.org/pandas-docs/stable/user_guide/indexing.html#returning-a-view-versus-a-copy\n",
            "  df.loc[:, columns] = scaler.fit_transform(df[columns])\n"
          ]
        },
        {
          "name": "stdout",
          "output_type": "stream",
          "text": [
            "Processed and saved: /content/drive/MyDrive/Data/StandardData/ProcessedStandardizedData_Subject23.csv\n"
          ]
        },
        {
          "name": "stderr",
          "output_type": "stream",
          "text": [
            "<ipython-input-2-235a82f6e2df>:15: SettingWithCopyWarning: \n",
            "A value is trying to be set on a copy of a slice from a DataFrame\n",
            "\n",
            "See the caveats in the documentation: https://pandas.pydata.org/pandas-docs/stable/user_guide/indexing.html#returning-a-view-versus-a-copy\n",
            "  df.loc[:, columns] = scaler.fit_transform(df[columns])\n"
          ]
        },
        {
          "name": "stdout",
          "output_type": "stream",
          "text": [
            "Processed and saved: /content/drive/MyDrive/Data/StandardData/ProcessedStandardizedData_Subject29.csv\n"
          ]
        },
        {
          "name": "stderr",
          "output_type": "stream",
          "text": [
            "<ipython-input-2-235a82f6e2df>:15: SettingWithCopyWarning: \n",
            "A value is trying to be set on a copy of a slice from a DataFrame\n",
            "\n",
            "See the caveats in the documentation: https://pandas.pydata.org/pandas-docs/stable/user_guide/indexing.html#returning-a-view-versus-a-copy\n",
            "  df.loc[:, columns] = scaler.fit_transform(df[columns])\n"
          ]
        },
        {
          "name": "stdout",
          "output_type": "stream",
          "text": [
            "Processed and saved: /content/drive/MyDrive/Data/StandardData/ProcessedStandardizedData_Subject27.csv\n"
          ]
        },
        {
          "name": "stderr",
          "output_type": "stream",
          "text": [
            "<ipython-input-2-235a82f6e2df>:15: SettingWithCopyWarning: \n",
            "A value is trying to be set on a copy of a slice from a DataFrame\n",
            "\n",
            "See the caveats in the documentation: https://pandas.pydata.org/pandas-docs/stable/user_guide/indexing.html#returning-a-view-versus-a-copy\n",
            "  df.loc[:, columns] = scaler.fit_transform(df[columns])\n"
          ]
        },
        {
          "name": "stdout",
          "output_type": "stream",
          "text": [
            "Processed and saved: /content/drive/MyDrive/Data/StandardData/ProcessedStandardizedData_Subject34.csv\n"
          ]
        },
        {
          "name": "stderr",
          "output_type": "stream",
          "text": [
            "<ipython-input-2-235a82f6e2df>:15: SettingWithCopyWarning: \n",
            "A value is trying to be set on a copy of a slice from a DataFrame\n",
            "\n",
            "See the caveats in the documentation: https://pandas.pydata.org/pandas-docs/stable/user_guide/indexing.html#returning-a-view-versus-a-copy\n",
            "  df.loc[:, columns] = scaler.fit_transform(df[columns])\n"
          ]
        },
        {
          "name": "stdout",
          "output_type": "stream",
          "text": [
            "Processed and saved: /content/drive/MyDrive/Data/StandardData/ProcessedStandardizedData_Subject36.csv\n"
          ]
        },
        {
          "name": "stderr",
          "output_type": "stream",
          "text": [
            "<ipython-input-2-235a82f6e2df>:15: SettingWithCopyWarning: \n",
            "A value is trying to be set on a copy of a slice from a DataFrame\n",
            "\n",
            "See the caveats in the documentation: https://pandas.pydata.org/pandas-docs/stable/user_guide/indexing.html#returning-a-view-versus-a-copy\n",
            "  df.loc[:, columns] = scaler.fit_transform(df[columns])\n"
          ]
        },
        {
          "name": "stdout",
          "output_type": "stream",
          "text": [
            "Processed and saved: /content/drive/MyDrive/Data/StandardData/ProcessedStandardizedData_Subject35.csv\n"
          ]
        },
        {
          "name": "stderr",
          "output_type": "stream",
          "text": [
            "<ipython-input-2-235a82f6e2df>:15: SettingWithCopyWarning: \n",
            "A value is trying to be set on a copy of a slice from a DataFrame\n",
            "\n",
            "See the caveats in the documentation: https://pandas.pydata.org/pandas-docs/stable/user_guide/indexing.html#returning-a-view-versus-a-copy\n",
            "  df.loc[:, columns] = scaler.fit_transform(df[columns])\n"
          ]
        },
        {
          "name": "stdout",
          "output_type": "stream",
          "text": [
            "Processed and saved: /content/drive/MyDrive/Data/StandardData/ProcessedStandardizedData_Subject32.csv\n"
          ]
        },
        {
          "name": "stderr",
          "output_type": "stream",
          "text": [
            "<ipython-input-2-235a82f6e2df>:15: SettingWithCopyWarning: \n",
            "A value is trying to be set on a copy of a slice from a DataFrame\n",
            "\n",
            "See the caveats in the documentation: https://pandas.pydata.org/pandas-docs/stable/user_guide/indexing.html#returning-a-view-versus-a-copy\n",
            "  df.loc[:, columns] = scaler.fit_transform(df[columns])\n"
          ]
        },
        {
          "name": "stdout",
          "output_type": "stream",
          "text": [
            "Processed and saved: /content/drive/MyDrive/Data/StandardData/ProcessedStandardizedData_Subject30.csv\n"
          ]
        },
        {
          "name": "stderr",
          "output_type": "stream",
          "text": [
            "<ipython-input-2-235a82f6e2df>:15: SettingWithCopyWarning: \n",
            "A value is trying to be set on a copy of a slice from a DataFrame\n",
            "\n",
            "See the caveats in the documentation: https://pandas.pydata.org/pandas-docs/stable/user_guide/indexing.html#returning-a-view-versus-a-copy\n",
            "  df.loc[:, columns] = scaler.fit_transform(df[columns])\n"
          ]
        },
        {
          "name": "stdout",
          "output_type": "stream",
          "text": [
            "Processed and saved: /content/drive/MyDrive/Data/StandardData/ProcessedStandardizedData_Subject33.csv\n"
          ]
        },
        {
          "name": "stderr",
          "output_type": "stream",
          "text": [
            "<ipython-input-2-235a82f6e2df>:15: SettingWithCopyWarning: \n",
            "A value is trying to be set on a copy of a slice from a DataFrame\n",
            "\n",
            "See the caveats in the documentation: https://pandas.pydata.org/pandas-docs/stable/user_guide/indexing.html#returning-a-view-versus-a-copy\n",
            "  df.loc[:, columns] = scaler.fit_transform(df[columns])\n"
          ]
        },
        {
          "name": "stdout",
          "output_type": "stream",
          "text": [
            "Processed and saved: /content/drive/MyDrive/Data/StandardData/ProcessedStandardizedData_Subject31.csv\n"
          ]
        },
        {
          "name": "stderr",
          "output_type": "stream",
          "text": [
            "<ipython-input-2-235a82f6e2df>:15: SettingWithCopyWarning: \n",
            "A value is trying to be set on a copy of a slice from a DataFrame\n",
            "\n",
            "See the caveats in the documentation: https://pandas.pydata.org/pandas-docs/stable/user_guide/indexing.html#returning-a-view-versus-a-copy\n",
            "  df.loc[:, columns] = scaler.fit_transform(df[columns])\n"
          ]
        },
        {
          "name": "stdout",
          "output_type": "stream",
          "text": [
            "Processed and saved: /content/drive/MyDrive/Data/StandardData/ProcessedStandardizedData_Subject40.csv\n"
          ]
        },
        {
          "name": "stderr",
          "output_type": "stream",
          "text": [
            "<ipython-input-2-235a82f6e2df>:15: SettingWithCopyWarning: \n",
            "A value is trying to be set on a copy of a slice from a DataFrame\n",
            "\n",
            "See the caveats in the documentation: https://pandas.pydata.org/pandas-docs/stable/user_guide/indexing.html#returning-a-view-versus-a-copy\n",
            "  df.loc[:, columns] = scaler.fit_transform(df[columns])\n"
          ]
        },
        {
          "name": "stdout",
          "output_type": "stream",
          "text": [
            "Processed and saved: /content/drive/MyDrive/Data/StandardData/ProcessedStandardizedData_Subject42.csv\n"
          ]
        },
        {
          "name": "stderr",
          "output_type": "stream",
          "text": [
            "<ipython-input-2-235a82f6e2df>:15: SettingWithCopyWarning: \n",
            "A value is trying to be set on a copy of a slice from a DataFrame\n",
            "\n",
            "See the caveats in the documentation: https://pandas.pydata.org/pandas-docs/stable/user_guide/indexing.html#returning-a-view-versus-a-copy\n",
            "  df.loc[:, columns] = scaler.fit_transform(df[columns])\n"
          ]
        },
        {
          "name": "stdout",
          "output_type": "stream",
          "text": [
            "Processed and saved: /content/drive/MyDrive/Data/StandardData/ProcessedStandardizedData_Subject41.csv\n"
          ]
        },
        {
          "name": "stderr",
          "output_type": "stream",
          "text": [
            "<ipython-input-2-235a82f6e2df>:15: SettingWithCopyWarning: \n",
            "A value is trying to be set on a copy of a slice from a DataFrame\n",
            "\n",
            "See the caveats in the documentation: https://pandas.pydata.org/pandas-docs/stable/user_guide/indexing.html#returning-a-view-versus-a-copy\n",
            "  df.loc[:, columns] = scaler.fit_transform(df[columns])\n"
          ]
        },
        {
          "name": "stdout",
          "output_type": "stream",
          "text": [
            "Processed and saved: /content/drive/MyDrive/Data/StandardData/ProcessedStandardizedData_Subject38.csv\n"
          ]
        },
        {
          "name": "stderr",
          "output_type": "stream",
          "text": [
            "<ipython-input-2-235a82f6e2df>:15: SettingWithCopyWarning: \n",
            "A value is trying to be set on a copy of a slice from a DataFrame\n",
            "\n",
            "See the caveats in the documentation: https://pandas.pydata.org/pandas-docs/stable/user_guide/indexing.html#returning-a-view-versus-a-copy\n",
            "  df.loc[:, columns] = scaler.fit_transform(df[columns])\n"
          ]
        },
        {
          "name": "stdout",
          "output_type": "stream",
          "text": [
            "Processed and saved: /content/drive/MyDrive/Data/StandardData/ProcessedStandardizedData_Subject37.csv\n"
          ]
        },
        {
          "name": "stderr",
          "output_type": "stream",
          "text": [
            "<ipython-input-2-235a82f6e2df>:15: SettingWithCopyWarning: \n",
            "A value is trying to be set on a copy of a slice from a DataFrame\n",
            "\n",
            "See the caveats in the documentation: https://pandas.pydata.org/pandas-docs/stable/user_guide/indexing.html#returning-a-view-versus-a-copy\n",
            "  df.loc[:, columns] = scaler.fit_transform(df[columns])\n"
          ]
        },
        {
          "name": "stdout",
          "output_type": "stream",
          "text": [
            "Processed and saved: /content/drive/MyDrive/Data/StandardData/ProcessedStandardizedData_Subject39.csv\n"
          ]
        },
        {
          "name": "stderr",
          "output_type": "stream",
          "text": [
            "<ipython-input-2-235a82f6e2df>:15: SettingWithCopyWarning: \n",
            "A value is trying to be set on a copy of a slice from a DataFrame\n",
            "\n",
            "See the caveats in the documentation: https://pandas.pydata.org/pandas-docs/stable/user_guide/indexing.html#returning-a-view-versus-a-copy\n",
            "  df.loc[:, columns] = scaler.fit_transform(df[columns])\n"
          ]
        },
        {
          "name": "stdout",
          "output_type": "stream",
          "text": [
            "Processed and saved: /content/drive/MyDrive/Data/StandardData/ProcessedStandardizedData_Subject47.csv\n"
          ]
        },
        {
          "name": "stderr",
          "output_type": "stream",
          "text": [
            "<ipython-input-2-235a82f6e2df>:15: SettingWithCopyWarning: \n",
            "A value is trying to be set on a copy of a slice from a DataFrame\n",
            "\n",
            "See the caveats in the documentation: https://pandas.pydata.org/pandas-docs/stable/user_guide/indexing.html#returning-a-view-versus-a-copy\n",
            "  df.loc[:, columns] = scaler.fit_transform(df[columns])\n"
          ]
        },
        {
          "name": "stdout",
          "output_type": "stream",
          "text": [
            "Processed and saved: /content/drive/MyDrive/Data/StandardData/ProcessedStandardizedData_Subject50.csv\n"
          ]
        },
        {
          "name": "stderr",
          "output_type": "stream",
          "text": [
            "<ipython-input-2-235a82f6e2df>:15: SettingWithCopyWarning: \n",
            "A value is trying to be set on a copy of a slice from a DataFrame\n",
            "\n",
            "See the caveats in the documentation: https://pandas.pydata.org/pandas-docs/stable/user_guide/indexing.html#returning-a-view-versus-a-copy\n",
            "  df.loc[:, columns] = scaler.fit_transform(df[columns])\n"
          ]
        },
        {
          "name": "stdout",
          "output_type": "stream",
          "text": [
            "Processed and saved: /content/drive/MyDrive/Data/StandardData/ProcessedStandardizedData_Subject44.csv\n"
          ]
        },
        {
          "name": "stderr",
          "output_type": "stream",
          "text": [
            "<ipython-input-2-235a82f6e2df>:15: SettingWithCopyWarning: \n",
            "A value is trying to be set on a copy of a slice from a DataFrame\n",
            "\n",
            "See the caveats in the documentation: https://pandas.pydata.org/pandas-docs/stable/user_guide/indexing.html#returning-a-view-versus-a-copy\n",
            "  df.loc[:, columns] = scaler.fit_transform(df[columns])\n"
          ]
        },
        {
          "name": "stdout",
          "output_type": "stream",
          "text": [
            "Processed and saved: /content/drive/MyDrive/Data/StandardData/ProcessedStandardizedData_Subject45.csv\n"
          ]
        },
        {
          "name": "stderr",
          "output_type": "stream",
          "text": [
            "<ipython-input-2-235a82f6e2df>:15: SettingWithCopyWarning: \n",
            "A value is trying to be set on a copy of a slice from a DataFrame\n",
            "\n",
            "See the caveats in the documentation: https://pandas.pydata.org/pandas-docs/stable/user_guide/indexing.html#returning-a-view-versus-a-copy\n",
            "  df.loc[:, columns] = scaler.fit_transform(df[columns])\n"
          ]
        },
        {
          "name": "stdout",
          "output_type": "stream",
          "text": [
            "Processed and saved: /content/drive/MyDrive/Data/StandardData/ProcessedStandardizedData_Subject46.csv\n"
          ]
        },
        {
          "name": "stderr",
          "output_type": "stream",
          "text": [
            "<ipython-input-2-235a82f6e2df>:15: SettingWithCopyWarning: \n",
            "A value is trying to be set on a copy of a slice from a DataFrame\n",
            "\n",
            "See the caveats in the documentation: https://pandas.pydata.org/pandas-docs/stable/user_guide/indexing.html#returning-a-view-versus-a-copy\n",
            "  df.loc[:, columns] = scaler.fit_transform(df[columns])\n"
          ]
        },
        {
          "name": "stdout",
          "output_type": "stream",
          "text": [
            "Processed and saved: /content/drive/MyDrive/Data/StandardData/ProcessedStandardizedData_Subject49.csv\n"
          ]
        },
        {
          "name": "stderr",
          "output_type": "stream",
          "text": [
            "<ipython-input-2-235a82f6e2df>:15: SettingWithCopyWarning: \n",
            "A value is trying to be set on a copy of a slice from a DataFrame\n",
            "\n",
            "See the caveats in the documentation: https://pandas.pydata.org/pandas-docs/stable/user_guide/indexing.html#returning-a-view-versus-a-copy\n",
            "  df.loc[:, columns] = scaler.fit_transform(df[columns])\n"
          ]
        },
        {
          "name": "stdout",
          "output_type": "stream",
          "text": [
            "Processed and saved: /content/drive/MyDrive/Data/StandardData/ProcessedStandardizedData_Subject43.csv\n"
          ]
        },
        {
          "name": "stderr",
          "output_type": "stream",
          "text": [
            "<ipython-input-2-235a82f6e2df>:15: SettingWithCopyWarning: \n",
            "A value is trying to be set on a copy of a slice from a DataFrame\n",
            "\n",
            "See the caveats in the documentation: https://pandas.pydata.org/pandas-docs/stable/user_guide/indexing.html#returning-a-view-versus-a-copy\n",
            "  df.loc[:, columns] = scaler.fit_transform(df[columns])\n"
          ]
        },
        {
          "name": "stdout",
          "output_type": "stream",
          "text": [
            "Processed and saved: /content/drive/MyDrive/Data/StandardData/ProcessedStandardizedData_Subject48.csv\n"
          ]
        },
        {
          "name": "stderr",
          "output_type": "stream",
          "text": [
            "<ipython-input-2-235a82f6e2df>:15: SettingWithCopyWarning: \n",
            "A value is trying to be set on a copy of a slice from a DataFrame\n",
            "\n",
            "See the caveats in the documentation: https://pandas.pydata.org/pandas-docs/stable/user_guide/indexing.html#returning-a-view-versus-a-copy\n",
            "  df.loc[:, columns] = scaler.fit_transform(df[columns])\n"
          ]
        },
        {
          "name": "stdout",
          "output_type": "stream",
          "text": [
            "Processed and saved: /content/drive/MyDrive/Data/StandardData/ProcessedStandardizedData_Subject55.csv\n"
          ]
        },
        {
          "name": "stderr",
          "output_type": "stream",
          "text": [
            "<ipython-input-2-235a82f6e2df>:15: SettingWithCopyWarning: \n",
            "A value is trying to be set on a copy of a slice from a DataFrame\n",
            "\n",
            "See the caveats in the documentation: https://pandas.pydata.org/pandas-docs/stable/user_guide/indexing.html#returning-a-view-versus-a-copy\n",
            "  df.loc[:, columns] = scaler.fit_transform(df[columns])\n"
          ]
        },
        {
          "name": "stdout",
          "output_type": "stream",
          "text": [
            "Processed and saved: /content/drive/MyDrive/Data/StandardData/ProcessedStandardizedData_Subject51.csv\n"
          ]
        },
        {
          "name": "stderr",
          "output_type": "stream",
          "text": [
            "<ipython-input-2-235a82f6e2df>:15: SettingWithCopyWarning: \n",
            "A value is trying to be set on a copy of a slice from a DataFrame\n",
            "\n",
            "See the caveats in the documentation: https://pandas.pydata.org/pandas-docs/stable/user_guide/indexing.html#returning-a-view-versus-a-copy\n",
            "  df.loc[:, columns] = scaler.fit_transform(df[columns])\n"
          ]
        },
        {
          "name": "stdout",
          "output_type": "stream",
          "text": [
            "Processed and saved: /content/drive/MyDrive/Data/StandardData/ProcessedStandardizedData_Subject52.csv\n"
          ]
        },
        {
          "name": "stderr",
          "output_type": "stream",
          "text": [
            "<ipython-input-2-235a82f6e2df>:15: SettingWithCopyWarning: \n",
            "A value is trying to be set on a copy of a slice from a DataFrame\n",
            "\n",
            "See the caveats in the documentation: https://pandas.pydata.org/pandas-docs/stable/user_guide/indexing.html#returning-a-view-versus-a-copy\n",
            "  df.loc[:, columns] = scaler.fit_transform(df[columns])\n"
          ]
        },
        {
          "name": "stdout",
          "output_type": "stream",
          "text": [
            "Processed and saved: /content/drive/MyDrive/Data/StandardData/ProcessedStandardizedData_Subject53.csv\n"
          ]
        },
        {
          "name": "stderr",
          "output_type": "stream",
          "text": [
            "<ipython-input-2-235a82f6e2df>:15: SettingWithCopyWarning: \n",
            "A value is trying to be set on a copy of a slice from a DataFrame\n",
            "\n",
            "See the caveats in the documentation: https://pandas.pydata.org/pandas-docs/stable/user_guide/indexing.html#returning-a-view-versus-a-copy\n",
            "  df.loc[:, columns] = scaler.fit_transform(df[columns])\n"
          ]
        },
        {
          "name": "stdout",
          "output_type": "stream",
          "text": [
            "Processed and saved: /content/drive/MyDrive/Data/StandardData/ProcessedStandardizedData_Subject54.csv\n"
          ]
        },
        {
          "name": "stderr",
          "output_type": "stream",
          "text": [
            "<ipython-input-2-235a82f6e2df>:15: SettingWithCopyWarning: \n",
            "A value is trying to be set on a copy of a slice from a DataFrame\n",
            "\n",
            "See the caveats in the documentation: https://pandas.pydata.org/pandas-docs/stable/user_guide/indexing.html#returning-a-view-versus-a-copy\n",
            "  df.loc[:, columns] = scaler.fit_transform(df[columns])\n"
          ]
        },
        {
          "name": "stdout",
          "output_type": "stream",
          "text": [
            "Processed and saved: /content/drive/MyDrive/Data/StandardData/ProcessedStandardizedData_Subject56.csv\n"
          ]
        },
        {
          "name": "stderr",
          "output_type": "stream",
          "text": [
            "<ipython-input-2-235a82f6e2df>:15: SettingWithCopyWarning: \n",
            "A value is trying to be set on a copy of a slice from a DataFrame\n",
            "\n",
            "See the caveats in the documentation: https://pandas.pydata.org/pandas-docs/stable/user_guide/indexing.html#returning-a-view-versus-a-copy\n",
            "  df.loc[:, columns] = scaler.fit_transform(df[columns])\n"
          ]
        },
        {
          "name": "stdout",
          "output_type": "stream",
          "text": [
            "Processed and saved: /content/drive/MyDrive/Data/StandardData/ProcessedStandardizedData_Subject60.csv\n"
          ]
        },
        {
          "name": "stderr",
          "output_type": "stream",
          "text": [
            "<ipython-input-2-235a82f6e2df>:15: SettingWithCopyWarning: \n",
            "A value is trying to be set on a copy of a slice from a DataFrame\n",
            "\n",
            "See the caveats in the documentation: https://pandas.pydata.org/pandas-docs/stable/user_guide/indexing.html#returning-a-view-versus-a-copy\n",
            "  df.loc[:, columns] = scaler.fit_transform(df[columns])\n"
          ]
        },
        {
          "name": "stdout",
          "output_type": "stream",
          "text": [
            "Processed and saved: /content/drive/MyDrive/Data/StandardData/ProcessedStandardizedData_Subject59.csv\n"
          ]
        },
        {
          "name": "stderr",
          "output_type": "stream",
          "text": [
            "<ipython-input-2-235a82f6e2df>:15: SettingWithCopyWarning: \n",
            "A value is trying to be set on a copy of a slice from a DataFrame\n",
            "\n",
            "See the caveats in the documentation: https://pandas.pydata.org/pandas-docs/stable/user_guide/indexing.html#returning-a-view-versus-a-copy\n",
            "  df.loc[:, columns] = scaler.fit_transform(df[columns])\n"
          ]
        },
        {
          "name": "stdout",
          "output_type": "stream",
          "text": [
            "Processed and saved: /content/drive/MyDrive/Data/StandardData/ProcessedStandardizedData_Subject58.csv\n"
          ]
        },
        {
          "name": "stderr",
          "output_type": "stream",
          "text": [
            "<ipython-input-2-235a82f6e2df>:15: SettingWithCopyWarning: \n",
            "A value is trying to be set on a copy of a slice from a DataFrame\n",
            "\n",
            "See the caveats in the documentation: https://pandas.pydata.org/pandas-docs/stable/user_guide/indexing.html#returning-a-view-versus-a-copy\n",
            "  df.loc[:, columns] = scaler.fit_transform(df[columns])\n"
          ]
        },
        {
          "name": "stdout",
          "output_type": "stream",
          "text": [
            "Processed and saved: /content/drive/MyDrive/Data/StandardData/ProcessedStandardizedData_Subject57.csv\n"
          ]
        },
        {
          "name": "stderr",
          "output_type": "stream",
          "text": [
            "<ipython-input-2-235a82f6e2df>:15: SettingWithCopyWarning: \n",
            "A value is trying to be set on a copy of a slice from a DataFrame\n",
            "\n",
            "See the caveats in the documentation: https://pandas.pydata.org/pandas-docs/stable/user_guide/indexing.html#returning-a-view-versus-a-copy\n",
            "  df.loc[:, columns] = scaler.fit_transform(df[columns])\n"
          ]
        },
        {
          "name": "stdout",
          "output_type": "stream",
          "text": [
            "Processed and saved: /content/drive/MyDrive/Data/StandardData/ProcessedStandardizedData_Subject61.csv\n"
          ]
        },
        {
          "name": "stderr",
          "output_type": "stream",
          "text": [
            "<ipython-input-2-235a82f6e2df>:15: SettingWithCopyWarning: \n",
            "A value is trying to be set on a copy of a slice from a DataFrame\n",
            "\n",
            "See the caveats in the documentation: https://pandas.pydata.org/pandas-docs/stable/user_guide/indexing.html#returning-a-view-versus-a-copy\n",
            "  df.loc[:, columns] = scaler.fit_transform(df[columns])\n"
          ]
        },
        {
          "name": "stdout",
          "output_type": "stream",
          "text": [
            "Processed and saved: /content/drive/MyDrive/Data/StandardData/ProcessedStandardizedData_Subject62.csv\n"
          ]
        },
        {
          "name": "stderr",
          "output_type": "stream",
          "text": [
            "<ipython-input-2-235a82f6e2df>:15: SettingWithCopyWarning: \n",
            "A value is trying to be set on a copy of a slice from a DataFrame\n",
            "\n",
            "See the caveats in the documentation: https://pandas.pydata.org/pandas-docs/stable/user_guide/indexing.html#returning-a-view-versus-a-copy\n",
            "  df.loc[:, columns] = scaler.fit_transform(df[columns])\n"
          ]
        },
        {
          "name": "stdout",
          "output_type": "stream",
          "text": [
            "Processed and saved: /content/drive/MyDrive/Data/StandardData/ProcessedStandardizedData_Subject67.csv\n"
          ]
        },
        {
          "name": "stderr",
          "output_type": "stream",
          "text": [
            "<ipython-input-2-235a82f6e2df>:15: SettingWithCopyWarning: \n",
            "A value is trying to be set on a copy of a slice from a DataFrame\n",
            "\n",
            "See the caveats in the documentation: https://pandas.pydata.org/pandas-docs/stable/user_guide/indexing.html#returning-a-view-versus-a-copy\n",
            "  df.loc[:, columns] = scaler.fit_transform(df[columns])\n"
          ]
        },
        {
          "name": "stdout",
          "output_type": "stream",
          "text": [
            "Processed and saved: /content/drive/MyDrive/Data/StandardData/ProcessedStandardizedData_Subject63.csv\n"
          ]
        },
        {
          "name": "stderr",
          "output_type": "stream",
          "text": [
            "<ipython-input-2-235a82f6e2df>:15: SettingWithCopyWarning: \n",
            "A value is trying to be set on a copy of a slice from a DataFrame\n",
            "\n",
            "See the caveats in the documentation: https://pandas.pydata.org/pandas-docs/stable/user_guide/indexing.html#returning-a-view-versus-a-copy\n",
            "  df.loc[:, columns] = scaler.fit_transform(df[columns])\n"
          ]
        },
        {
          "name": "stdout",
          "output_type": "stream",
          "text": [
            "Processed and saved: /content/drive/MyDrive/Data/StandardData/ProcessedStandardizedData_Subject66.csv\n"
          ]
        },
        {
          "name": "stderr",
          "output_type": "stream",
          "text": [
            "<ipython-input-2-235a82f6e2df>:15: SettingWithCopyWarning: \n",
            "A value is trying to be set on a copy of a slice from a DataFrame\n",
            "\n",
            "See the caveats in the documentation: https://pandas.pydata.org/pandas-docs/stable/user_guide/indexing.html#returning-a-view-versus-a-copy\n",
            "  df.loc[:, columns] = scaler.fit_transform(df[columns])\n"
          ]
        },
        {
          "name": "stdout",
          "output_type": "stream",
          "text": [
            "Processed and saved: /content/drive/MyDrive/Data/StandardData/ProcessedStandardizedData_Subject64.csv\n"
          ]
        },
        {
          "name": "stderr",
          "output_type": "stream",
          "text": [
            "<ipython-input-2-235a82f6e2df>:15: SettingWithCopyWarning: \n",
            "A value is trying to be set on a copy of a slice from a DataFrame\n",
            "\n",
            "See the caveats in the documentation: https://pandas.pydata.org/pandas-docs/stable/user_guide/indexing.html#returning-a-view-versus-a-copy\n",
            "  df.loc[:, columns] = scaler.fit_transform(df[columns])\n"
          ]
        },
        {
          "name": "stdout",
          "output_type": "stream",
          "text": [
            "Processed and saved: /content/drive/MyDrive/Data/StandardData/ProcessedStandardizedData_Subject68.csv\n"
          ]
        },
        {
          "name": "stderr",
          "output_type": "stream",
          "text": [
            "<ipython-input-2-235a82f6e2df>:15: SettingWithCopyWarning: \n",
            "A value is trying to be set on a copy of a slice from a DataFrame\n",
            "\n",
            "See the caveats in the documentation: https://pandas.pydata.org/pandas-docs/stable/user_guide/indexing.html#returning-a-view-versus-a-copy\n",
            "  df.loc[:, columns] = scaler.fit_transform(df[columns])\n"
          ]
        },
        {
          "name": "stdout",
          "output_type": "stream",
          "text": [
            "Processed and saved: /content/drive/MyDrive/Data/StandardData/ProcessedStandardizedData_Subject65.csv\n"
          ]
        },
        {
          "name": "stderr",
          "output_type": "stream",
          "text": [
            "<ipython-input-2-235a82f6e2df>:15: SettingWithCopyWarning: \n",
            "A value is trying to be set on a copy of a slice from a DataFrame\n",
            "\n",
            "See the caveats in the documentation: https://pandas.pydata.org/pandas-docs/stable/user_guide/indexing.html#returning-a-view-versus-a-copy\n",
            "  df.loc[:, columns] = scaler.fit_transform(df[columns])\n"
          ]
        },
        {
          "name": "stdout",
          "output_type": "stream",
          "text": [
            "Processed and saved: /content/drive/MyDrive/Data/StandardData/ProcessedStandardizedData_Subject69.csv\n"
          ]
        },
        {
          "name": "stderr",
          "output_type": "stream",
          "text": [
            "<ipython-input-2-235a82f6e2df>:15: SettingWithCopyWarning: \n",
            "A value is trying to be set on a copy of a slice from a DataFrame\n",
            "\n",
            "See the caveats in the documentation: https://pandas.pydata.org/pandas-docs/stable/user_guide/indexing.html#returning-a-view-versus-a-copy\n",
            "  df.loc[:, columns] = scaler.fit_transform(df[columns])\n"
          ]
        },
        {
          "name": "stdout",
          "output_type": "stream",
          "text": [
            "Processed and saved: /content/drive/MyDrive/Data/StandardData/ProcessedStandardizedData_Subject73.csv\n"
          ]
        },
        {
          "name": "stderr",
          "output_type": "stream",
          "text": [
            "<ipython-input-2-235a82f6e2df>:15: SettingWithCopyWarning: \n",
            "A value is trying to be set on a copy of a slice from a DataFrame\n",
            "\n",
            "See the caveats in the documentation: https://pandas.pydata.org/pandas-docs/stable/user_guide/indexing.html#returning-a-view-versus-a-copy\n",
            "  df.loc[:, columns] = scaler.fit_transform(df[columns])\n"
          ]
        },
        {
          "name": "stdout",
          "output_type": "stream",
          "text": [
            "Processed and saved: /content/drive/MyDrive/Data/StandardData/ProcessedStandardizedData_Subject76.csv\n"
          ]
        },
        {
          "name": "stderr",
          "output_type": "stream",
          "text": [
            "<ipython-input-2-235a82f6e2df>:15: SettingWithCopyWarning: \n",
            "A value is trying to be set on a copy of a slice from a DataFrame\n",
            "\n",
            "See the caveats in the documentation: https://pandas.pydata.org/pandas-docs/stable/user_guide/indexing.html#returning-a-view-versus-a-copy\n",
            "  df.loc[:, columns] = scaler.fit_transform(df[columns])\n"
          ]
        },
        {
          "name": "stdout",
          "output_type": "stream",
          "text": [
            "Processed and saved: /content/drive/MyDrive/Data/StandardData/ProcessedStandardizedData_Subject74.csv\n"
          ]
        },
        {
          "name": "stderr",
          "output_type": "stream",
          "text": [
            "<ipython-input-2-235a82f6e2df>:15: SettingWithCopyWarning: \n",
            "A value is trying to be set on a copy of a slice from a DataFrame\n",
            "\n",
            "See the caveats in the documentation: https://pandas.pydata.org/pandas-docs/stable/user_guide/indexing.html#returning-a-view-versus-a-copy\n",
            "  df.loc[:, columns] = scaler.fit_transform(df[columns])\n"
          ]
        },
        {
          "name": "stdout",
          "output_type": "stream",
          "text": [
            "Processed and saved: /content/drive/MyDrive/Data/StandardData/ProcessedStandardizedData_Subject72.csv\n",
            "Processed and saved: /content/drive/MyDrive/Data/StandardData/ProcessedStandardizedData_Subject71.csv\n"
          ]
        },
        {
          "name": "stderr",
          "output_type": "stream",
          "text": [
            "<ipython-input-2-235a82f6e2df>:15: SettingWithCopyWarning: \n",
            "A value is trying to be set on a copy of a slice from a DataFrame\n",
            "\n",
            "See the caveats in the documentation: https://pandas.pydata.org/pandas-docs/stable/user_guide/indexing.html#returning-a-view-versus-a-copy\n",
            "  df.loc[:, columns] = scaler.fit_transform(df[columns])\n"
          ]
        },
        {
          "name": "stdout",
          "output_type": "stream",
          "text": [
            "Processed and saved: /content/drive/MyDrive/Data/StandardData/ProcessedStandardizedData_Subject75.csv\n"
          ]
        },
        {
          "name": "stderr",
          "output_type": "stream",
          "text": [
            "<ipython-input-2-235a82f6e2df>:15: SettingWithCopyWarning: \n",
            "A value is trying to be set on a copy of a slice from a DataFrame\n",
            "\n",
            "See the caveats in the documentation: https://pandas.pydata.org/pandas-docs/stable/user_guide/indexing.html#returning-a-view-versus-a-copy\n",
            "  df.loc[:, columns] = scaler.fit_transform(df[columns])\n"
          ]
        },
        {
          "name": "stdout",
          "output_type": "stream",
          "text": [
            "Processed and saved: /content/drive/MyDrive/Data/StandardData/ProcessedStandardizedData_Subject70.csv\n"
          ]
        },
        {
          "name": "stderr",
          "output_type": "stream",
          "text": [
            "<ipython-input-2-235a82f6e2df>:15: SettingWithCopyWarning: \n",
            "A value is trying to be set on a copy of a slice from a DataFrame\n",
            "\n",
            "See the caveats in the documentation: https://pandas.pydata.org/pandas-docs/stable/user_guide/indexing.html#returning-a-view-versus-a-copy\n",
            "  df.loc[:, columns] = scaler.fit_transform(df[columns])\n"
          ]
        },
        {
          "name": "stdout",
          "output_type": "stream",
          "text": [
            "Processed and saved: /content/drive/MyDrive/Data/StandardData/ProcessedStandardizedData_Subject78.csv\n"
          ]
        },
        {
          "name": "stderr",
          "output_type": "stream",
          "text": [
            "<ipython-input-2-235a82f6e2df>:15: SettingWithCopyWarning: \n",
            "A value is trying to be set on a copy of a slice from a DataFrame\n",
            "\n",
            "See the caveats in the documentation: https://pandas.pydata.org/pandas-docs/stable/user_guide/indexing.html#returning-a-view-versus-a-copy\n",
            "  df.loc[:, columns] = scaler.fit_transform(df[columns])\n"
          ]
        },
        {
          "name": "stdout",
          "output_type": "stream",
          "text": [
            "Processed and saved: /content/drive/MyDrive/Data/StandardData/ProcessedStandardizedData_Subject77.csv\n"
          ]
        },
        {
          "name": "stderr",
          "output_type": "stream",
          "text": [
            "<ipython-input-2-235a82f6e2df>:15: SettingWithCopyWarning: \n",
            "A value is trying to be set on a copy of a slice from a DataFrame\n",
            "\n",
            "See the caveats in the documentation: https://pandas.pydata.org/pandas-docs/stable/user_guide/indexing.html#returning-a-view-versus-a-copy\n",
            "  df.loc[:, columns] = scaler.fit_transform(df[columns])\n"
          ]
        },
        {
          "name": "stdout",
          "output_type": "stream",
          "text": [
            "Processed and saved: /content/drive/MyDrive/Data/StandardData/ProcessedStandardizedData_Subject80.csv\n"
          ]
        },
        {
          "name": "stderr",
          "output_type": "stream",
          "text": [
            "<ipython-input-2-235a82f6e2df>:15: SettingWithCopyWarning: \n",
            "A value is trying to be set on a copy of a slice from a DataFrame\n",
            "\n",
            "See the caveats in the documentation: https://pandas.pydata.org/pandas-docs/stable/user_guide/indexing.html#returning-a-view-versus-a-copy\n",
            "  df.loc[:, columns] = scaler.fit_transform(df[columns])\n"
          ]
        },
        {
          "name": "stdout",
          "output_type": "stream",
          "text": [
            "Processed and saved: /content/drive/MyDrive/Data/StandardData/ProcessedStandardizedData_Subject79.csv\n"
          ]
        }
      ],
      "source": [
        "import os\n",
        "import glob\n",
        "import pandas as pd\n",
        "import numpy as np\n",
        "from scipy import stats\n",
        "from sklearn.preprocessing import StandardScaler\n",
        "\n",
        "def remove_outliers(df, columns):\n",
        "    z_scores = np.abs(stats.zscore(df[columns]))\n",
        "    filtered_entries = (z_scores < 4).all(axis=1)  # Relaxing the threshold to 4\n",
        "    return df[filtered_entries]\n",
        "\n",
        "def standardize(df, columns):\n",
        "    scaler = StandardScaler()\n",
        "    df.loc[:, columns] = scaler.fit_transform(df[columns])\n",
        "    return df\n",
        "\n",
        "# Original file pattern\n",
        "file_pattern = '/content/drive/MyDrive/Data/ProcessedData_Subject*.csv'\n",
        "\n",
        "# List of files that match the pattern\n",
        "files = glob.glob(file_pattern)\n",
        "\n",
        "# New directory where the processed files will be saved\n",
        "new_directory = r\"/content/drive/MyDrive/Data/StandardData\"\n",
        "\n",
        "# Explicitly define columns to process\n",
        "columns_to_process = ['Time [s]', 'Pressure [cmH2O]', 'Flow [L/s]', 'V_tidal [L]']\n",
        "\n",
        "for filepath in files:\n",
        "    # Read the CSV file, including only the specified columns\n",
        "    df = pd.read_csv(filepath, usecols=columns_to_process)\n",
        "\n",
        "    # Fill missing values with forward fill\n",
        "    df.ffill(inplace=True)\n",
        "\n",
        "    # Remove 'Time [s]' from the list for processing steps like outlier removal and standardization\n",
        "    process_columns = [col for col in columns_to_process if col != 'Time [s]']\n",
        "\n",
        "    df_clean = remove_outliers(df, process_columns)\n",
        "\n",
        "    # Check if df_clean is empty\n",
        "    if not df_clean.empty:\n",
        "        df_standardized = standardize(df_clean, process_columns)\n",
        "\n",
        "        # Define the new filename based on the original filename\n",
        "        original_filename = os.path.basename(filepath)\n",
        "        new_filename = original_filename.replace('ProcessedData_', 'ProcessedStandardizedData_')\n",
        "\n",
        "        # Construct the new file path\n",
        "        new_filepath = os.path.join(new_directory, new_filename)\n",
        "\n",
        "        # Save the processed file to the new directory\n",
        "        df_standardized.to_csv(new_filepath, index=False)\n",
        "        print(f'Processed and saved: {new_filepath}')\n",
        "    else:\n",
        "        print(f'No data left after outlier removal in file: {filepath}. Skipping standardization and saving.')\n"
      ]
    },
    {
      "cell_type": "code",
      "execution_count": null,
      "metadata": {
        "colab": {
          "base_uri": "https://localhost:8080/"
        },
        "id": "jmkBD1rbqGRN",
        "outputId": "9bb63fb6-c6df-453f-e496-338f8c5592e4"
      },
      "outputs": [
        {
          "name": "stderr",
          "output_type": "stream",
          "text": [
            "<ipython-input-6-f88a7942cfa1>:15: SettingWithCopyWarning: \n",
            "A value is trying to be set on a copy of a slice from a DataFrame\n",
            "\n",
            "See the caveats in the documentation: https://pandas.pydata.org/pandas-docs/stable/user_guide/indexing.html#returning-a-view-versus-a-copy\n",
            "  df.loc[:, columns] = scaler.fit_transform(df[columns])\n"
          ]
        },
        {
          "name": "stdout",
          "output_type": "stream",
          "text": [
            "Processed and saved: /content/drive/MyDrive/Data/StandardData/ProcessedStandardizedData_Subject01.csv\n",
            "Head of the processed file ProcessedStandardizedData_Subject01.csv:\n",
            "       Time [s]  Pressure [cmH2O]  Flow [L/s]  V_tidal [L]\n",
            "0 -1.000000e-02         -2.399169    0.879874    -0.774893\n",
            "1  2.275957e-15         -2.399169    0.879874    -0.770238\n",
            "2  1.000000e-02         -2.353036    0.794601    -0.765760\n",
            "3  2.000000e-02         -2.399169    0.920165    -0.761199\n",
            "4  3.000000e-02         -2.369812    0.920165    -0.756377\n",
            "\n",
            "\n"
          ]
        },
        {
          "name": "stderr",
          "output_type": "stream",
          "text": [
            "<ipython-input-6-f88a7942cfa1>:15: SettingWithCopyWarning: \n",
            "A value is trying to be set on a copy of a slice from a DataFrame\n",
            "\n",
            "See the caveats in the documentation: https://pandas.pydata.org/pandas-docs/stable/user_guide/indexing.html#returning-a-view-versus-a-copy\n",
            "  df.loc[:, columns] = scaler.fit_transform(df[columns])\n"
          ]
        },
        {
          "name": "stdout",
          "output_type": "stream",
          "text": [
            "Processed and saved: /content/drive/MyDrive/Data/StandardData/ProcessedStandardizedData_Subject04.csv\n",
            "Head of the processed file ProcessedStandardizedData_Subject04.csv:\n",
            "       Time [s]  Pressure [cmH2O]  Flow [L/s]  V_tidal [L]\n",
            "0 -1.000000e-02         -0.268461   -0.889348    -1.457530\n",
            "1 -8.326673e-16         -0.261447   -0.763246    -1.460395\n",
            "2  1.000000e-02         -0.268461   -0.820450    -1.463102\n",
            "3  2.000000e-02         -0.278982   -0.699497    -1.465662\n",
            "4  3.000000e-02         -0.285997   -0.855808    -1.468304\n",
            "\n",
            "\n"
          ]
        },
        {
          "name": "stderr",
          "output_type": "stream",
          "text": [
            "<ipython-input-6-f88a7942cfa1>:15: SettingWithCopyWarning: \n",
            "A value is trying to be set on a copy of a slice from a DataFrame\n",
            "\n",
            "See the caveats in the documentation: https://pandas.pydata.org/pandas-docs/stable/user_guide/indexing.html#returning-a-view-versus-a-copy\n",
            "  df.loc[:, columns] = scaler.fit_transform(df[columns])\n"
          ]
        },
        {
          "name": "stdout",
          "output_type": "stream",
          "text": [
            "Processed and saved: /content/drive/MyDrive/Data/StandardData/ProcessedStandardizedData_Subject02.csv\n",
            "Head of the processed file ProcessedStandardizedData_Subject02.csv:\n",
            "       Time [s]  Pressure [cmH2O]  Flow [L/s]  V_tidal [L]\n",
            "0 -1.000000e-02         -0.167879   -0.937229    -1.332290\n",
            "1 -3.635980e-14         -0.148019   -0.937229    -1.344149\n",
            "2  1.000000e-02         -0.120216   -1.013790    -1.356574\n",
            "3  2.000000e-02         -0.088441   -0.937229    -1.368999\n",
            "4  3.000000e-02         -0.060638   -1.037868    -1.381602\n",
            "\n",
            "\n"
          ]
        },
        {
          "name": "stderr",
          "output_type": "stream",
          "text": [
            "<ipython-input-6-f88a7942cfa1>:15: SettingWithCopyWarning: \n",
            "A value is trying to be set on a copy of a slice from a DataFrame\n",
            "\n",
            "See the caveats in the documentation: https://pandas.pydata.org/pandas-docs/stable/user_guide/indexing.html#returning-a-view-versus-a-copy\n",
            "  df.loc[:, columns] = scaler.fit_transform(df[columns])\n"
          ]
        },
        {
          "name": "stdout",
          "output_type": "stream",
          "text": [
            "Processed and saved: /content/drive/MyDrive/Data/StandardData/ProcessedStandardizedData_Subject06.csv\n",
            "Head of the processed file ProcessedStandardizedData_Subject06.csv:\n",
            "       Time [s]  Pressure [cmH2O]  Flow [L/s]  V_tidal [L]\n",
            "0 -1.000000e-02         -0.649799   -2.230933    -1.275246\n",
            "1 -3.519407e-14         -0.649799   -1.947504    -1.276559\n",
            "2  1.000000e-02         -0.637589   -1.865200    -1.277464\n",
            "3  2.000000e-02         -0.637589   -1.947504    -1.278368\n",
            "4  3.000000e-02         -0.649799   -1.947504    -1.279364\n",
            "\n",
            "\n",
            "Processed and saved: /content/drive/MyDrive/Data/StandardData/ProcessedStandardizedData_Subject08.csv\n",
            "Head of the processed file ProcessedStandardizedData_Subject08.csv:\n",
            "       Time [s]  Pressure [cmH2O]  Flow [L/s]  V_tidal [L]\n",
            "0 -1.000000e-02         -1.915752    0.713645    -1.254876\n",
            "1 -1.365574e-14         -1.915752    0.650038    -1.250813\n",
            "2  1.000000e-02         -1.937857    0.650038    -1.246898\n",
            "3  2.000000e-02         -1.915752    0.682424    -1.242907\n",
            "4  3.000000e-02         -1.908384    0.650038    -1.238916\n",
            "\n",
            "\n"
          ]
        },
        {
          "name": "stderr",
          "output_type": "stream",
          "text": [
            "<ipython-input-6-f88a7942cfa1>:15: SettingWithCopyWarning: \n",
            "A value is trying to be set on a copy of a slice from a DataFrame\n",
            "\n",
            "See the caveats in the documentation: https://pandas.pydata.org/pandas-docs/stable/user_guide/indexing.html#returning-a-view-versus-a-copy\n",
            "  df.loc[:, columns] = scaler.fit_transform(df[columns])\n"
          ]
        },
        {
          "name": "stdout",
          "output_type": "stream",
          "text": [
            "Processed and saved: /content/drive/MyDrive/Data/StandardData/ProcessedStandardizedData_Subject05.csv\n",
            "Head of the processed file ProcessedStandardizedData_Subject05.csv:\n",
            "       Time [s]  Pressure [cmH2O]  Flow [L/s]  V_tidal [L]\n",
            "0 -1.000000e-02          -1.10969    0.038350    -1.462480\n",
            "1  2.728373e-14          -1.10969   -0.085324    -1.459605\n",
            "2  1.000000e-02          -1.09751    0.038350    -1.456730\n",
            "3  2.000000e-02          -1.09751   -0.085324    -1.453854\n",
            "4  3.000000e-02          -1.09751   -0.085324    -1.451742\n",
            "\n",
            "\n"
          ]
        },
        {
          "name": "stderr",
          "output_type": "stream",
          "text": [
            "<ipython-input-6-f88a7942cfa1>:15: SettingWithCopyWarning: \n",
            "A value is trying to be set on a copy of a slice from a DataFrame\n",
            "\n",
            "See the caveats in the documentation: https://pandas.pydata.org/pandas-docs/stable/user_guide/indexing.html#returning-a-view-versus-a-copy\n",
            "  df.loc[:, columns] = scaler.fit_transform(df[columns])\n"
          ]
        },
        {
          "name": "stdout",
          "output_type": "stream",
          "text": [
            "Processed and saved: /content/drive/MyDrive/Data/StandardData/ProcessedStandardizedData_Subject03.csv\n",
            "Head of the processed file ProcessedStandardizedData_Subject03.csv:\n",
            "       Time [s]  Pressure [cmH2O]  Flow [L/s]  V_tidal [L]\n",
            "0 -1.000000e-02         -1.576023    0.512942    -0.282603\n",
            "1  4.662937e-15         -1.563924    0.512942    -0.279309\n",
            "2  1.000000e-02         -1.531657    0.451218    -0.276166\n",
            "3  2.000000e-02         -1.543757    0.451218    -0.273176\n",
            "4  3.000000e-02         -1.523591    0.512942    -0.270034\n",
            "\n",
            "\n"
          ]
        },
        {
          "name": "stderr",
          "output_type": "stream",
          "text": [
            "<ipython-input-6-f88a7942cfa1>:15: SettingWithCopyWarning: \n",
            "A value is trying to be set on a copy of a slice from a DataFrame\n",
            "\n",
            "See the caveats in the documentation: https://pandas.pydata.org/pandas-docs/stable/user_guide/indexing.html#returning-a-view-versus-a-copy\n",
            "  df.loc[:, columns] = scaler.fit_transform(df[columns])\n"
          ]
        },
        {
          "name": "stdout",
          "output_type": "stream",
          "text": [
            "Processed and saved: /content/drive/MyDrive/Data/StandardData/ProcessedStandardizedData_Subject07.csv\n",
            "Head of the processed file ProcessedStandardizedData_Subject07.csv:\n",
            "   Time [s]  Pressure [cmH2O]  Flow [L/s]  V_tidal [L]\n",
            "0     -0.01         -1.697056   -0.785346    -1.108440\n",
            "1      0.00         -1.697056   -0.884818    -1.107149\n",
            "2      0.01         -1.697056   -0.785346    -1.105858\n",
            "3      0.02         -1.697056   -0.785346    -1.104496\n",
            "4      0.03         -1.697056   -0.884818    -1.103205\n",
            "\n",
            "\n",
            "Processed and saved: /content/drive/MyDrive/Data/StandardData/ProcessedStandardizedData_Subject12.csv\n",
            "Head of the processed file ProcessedStandardizedData_Subject12.csv:\n",
            "       Time [s]  Pressure [cmH2O]  Flow [L/s]  V_tidal [L]\n",
            "0 -1.000000e-02         -2.028974    0.703048    -1.259483\n",
            "1 -2.731149e-14         -1.996695    0.745254    -1.255441\n",
            "2  1.000000e-02         -1.984591    0.703048    -1.251399\n",
            "3  2.000000e-02         -1.996695    0.703048    -1.247452\n",
            "4  3.000000e-02         -1.984591    0.745254    -1.243410\n",
            "\n",
            "\n"
          ]
        },
        {
          "name": "stderr",
          "output_type": "stream",
          "text": [
            "<ipython-input-6-f88a7942cfa1>:15: SettingWithCopyWarning: \n",
            "A value is trying to be set on a copy of a slice from a DataFrame\n",
            "\n",
            "See the caveats in the documentation: https://pandas.pydata.org/pandas-docs/stable/user_guide/indexing.html#returning-a-view-versus-a-copy\n",
            "  df.loc[:, columns] = scaler.fit_transform(df[columns])\n"
          ]
        },
        {
          "name": "stdout",
          "output_type": "stream",
          "text": [
            "Processed and saved: /content/drive/MyDrive/Data/StandardData/ProcessedStandardizedData_Subject15.csv\n",
            "Head of the processed file ProcessedStandardizedData_Subject15.csv:\n",
            "       Time [s]  Pressure [cmH2O]  Flow [L/s]  V_tidal [L]\n",
            "0 -1.000000e-02         -0.765582   -0.050497    -1.431382\n",
            "1  8.637535e-14         -0.758286   -0.050497    -1.430725\n",
            "2  1.000000e-02         -0.758286   -0.165464    -1.430355\n",
            "3  2.000000e-02         -0.758286   -0.050497    -1.429985\n",
            "4  3.000000e-02         -0.758286    0.044685    -1.429091\n",
            "\n",
            "\n"
          ]
        },
        {
          "name": "stderr",
          "output_type": "stream",
          "text": [
            "<ipython-input-6-f88a7942cfa1>:15: SettingWithCopyWarning: \n",
            "A value is trying to be set on a copy of a slice from a DataFrame\n",
            "\n",
            "See the caveats in the documentation: https://pandas.pydata.org/pandas-docs/stable/user_guide/indexing.html#returning-a-view-versus-a-copy\n",
            "  df.loc[:, columns] = scaler.fit_transform(df[columns])\n"
          ]
        },
        {
          "name": "stdout",
          "output_type": "stream",
          "text": [
            "Processed and saved: /content/drive/MyDrive/Data/StandardData/ProcessedStandardizedData_Subject10.csv\n",
            "Head of the processed file ProcessedStandardizedData_Subject10.csv:\n",
            "       Time [s]  Pressure [cmH2O]  Flow [L/s]  V_tidal [L]\n",
            "0 -1.000000e-02         -0.858391   -0.606064    -1.667517\n",
            "1 -4.551914e-15         -0.871399   -0.319490    -1.667910\n",
            "2  1.000000e-02         -0.871399   -0.606064    -1.668303\n",
            "3  2.000000e-02         -0.871399   -0.606064    -1.669166\n",
            "4  3.000000e-02         -0.858391   -0.319490    -1.669559\n",
            "\n",
            "\n"
          ]
        },
        {
          "name": "stderr",
          "output_type": "stream",
          "text": [
            "<ipython-input-6-f88a7942cfa1>:15: SettingWithCopyWarning: \n",
            "A value is trying to be set on a copy of a slice from a DataFrame\n",
            "\n",
            "See the caveats in the documentation: https://pandas.pydata.org/pandas-docs/stable/user_guide/indexing.html#returning-a-view-versus-a-copy\n",
            "  df.loc[:, columns] = scaler.fit_transform(df[columns])\n"
          ]
        },
        {
          "name": "stdout",
          "output_type": "stream",
          "text": [
            "Processed and saved: /content/drive/MyDrive/Data/StandardData/ProcessedStandardizedData_Subject14.csv\n",
            "Head of the processed file ProcessedStandardizedData_Subject14.csv:\n",
            "       Time [s]  Pressure [cmH2O]  Flow [L/s]  V_tidal [L]\n",
            "0 -1.000000e-02         -2.035117    0.747959    -0.453643\n",
            "1  3.641532e-14         -2.015211    0.809628    -0.448981\n",
            "2  1.000000e-02         -1.991324    0.747959    -0.444319\n",
            "3  2.000000e-02         -2.003267    0.747959    -0.439808\n",
            "4  3.000000e-02         -1.983361    0.708883    -0.435393\n",
            "\n",
            "\n",
            "Processed and saved: /content/drive/MyDrive/Data/StandardData/ProcessedStandardizedData_Subject13.csv\n",
            "Head of the processed file ProcessedStandardizedData_Subject13.csv:\n",
            "   Time [s]  Pressure [cmH2O]  Flow [L/s]  V_tidal [L]\n",
            "0      0.00          1.084849   -0.053314     0.075746\n",
            "1      0.01          1.134323   -0.208009     0.073870\n",
            "2      0.02          1.181194   -0.337161     0.071435\n",
            "3      0.03          1.204629   -0.260943     0.068897\n",
            "4      0.04          1.256707   -0.389159     0.066256\n",
            "\n",
            "\n",
            "Processed and saved: /content/drive/MyDrive/Data/StandardData/ProcessedStandardizedData_Subject11.csv\n",
            "Head of the processed file ProcessedStandardizedData_Subject11.csv:\n",
            "       Time [s]  Pressure [cmH2O]  Flow [L/s]  V_tidal [L]\n",
            "0 -1.000000e-02         -2.471429    1.055600    -0.665728\n",
            "1 -4.440892e-16         -2.547932    1.055600    -0.661844\n",
            "2  1.000000e-02         -2.535182    1.132847    -0.657850\n",
            "3  2.000000e-02         -2.569183    1.094750    -0.653802\n",
            "4  3.000000e-02         -2.547932    1.132847    -0.649753\n",
            "\n",
            "\n"
          ]
        },
        {
          "name": "stderr",
          "output_type": "stream",
          "text": [
            "<ipython-input-6-f88a7942cfa1>:15: SettingWithCopyWarning: \n",
            "A value is trying to be set on a copy of a slice from a DataFrame\n",
            "\n",
            "See the caveats in the documentation: https://pandas.pydata.org/pandas-docs/stable/user_guide/indexing.html#returning-a-view-versus-a-copy\n",
            "  df.loc[:, columns] = scaler.fit_transform(df[columns])\n"
          ]
        },
        {
          "name": "stdout",
          "output_type": "stream",
          "text": [
            "Processed and saved: /content/drive/MyDrive/Data/StandardData/ProcessedStandardizedData_Subject09.csv\n",
            "Head of the processed file ProcessedStandardizedData_Subject09.csv:\n",
            "       Time [s]  Pressure [cmH2O]  Flow [L/s]  V_tidal [L]\n",
            "0 -1.000000e-02         -0.418933   -0.374989    -0.987752\n",
            "1 -3.182177e-14         -0.418933   -0.664185    -0.988333\n",
            "2  1.000000e-02         -0.427565   -0.374989    -0.988914\n",
            "3  2.000000e-02         -0.427565   -0.664185    -0.989494\n",
            "4  3.000000e-02         -0.427565   -0.374989    -0.990075\n",
            "\n",
            "\n"
          ]
        },
        {
          "name": "stderr",
          "output_type": "stream",
          "text": [
            "<ipython-input-6-f88a7942cfa1>:15: SettingWithCopyWarning: \n",
            "A value is trying to be set on a copy of a slice from a DataFrame\n",
            "\n",
            "See the caveats in the documentation: https://pandas.pydata.org/pandas-docs/stable/user_guide/indexing.html#returning-a-view-versus-a-copy\n",
            "  df.loc[:, columns] = scaler.fit_transform(df[columns])\n"
          ]
        },
        {
          "name": "stdout",
          "output_type": "stream",
          "text": [
            "Processed and saved: /content/drive/MyDrive/Data/StandardData/ProcessedStandardizedData_Subject19.csv\n",
            "Head of the processed file ProcessedStandardizedData_Subject19.csv:\n",
            "   Time [s]  Pressure [cmH2O]  Flow [L/s]  V_tidal [L]\n",
            "0      0.00         -1.474349    0.357916    -1.389152\n",
            "1      0.01         -1.466575    0.314420    -1.386320\n",
            "2      0.02         -1.435477    0.314420    -1.383597\n",
            "3      0.03         -1.416041    0.314420    -1.380873\n",
            "4      0.04         -1.384943    0.314420    -1.378150\n",
            "\n",
            "\n"
          ]
        },
        {
          "name": "stderr",
          "output_type": "stream",
          "text": [
            "<ipython-input-6-f88a7942cfa1>:15: SettingWithCopyWarning: \n",
            "A value is trying to be set on a copy of a slice from a DataFrame\n",
            "\n",
            "See the caveats in the documentation: https://pandas.pydata.org/pandas-docs/stable/user_guide/indexing.html#returning-a-view-versus-a-copy\n",
            "  df.loc[:, columns] = scaler.fit_transform(df[columns])\n"
          ]
        },
        {
          "name": "stdout",
          "output_type": "stream",
          "text": [
            "Processed and saved: /content/drive/MyDrive/Data/StandardData/ProcessedStandardizedData_Subject20.csv\n",
            "Head of the processed file ProcessedStandardizedData_Subject20.csv:\n",
            "       Time [s]  Pressure [cmH2O]  Flow [L/s]  V_tidal [L]\n",
            "0 -1.000000e-02         -0.454198   -0.908306    -1.330761\n",
            "1  1.665335e-15         -0.441589   -0.959576    -1.333825\n",
            "2  1.000000e-02         -0.454198   -0.821659    -1.336673\n",
            "3  2.000000e-02         -0.441589   -0.959576    -1.339521\n",
            "4  3.000000e-02         -0.206230   -0.297898    -1.341061\n",
            "\n",
            "\n"
          ]
        },
        {
          "name": "stderr",
          "output_type": "stream",
          "text": [
            "<ipython-input-6-f88a7942cfa1>:15: SettingWithCopyWarning: \n",
            "A value is trying to be set on a copy of a slice from a DataFrame\n",
            "\n",
            "See the caveats in the documentation: https://pandas.pydata.org/pandas-docs/stable/user_guide/indexing.html#returning-a-view-versus-a-copy\n",
            "  df.loc[:, columns] = scaler.fit_transform(df[columns])\n"
          ]
        },
        {
          "name": "stdout",
          "output_type": "stream",
          "text": [
            "Processed and saved: /content/drive/MyDrive/Data/StandardData/ProcessedStandardizedData_Subject21.csv\n",
            "Head of the processed file ProcessedStandardizedData_Subject21.csv:\n",
            "       Time [s]  Pressure [cmH2O]  Flow [L/s]  V_tidal [L]\n",
            "0 -1.000000e-02         -0.610149   -0.754035    -0.689576\n",
            "1  3.552714e-15         -0.610149   -0.754035    -0.690697\n",
            "2  1.000000e-02         -0.610149   -0.366983    -0.691225\n",
            "3  2.000000e-02         -0.610149   -0.671216    -0.691626\n",
            "4  3.000000e-02         -0.610149   -0.754035    -0.692619\n",
            "\n",
            "\n"
          ]
        },
        {
          "name": "stderr",
          "output_type": "stream",
          "text": [
            "<ipython-input-6-f88a7942cfa1>:15: SettingWithCopyWarning: \n",
            "A value is trying to be set on a copy of a slice from a DataFrame\n",
            "\n",
            "See the caveats in the documentation: https://pandas.pydata.org/pandas-docs/stable/user_guide/indexing.html#returning-a-view-versus-a-copy\n",
            "  df.loc[:, columns] = scaler.fit_transform(df[columns])\n"
          ]
        },
        {
          "name": "stdout",
          "output_type": "stream",
          "text": [
            "Processed and saved: /content/drive/MyDrive/Data/StandardData/ProcessedStandardizedData_Subject18.csv\n",
            "Head of the processed file ProcessedStandardizedData_Subject18.csv:\n",
            "       Time [s]  Pressure [cmH2O]  Flow [L/s]  V_tidal [L]\n",
            "0 -1.000000e-02         -1.800645    0.501579    -1.132826\n",
            "1 -2.731149e-14         -1.823079    0.403540    -1.128464\n",
            "2  1.000000e-02         -1.800645    0.478186    -1.124167\n",
            "3  2.000000e-02         -1.800645    0.403540    -1.119870\n",
            "4  3.000000e-02         -1.787184    0.403540    -1.115781\n",
            "\n",
            "\n"
          ]
        },
        {
          "name": "stderr",
          "output_type": "stream",
          "text": [
            "<ipython-input-6-f88a7942cfa1>:15: SettingWithCopyWarning: \n",
            "A value is trying to be set on a copy of a slice from a DataFrame\n",
            "\n",
            "See the caveats in the documentation: https://pandas.pydata.org/pandas-docs/stable/user_guide/indexing.html#returning-a-view-versus-a-copy\n",
            "  df.loc[:, columns] = scaler.fit_transform(df[columns])\n"
          ]
        },
        {
          "name": "stdout",
          "output_type": "stream",
          "text": [
            "Processed and saved: /content/drive/MyDrive/Data/StandardData/ProcessedStandardizedData_Subject22.csv\n",
            "Head of the processed file ProcessedStandardizedData_Subject22.csv:\n",
            "       Time [s]  Pressure [cmH2O]  Flow [L/s]  V_tidal [L]\n",
            "0 -1.000000e-02         -1.241460    0.183324    -0.225004\n",
            "1  3.996803e-15         -1.208311    0.060303    -0.223704\n",
            "2  1.000000e-02         -1.158588    0.060303    -0.222626\n",
            "3  2.000000e-02         -1.137870   -0.064875    -0.221774\n",
            "4  3.000000e-02         -1.113008    0.106229    -0.220840\n",
            "\n",
            "\n"
          ]
        },
        {
          "name": "stderr",
          "output_type": "stream",
          "text": [
            "<ipython-input-6-f88a7942cfa1>:15: SettingWithCopyWarning: \n",
            "A value is trying to be set on a copy of a slice from a DataFrame\n",
            "\n",
            "See the caveats in the documentation: https://pandas.pydata.org/pandas-docs/stable/user_guide/indexing.html#returning-a-view-versus-a-copy\n",
            "  df.loc[:, columns] = scaler.fit_transform(df[columns])\n"
          ]
        },
        {
          "name": "stdout",
          "output_type": "stream",
          "text": [
            "Processed and saved: /content/drive/MyDrive/Data/StandardData/ProcessedStandardizedData_Subject16.csv\n",
            "Head of the processed file ProcessedStandardizedData_Subject16.csv:\n",
            "       Time [s]  Pressure [cmH2O]  Flow [L/s]  V_tidal [L]\n",
            "0 -1.000000e-02         -1.872151    0.570938    -0.965700\n",
            "1  3.186340e-14         -1.850834    0.570938    -0.963323\n",
            "2  1.000000e-02         -1.838045    0.570938    -0.960946\n",
            "3  2.000000e-02         -1.825255    0.523009    -0.958636\n",
            "4  3.000000e-02         -1.816729    0.489372    -0.956443\n",
            "\n",
            "\n",
            "Processed and saved: /content/drive/MyDrive/Data/StandardData/ProcessedStandardizedData_Subject17.csv\n",
            "Head of the processed file ProcessedStandardizedData_Subject17.csv:\n",
            "       Time [s]  Pressure [cmH2O]  Flow [L/s]  V_tidal [L]\n",
            "0 -1.000000e-02         -0.743650   -0.852532    -1.679562\n",
            "1  5.662137e-15         -0.752574   -0.736760    -1.682172\n",
            "2  1.000000e-02         -0.743650   -0.852532    -1.684782\n",
            "3  2.000000e-02         -0.752574   -0.852532    -1.687698\n",
            "4  3.000000e-02         -0.752574   -0.852532    -1.690614\n",
            "\n",
            "\n"
          ]
        },
        {
          "name": "stderr",
          "output_type": "stream",
          "text": [
            "<ipython-input-6-f88a7942cfa1>:15: SettingWithCopyWarning: \n",
            "A value is trying to be set on a copy of a slice from a DataFrame\n",
            "\n",
            "See the caveats in the documentation: https://pandas.pydata.org/pandas-docs/stable/user_guide/indexing.html#returning-a-view-versus-a-copy\n",
            "  df.loc[:, columns] = scaler.fit_transform(df[columns])\n"
          ]
        },
        {
          "name": "stdout",
          "output_type": "stream",
          "text": [
            "Processed and saved: /content/drive/MyDrive/Data/StandardData/ProcessedStandardizedData_Subject24.csv\n",
            "Head of the processed file ProcessedStandardizedData_Subject24.csv:\n",
            "       Time [s]  Pressure [cmH2O]  Flow [L/s]  V_tidal [L]\n",
            "0 -1.000000e-02         -0.760510   -0.360943    -1.569382\n",
            "1 -4.551914e-14         -0.751551   -0.360943    -1.569309\n",
            "2  1.000000e-02         -0.751551   -0.360943    -1.569236\n",
            "3  2.000000e-02         -0.751551   -0.360943    -1.569163\n",
            "4  3.000000e-02         -0.751551   -0.799912    -1.569764\n",
            "\n",
            "\n"
          ]
        },
        {
          "name": "stderr",
          "output_type": "stream",
          "text": [
            "<ipython-input-6-f88a7942cfa1>:15: SettingWithCopyWarning: \n",
            "A value is trying to be set on a copy of a slice from a DataFrame\n",
            "\n",
            "See the caveats in the documentation: https://pandas.pydata.org/pandas-docs/stable/user_guide/indexing.html#returning-a-view-versus-a-copy\n",
            "  df.loc[:, columns] = scaler.fit_transform(df[columns])\n"
          ]
        },
        {
          "name": "stdout",
          "output_type": "stream",
          "text": [
            "Processed and saved: /content/drive/MyDrive/Data/StandardData/ProcessedStandardizedData_Subject28.csv\n",
            "Head of the processed file ProcessedStandardizedData_Subject28.csv:\n",
            "       Time [s]  Pressure [cmH2O]  Flow [L/s]  V_tidal [L]\n",
            "0 -1.000000e-02         -0.929163   -1.358978    -1.010121\n",
            "1  4.440892e-16         -0.929163   -1.541515    -1.009525\n",
            "2  1.000000e-02         -0.929163   -1.541515    -1.009087\n",
            "3  2.000000e-02         -0.945651   -1.541515    -1.008649\n",
            "4  3.000000e-02         -0.945651   -1.358978    -1.008053\n",
            "\n",
            "\n",
            "Processed and saved: /content/drive/MyDrive/Data/StandardData/ProcessedStandardizedData_Subject26.csv\n",
            "Head of the processed file ProcessedStandardizedData_Subject26.csv:\n",
            "       Time [s]  Pressure [cmH2O]  Flow [L/s]  V_tidal [L]\n",
            "0 -1.000000e-02         -0.691439   -1.139832    -1.400565\n",
            "1  2.953193e-14         -0.691439   -1.139832    -1.402073\n",
            "2  1.000000e-02         -0.682070   -1.074362    -1.403502\n",
            "3  2.000000e-02         -0.682070   -1.139832    -1.404930\n",
            "4  3.000000e-02         -0.668017   -1.074362    -1.406359\n",
            "\n",
            "\n"
          ]
        },
        {
          "name": "stderr",
          "output_type": "stream",
          "text": [
            "<ipython-input-6-f88a7942cfa1>:15: SettingWithCopyWarning: \n",
            "A value is trying to be set on a copy of a slice from a DataFrame\n",
            "\n",
            "See the caveats in the documentation: https://pandas.pydata.org/pandas-docs/stable/user_guide/indexing.html#returning-a-view-versus-a-copy\n",
            "  df.loc[:, columns] = scaler.fit_transform(df[columns])\n"
          ]
        },
        {
          "name": "stdout",
          "output_type": "stream",
          "text": [
            "Processed and saved: /content/drive/MyDrive/Data/StandardData/ProcessedStandardizedData_Subject25.csv\n",
            "Head of the processed file ProcessedStandardizedData_Subject25.csv:\n",
            "       Time [s]  Pressure [cmH2O]  Flow [L/s]  V_tidal [L]\n",
            "0 -1.000000e-02         -1.643396    0.274071    -1.278376\n",
            "1 -3.186340e-14         -1.656340    0.274071    -1.275493\n",
            "2  1.000000e-02         -1.664969    0.274071    -1.272610\n",
            "3  2.000000e-02         -1.664969    0.404931    -1.269456\n",
            "4  3.000000e-02         -1.677913    0.274071    -1.266302\n",
            "\n",
            "\n"
          ]
        },
        {
          "name": "stderr",
          "output_type": "stream",
          "text": [
            "<ipython-input-6-f88a7942cfa1>:15: SettingWithCopyWarning: \n",
            "A value is trying to be set on a copy of a slice from a DataFrame\n",
            "\n",
            "See the caveats in the documentation: https://pandas.pydata.org/pandas-docs/stable/user_guide/indexing.html#returning-a-view-versus-a-copy\n",
            "  df.loc[:, columns] = scaler.fit_transform(df[columns])\n"
          ]
        },
        {
          "name": "stdout",
          "output_type": "stream",
          "text": [
            "Processed and saved: /content/drive/MyDrive/Data/StandardData/ProcessedStandardizedData_Subject23.csv\n",
            "Head of the processed file ProcessedStandardizedData_Subject23.csv:\n",
            "       Time [s]  Pressure [cmH2O]  Flow [L/s]  V_tidal [L]\n",
            "0 -1.000000e-02          -2.06572    0.723511    -1.052408\n",
            "1  4.091172e-14          -2.06572    0.723511    -1.047455\n",
            "2  1.000000e-02          -2.06572    0.723511    -1.042501\n",
            "3  2.000000e-02          -2.06572    0.769054    -1.037437\n",
            "4  3.000000e-02          -2.06572    0.723511    -1.032374\n",
            "\n",
            "\n"
          ]
        },
        {
          "name": "stderr",
          "output_type": "stream",
          "text": [
            "<ipython-input-6-f88a7942cfa1>:15: SettingWithCopyWarning: \n",
            "A value is trying to be set on a copy of a slice from a DataFrame\n",
            "\n",
            "See the caveats in the documentation: https://pandas.pydata.org/pandas-docs/stable/user_guide/indexing.html#returning-a-view-versus-a-copy\n",
            "  df.loc[:, columns] = scaler.fit_transform(df[columns])\n"
          ]
        },
        {
          "name": "stdout",
          "output_type": "stream",
          "text": [
            "Processed and saved: /content/drive/MyDrive/Data/StandardData/ProcessedStandardizedData_Subject29.csv\n",
            "Head of the processed file ProcessedStandardizedData_Subject29.csv:\n",
            "       Time [s]  Pressure [cmH2O]  Flow [L/s]  V_tidal [L]\n",
            "0 -1.000000e-02         -1.198543    0.164509    -1.002943\n",
            "1 -2.220446e-15         -1.164793    0.164509    -1.000792\n",
            "2  1.000000e-02         -1.139480    0.089381    -0.998838\n",
            "3  2.000000e-02         -1.114167    0.089381    -0.997080\n",
            "4  3.000000e-02         -1.114167    0.089381    -0.995323\n",
            "\n",
            "\n"
          ]
        },
        {
          "name": "stderr",
          "output_type": "stream",
          "text": [
            "<ipython-input-6-f88a7942cfa1>:15: SettingWithCopyWarning: \n",
            "A value is trying to be set on a copy of a slice from a DataFrame\n",
            "\n",
            "See the caveats in the documentation: https://pandas.pydata.org/pandas-docs/stable/user_guide/indexing.html#returning-a-view-versus-a-copy\n",
            "  df.loc[:, columns] = scaler.fit_transform(df[columns])\n"
          ]
        },
        {
          "name": "stdout",
          "output_type": "stream",
          "text": [
            "Processed and saved: /content/drive/MyDrive/Data/StandardData/ProcessedStandardizedData_Subject27.csv\n",
            "Head of the processed file ProcessedStandardizedData_Subject27.csv:\n",
            "   Time [s]  Pressure [cmH2O]  Flow [L/s]  V_tidal [L]\n",
            "0      0.00         -0.183839   -0.792755    -1.079463\n",
            "1      0.01         -0.317395   -0.886019    -1.081104\n",
            "2      0.02         -0.446499   -0.913882    -1.082934\n",
            "3      0.03         -0.504373   -0.913882    -1.084807\n",
            "4      0.04         -0.526633   -0.913882    -1.086681\n",
            "\n",
            "\n"
          ]
        },
        {
          "name": "stderr",
          "output_type": "stream",
          "text": [
            "<ipython-input-6-f88a7942cfa1>:15: SettingWithCopyWarning: \n",
            "A value is trying to be set on a copy of a slice from a DataFrame\n",
            "\n",
            "See the caveats in the documentation: https://pandas.pydata.org/pandas-docs/stable/user_guide/indexing.html#returning-a-view-versus-a-copy\n",
            "  df.loc[:, columns] = scaler.fit_transform(df[columns])\n"
          ]
        },
        {
          "name": "stdout",
          "output_type": "stream",
          "text": [
            "Processed and saved: /content/drive/MyDrive/Data/StandardData/ProcessedStandardizedData_Subject34.csv\n",
            "Head of the processed file ProcessedStandardizedData_Subject34.csv:\n",
            "   Time [s]  Pressure [cmH2O]  Flow [L/s]  V_tidal [L]\n",
            "0      0.00         -1.025169   -0.087653    -1.140653\n",
            "1      0.01         -1.067639    0.082298    -1.138827\n",
            "2      0.02         -1.101614    0.082298    -1.136397\n",
            "3      0.03         -1.122849    0.082298    -1.133966\n",
            "4      0.04         -1.161071    0.082298    -1.131536\n",
            "\n",
            "\n"
          ]
        },
        {
          "name": "stderr",
          "output_type": "stream",
          "text": [
            "<ipython-input-6-f88a7942cfa1>:15: SettingWithCopyWarning: \n",
            "A value is trying to be set on a copy of a slice from a DataFrame\n",
            "\n",
            "See the caveats in the documentation: https://pandas.pydata.org/pandas-docs/stable/user_guide/indexing.html#returning-a-view-versus-a-copy\n",
            "  df.loc[:, columns] = scaler.fit_transform(df[columns])\n"
          ]
        },
        {
          "name": "stdout",
          "output_type": "stream",
          "text": [
            "Processed and saved: /content/drive/MyDrive/Data/StandardData/ProcessedStandardizedData_Subject36.csv\n",
            "Head of the processed file ProcessedStandardizedData_Subject36.csv:\n",
            "       Time [s]  Pressure [cmH2O]  Flow [L/s]  V_tidal [L]\n",
            "0 -1.000000e-02         -0.790497   -0.856330    -1.303585\n",
            "1  9.658940e-15         -0.790497   -0.856330    -1.304771\n",
            "2  1.000000e-02         -0.814372   -0.959163    -1.306130\n",
            "3  2.000000e-02         -0.814372   -0.959163    -1.307662\n",
            "4  3.000000e-02         -0.814372   -0.959163    -1.309194\n",
            "\n",
            "\n"
          ]
        },
        {
          "name": "stderr",
          "output_type": "stream",
          "text": [
            "<ipython-input-6-f88a7942cfa1>:15: SettingWithCopyWarning: \n",
            "A value is trying to be set on a copy of a slice from a DataFrame\n",
            "\n",
            "See the caveats in the documentation: https://pandas.pydata.org/pandas-docs/stable/user_guide/indexing.html#returning-a-view-versus-a-copy\n",
            "  df.loc[:, columns] = scaler.fit_transform(df[columns])\n"
          ]
        },
        {
          "name": "stdout",
          "output_type": "stream",
          "text": [
            "Processed and saved: /content/drive/MyDrive/Data/StandardData/ProcessedStandardizedData_Subject35.csv\n",
            "Head of the processed file ProcessedStandardizedData_Subject35.csv:\n",
            "       Time [s]  Pressure [cmH2O]  Flow [L/s]  V_tidal [L]\n",
            "0 -1.000000e-02         -0.795897   -0.710343    -1.012807\n",
            "1 -1.045830e-13         -0.764215   -0.860639    -1.013846\n",
            "2  1.000000e-02         -0.737060   -0.860639    -1.015119\n",
            "3  2.000000e-02         -0.714430   -0.768512    -1.016249\n",
            "4  3.000000e-02         -0.682748   -0.860639    -1.017378\n",
            "\n",
            "\n"
          ]
        },
        {
          "name": "stderr",
          "output_type": "stream",
          "text": [
            "<ipython-input-6-f88a7942cfa1>:15: SettingWithCopyWarning: \n",
            "A value is trying to be set on a copy of a slice from a DataFrame\n",
            "\n",
            "See the caveats in the documentation: https://pandas.pydata.org/pandas-docs/stable/user_guide/indexing.html#returning-a-view-versus-a-copy\n",
            "  df.loc[:, columns] = scaler.fit_transform(df[columns])\n"
          ]
        },
        {
          "name": "stdout",
          "output_type": "stream",
          "text": [
            "Processed and saved: /content/drive/MyDrive/Data/StandardData/ProcessedStandardizedData_Subject32.csv\n",
            "Head of the processed file ProcessedStandardizedData_Subject32.csv:\n",
            "       Time [s]  Pressure [cmH2O]  Flow [L/s]  V_tidal [L]\n",
            "0 -1.000000e-02         -0.424615    0.060412    -1.177862\n",
            "1  1.249001e-14         -0.390961   -0.230337    -1.176951\n",
            "2  1.000000e-02         -0.479303   -0.656971    -1.177979\n",
            "3  2.000000e-02         -0.550818   -0.656971    -1.180162\n",
            "4  3.000000e-02         -0.550818   -0.656971    -1.182345\n",
            "\n",
            "\n"
          ]
        },
        {
          "name": "stderr",
          "output_type": "stream",
          "text": [
            "<ipython-input-6-f88a7942cfa1>:15: SettingWithCopyWarning: \n",
            "A value is trying to be set on a copy of a slice from a DataFrame\n",
            "\n",
            "See the caveats in the documentation: https://pandas.pydata.org/pandas-docs/stable/user_guide/indexing.html#returning-a-view-versus-a-copy\n",
            "  df.loc[:, columns] = scaler.fit_transform(df[columns])\n"
          ]
        },
        {
          "name": "stdout",
          "output_type": "stream",
          "text": [
            "Processed and saved: /content/drive/MyDrive/Data/StandardData/ProcessedStandardizedData_Subject30.csv\n",
            "Head of the processed file ProcessedStandardizedData_Subject30.csv:\n",
            "       Time [s]  Pressure [cmH2O]  Flow [L/s]  V_tidal [L]\n",
            "0 -1.000000e-02         -1.638338    0.266922    -0.841097\n",
            "1 -5.229150e-14         -1.638338    0.355925    -0.835090\n",
            "2  1.000000e-02         -1.629387    0.482333    -0.828042\n",
            "3  2.000000e-02         -1.629387    0.266922    -0.821424\n",
            "4  3.000000e-02         -1.602536    0.434352    -0.815038\n",
            "\n",
            "\n"
          ]
        },
        {
          "name": "stderr",
          "output_type": "stream",
          "text": [
            "<ipython-input-6-f88a7942cfa1>:15: SettingWithCopyWarning: \n",
            "A value is trying to be set on a copy of a slice from a DataFrame\n",
            "\n",
            "See the caveats in the documentation: https://pandas.pydata.org/pandas-docs/stable/user_guide/indexing.html#returning-a-view-versus-a-copy\n",
            "  df.loc[:, columns] = scaler.fit_transform(df[columns])\n"
          ]
        },
        {
          "name": "stdout",
          "output_type": "stream",
          "text": [
            "Processed and saved: /content/drive/MyDrive/Data/StandardData/ProcessedStandardizedData_Subject33.csv\n",
            "Head of the processed file ProcessedStandardizedData_Subject33.csv:\n",
            "       Time [s]  Pressure [cmH2O]  Flow [L/s]  V_tidal [L]\n",
            "0 -1.000000e-02         -1.733609     0.35879    -0.941742\n",
            "1 -1.110223e-15         -1.720067     0.35879    -0.937336\n",
            "2  1.000000e-02         -1.733609     0.40568    -0.932788\n",
            "3  2.000000e-02         -1.706526     0.35879    -0.928240\n",
            "4  3.000000e-02         -1.697498     0.35879    -0.923835\n",
            "\n",
            "\n"
          ]
        },
        {
          "name": "stderr",
          "output_type": "stream",
          "text": [
            "<ipython-input-6-f88a7942cfa1>:15: SettingWithCopyWarning: \n",
            "A value is trying to be set on a copy of a slice from a DataFrame\n",
            "\n",
            "See the caveats in the documentation: https://pandas.pydata.org/pandas-docs/stable/user_guide/indexing.html#returning-a-view-versus-a-copy\n",
            "  df.loc[:, columns] = scaler.fit_transform(df[columns])\n"
          ]
        },
        {
          "name": "stdout",
          "output_type": "stream",
          "text": [
            "Processed and saved: /content/drive/MyDrive/Data/StandardData/ProcessedStandardizedData_Subject31.csv\n",
            "Head of the processed file ProcessedStandardizedData_Subject31.csv:\n",
            "       Time [s]  Pressure [cmH2O]  Flow [L/s]  V_tidal [L]\n",
            "0 -1.000000e-02         -1.196906   -0.740049    -0.835444\n",
            "1 -3.330669e-15         -1.127593   -0.947369    -0.835013\n",
            "2  1.000000e-02         -1.058279   -0.568406    -0.834307\n",
            "3  2.000000e-02         -0.946312   -0.740049    -0.833268\n",
            "4  3.000000e-02         -0.908989   -0.740049    -0.832504\n",
            "\n",
            "\n"
          ]
        },
        {
          "name": "stderr",
          "output_type": "stream",
          "text": [
            "<ipython-input-6-f88a7942cfa1>:15: SettingWithCopyWarning: \n",
            "A value is trying to be set on a copy of a slice from a DataFrame\n",
            "\n",
            "See the caveats in the documentation: https://pandas.pydata.org/pandas-docs/stable/user_guide/indexing.html#returning-a-view-versus-a-copy\n",
            "  df.loc[:, columns] = scaler.fit_transform(df[columns])\n"
          ]
        },
        {
          "name": "stdout",
          "output_type": "stream",
          "text": [
            "Processed and saved: /content/drive/MyDrive/Data/StandardData/ProcessedStandardizedData_Subject40.csv\n",
            "Head of the processed file ProcessedStandardizedData_Subject40.csv:\n",
            "       Time [s]  Pressure [cmH2O]  Flow [L/s]  V_tidal [L]\n",
            "0 -1.000000e-02         -1.704311    0.523405    -0.882017\n",
            "1  2.275957e-14         -1.704311    0.408358    -0.879349\n",
            "2  1.000000e-02         -1.672428    0.456384    -0.876792\n",
            "3  2.000000e-02         -1.672428    0.408358    -0.874235\n",
            "4  3.000000e-02         -1.658764    0.408358    -0.871758\n",
            "\n",
            "\n"
          ]
        },
        {
          "name": "stderr",
          "output_type": "stream",
          "text": [
            "<ipython-input-6-f88a7942cfa1>:15: SettingWithCopyWarning: \n",
            "A value is trying to be set on a copy of a slice from a DataFrame\n",
            "\n",
            "See the caveats in the documentation: https://pandas.pydata.org/pandas-docs/stable/user_guide/indexing.html#returning-a-view-versus-a-copy\n",
            "  df.loc[:, columns] = scaler.fit_transform(df[columns])\n"
          ]
        },
        {
          "name": "stdout",
          "output_type": "stream",
          "text": [
            "Processed and saved: /content/drive/MyDrive/Data/StandardData/ProcessedStandardizedData_Subject42.csv\n",
            "Head of the processed file ProcessedStandardizedData_Subject42.csv:\n",
            "       Time [s]  Pressure [cmH2O]  Flow [L/s]  V_tidal [L]\n",
            "0 -1.000000e-02         -0.978717   -1.930717    -1.154937\n",
            "1 -7.283063e-14         -0.990803   -1.930717    -1.156175\n",
            "2  1.000000e-02         -0.990803   -1.930717    -1.157413\n",
            "3  2.000000e-02         -0.990803   -1.930717    -1.158651\n",
            "4  3.000000e-02         -0.990803   -1.930717    -1.159889\n",
            "\n",
            "\n"
          ]
        },
        {
          "name": "stderr",
          "output_type": "stream",
          "text": [
            "<ipython-input-6-f88a7942cfa1>:15: SettingWithCopyWarning: \n",
            "A value is trying to be set on a copy of a slice from a DataFrame\n",
            "\n",
            "See the caveats in the documentation: https://pandas.pydata.org/pandas-docs/stable/user_guide/indexing.html#returning-a-view-versus-a-copy\n",
            "  df.loc[:, columns] = scaler.fit_transform(df[columns])\n"
          ]
        },
        {
          "name": "stdout",
          "output_type": "stream",
          "text": [
            "Processed and saved: /content/drive/MyDrive/Data/StandardData/ProcessedStandardizedData_Subject41.csv\n",
            "Head of the processed file ProcessedStandardizedData_Subject41.csv:\n",
            "       Time [s]  Pressure [cmH2O]  Flow [L/s]  V_tidal [L]\n",
            "0 -1.000000e-02         -0.594571   -1.165368    -1.177189\n",
            "1 -2.886580e-15         -0.580839   -1.087194    -1.178012\n",
            "2  1.000000e-02         -0.571685   -0.990949    -1.178680\n",
            "3  2.000000e-02         -0.571685   -0.990949    -1.179263\n",
            "4  3.000000e-02         -0.571685   -1.165368    -1.180001\n",
            "\n",
            "\n"
          ]
        },
        {
          "name": "stderr",
          "output_type": "stream",
          "text": [
            "<ipython-input-6-f88a7942cfa1>:15: SettingWithCopyWarning: \n",
            "A value is trying to be set on a copy of a slice from a DataFrame\n",
            "\n",
            "See the caveats in the documentation: https://pandas.pydata.org/pandas-docs/stable/user_guide/indexing.html#returning-a-view-versus-a-copy\n",
            "  df.loc[:, columns] = scaler.fit_transform(df[columns])\n"
          ]
        },
        {
          "name": "stdout",
          "output_type": "stream",
          "text": [
            "Processed and saved: /content/drive/MyDrive/Data/StandardData/ProcessedStandardizedData_Subject38.csv\n",
            "Head of the processed file ProcessedStandardizedData_Subject38.csv:\n",
            "       Time [s]  Pressure [cmH2O]  Flow [L/s]  V_tidal [L]\n",
            "0 -1.000000e-02         -0.633094   -1.188710    -1.599978\n",
            "1 -1.709743e-14         -0.643007   -0.801796    -1.600586\n",
            "2  1.000000e-02         -0.643007   -0.801796    -1.600489\n",
            "3  2.000000e-02         -0.657877   -1.122208    -1.600975\n",
            "4  3.000000e-02         -0.657877   -0.801796    -1.601461\n",
            "\n",
            "\n"
          ]
        },
        {
          "name": "stderr",
          "output_type": "stream",
          "text": [
            "<ipython-input-6-f88a7942cfa1>:15: SettingWithCopyWarning: \n",
            "A value is trying to be set on a copy of a slice from a DataFrame\n",
            "\n",
            "See the caveats in the documentation: https://pandas.pydata.org/pandas-docs/stable/user_guide/indexing.html#returning-a-view-versus-a-copy\n",
            "  df.loc[:, columns] = scaler.fit_transform(df[columns])\n"
          ]
        },
        {
          "name": "stdout",
          "output_type": "stream",
          "text": [
            "Processed and saved: /content/drive/MyDrive/Data/StandardData/ProcessedStandardizedData_Subject37.csv\n",
            "Head of the processed file ProcessedStandardizedData_Subject37.csv:\n",
            "       Time [s]  Pressure [cmH2O]  Flow [L/s]  V_tidal [L]\n",
            "0 -1.000000e-02         -0.119936   -0.018139    -0.934702\n",
            "1 -4.551914e-15         -0.045062   -0.725831    -0.934958\n",
            "2  1.000000e-02         -0.119936   -0.755383    -0.936504\n",
            "3  2.000000e-02         -0.352878   -0.755383    -0.938101\n",
            "4  3.000000e-02         -0.406953   -0.903071    -0.939957\n",
            "\n",
            "\n"
          ]
        },
        {
          "name": "stderr",
          "output_type": "stream",
          "text": [
            "<ipython-input-6-f88a7942cfa1>:15: SettingWithCopyWarning: \n",
            "A value is trying to be set on a copy of a slice from a DataFrame\n",
            "\n",
            "See the caveats in the documentation: https://pandas.pydata.org/pandas-docs/stable/user_guide/indexing.html#returning-a-view-versus-a-copy\n",
            "  df.loc[:, columns] = scaler.fit_transform(df[columns])\n"
          ]
        },
        {
          "name": "stdout",
          "output_type": "stream",
          "text": [
            "Processed and saved: /content/drive/MyDrive/Data/StandardData/ProcessedStandardizedData_Subject39.csv\n",
            "Head of the processed file ProcessedStandardizedData_Subject39.csv:\n",
            "       Time [s]  Pressure [cmH2O]  Flow [L/s]  V_tidal [L]\n",
            "0 -1.000000e-02         -0.101442   -0.973939    -1.287806\n",
            "1 -6.772360e-15         -0.130849   -0.922855    -1.289412\n",
            "2  1.000000e-02         -0.123497   -0.957453    -1.290993\n",
            "3  2.000000e-02         -0.130849   -0.922855    -1.292574\n",
            "4  3.000000e-02         -0.141877   -0.865927    -1.294016\n",
            "\n",
            "\n"
          ]
        },
        {
          "name": "stderr",
          "output_type": "stream",
          "text": [
            "<ipython-input-6-f88a7942cfa1>:15: SettingWithCopyWarning: \n",
            "A value is trying to be set on a copy of a slice from a DataFrame\n",
            "\n",
            "See the caveats in the documentation: https://pandas.pydata.org/pandas-docs/stable/user_guide/indexing.html#returning-a-view-versus-a-copy\n",
            "  df.loc[:, columns] = scaler.fit_transform(df[columns])\n"
          ]
        },
        {
          "name": "stdout",
          "output_type": "stream",
          "text": [
            "Processed and saved: /content/drive/MyDrive/Data/StandardData/ProcessedStandardizedData_Subject47.csv\n",
            "Head of the processed file ProcessedStandardizedData_Subject47.csv:\n",
            "   Time [s]  Pressure [cmH2O]  Flow [L/s]  V_tidal [L]\n",
            "0      0.00         -1.921287   -0.018025    -1.348472\n",
            "1      0.01         -1.947046    0.093119    -1.345074\n",
            "2      0.02         -1.947046   -0.018025    -1.341676\n",
            "3      0.03         -1.967653   -0.018025    -1.338448\n",
            "4      0.04         -1.967653    0.093119    -1.335050\n",
            "\n",
            "\n"
          ]
        },
        {
          "name": "stderr",
          "output_type": "stream",
          "text": [
            "<ipython-input-6-f88a7942cfa1>:15: SettingWithCopyWarning: \n",
            "A value is trying to be set on a copy of a slice from a DataFrame\n",
            "\n",
            "See the caveats in the documentation: https://pandas.pydata.org/pandas-docs/stable/user_guide/indexing.html#returning-a-view-versus-a-copy\n",
            "  df.loc[:, columns] = scaler.fit_transform(df[columns])\n"
          ]
        },
        {
          "name": "stdout",
          "output_type": "stream",
          "text": [
            "Processed and saved: /content/drive/MyDrive/Data/StandardData/ProcessedStandardizedData_Subject50.csv\n",
            "Head of the processed file ProcessedStandardizedData_Subject50.csv:\n",
            "       Time [s]  Pressure [cmH2O]  Flow [L/s]  V_tidal [L]\n",
            "0 -1.000000e-02         -2.654454    0.008173    -0.964160\n",
            "1  1.776357e-15         -2.590219    0.118001    -0.962640\n",
            "2  1.000000e-02         -2.578540    0.053039    -0.961098\n",
            "3  2.000000e-02         -2.561022    0.008173    -0.959610\n",
            "4  3.000000e-02         -2.496788    0.074992    -0.958111\n",
            "\n",
            "\n"
          ]
        },
        {
          "name": "stderr",
          "output_type": "stream",
          "text": [
            "<ipython-input-6-f88a7942cfa1>:15: SettingWithCopyWarning: \n",
            "A value is trying to be set on a copy of a slice from a DataFrame\n",
            "\n",
            "See the caveats in the documentation: https://pandas.pydata.org/pandas-docs/stable/user_guide/indexing.html#returning-a-view-versus-a-copy\n",
            "  df.loc[:, columns] = scaler.fit_transform(df[columns])\n"
          ]
        },
        {
          "name": "stdout",
          "output_type": "stream",
          "text": [
            "Processed and saved: /content/drive/MyDrive/Data/StandardData/ProcessedStandardizedData_Subject44.csv\n",
            "Head of the processed file ProcessedStandardizedData_Subject44.csv:\n",
            "       Time [s]  Pressure [cmH2O]  Flow [L/s]  V_tidal [L]\n",
            "0 -1.000000e-02         -0.773613   -1.093712    -1.536114\n",
            "1 -1.820766e-14         -0.773613   -0.921183    -1.537051\n",
            "2  1.000000e-02         -0.787743   -1.093712    -1.537989\n",
            "3  2.000000e-02         -0.773613   -1.093712    -1.539139\n",
            "4  3.000000e-02         -0.632307   -0.262642    -1.539267\n",
            "\n",
            "\n"
          ]
        },
        {
          "name": "stderr",
          "output_type": "stream",
          "text": [
            "<ipython-input-6-f88a7942cfa1>:15: SettingWithCopyWarning: \n",
            "A value is trying to be set on a copy of a slice from a DataFrame\n",
            "\n",
            "See the caveats in the documentation: https://pandas.pydata.org/pandas-docs/stable/user_guide/indexing.html#returning-a-view-versus-a-copy\n",
            "  df.loc[:, columns] = scaler.fit_transform(df[columns])\n"
          ]
        },
        {
          "name": "stdout",
          "output_type": "stream",
          "text": [
            "Processed and saved: /content/drive/MyDrive/Data/StandardData/ProcessedStandardizedData_Subject45.csv\n",
            "Head of the processed file ProcessedStandardizedData_Subject45.csv:\n",
            "       Time [s]  Pressure [cmH2O]  Flow [L/s]  V_tidal [L]\n",
            "0 -1.000000e-02         -0.417409   -0.775588    -1.588559\n",
            "1 -4.996004e-14         -0.428519   -0.662184    -1.591138\n",
            "2  1.000000e-02         -0.447037   -0.733431    -1.593601\n",
            "3  2.000000e-02         -0.454444   -0.662184    -1.596064\n",
            "4  3.000000e-02         -0.447037   -0.710908    -1.598466\n",
            "\n",
            "\n"
          ]
        },
        {
          "name": "stderr",
          "output_type": "stream",
          "text": [
            "<ipython-input-6-f88a7942cfa1>:15: SettingWithCopyWarning: \n",
            "A value is trying to be set on a copy of a slice from a DataFrame\n",
            "\n",
            "See the caveats in the documentation: https://pandas.pydata.org/pandas-docs/stable/user_guide/indexing.html#returning-a-view-versus-a-copy\n",
            "  df.loc[:, columns] = scaler.fit_transform(df[columns])\n"
          ]
        },
        {
          "name": "stdout",
          "output_type": "stream",
          "text": [
            "Processed and saved: /content/drive/MyDrive/Data/StandardData/ProcessedStandardizedData_Subject46.csv\n",
            "Head of the processed file ProcessedStandardizedData_Subject46.csv:\n",
            "       Time [s]  Pressure [cmH2O]  Flow [L/s]  V_tidal [L]\n",
            "0 -1.000000e-02         -1.739838    0.417476    -1.180047\n",
            "1  1.365574e-14         -1.753317    0.321486    -1.177501\n",
            "2  1.000000e-02         -1.739838    0.417476    -1.174955\n",
            "3  2.000000e-02         -1.717372    0.417476    -1.172249\n",
            "4  3.000000e-02         -1.708385    0.394572    -1.169582\n",
            "\n",
            "\n"
          ]
        },
        {
          "name": "stderr",
          "output_type": "stream",
          "text": [
            "<ipython-input-6-f88a7942cfa1>:15: SettingWithCopyWarning: \n",
            "A value is trying to be set on a copy of a slice from a DataFrame\n",
            "\n",
            "See the caveats in the documentation: https://pandas.pydata.org/pandas-docs/stable/user_guide/indexing.html#returning-a-view-versus-a-copy\n",
            "  df.loc[:, columns] = scaler.fit_transform(df[columns])\n"
          ]
        },
        {
          "name": "stdout",
          "output_type": "stream",
          "text": [
            "Processed and saved: /content/drive/MyDrive/Data/StandardData/ProcessedStandardizedData_Subject49.csv\n",
            "Head of the processed file ProcessedStandardizedData_Subject49.csv:\n",
            "       Time [s]  Pressure [cmH2O]  Flow [L/s]  V_tidal [L]\n",
            "0 -1.000000e-02         -0.963487   -0.870467    -1.344441\n",
            "1 -3.863576e-14         -0.963487   -0.356442    -1.344577\n",
            "2  1.000000e-02         -0.963487   -0.356442    -1.343891\n",
            "3  2.000000e-02         -0.972907   -0.870467    -1.344027\n",
            "4  3.000000e-02         -0.972907   -0.870467    -1.344986\n",
            "\n",
            "\n"
          ]
        },
        {
          "name": "stderr",
          "output_type": "stream",
          "text": [
            "<ipython-input-6-f88a7942cfa1>:15: SettingWithCopyWarning: \n",
            "A value is trying to be set on a copy of a slice from a DataFrame\n",
            "\n",
            "See the caveats in the documentation: https://pandas.pydata.org/pandas-docs/stable/user_guide/indexing.html#returning-a-view-versus-a-copy\n",
            "  df.loc[:, columns] = scaler.fit_transform(df[columns])\n"
          ]
        },
        {
          "name": "stdout",
          "output_type": "stream",
          "text": [
            "Processed and saved: /content/drive/MyDrive/Data/StandardData/ProcessedStandardizedData_Subject43.csv\n",
            "Head of the processed file ProcessedStandardizedData_Subject43.csv:\n",
            "       Time [s]  Pressure [cmH2O]  Flow [L/s]  V_tidal [L]\n",
            "0 -1.000000e-02         -1.803467    0.474064    -0.935123\n",
            "1 -4.551914e-15         -1.789904    0.474064    -0.932799\n",
            "2  1.000000e-02         -1.776340    0.392814    -0.930582\n",
            "3  2.000000e-02         -1.776340    0.474064    -0.928366\n",
            "4  3.000000e-02         -1.753735    0.474064    -0.926041\n",
            "\n",
            "\n"
          ]
        },
        {
          "name": "stderr",
          "output_type": "stream",
          "text": [
            "<ipython-input-6-f88a7942cfa1>:15: SettingWithCopyWarning: \n",
            "A value is trying to be set on a copy of a slice from a DataFrame\n",
            "\n",
            "See the caveats in the documentation: https://pandas.pydata.org/pandas-docs/stable/user_guide/indexing.html#returning-a-view-versus-a-copy\n",
            "  df.loc[:, columns] = scaler.fit_transform(df[columns])\n"
          ]
        },
        {
          "name": "stdout",
          "output_type": "stream",
          "text": [
            "Processed and saved: /content/drive/MyDrive/Data/StandardData/ProcessedStandardizedData_Subject48.csv\n",
            "Head of the processed file ProcessedStandardizedData_Subject48.csv:\n",
            "       Time [s]  Pressure [cmH2O]  Flow [L/s]  V_tidal [L]\n",
            "0 -1.000000e-02         -1.121585   -0.772665    -1.069831\n",
            "1 -3.635980e-14         -1.121585   -0.772665    -1.069098\n",
            "2  1.000000e-02         -1.110191   -0.772665    -1.068366\n",
            "3  2.000000e-02         -1.110191   -0.772665    -1.067633\n",
            "4  3.000000e-02         -1.093101   -0.772665    -1.066901\n",
            "\n",
            "\n"
          ]
        },
        {
          "name": "stderr",
          "output_type": "stream",
          "text": [
            "<ipython-input-6-f88a7942cfa1>:15: SettingWithCopyWarning: \n",
            "A value is trying to be set on a copy of a slice from a DataFrame\n",
            "\n",
            "See the caveats in the documentation: https://pandas.pydata.org/pandas-docs/stable/user_guide/indexing.html#returning-a-view-versus-a-copy\n",
            "  df.loc[:, columns] = scaler.fit_transform(df[columns])\n"
          ]
        },
        {
          "name": "stdout",
          "output_type": "stream",
          "text": [
            "Processed and saved: /content/drive/MyDrive/Data/StandardData/ProcessedStandardizedData_Subject55.csv\n",
            "Head of the processed file ProcessedStandardizedData_Subject55.csv:\n",
            "       Time [s]  Pressure [cmH2O]  Flow [L/s]  V_tidal [L]\n",
            "0 -1.000000e-02         -0.721142   -0.698364    -1.334742\n",
            "1  3.641532e-14         -0.721142   -0.698364    -1.336172\n",
            "2  1.000000e-02         -0.721142   -0.698364    -1.337603\n",
            "3  2.000000e-02         -0.712507   -0.611473    -1.338872\n",
            "4  3.000000e-02         -0.699555   -0.698364    -1.340140\n",
            "\n",
            "\n"
          ]
        },
        {
          "name": "stderr",
          "output_type": "stream",
          "text": [
            "<ipython-input-6-f88a7942cfa1>:15: SettingWithCopyWarning: \n",
            "A value is trying to be set on a copy of a slice from a DataFrame\n",
            "\n",
            "See the caveats in the documentation: https://pandas.pydata.org/pandas-docs/stable/user_guide/indexing.html#returning-a-view-versus-a-copy\n",
            "  df.loc[:, columns] = scaler.fit_transform(df[columns])\n"
          ]
        },
        {
          "name": "stdout",
          "output_type": "stream",
          "text": [
            "Processed and saved: /content/drive/MyDrive/Data/StandardData/ProcessedStandardizedData_Subject51.csv\n",
            "Head of the processed file ProcessedStandardizedData_Subject51.csv:\n",
            "       Time [s]  Pressure [cmH2O]  Flow [L/s]  V_tidal [L]\n",
            "0 -1.000000e-02         -1.255571    0.044872    -0.711050\n",
            "1 -2.275957e-14         -1.308828   -0.142924    -0.710542\n",
            "2  1.000000e-02         -1.317704    0.233178    -0.709866\n",
            "3  2.000000e-02         -1.375399    0.129488    -0.708945\n",
            "4  3.000000e-02         -1.419779    0.320622    -0.707947\n",
            "\n",
            "\n"
          ]
        },
        {
          "name": "stderr",
          "output_type": "stream",
          "text": [
            "<ipython-input-6-f88a7942cfa1>:15: SettingWithCopyWarning: \n",
            "A value is trying to be set on a copy of a slice from a DataFrame\n",
            "\n",
            "See the caveats in the documentation: https://pandas.pydata.org/pandas-docs/stable/user_guide/indexing.html#returning-a-view-versus-a-copy\n",
            "  df.loc[:, columns] = scaler.fit_transform(df[columns])\n"
          ]
        },
        {
          "name": "stdout",
          "output_type": "stream",
          "text": [
            "Processed and saved: /content/drive/MyDrive/Data/StandardData/ProcessedStandardizedData_Subject52.csv\n",
            "Head of the processed file ProcessedStandardizedData_Subject52.csv:\n",
            "       Time [s]  Pressure [cmH2O]  Flow [L/s]  V_tidal [L]\n",
            "0 -1.000000e-02         -0.814509   -0.147575    -1.062539\n",
            "1 -5.906386e-14         -0.786777   -0.147575    -1.061994\n",
            "2  1.000000e-02         -0.751120    0.097955    -1.061058\n",
            "3  2.000000e-02         -0.806586   -0.558286    -1.060776\n",
            "4  3.000000e-02         -0.846204   -0.147575    -1.060884\n",
            "\n",
            "\n"
          ]
        },
        {
          "name": "stderr",
          "output_type": "stream",
          "text": [
            "<ipython-input-6-f88a7942cfa1>:15: SettingWithCopyWarning: \n",
            "A value is trying to be set on a copy of a slice from a DataFrame\n",
            "\n",
            "See the caveats in the documentation: https://pandas.pydata.org/pandas-docs/stable/user_guide/indexing.html#returning-a-view-versus-a-copy\n",
            "  df.loc[:, columns] = scaler.fit_transform(df[columns])\n"
          ]
        },
        {
          "name": "stdout",
          "output_type": "stream",
          "text": [
            "Processed and saved: /content/drive/MyDrive/Data/StandardData/ProcessedStandardizedData_Subject53.csv\n",
            "Head of the processed file ProcessedStandardizedData_Subject53.csv:\n",
            "   Time [s]  Pressure [cmH2O]  Flow [L/s]  V_tidal [L]\n",
            "0      0.00         -0.061046   -0.908006    -1.047584\n",
            "1      0.01         -0.119303   -0.990267    -1.050462\n",
            "2      0.02         -0.235818   -1.063457    -1.053697\n",
            "3      0.03         -0.361294   -1.130043    -1.057252\n",
            "4      0.04         -0.406107   -1.086297    -1.060860\n",
            "\n",
            "\n"
          ]
        },
        {
          "name": "stderr",
          "output_type": "stream",
          "text": [
            "<ipython-input-6-f88a7942cfa1>:15: SettingWithCopyWarning: \n",
            "A value is trying to be set on a copy of a slice from a DataFrame\n",
            "\n",
            "See the caveats in the documentation: https://pandas.pydata.org/pandas-docs/stable/user_guide/indexing.html#returning-a-view-versus-a-copy\n",
            "  df.loc[:, columns] = scaler.fit_transform(df[columns])\n"
          ]
        },
        {
          "name": "stdout",
          "output_type": "stream",
          "text": [
            "Processed and saved: /content/drive/MyDrive/Data/StandardData/ProcessedStandardizedData_Subject54.csv\n",
            "Head of the processed file ProcessedStandardizedData_Subject54.csv:\n",
            "       Time [s]  Pressure [cmH2O]  Flow [L/s]  V_tidal [L]\n",
            "0 -1.000000e-02         -2.145991    0.783795    -0.784479\n",
            "1 -2.731149e-14         -2.145991    0.729820    -0.781382\n",
            "2  1.000000e-02         -2.137200    0.729820    -0.778366\n",
            "3  2.000000e-02         -2.102033    0.672754    -0.775436\n",
            "4  3.000000e-02         -2.124012    0.783795    -0.772425\n",
            "\n",
            "\n"
          ]
        },
        {
          "name": "stderr",
          "output_type": "stream",
          "text": [
            "<ipython-input-6-f88a7942cfa1>:15: SettingWithCopyWarning: \n",
            "A value is trying to be set on a copy of a slice from a DataFrame\n",
            "\n",
            "See the caveats in the documentation: https://pandas.pydata.org/pandas-docs/stable/user_guide/indexing.html#returning-a-view-versus-a-copy\n",
            "  df.loc[:, columns] = scaler.fit_transform(df[columns])\n"
          ]
        },
        {
          "name": "stdout",
          "output_type": "stream",
          "text": [
            "Processed and saved: /content/drive/MyDrive/Data/StandardData/ProcessedStandardizedData_Subject56.csv\n",
            "Head of the processed file ProcessedStandardizedData_Subject56.csv:\n",
            "       Time [s]  Pressure [cmH2O]  Flow [L/s]  V_tidal [L]\n",
            "0 -1.000000e-02         -2.221732    0.682675    -0.642022\n",
            "1 -2.731149e-14         -2.208126    0.682675    -0.637155\n",
            "2  1.000000e-02         -2.235337    0.682675    -0.632287\n",
            "3  2.000000e-02         -2.221732    0.728906    -0.627311\n",
            "4  3.000000e-02         -2.208126    0.682675    -0.622335\n",
            "\n",
            "\n"
          ]
        },
        {
          "name": "stderr",
          "output_type": "stream",
          "text": [
            "<ipython-input-6-f88a7942cfa1>:15: SettingWithCopyWarning: \n",
            "A value is trying to be set on a copy of a slice from a DataFrame\n",
            "\n",
            "See the caveats in the documentation: https://pandas.pydata.org/pandas-docs/stable/user_guide/indexing.html#returning-a-view-versus-a-copy\n",
            "  df.loc[:, columns] = scaler.fit_transform(df[columns])\n"
          ]
        },
        {
          "name": "stdout",
          "output_type": "stream",
          "text": [
            "Processed and saved: /content/drive/MyDrive/Data/StandardData/ProcessedStandardizedData_Subject60.csv\n",
            "Head of the processed file ProcessedStandardizedData_Subject60.csv:\n",
            "       Time [s]  Pressure [cmH2O]  Flow [L/s]  V_tidal [L]\n",
            "0 -1.000000e-02         -0.579703   -1.028000    -0.985943\n",
            "1 -7.727152e-14         -0.592612   -0.916303    -0.987292\n",
            "2  1.000000e-02         -0.579703   -0.916303    -0.988482\n",
            "3  2.000000e-02         -0.601219   -0.821185    -0.989538\n",
            "4  3.000000e-02         -0.601219   -0.916303    -0.990594\n",
            "\n",
            "\n"
          ]
        },
        {
          "name": "stderr",
          "output_type": "stream",
          "text": [
            "<ipython-input-6-f88a7942cfa1>:15: SettingWithCopyWarning: \n",
            "A value is trying to be set on a copy of a slice from a DataFrame\n",
            "\n",
            "See the caveats in the documentation: https://pandas.pydata.org/pandas-docs/stable/user_guide/indexing.html#returning-a-view-versus-a-copy\n",
            "  df.loc[:, columns] = scaler.fit_transform(df[columns])\n"
          ]
        },
        {
          "name": "stdout",
          "output_type": "stream",
          "text": [
            "Processed and saved: /content/drive/MyDrive/Data/StandardData/ProcessedStandardizedData_Subject59.csv\n",
            "Head of the processed file ProcessedStandardizedData_Subject59.csv:\n",
            "       Time [s]  Pressure [cmH2O]  Flow [L/s]  V_tidal [L]\n",
            "0 -1.000000e-02         -0.900696   -0.432821    -0.705007\n",
            "1 -5.451195e-14         -0.930238   -0.133314    -0.704516\n",
            "2  1.000000e-02         -0.930238   -0.432821    -0.704025\n",
            "3  2.000000e-02         -0.930238   -0.432821    -0.652846\n",
            "4  3.000000e-02         -0.940085   -0.133314    -0.652355\n",
            "\n",
            "\n"
          ]
        },
        {
          "name": "stderr",
          "output_type": "stream",
          "text": [
            "<ipython-input-6-f88a7942cfa1>:15: SettingWithCopyWarning: \n",
            "A value is trying to be set on a copy of a slice from a DataFrame\n",
            "\n",
            "See the caveats in the documentation: https://pandas.pydata.org/pandas-docs/stable/user_guide/indexing.html#returning-a-view-versus-a-copy\n",
            "  df.loc[:, columns] = scaler.fit_transform(df[columns])\n"
          ]
        },
        {
          "name": "stdout",
          "output_type": "stream",
          "text": [
            "Processed and saved: /content/drive/MyDrive/Data/StandardData/ProcessedStandardizedData_Subject58.csv\n",
            "Head of the processed file ProcessedStandardizedData_Subject58.csv:\n",
            "   Time [s]  Pressure [cmH2O]  Flow [L/s]  V_tidal [L]\n",
            "0      0.00         -0.030949   -1.259853    -1.260187\n",
            "1      0.01         -0.049026   -1.259853    -1.260133\n",
            "2      0.02         -0.049026   -1.259853    -1.260079\n",
            "3      0.03         -0.049026   -0.838811    -1.259685\n",
            "4      0.04         -0.049026   -1.259853    -1.259292\n",
            "\n",
            "\n"
          ]
        },
        {
          "name": "stderr",
          "output_type": "stream",
          "text": [
            "<ipython-input-6-f88a7942cfa1>:15: SettingWithCopyWarning: \n",
            "A value is trying to be set on a copy of a slice from a DataFrame\n",
            "\n",
            "See the caveats in the documentation: https://pandas.pydata.org/pandas-docs/stable/user_guide/indexing.html#returning-a-view-versus-a-copy\n",
            "  df.loc[:, columns] = scaler.fit_transform(df[columns])\n"
          ]
        },
        {
          "name": "stdout",
          "output_type": "stream",
          "text": [
            "Processed and saved: /content/drive/MyDrive/Data/StandardData/ProcessedStandardizedData_Subject57.csv\n",
            "Head of the processed file ProcessedStandardizedData_Subject57.csv:\n",
            "       Time [s]  Pressure [cmH2O]  Flow [L/s]  V_tidal [L]\n",
            "0 -1.000000e-02         -1.586235    0.252672    -1.198707\n",
            "1  5.107026e-15         -1.576958    0.252672    -1.196908\n",
            "2  1.000000e-02         -1.576958    0.031649    -1.195372\n",
            "3  2.000000e-02         -1.586235    0.252672    -1.193835\n",
            "4  3.000000e-02         -1.600151    0.252672    -1.192036\n",
            "\n",
            "\n"
          ]
        },
        {
          "name": "stderr",
          "output_type": "stream",
          "text": [
            "<ipython-input-6-f88a7942cfa1>:15: SettingWithCopyWarning: \n",
            "A value is trying to be set on a copy of a slice from a DataFrame\n",
            "\n",
            "See the caveats in the documentation: https://pandas.pydata.org/pandas-docs/stable/user_guide/indexing.html#returning-a-view-versus-a-copy\n",
            "  df.loc[:, columns] = scaler.fit_transform(df[columns])\n"
          ]
        },
        {
          "name": "stdout",
          "output_type": "stream",
          "text": [
            "Processed and saved: /content/drive/MyDrive/Data/StandardData/ProcessedStandardizedData_Subject61.csv\n",
            "Head of the processed file ProcessedStandardizedData_Subject61.csv:\n",
            "       Time [s]  Pressure [cmH2O]  Flow [L/s]  V_tidal [L]\n",
            "0 -1.000000e-02         -0.127848   -1.535363    -1.074202\n",
            "1 -2.775558e-16         -0.151112   -1.496264    -1.076968\n",
            "2  1.000000e-02         -0.127848   -1.535363    -1.079734\n",
            "3  2.000000e-02         -0.141806   -1.434114    -1.082404\n",
            "4  3.000000e-02         -0.118542   -1.535363    -1.085074\n",
            "\n",
            "\n"
          ]
        },
        {
          "name": "stderr",
          "output_type": "stream",
          "text": [
            "<ipython-input-6-f88a7942cfa1>:15: SettingWithCopyWarning: \n",
            "A value is trying to be set on a copy of a slice from a DataFrame\n",
            "\n",
            "See the caveats in the documentation: https://pandas.pydata.org/pandas-docs/stable/user_guide/indexing.html#returning-a-view-versus-a-copy\n",
            "  df.loc[:, columns] = scaler.fit_transform(df[columns])\n"
          ]
        },
        {
          "name": "stdout",
          "output_type": "stream",
          "text": [
            "Processed and saved: /content/drive/MyDrive/Data/StandardData/ProcessedStandardizedData_Subject62.csv\n",
            "Head of the processed file ProcessedStandardizedData_Subject62.csv:\n",
            "       Time [s]  Pressure [cmH2O]  Flow [L/s]  V_tidal [L]\n",
            "0 -1.000000e-02         -1.119495   -1.197644    -0.882284\n",
            "1 -4.440892e-16         -1.119495   -1.549973    -0.881823\n",
            "2  1.000000e-02         -1.086199   -1.372277    -0.881458\n",
            "3  2.000000e-02         -1.064001   -1.197644    -0.880901\n",
            "4  3.000000e-02         -1.030705   -1.372277    -0.880344\n",
            "\n",
            "\n"
          ]
        },
        {
          "name": "stderr",
          "output_type": "stream",
          "text": [
            "<ipython-input-6-f88a7942cfa1>:15: SettingWithCopyWarning: \n",
            "A value is trying to be set on a copy of a slice from a DataFrame\n",
            "\n",
            "See the caveats in the documentation: https://pandas.pydata.org/pandas-docs/stable/user_guide/indexing.html#returning-a-view-versus-a-copy\n",
            "  df.loc[:, columns] = scaler.fit_transform(df[columns])\n"
          ]
        },
        {
          "name": "stdout",
          "output_type": "stream",
          "text": [
            "Processed and saved: /content/drive/MyDrive/Data/StandardData/ProcessedStandardizedData_Subject67.csv\n",
            "Head of the processed file ProcessedStandardizedData_Subject67.csv:\n",
            "   Time [s]  Pressure [cmH2O]  Flow [L/s]  V_tidal [L]\n",
            "0      0.00         -0.968428   -1.814997    -0.849247\n",
            "1      0.01         -1.022921   -2.488539    -0.849314\n",
            "2      0.02         -1.022921   -2.060286    -0.849529\n",
            "3      0.03         -1.022921   -2.060286    -0.849486\n",
            "4      0.04         -1.022921   -2.060286    -0.849443\n",
            "\n",
            "\n"
          ]
        },
        {
          "name": "stderr",
          "output_type": "stream",
          "text": [
            "<ipython-input-6-f88a7942cfa1>:15: SettingWithCopyWarning: \n",
            "A value is trying to be set on a copy of a slice from a DataFrame\n",
            "\n",
            "See the caveats in the documentation: https://pandas.pydata.org/pandas-docs/stable/user_guide/indexing.html#returning-a-view-versus-a-copy\n",
            "  df.loc[:, columns] = scaler.fit_transform(df[columns])\n"
          ]
        },
        {
          "name": "stdout",
          "output_type": "stream",
          "text": [
            "Processed and saved: /content/drive/MyDrive/Data/StandardData/ProcessedStandardizedData_Subject63.csv\n",
            "Head of the processed file ProcessedStandardizedData_Subject63.csv:\n",
            "       Time [s]  Pressure [cmH2O]  Flow [L/s]  V_tidal [L]\n",
            "0 -1.000000e-02         -0.135861    0.137682    -0.253369\n",
            "1 -9.103829e-15         -0.300324    0.052074    -0.254036\n",
            "2  1.000000e-02         -0.311288    0.052074    -0.254789\n",
            "3  2.000000e-02         -0.327735    0.137682    -0.255456\n",
            "4  3.000000e-02         -0.338699    0.052074    -0.256123\n",
            "\n",
            "\n"
          ]
        },
        {
          "name": "stderr",
          "output_type": "stream",
          "text": [
            "<ipython-input-6-f88a7942cfa1>:15: SettingWithCopyWarning: \n",
            "A value is trying to be set on a copy of a slice from a DataFrame\n",
            "\n",
            "See the caveats in the documentation: https://pandas.pydata.org/pandas-docs/stable/user_guide/indexing.html#returning-a-view-versus-a-copy\n",
            "  df.loc[:, columns] = scaler.fit_transform(df[columns])\n"
          ]
        },
        {
          "name": "stdout",
          "output_type": "stream",
          "text": [
            "Processed and saved: /content/drive/MyDrive/Data/StandardData/ProcessedStandardizedData_Subject66.csv\n",
            "Head of the processed file ProcessedStandardizedData_Subject66.csv:\n",
            "       Time [s]  Pressure [cmH2O]  Flow [L/s]  V_tidal [L]\n",
            "0 -1.000000e-02          0.150378   -0.886407    -0.805752\n",
            "1  4.085621e-14          0.133675   -0.865388    -0.808637\n",
            "2  1.000000e-02          0.106950   -0.774809    -0.811315\n",
            "3  2.000000e-02          0.133675   -0.832732    -0.813932\n",
            "4  3.000000e-02          0.133675   -0.896709    -0.816776\n",
            "\n",
            "\n"
          ]
        },
        {
          "name": "stderr",
          "output_type": "stream",
          "text": [
            "<ipython-input-6-f88a7942cfa1>:15: SettingWithCopyWarning: \n",
            "A value is trying to be set on a copy of a slice from a DataFrame\n",
            "\n",
            "See the caveats in the documentation: https://pandas.pydata.org/pandas-docs/stable/user_guide/indexing.html#returning-a-view-versus-a-copy\n",
            "  df.loc[:, columns] = scaler.fit_transform(df[columns])\n"
          ]
        },
        {
          "name": "stdout",
          "output_type": "stream",
          "text": [
            "Processed and saved: /content/drive/MyDrive/Data/StandardData/ProcessedStandardizedData_Subject64.csv\n",
            "Head of the processed file ProcessedStandardizedData_Subject64.csv:\n",
            "       Time [s]  Pressure [cmH2O]  Flow [L/s]  V_tidal [L]\n",
            "0 -1.000000e-02         -2.066508    1.803417     0.147607\n",
            "1 -3.330669e-16         -2.091044    1.803417     0.149722\n",
            "2  1.000000e-02         -2.051787    1.749696     0.151776\n",
            "3  2.000000e-02         -2.076322    1.749696     0.153771\n",
            "4  3.000000e-02         -2.091044    1.749696     0.155765\n",
            "\n",
            "\n"
          ]
        },
        {
          "name": "stderr",
          "output_type": "stream",
          "text": [
            "<ipython-input-6-f88a7942cfa1>:15: SettingWithCopyWarning: \n",
            "A value is trying to be set on a copy of a slice from a DataFrame\n",
            "\n",
            "See the caveats in the documentation: https://pandas.pydata.org/pandas-docs/stable/user_guide/indexing.html#returning-a-view-versus-a-copy\n",
            "  df.loc[:, columns] = scaler.fit_transform(df[columns])\n"
          ]
        },
        {
          "name": "stdout",
          "output_type": "stream",
          "text": [
            "Processed and saved: /content/drive/MyDrive/Data/StandardData/ProcessedStandardizedData_Subject68.csv\n",
            "Head of the processed file ProcessedStandardizedData_Subject68.csv:\n",
            "       Time [s]  Pressure [cmH2O]  Flow [L/s]  V_tidal [L]\n",
            "0 -1.000000e-02         -0.773746   -0.627583    -1.549136\n",
            "1  7.438494e-15         -0.773746   -0.722598    -1.551076\n",
            "2  1.000000e-02         -0.773746   -0.799773    -1.553465\n",
            "3  2.000000e-02         -0.786888   -0.799773    -1.556055\n",
            "4  3.000000e-02         -0.786888   -0.722598    -1.558444\n",
            "\n",
            "\n"
          ]
        },
        {
          "name": "stderr",
          "output_type": "stream",
          "text": [
            "<ipython-input-6-f88a7942cfa1>:15: SettingWithCopyWarning: \n",
            "A value is trying to be set on a copy of a slice from a DataFrame\n",
            "\n",
            "See the caveats in the documentation: https://pandas.pydata.org/pandas-docs/stable/user_guide/indexing.html#returning-a-view-versus-a-copy\n",
            "  df.loc[:, columns] = scaler.fit_transform(df[columns])\n"
          ]
        },
        {
          "name": "stdout",
          "output_type": "stream",
          "text": [
            "Processed and saved: /content/drive/MyDrive/Data/StandardData/ProcessedStandardizedData_Subject65.csv\n",
            "Head of the processed file ProcessedStandardizedData_Subject65.csv:\n",
            "       Time [s]  Pressure [cmH2O]  Flow [L/s]  V_tidal [L]\n",
            "0 -1.000000e-02         -2.620077    1.888789     0.716431\n",
            "1 -9.436896e-16         -2.599732    1.868752     0.717136\n",
            "2  1.000000e-02         -2.565823    1.888789     0.717841\n",
            "3  2.000000e-02         -2.620077    1.888789     0.718561\n",
            "4  3.000000e-02         -2.599732    1.888789     0.719280\n",
            "\n",
            "\n"
          ]
        },
        {
          "name": "stderr",
          "output_type": "stream",
          "text": [
            "<ipython-input-6-f88a7942cfa1>:15: SettingWithCopyWarning: \n",
            "A value is trying to be set on a copy of a slice from a DataFrame\n",
            "\n",
            "See the caveats in the documentation: https://pandas.pydata.org/pandas-docs/stable/user_guide/indexing.html#returning-a-view-versus-a-copy\n",
            "  df.loc[:, columns] = scaler.fit_transform(df[columns])\n"
          ]
        },
        {
          "name": "stdout",
          "output_type": "stream",
          "text": [
            "Processed and saved: /content/drive/MyDrive/Data/StandardData/ProcessedStandardizedData_Subject69.csv\n",
            "Head of the processed file ProcessedStandardizedData_Subject69.csv:\n",
            "   Time [s]  Pressure [cmH2O]  Flow [L/s]  V_tidal [L]\n",
            "0      0.00         -2.203652    0.716078    -1.258019\n",
            "1      0.01         -2.203652    0.772115    -1.250122\n",
            "2      0.02         -2.214975    0.804281    -1.241867\n",
            "3      0.03         -2.203652    0.716078    -1.233839\n",
            "4      0.04         -2.196103    0.772115    -1.225942\n",
            "\n",
            "\n"
          ]
        },
        {
          "name": "stderr",
          "output_type": "stream",
          "text": [
            "<ipython-input-6-f88a7942cfa1>:15: SettingWithCopyWarning: \n",
            "A value is trying to be set on a copy of a slice from a DataFrame\n",
            "\n",
            "See the caveats in the documentation: https://pandas.pydata.org/pandas-docs/stable/user_guide/indexing.html#returning-a-view-versus-a-copy\n",
            "  df.loc[:, columns] = scaler.fit_transform(df[columns])\n"
          ]
        },
        {
          "name": "stdout",
          "output_type": "stream",
          "text": [
            "Processed and saved: /content/drive/MyDrive/Data/StandardData/ProcessedStandardizedData_Subject73.csv\n",
            "Head of the processed file ProcessedStandardizedData_Subject73.csv:\n",
            "   Time [s]  Pressure [cmH2O]  Flow [L/s]  V_tidal [L]\n",
            "0     -0.01         -1.565121    0.381414    -0.565177\n",
            "1      0.00         -1.565121    0.381414    -0.561152\n",
            "2      0.01         -1.544303    0.381414    -0.557127\n",
            "3      0.02         -1.544303    0.486734    -0.552791\n",
            "4      0.03         -1.535976    0.309549    -0.548668\n",
            "\n",
            "\n"
          ]
        },
        {
          "name": "stderr",
          "output_type": "stream",
          "text": [
            "<ipython-input-6-f88a7942cfa1>:15: SettingWithCopyWarning: \n",
            "A value is trying to be set on a copy of a slice from a DataFrame\n",
            "\n",
            "See the caveats in the documentation: https://pandas.pydata.org/pandas-docs/stable/user_guide/indexing.html#returning-a-view-versus-a-copy\n",
            "  df.loc[:, columns] = scaler.fit_transform(df[columns])\n"
          ]
        },
        {
          "name": "stdout",
          "output_type": "stream",
          "text": [
            "Processed and saved: /content/drive/MyDrive/Data/StandardData/ProcessedStandardizedData_Subject76.csv\n",
            "Head of the processed file ProcessedStandardizedData_Subject76.csv:\n",
            "       Time [s]  Pressure [cmH2O]  Flow [L/s]  V_tidal [L]\n",
            "0 -1.000000e-02         -1.819750    0.268694    -0.757181\n",
            "1  9.103829e-14         -1.828797    0.346579    -0.754294\n",
            "2  1.000000e-02         -1.842368    0.321562    -0.751298\n",
            "3  2.000000e-02         -1.842368    0.394227    -0.748204\n",
            "4  3.000000e-02         -1.842368    0.394227    -0.744960\n",
            "\n",
            "\n"
          ]
        },
        {
          "name": "stderr",
          "output_type": "stream",
          "text": [
            "<ipython-input-6-f88a7942cfa1>:15: SettingWithCopyWarning: \n",
            "A value is trying to be set on a copy of a slice from a DataFrame\n",
            "\n",
            "See the caveats in the documentation: https://pandas.pydata.org/pandas-docs/stable/user_guide/indexing.html#returning-a-view-versus-a-copy\n",
            "  df.loc[:, columns] = scaler.fit_transform(df[columns])\n"
          ]
        },
        {
          "name": "stdout",
          "output_type": "stream",
          "text": [
            "Processed and saved: /content/drive/MyDrive/Data/StandardData/ProcessedStandardizedData_Subject74.csv\n",
            "Head of the processed file ProcessedStandardizedData_Subject74.csv:\n",
            "       Time [s]  Pressure [cmH2O]  Flow [L/s]  V_tidal [L]\n",
            "0 -1.000000e-02         -1.011629   -0.922580    -0.852502\n",
            "1 -3.552714e-15         -1.011629   -0.922580    -0.851689\n",
            "2  1.000000e-02         -1.011629   -0.854398    -0.850814\n",
            "3  2.000000e-02         -1.011629   -0.854398    -0.849876\n",
            "4  3.000000e-02         -1.028348   -0.922580    -0.849001\n",
            "\n",
            "\n"
          ]
        },
        {
          "name": "stderr",
          "output_type": "stream",
          "text": [
            "<ipython-input-6-f88a7942cfa1>:15: SettingWithCopyWarning: \n",
            "A value is trying to be set on a copy of a slice from a DataFrame\n",
            "\n",
            "See the caveats in the documentation: https://pandas.pydata.org/pandas-docs/stable/user_guide/indexing.html#returning-a-view-versus-a-copy\n",
            "  df.loc[:, columns] = scaler.fit_transform(df[columns])\n"
          ]
        },
        {
          "name": "stdout",
          "output_type": "stream",
          "text": [
            "Processed and saved: /content/drive/MyDrive/Data/StandardData/ProcessedStandardizedData_Subject72.csv\n",
            "Head of the processed file ProcessedStandardizedData_Subject72.csv:\n",
            "   Time [s]  Pressure [cmH2O]  Flow [L/s]  V_tidal [L]\n",
            "0      0.00         -0.540019   -0.510755    -1.395477\n",
            "1      0.01         -0.631776   -0.660838    -1.398834\n",
            "2      0.02         -0.719164   -0.818346    -1.403631\n",
            "3      0.03         -0.732272   -0.745613    -1.408826\n",
            "4      0.04         -0.732272   -0.690823    -1.413424\n",
            "\n",
            "\n",
            "Processed and saved: /content/drive/MyDrive/Data/StandardData/ProcessedStandardizedData_Subject71.csv\n",
            "Head of the processed file ProcessedStandardizedData_Subject71.csv:\n",
            "   Time [s]  Pressure [cmH2O]  Flow [L/s]  V_tidal [L]\n",
            "0      0.00         -0.510386   -1.414600    -1.467467\n",
            "1      0.01         -0.520243   -1.131755    -1.467699\n",
            "2      0.02         -0.510386   -1.414600    -1.467932\n",
            "3      0.03         -0.510386   -1.131755    -1.468164\n",
            "4      0.04         -0.510386   -0.835627    -1.467826\n",
            "\n",
            "\n"
          ]
        },
        {
          "name": "stderr",
          "output_type": "stream",
          "text": [
            "<ipython-input-6-f88a7942cfa1>:15: SettingWithCopyWarning: \n",
            "A value is trying to be set on a copy of a slice from a DataFrame\n",
            "\n",
            "See the caveats in the documentation: https://pandas.pydata.org/pandas-docs/stable/user_guide/indexing.html#returning-a-view-versus-a-copy\n",
            "  df.loc[:, columns] = scaler.fit_transform(df[columns])\n"
          ]
        },
        {
          "name": "stdout",
          "output_type": "stream",
          "text": [
            "Processed and saved: /content/drive/MyDrive/Data/StandardData/ProcessedStandardizedData_Subject75.csv\n",
            "Head of the processed file ProcessedStandardizedData_Subject75.csv:\n",
            "       Time [s]  Pressure [cmH2O]  Flow [L/s]  V_tidal [L]\n",
            "0 -1.000000e-02         -0.274699   -1.638085    -1.024242\n",
            "1 -1.415534e-15         -0.300638   -1.767981    -1.025980\n",
            "2  1.000000e-02         -0.326577   -1.767981    -1.027851\n",
            "3  2.000000e-02         -0.326577   -1.767981    -1.029722\n",
            "4  3.000000e-02         -0.326577   -1.815049    -1.031641\n",
            "\n",
            "\n"
          ]
        },
        {
          "name": "stderr",
          "output_type": "stream",
          "text": [
            "<ipython-input-6-f88a7942cfa1>:15: SettingWithCopyWarning: \n",
            "A value is trying to be set on a copy of a slice from a DataFrame\n",
            "\n",
            "See the caveats in the documentation: https://pandas.pydata.org/pandas-docs/stable/user_guide/indexing.html#returning-a-view-versus-a-copy\n",
            "  df.loc[:, columns] = scaler.fit_transform(df[columns])\n"
          ]
        },
        {
          "name": "stdout",
          "output_type": "stream",
          "text": [
            "Processed and saved: /content/drive/MyDrive/Data/StandardData/ProcessedStandardizedData_Subject70.csv\n",
            "Head of the processed file ProcessedStandardizedData_Subject70.csv:\n",
            "       Time [s]  Pressure [cmH2O]  Flow [L/s]  V_tidal [L]\n",
            "0 -1.000000e-02         -1.147296   -0.565452    -0.930780\n",
            "1  5.662137e-15         -1.162689   -0.565452    -0.929262\n",
            "2  1.000000e-02         -1.172952   -0.453857    -0.927573\n",
            "3  2.000000e-02         -1.172952   -0.453857    -0.925714\n",
            "4  3.000000e-02         -1.188346   -0.453857    -0.923855\n",
            "\n",
            "\n"
          ]
        },
        {
          "name": "stderr",
          "output_type": "stream",
          "text": [
            "<ipython-input-6-f88a7942cfa1>:15: SettingWithCopyWarning: \n",
            "A value is trying to be set on a copy of a slice from a DataFrame\n",
            "\n",
            "See the caveats in the documentation: https://pandas.pydata.org/pandas-docs/stable/user_guide/indexing.html#returning-a-view-versus-a-copy\n",
            "  df.loc[:, columns] = scaler.fit_transform(df[columns])\n"
          ]
        },
        {
          "name": "stdout",
          "output_type": "stream",
          "text": [
            "Processed and saved: /content/drive/MyDrive/Data/StandardData/ProcessedStandardizedData_Subject78.csv\n",
            "Head of the processed file ProcessedStandardizedData_Subject78.csv:\n",
            "   Time [s]  Pressure [cmH2O]  Flow [L/s]  V_tidal [L]\n",
            "0      0.00          0.861110   -1.345035    -1.292268\n",
            "1      0.01          0.827419   -1.451292    -1.294584\n",
            "2      0.02          0.837045   -1.451292    -1.297076\n",
            "3      0.03          0.812980   -1.508356    -1.299662\n",
            "4      0.04          0.812980   -1.544254    -1.302404\n",
            "\n",
            "\n"
          ]
        },
        {
          "name": "stderr",
          "output_type": "stream",
          "text": [
            "<ipython-input-6-f88a7942cfa1>:15: SettingWithCopyWarning: \n",
            "A value is trying to be set on a copy of a slice from a DataFrame\n",
            "\n",
            "See the caveats in the documentation: https://pandas.pydata.org/pandas-docs/stable/user_guide/indexing.html#returning-a-view-versus-a-copy\n",
            "  df.loc[:, columns] = scaler.fit_transform(df[columns])\n"
          ]
        },
        {
          "name": "stdout",
          "output_type": "stream",
          "text": [
            "Processed and saved: /content/drive/MyDrive/Data/StandardData/ProcessedStandardizedData_Subject77.csv\n",
            "Head of the processed file ProcessedStandardizedData_Subject77.csv:\n",
            "       Time [s]  Pressure [cmH2O]  Flow [L/s]  V_tidal [L]\n",
            "0 -1.000000e-02         -2.020537    0.528629    -0.771793\n",
            "1 -1.709743e-14         -1.989147    0.591730    -0.766203\n",
            "2  1.000000e-02         -2.007085    0.528629    -0.760612\n",
            "3  2.000000e-02         -2.007085    0.460839    -0.755409\n",
            "4  3.000000e-02         -2.020537    0.611878    -0.749959\n",
            "\n",
            "\n"
          ]
        },
        {
          "name": "stderr",
          "output_type": "stream",
          "text": [
            "<ipython-input-6-f88a7942cfa1>:15: SettingWithCopyWarning: \n",
            "A value is trying to be set on a copy of a slice from a DataFrame\n",
            "\n",
            "See the caveats in the documentation: https://pandas.pydata.org/pandas-docs/stable/user_guide/indexing.html#returning-a-view-versus-a-copy\n",
            "  df.loc[:, columns] = scaler.fit_transform(df[columns])\n"
          ]
        },
        {
          "name": "stdout",
          "output_type": "stream",
          "text": [
            "Processed and saved: /content/drive/MyDrive/Data/StandardData/ProcessedStandardizedData_Subject80.csv\n",
            "Head of the processed file ProcessedStandardizedData_Subject80.csv:\n",
            "       Time [s]  Pressure [cmH2O]  Flow [L/s]  V_tidal [L]\n",
            "0 -1.000000e-02         -1.547299    0.276442    -0.966965\n",
            "1 -9.103829e-15         -1.582683    0.424339    -0.962099\n",
            "2  1.000000e-02         -1.618067    0.354112    -0.956974\n",
            "3  2.000000e-02         -1.653451    0.354112    -0.952083\n",
            "4  3.000000e-02         -1.653451    0.354112    -0.947191\n",
            "\n",
            "\n"
          ]
        },
        {
          "name": "stderr",
          "output_type": "stream",
          "text": [
            "<ipython-input-6-f88a7942cfa1>:15: SettingWithCopyWarning: \n",
            "A value is trying to be set on a copy of a slice from a DataFrame\n",
            "\n",
            "See the caveats in the documentation: https://pandas.pydata.org/pandas-docs/stable/user_guide/indexing.html#returning-a-view-versus-a-copy\n",
            "  df.loc[:, columns] = scaler.fit_transform(df[columns])\n"
          ]
        },
        {
          "name": "stdout",
          "output_type": "stream",
          "text": [
            "Processed and saved: /content/drive/MyDrive/Data/StandardData/ProcessedStandardizedData_Subject79.csv\n",
            "Head of the processed file ProcessedStandardizedData_Subject79.csv:\n",
            "   Time [s]  Pressure [cmH2O]  Flow [L/s]  V_tidal [L]\n",
            "0      0.00         -1.679168    0.492699    -1.475064\n",
            "1      0.01         -1.659488    0.422948    -1.472400\n",
            "2      0.02         -1.679168    0.492699    -1.469736\n",
            "3      0.03         -1.671296    0.422948    -1.467071\n",
            "4      0.04         -1.694912    0.422948    -1.464541\n",
            "\n",
            "\n"
          ]
        }
      ],
      "source": [
        "import os\n",
        "import glob\n",
        "import pandas as pd\n",
        "import numpy as np\n",
        "from scipy import stats\n",
        "from sklearn.preprocessing import StandardScaler\n",
        "\n",
        "def remove_outliers(df, columns):\n",
        "    z_scores = np.abs(stats.zscore(df[columns]))\n",
        "    filtered_entries = (z_scores < 4).all(axis=1)  # Relaxing the threshold to 4\n",
        "    return df[filtered_entries]\n",
        "\n",
        "def standardize(df, columns):\n",
        "    scaler = StandardScaler()\n",
        "    df.loc[:, columns] = scaler.fit_transform(df[columns])\n",
        "    return df\n",
        "\n",
        "# Original file pattern\n",
        "file_pattern = '/content/drive/MyDrive/Data/ProcessedData_Subject*.csv'\n",
        "\n",
        "# List of files that match the pattern\n",
        "files = glob.glob(file_pattern)\n",
        "\n",
        "# New directory where the processed files will be saved\n",
        "new_directory = r\"/content/drive/MyDrive/Data/StandardData\"\n",
        "\n",
        "# Ensure the new directory exists\n",
        "if not os.path.exists(new_directory):\n",
        "    os.makedirs(new_directory)\n",
        "\n",
        "# Explicitly define columns to process\n",
        "columns_to_process = ['Time [s]', 'Pressure [cmH2O]', 'Flow [L/s]', 'V_tidal [L]']\n",
        "\n",
        "for filepath in files:\n",
        "    # Read the CSV file, including only the specified columns\n",
        "    df = pd.read_csv(filepath, usecols=columns_to_process)\n",
        "\n",
        "    # Fill missing values with forward fill\n",
        "    df.ffill(inplace=True)\n",
        "\n",
        "    # Remove 'Time [s]' from the list for processing steps like outlier removal and standardization\n",
        "    process_columns = [col for col in columns_to_process if col != 'Time [s]']\n",
        "\n",
        "    df_clean = remove_outliers(df, process_columns)\n",
        "\n",
        "    # Check if df_clean is empty\n",
        "    if not df_clean.empty:\n",
        "        df_standardized = standardize(df_clean, process_columns)\n",
        "\n",
        "        # Define the new filename based on the original filename\n",
        "        original_filename = os.path.basename(filepath)\n",
        "        new_filename = original_filename.replace('ProcessedData_', 'ProcessedStandardizedData_')\n",
        "\n",
        "        # Construct the new file path\n",
        "        new_filepath = os.path.join(new_directory, new_filename)\n",
        "\n",
        "        # Save the processed file to the new directory\n",
        "        df_standardized.to_csv(new_filepath, index=False)\n",
        "\n",
        "        # Read the newly saved file and print its head\n",
        "        print(f'Processed and saved: {new_filepath}')\n",
        "        df_new = pd.read_csv(new_filepath)\n",
        "        print(f'Head of the processed file {new_filename}:')\n",
        "        print(df_new.head())  # Print the first 5 rows by default\n",
        "        print(\"\\n\")  # Add a new line for better readability between files\n",
        "    else:\n",
        "        print(f'No data left after outlier removal in file: {filepath}. Skipping standardization and saving.')\n"
      ]
    },
    {
      "cell_type": "code",
      "execution_count": null,
      "metadata": {
        "colab": {
          "base_uri": "https://localhost:8080/"
        },
        "id": "ep3pAQTRQXRs",
        "outputId": "fcc5cfc3-5173-4908-98cb-11076d6777e9"
      },
      "outputs": [
        {
          "name": "stdout",
          "output_type": "stream",
          "text": [
            "File read: /content/drive/MyDrive/Data/StandardData/ProcessedStandardizedData_Subject04.csv\n",
            "       Time [s]  Pressure [cmH2O]  Flow [L/s]  V_tidal [L]\n",
            "0 -1.000000e-02         -0.268461   -0.889348    -1.457530\n",
            "1 -8.326673e-16         -0.261447   -0.763246    -1.460395\n",
            "2  1.000000e-02         -0.268461   -0.820450    -1.463102\n",
            "3  2.000000e-02         -0.278982   -0.699497    -1.465662\n",
            "4  3.000000e-02         -0.285997   -0.855808    -1.468304\n",
            "\n",
            "--------------------------------------------------\n",
            "\n",
            "File read: /content/drive/MyDrive/Data/StandardData/ProcessedStandardizedData_Subject02.csv\n",
            "       Time [s]  Pressure [cmH2O]  Flow [L/s]  V_tidal [L]\n",
            "0 -1.000000e-02         -0.167879   -0.937229    -1.332290\n",
            "1 -3.635980e-14         -0.148019   -0.937229    -1.344149\n",
            "2  1.000000e-02         -0.120216   -1.013790    -1.356574\n",
            "3  2.000000e-02         -0.088441   -0.937229    -1.368999\n",
            "4  3.000000e-02         -0.060638   -1.037868    -1.381602\n",
            "\n",
            "--------------------------------------------------\n",
            "\n",
            "File read: /content/drive/MyDrive/Data/StandardData/ProcessedStandardizedData_Subject01.csv\n",
            "       Time [s]  Pressure [cmH2O]  Flow [L/s]  V_tidal [L]\n",
            "0 -1.000000e-02         -2.399169    0.879874    -0.774893\n",
            "1  2.275957e-15         -2.399169    0.879874    -0.770238\n",
            "2  1.000000e-02         -2.353036    0.794601    -0.765760\n",
            "3  2.000000e-02         -2.399169    0.920165    -0.761199\n",
            "4  3.000000e-02         -2.369812    0.920165    -0.756377\n",
            "\n",
            "--------------------------------------------------\n",
            "\n",
            "File read: /content/drive/MyDrive/Data/StandardData/ProcessedStandardizedData_Subject06.csv\n",
            "       Time [s]  Pressure [cmH2O]  Flow [L/s]  V_tidal [L]\n",
            "0 -1.000000e-02         -0.649799   -2.230933    -1.275246\n",
            "1 -3.519407e-14         -0.649799   -1.947504    -1.276559\n",
            "2  1.000000e-02         -0.637589   -1.865200    -1.277464\n",
            "3  2.000000e-02         -0.637589   -1.947504    -1.278368\n",
            "4  3.000000e-02         -0.649799   -1.947504    -1.279364\n",
            "\n",
            "--------------------------------------------------\n",
            "\n",
            "File read: /content/drive/MyDrive/Data/StandardData/ProcessedStandardizedData_Subject08.csv\n",
            "       Time [s]  Pressure [cmH2O]  Flow [L/s]  V_tidal [L]\n",
            "0 -1.000000e-02         -1.915752    0.713645    -1.254876\n",
            "1 -1.365574e-14         -1.915752    0.650038    -1.250813\n",
            "2  1.000000e-02         -1.937857    0.650038    -1.246898\n",
            "3  2.000000e-02         -1.915752    0.682424    -1.242907\n",
            "4  3.000000e-02         -1.908384    0.650038    -1.238916\n",
            "\n",
            "--------------------------------------------------\n",
            "\n",
            "File read: /content/drive/MyDrive/Data/StandardData/ProcessedStandardizedData_Subject05.csv\n",
            "       Time [s]  Pressure [cmH2O]  Flow [L/s]  V_tidal [L]\n",
            "0 -1.000000e-02          -1.10969    0.038350    -1.462480\n",
            "1  2.728373e-14          -1.10969   -0.085324    -1.459605\n",
            "2  1.000000e-02          -1.09751    0.038350    -1.456730\n",
            "3  2.000000e-02          -1.09751   -0.085324    -1.453854\n",
            "4  3.000000e-02          -1.09751   -0.085324    -1.451742\n",
            "\n",
            "--------------------------------------------------\n",
            "\n",
            "File read: /content/drive/MyDrive/Data/StandardData/ProcessedStandardizedData_Subject03.csv\n",
            "       Time [s]  Pressure [cmH2O]  Flow [L/s]  V_tidal [L]\n",
            "0 -1.000000e-02         -1.576023    0.512942    -0.282603\n",
            "1  4.662937e-15         -1.563924    0.512942    -0.279309\n",
            "2  1.000000e-02         -1.531657    0.451218    -0.276166\n",
            "3  2.000000e-02         -1.543757    0.451218    -0.273176\n",
            "4  3.000000e-02         -1.523591    0.512942    -0.270034\n",
            "\n",
            "--------------------------------------------------\n",
            "\n",
            "File read: /content/drive/MyDrive/Data/StandardData/ProcessedStandardizedData_Subject12.csv\n",
            "       Time [s]  Pressure [cmH2O]  Flow [L/s]  V_tidal [L]\n",
            "0 -1.000000e-02         -2.028974    0.703048    -1.259483\n",
            "1 -2.731149e-14         -1.996695    0.745254    -1.255441\n",
            "2  1.000000e-02         -1.984591    0.703048    -1.251399\n",
            "3  2.000000e-02         -1.996695    0.703048    -1.247452\n",
            "4  3.000000e-02         -1.984591    0.745254    -1.243410\n",
            "\n",
            "--------------------------------------------------\n",
            "\n",
            "File read: /content/drive/MyDrive/Data/StandardData/ProcessedStandardizedData_Subject07.csv\n",
            "   Time [s]  Pressure [cmH2O]  Flow [L/s]  V_tidal [L]\n",
            "0     -0.01         -1.697056   -0.785346    -1.108440\n",
            "1      0.00         -1.697056   -0.884818    -1.107149\n",
            "2      0.01         -1.697056   -0.785346    -1.105858\n",
            "3      0.02         -1.697056   -0.785346    -1.104496\n",
            "4      0.03         -1.697056   -0.884818    -1.103205\n",
            "\n",
            "--------------------------------------------------\n",
            "\n",
            "File read: /content/drive/MyDrive/Data/StandardData/ProcessedStandardizedData_Subject15.csv\n",
            "       Time [s]  Pressure [cmH2O]  Flow [L/s]  V_tidal [L]\n",
            "0 -1.000000e-02         -0.765582   -0.050497    -1.431382\n",
            "1  8.637535e-14         -0.758286   -0.050497    -1.430725\n",
            "2  1.000000e-02         -0.758286   -0.165464    -1.430355\n",
            "3  2.000000e-02         -0.758286   -0.050497    -1.429985\n",
            "4  3.000000e-02         -0.758286    0.044685    -1.429091\n",
            "\n",
            "--------------------------------------------------\n",
            "\n",
            "File read: /content/drive/MyDrive/Data/StandardData/ProcessedStandardizedData_Subject10.csv\n",
            "       Time [s]  Pressure [cmH2O]  Flow [L/s]  V_tidal [L]\n",
            "0 -1.000000e-02         -0.858391   -0.606064    -1.667517\n",
            "1 -4.551914e-15         -0.871399   -0.319490    -1.667910\n",
            "2  1.000000e-02         -0.871399   -0.606064    -1.668303\n",
            "3  2.000000e-02         -0.871399   -0.606064    -1.669166\n",
            "4  3.000000e-02         -0.858391   -0.319490    -1.669559\n",
            "\n",
            "--------------------------------------------------\n",
            "\n",
            "File read: /content/drive/MyDrive/Data/StandardData/ProcessedStandardizedData_Subject14.csv\n",
            "       Time [s]  Pressure [cmH2O]  Flow [L/s]  V_tidal [L]\n",
            "0 -1.000000e-02         -2.035117    0.747959    -0.453643\n",
            "1  3.641532e-14         -2.015211    0.809628    -0.448981\n",
            "2  1.000000e-02         -1.991324    0.747959    -0.444319\n",
            "3  2.000000e-02         -2.003267    0.747959    -0.439808\n",
            "4  3.000000e-02         -1.983361    0.708883    -0.435393\n",
            "\n",
            "--------------------------------------------------\n",
            "\n",
            "File read: /content/drive/MyDrive/Data/StandardData/ProcessedStandardizedData_Subject13.csv\n",
            "   Time [s]  Pressure [cmH2O]  Flow [L/s]  V_tidal [L]\n",
            "0      0.00          1.084849   -0.053314     0.075746\n",
            "1      0.01          1.134323   -0.208009     0.073870\n",
            "2      0.02          1.181194   -0.337161     0.071435\n",
            "3      0.03          1.204629   -0.260943     0.068897\n",
            "4      0.04          1.256707   -0.389159     0.066256\n",
            "\n",
            "--------------------------------------------------\n",
            "\n",
            "File read: /content/drive/MyDrive/Data/StandardData/ProcessedStandardizedData_Subject11.csv\n",
            "       Time [s]  Pressure [cmH2O]  Flow [L/s]  V_tidal [L]\n",
            "0 -1.000000e-02         -2.471429    1.055600    -0.665728\n",
            "1 -4.440892e-16         -2.547932    1.055600    -0.661844\n",
            "2  1.000000e-02         -2.535182    1.132847    -0.657850\n",
            "3  2.000000e-02         -2.569183    1.094750    -0.653802\n",
            "4  3.000000e-02         -2.547932    1.132847    -0.649753\n",
            "\n",
            "--------------------------------------------------\n",
            "\n",
            "File read: /content/drive/MyDrive/Data/StandardData/ProcessedStandardizedData_Subject09.csv\n",
            "       Time [s]  Pressure [cmH2O]  Flow [L/s]  V_tidal [L]\n",
            "0 -1.000000e-02         -0.418933   -0.374989    -0.987752\n",
            "1 -3.182177e-14         -0.418933   -0.664185    -0.988333\n",
            "2  1.000000e-02         -0.427565   -0.374989    -0.988914\n",
            "3  2.000000e-02         -0.427565   -0.664185    -0.989494\n",
            "4  3.000000e-02         -0.427565   -0.374989    -0.990075\n",
            "\n",
            "--------------------------------------------------\n",
            "\n",
            "File read: /content/drive/MyDrive/Data/StandardData/ProcessedStandardizedData_Subject19.csv\n",
            "   Time [s]  Pressure [cmH2O]  Flow [L/s]  V_tidal [L]\n",
            "0      0.00         -1.474349    0.357916    -1.389152\n",
            "1      0.01         -1.466575    0.314420    -1.386320\n",
            "2      0.02         -1.435477    0.314420    -1.383597\n",
            "3      0.03         -1.416041    0.314420    -1.380873\n",
            "4      0.04         -1.384943    0.314420    -1.378150\n",
            "\n",
            "--------------------------------------------------\n",
            "\n",
            "File read: /content/drive/MyDrive/Data/StandardData/ProcessedStandardizedData_Subject20.csv\n",
            "       Time [s]  Pressure [cmH2O]  Flow [L/s]  V_tidal [L]\n",
            "0 -1.000000e-02         -0.454198   -0.908306    -1.330761\n",
            "1  1.665335e-15         -0.441589   -0.959576    -1.333825\n",
            "2  1.000000e-02         -0.454198   -0.821659    -1.336673\n",
            "3  2.000000e-02         -0.441589   -0.959576    -1.339521\n",
            "4  3.000000e-02         -0.206230   -0.297898    -1.341061\n",
            "\n",
            "--------------------------------------------------\n",
            "\n",
            "File read: /content/drive/MyDrive/Data/StandardData/ProcessedStandardizedData_Subject21.csv\n",
            "       Time [s]  Pressure [cmH2O]  Flow [L/s]  V_tidal [L]\n",
            "0 -1.000000e-02         -0.610149   -0.754035    -0.689576\n",
            "1  3.552714e-15         -0.610149   -0.754035    -0.690697\n",
            "2  1.000000e-02         -0.610149   -0.366983    -0.691225\n",
            "3  2.000000e-02         -0.610149   -0.671216    -0.691626\n",
            "4  3.000000e-02         -0.610149   -0.754035    -0.692619\n",
            "\n",
            "--------------------------------------------------\n",
            "\n",
            "File read: /content/drive/MyDrive/Data/StandardData/ProcessedStandardizedData_Subject18.csv\n",
            "       Time [s]  Pressure [cmH2O]  Flow [L/s]  V_tidal [L]\n",
            "0 -1.000000e-02         -1.800645    0.501579    -1.132826\n",
            "1 -2.731149e-14         -1.823079    0.403540    -1.128464\n",
            "2  1.000000e-02         -1.800645    0.478186    -1.124167\n",
            "3  2.000000e-02         -1.800645    0.403540    -1.119870\n",
            "4  3.000000e-02         -1.787184    0.403540    -1.115781\n",
            "\n",
            "--------------------------------------------------\n",
            "\n",
            "File read: /content/drive/MyDrive/Data/StandardData/ProcessedStandardizedData_Subject22.csv\n",
            "       Time [s]  Pressure [cmH2O]  Flow [L/s]  V_tidal [L]\n",
            "0 -1.000000e-02         -1.241460    0.183324    -0.225004\n",
            "1  3.996803e-15         -1.208311    0.060303    -0.223704\n",
            "2  1.000000e-02         -1.158588    0.060303    -0.222626\n",
            "3  2.000000e-02         -1.137870   -0.064875    -0.221774\n",
            "4  3.000000e-02         -1.113008    0.106229    -0.220840\n",
            "\n",
            "--------------------------------------------------\n",
            "\n",
            "File read: /content/drive/MyDrive/Data/StandardData/ProcessedStandardizedData_Subject16.csv\n",
            "       Time [s]  Pressure [cmH2O]  Flow [L/s]  V_tidal [L]\n",
            "0 -1.000000e-02         -1.872151    0.570938    -0.965700\n",
            "1  3.186340e-14         -1.850834    0.570938    -0.963323\n",
            "2  1.000000e-02         -1.838045    0.570938    -0.960946\n",
            "3  2.000000e-02         -1.825255    0.523009    -0.958636\n",
            "4  3.000000e-02         -1.816729    0.489372    -0.956443\n",
            "\n",
            "--------------------------------------------------\n",
            "\n",
            "File read: /content/drive/MyDrive/Data/StandardData/ProcessedStandardizedData_Subject17.csv\n",
            "       Time [s]  Pressure [cmH2O]  Flow [L/s]  V_tidal [L]\n",
            "0 -1.000000e-02         -0.743650   -0.852532    -1.679562\n",
            "1  5.662137e-15         -0.752574   -0.736760    -1.682172\n",
            "2  1.000000e-02         -0.743650   -0.852532    -1.684782\n",
            "3  2.000000e-02         -0.752574   -0.852532    -1.687698\n",
            "4  3.000000e-02         -0.752574   -0.852532    -1.690614\n",
            "\n",
            "--------------------------------------------------\n",
            "\n",
            "File read: /content/drive/MyDrive/Data/StandardData/ProcessedStandardizedData_Subject24.csv\n",
            "       Time [s]  Pressure [cmH2O]  Flow [L/s]  V_tidal [L]\n",
            "0 -1.000000e-02         -0.760510   -0.360943    -1.569382\n",
            "1 -4.551914e-14         -0.751551   -0.360943    -1.569309\n",
            "2  1.000000e-02         -0.751551   -0.360943    -1.569236\n",
            "3  2.000000e-02         -0.751551   -0.360943    -1.569163\n",
            "4  3.000000e-02         -0.751551   -0.799912    -1.569764\n",
            "\n",
            "--------------------------------------------------\n",
            "\n",
            "File read: /content/drive/MyDrive/Data/StandardData/ProcessedStandardizedData_Subject28.csv\n",
            "       Time [s]  Pressure [cmH2O]  Flow [L/s]  V_tidal [L]\n",
            "0 -1.000000e-02         -0.929163   -1.358978    -1.010121\n",
            "1  4.440892e-16         -0.929163   -1.541515    -1.009525\n",
            "2  1.000000e-02         -0.929163   -1.541515    -1.009087\n",
            "3  2.000000e-02         -0.945651   -1.541515    -1.008649\n",
            "4  3.000000e-02         -0.945651   -1.358978    -1.008053\n",
            "\n",
            "--------------------------------------------------\n",
            "\n",
            "File read: /content/drive/MyDrive/Data/StandardData/ProcessedStandardizedData_Subject26.csv\n",
            "       Time [s]  Pressure [cmH2O]  Flow [L/s]  V_tidal [L]\n",
            "0 -1.000000e-02         -0.691439   -1.139832    -1.400565\n",
            "1  2.953193e-14         -0.691439   -1.139832    -1.402073\n",
            "2  1.000000e-02         -0.682070   -1.074362    -1.403502\n",
            "3  2.000000e-02         -0.682070   -1.139832    -1.404930\n",
            "4  3.000000e-02         -0.668017   -1.074362    -1.406359\n",
            "\n",
            "--------------------------------------------------\n",
            "\n",
            "File read: /content/drive/MyDrive/Data/StandardData/ProcessedStandardizedData_Subject25.csv\n",
            "       Time [s]  Pressure [cmH2O]  Flow [L/s]  V_tidal [L]\n",
            "0 -1.000000e-02         -1.643396    0.274071    -1.278376\n",
            "1 -3.186340e-14         -1.656340    0.274071    -1.275493\n",
            "2  1.000000e-02         -1.664969    0.274071    -1.272610\n",
            "3  2.000000e-02         -1.664969    0.404931    -1.269456\n",
            "4  3.000000e-02         -1.677913    0.274071    -1.266302\n",
            "\n",
            "--------------------------------------------------\n",
            "\n",
            "File read: /content/drive/MyDrive/Data/StandardData/ProcessedStandardizedData_Subject23.csv\n",
            "       Time [s]  Pressure [cmH2O]  Flow [L/s]  V_tidal [L]\n",
            "0 -1.000000e-02          -2.06572    0.723511    -1.052408\n",
            "1  4.091172e-14          -2.06572    0.723511    -1.047455\n",
            "2  1.000000e-02          -2.06572    0.723511    -1.042501\n",
            "3  2.000000e-02          -2.06572    0.769054    -1.037437\n",
            "4  3.000000e-02          -2.06572    0.723511    -1.032374\n",
            "\n",
            "--------------------------------------------------\n",
            "\n",
            "File read: /content/drive/MyDrive/Data/StandardData/ProcessedStandardizedData_Subject27.csv\n",
            "   Time [s]  Pressure [cmH2O]  Flow [L/s]  V_tidal [L]\n",
            "0      0.00         -0.183839   -0.792755    -1.079463\n",
            "1      0.01         -0.317395   -0.886019    -1.081104\n",
            "2      0.02         -0.446499   -0.913882    -1.082934\n",
            "3      0.03         -0.504373   -0.913882    -1.084807\n",
            "4      0.04         -0.526633   -0.913882    -1.086681\n",
            "\n",
            "--------------------------------------------------\n",
            "\n",
            "File read: /content/drive/MyDrive/Data/StandardData/ProcessedStandardizedData_Subject29.csv\n",
            "       Time [s]  Pressure [cmH2O]  Flow [L/s]  V_tidal [L]\n",
            "0 -1.000000e-02         -1.198543    0.164509    -1.002943\n",
            "1 -2.220446e-15         -1.164793    0.164509    -1.000792\n",
            "2  1.000000e-02         -1.139480    0.089381    -0.998838\n",
            "3  2.000000e-02         -1.114167    0.089381    -0.997080\n",
            "4  3.000000e-02         -1.114167    0.089381    -0.995323\n",
            "\n",
            "--------------------------------------------------\n",
            "\n",
            "File read: /content/drive/MyDrive/Data/StandardData/ProcessedStandardizedData_Subject34.csv\n",
            "   Time [s]  Pressure [cmH2O]  Flow [L/s]  V_tidal [L]\n",
            "0      0.00         -1.025169   -0.087653    -1.140653\n",
            "1      0.01         -1.067639    0.082298    -1.138827\n",
            "2      0.02         -1.101614    0.082298    -1.136397\n",
            "3      0.03         -1.122849    0.082298    -1.133966\n",
            "4      0.04         -1.161071    0.082298    -1.131536\n",
            "\n",
            "--------------------------------------------------\n",
            "\n",
            "File read: /content/drive/MyDrive/Data/StandardData/ProcessedStandardizedData_Subject36.csv\n",
            "       Time [s]  Pressure [cmH2O]  Flow [L/s]  V_tidal [L]\n",
            "0 -1.000000e-02         -0.790497   -0.856330    -1.303585\n",
            "1  9.658940e-15         -0.790497   -0.856330    -1.304771\n",
            "2  1.000000e-02         -0.814372   -0.959163    -1.306130\n",
            "3  2.000000e-02         -0.814372   -0.959163    -1.307662\n",
            "4  3.000000e-02         -0.814372   -0.959163    -1.309194\n",
            "\n",
            "--------------------------------------------------\n",
            "\n",
            "File read: /content/drive/MyDrive/Data/StandardData/ProcessedStandardizedData_Subject35.csv\n",
            "       Time [s]  Pressure [cmH2O]  Flow [L/s]  V_tidal [L]\n",
            "0 -1.000000e-02         -0.795897   -0.710343    -1.012807\n",
            "1 -1.045830e-13         -0.764215   -0.860639    -1.013846\n",
            "2  1.000000e-02         -0.737060   -0.860639    -1.015119\n",
            "3  2.000000e-02         -0.714430   -0.768512    -1.016249\n",
            "4  3.000000e-02         -0.682748   -0.860639    -1.017378\n",
            "\n",
            "--------------------------------------------------\n",
            "\n",
            "File read: /content/drive/MyDrive/Data/StandardData/ProcessedStandardizedData_Subject32.csv\n",
            "       Time [s]  Pressure [cmH2O]  Flow [L/s]  V_tidal [L]\n",
            "0 -1.000000e-02         -0.424615    0.060412    -1.177862\n",
            "1  1.249001e-14         -0.390961   -0.230337    -1.176951\n",
            "2  1.000000e-02         -0.479303   -0.656971    -1.177979\n",
            "3  2.000000e-02         -0.550818   -0.656971    -1.180162\n",
            "4  3.000000e-02         -0.550818   -0.656971    -1.182345\n",
            "\n",
            "--------------------------------------------------\n",
            "\n",
            "File read: /content/drive/MyDrive/Data/StandardData/ProcessedStandardizedData_Subject30.csv\n",
            "       Time [s]  Pressure [cmH2O]  Flow [L/s]  V_tidal [L]\n",
            "0 -1.000000e-02         -1.638338    0.266922    -0.841097\n",
            "1 -5.229150e-14         -1.638338    0.355925    -0.835090\n",
            "2  1.000000e-02         -1.629387    0.482333    -0.828042\n",
            "3  2.000000e-02         -1.629387    0.266922    -0.821424\n",
            "4  3.000000e-02         -1.602536    0.434352    -0.815038\n",
            "\n",
            "--------------------------------------------------\n",
            "\n",
            "File read: /content/drive/MyDrive/Data/StandardData/ProcessedStandardizedData_Subject33.csv\n",
            "       Time [s]  Pressure [cmH2O]  Flow [L/s]  V_tidal [L]\n",
            "0 -1.000000e-02         -1.733609     0.35879    -0.941742\n",
            "1 -1.110223e-15         -1.720067     0.35879    -0.937336\n",
            "2  1.000000e-02         -1.733609     0.40568    -0.932788\n",
            "3  2.000000e-02         -1.706526     0.35879    -0.928240\n",
            "4  3.000000e-02         -1.697498     0.35879    -0.923835\n",
            "\n",
            "--------------------------------------------------\n",
            "\n",
            "File read: /content/drive/MyDrive/Data/StandardData/ProcessedStandardizedData_Subject31.csv\n",
            "       Time [s]  Pressure [cmH2O]  Flow [L/s]  V_tidal [L]\n",
            "0 -1.000000e-02         -1.196906   -0.740049    -0.835444\n",
            "1 -3.330669e-15         -1.127593   -0.947369    -0.835013\n",
            "2  1.000000e-02         -1.058279   -0.568406    -0.834307\n",
            "3  2.000000e-02         -0.946312   -0.740049    -0.833268\n",
            "4  3.000000e-02         -0.908989   -0.740049    -0.832504\n",
            "\n",
            "--------------------------------------------------\n",
            "\n",
            "File read: /content/drive/MyDrive/Data/StandardData/ProcessedStandardizedData_Subject40.csv\n",
            "       Time [s]  Pressure [cmH2O]  Flow [L/s]  V_tidal [L]\n",
            "0 -1.000000e-02         -1.704311    0.523405    -0.882017\n",
            "1  2.275957e-14         -1.704311    0.408358    -0.879349\n",
            "2  1.000000e-02         -1.672428    0.456384    -0.876792\n",
            "3  2.000000e-02         -1.672428    0.408358    -0.874235\n",
            "4  3.000000e-02         -1.658764    0.408358    -0.871758\n",
            "\n",
            "--------------------------------------------------\n",
            "\n",
            "File read: /content/drive/MyDrive/Data/StandardData/ProcessedStandardizedData_Subject42.csv\n",
            "       Time [s]  Pressure [cmH2O]  Flow [L/s]  V_tidal [L]\n",
            "0 -1.000000e-02         -0.978717   -1.930717    -1.154937\n",
            "1 -7.283063e-14         -0.990803   -1.930717    -1.156175\n",
            "2  1.000000e-02         -0.990803   -1.930717    -1.157413\n",
            "3  2.000000e-02         -0.990803   -1.930717    -1.158651\n",
            "4  3.000000e-02         -0.990803   -1.930717    -1.159889\n",
            "\n",
            "--------------------------------------------------\n",
            "\n",
            "File read: /content/drive/MyDrive/Data/StandardData/ProcessedStandardizedData_Subject41.csv\n",
            "       Time [s]  Pressure [cmH2O]  Flow [L/s]  V_tidal [L]\n",
            "0 -1.000000e-02         -0.594571   -1.165368    -1.177189\n",
            "1 -2.886580e-15         -0.580839   -1.087194    -1.178012\n",
            "2  1.000000e-02         -0.571685   -0.990949    -1.178680\n",
            "3  2.000000e-02         -0.571685   -0.990949    -1.179263\n",
            "4  3.000000e-02         -0.571685   -1.165368    -1.180001\n",
            "\n",
            "--------------------------------------------------\n",
            "\n",
            "File read: /content/drive/MyDrive/Data/StandardData/ProcessedStandardizedData_Subject38.csv\n",
            "       Time [s]  Pressure [cmH2O]  Flow [L/s]  V_tidal [L]\n",
            "0 -1.000000e-02         -0.633094   -1.188710    -1.599978\n",
            "1 -1.709743e-14         -0.643007   -0.801796    -1.600586\n",
            "2  1.000000e-02         -0.643007   -0.801796    -1.600489\n",
            "3  2.000000e-02         -0.657877   -1.122208    -1.600975\n",
            "4  3.000000e-02         -0.657877   -0.801796    -1.601461\n",
            "\n",
            "--------------------------------------------------\n",
            "\n",
            "File read: /content/drive/MyDrive/Data/StandardData/ProcessedStandardizedData_Subject37.csv\n",
            "       Time [s]  Pressure [cmH2O]  Flow [L/s]  V_tidal [L]\n",
            "0 -1.000000e-02         -0.119936   -0.018139    -0.934702\n",
            "1 -4.551914e-15         -0.045062   -0.725831    -0.934958\n",
            "2  1.000000e-02         -0.119936   -0.755383    -0.936504\n",
            "3  2.000000e-02         -0.352878   -0.755383    -0.938101\n",
            "4  3.000000e-02         -0.406953   -0.903071    -0.939957\n",
            "\n",
            "--------------------------------------------------\n",
            "\n",
            "File read: /content/drive/MyDrive/Data/StandardData/ProcessedStandardizedData_Subject47.csv\n",
            "   Time [s]  Pressure [cmH2O]  Flow [L/s]  V_tidal [L]\n",
            "0      0.00         -1.921287   -0.018025    -1.348472\n",
            "1      0.01         -1.947046    0.093119    -1.345074\n",
            "2      0.02         -1.947046   -0.018025    -1.341676\n",
            "3      0.03         -1.967653   -0.018025    -1.338448\n",
            "4      0.04         -1.967653    0.093119    -1.335050\n",
            "\n",
            "--------------------------------------------------\n",
            "\n",
            "File read: /content/drive/MyDrive/Data/StandardData/ProcessedStandardizedData_Subject39.csv\n",
            "       Time [s]  Pressure [cmH2O]  Flow [L/s]  V_tidal [L]\n",
            "0 -1.000000e-02         -0.101442   -0.973939    -1.287806\n",
            "1 -6.772360e-15         -0.130849   -0.922855    -1.289412\n",
            "2  1.000000e-02         -0.123497   -0.957453    -1.290993\n",
            "3  2.000000e-02         -0.130849   -0.922855    -1.292574\n",
            "4  3.000000e-02         -0.141877   -0.865927    -1.294016\n",
            "\n",
            "--------------------------------------------------\n",
            "\n",
            "File read: /content/drive/MyDrive/Data/StandardData/ProcessedStandardizedData_Subject50.csv\n",
            "       Time [s]  Pressure [cmH2O]  Flow [L/s]  V_tidal [L]\n",
            "0 -1.000000e-02         -2.654454    0.008173    -0.964160\n",
            "1  1.776357e-15         -2.590219    0.118001    -0.962640\n",
            "2  1.000000e-02         -2.578540    0.053039    -0.961098\n",
            "3  2.000000e-02         -2.561022    0.008173    -0.959610\n",
            "4  3.000000e-02         -2.496788    0.074992    -0.958111\n",
            "\n",
            "--------------------------------------------------\n",
            "\n",
            "File read: /content/drive/MyDrive/Data/StandardData/ProcessedStandardizedData_Subject44.csv\n",
            "       Time [s]  Pressure [cmH2O]  Flow [L/s]  V_tidal [L]\n",
            "0 -1.000000e-02         -0.773613   -1.093712    -1.536114\n",
            "1 -1.820766e-14         -0.773613   -0.921183    -1.537051\n",
            "2  1.000000e-02         -0.787743   -1.093712    -1.537989\n",
            "3  2.000000e-02         -0.773613   -1.093712    -1.539139\n",
            "4  3.000000e-02         -0.632307   -0.262642    -1.539267\n",
            "\n",
            "--------------------------------------------------\n",
            "\n",
            "File read: /content/drive/MyDrive/Data/StandardData/ProcessedStandardizedData_Subject45.csv\n",
            "       Time [s]  Pressure [cmH2O]  Flow [L/s]  V_tidal [L]\n",
            "0 -1.000000e-02         -0.417409   -0.775588    -1.588559\n",
            "1 -4.996004e-14         -0.428519   -0.662184    -1.591138\n",
            "2  1.000000e-02         -0.447037   -0.733431    -1.593601\n",
            "3  2.000000e-02         -0.454444   -0.662184    -1.596064\n",
            "4  3.000000e-02         -0.447037   -0.710908    -1.598466\n",
            "\n",
            "--------------------------------------------------\n",
            "\n",
            "File read: /content/drive/MyDrive/Data/StandardData/ProcessedStandardizedData_Subject46.csv\n",
            "       Time [s]  Pressure [cmH2O]  Flow [L/s]  V_tidal [L]\n",
            "0 -1.000000e-02         -1.739838    0.417476    -1.180047\n",
            "1  1.365574e-14         -1.753317    0.321486    -1.177501\n",
            "2  1.000000e-02         -1.739838    0.417476    -1.174955\n",
            "3  2.000000e-02         -1.717372    0.417476    -1.172249\n",
            "4  3.000000e-02         -1.708385    0.394572    -1.169582\n",
            "\n",
            "--------------------------------------------------\n",
            "\n",
            "File read: /content/drive/MyDrive/Data/StandardData/ProcessedStandardizedData_Subject49.csv\n",
            "       Time [s]  Pressure [cmH2O]  Flow [L/s]  V_tidal [L]\n",
            "0 -1.000000e-02         -0.963487   -0.870467    -1.344441\n",
            "1 -3.863576e-14         -0.963487   -0.356442    -1.344577\n",
            "2  1.000000e-02         -0.963487   -0.356442    -1.343891\n",
            "3  2.000000e-02         -0.972907   -0.870467    -1.344027\n",
            "4  3.000000e-02         -0.972907   -0.870467    -1.344986\n",
            "\n",
            "--------------------------------------------------\n",
            "\n",
            "File read: /content/drive/MyDrive/Data/StandardData/ProcessedStandardizedData_Subject43.csv\n",
            "       Time [s]  Pressure [cmH2O]  Flow [L/s]  V_tidal [L]\n",
            "0 -1.000000e-02         -1.803467    0.474064    -0.935123\n",
            "1 -4.551914e-15         -1.789904    0.474064    -0.932799\n",
            "2  1.000000e-02         -1.776340    0.392814    -0.930582\n",
            "3  2.000000e-02         -1.776340    0.474064    -0.928366\n",
            "4  3.000000e-02         -1.753735    0.474064    -0.926041\n",
            "\n",
            "--------------------------------------------------\n",
            "\n",
            "File read: /content/drive/MyDrive/Data/StandardData/ProcessedStandardizedData_Subject48.csv\n",
            "       Time [s]  Pressure [cmH2O]  Flow [L/s]  V_tidal [L]\n",
            "0 -1.000000e-02         -1.121585   -0.772665    -1.069831\n",
            "1 -3.635980e-14         -1.121585   -0.772665    -1.069098\n",
            "2  1.000000e-02         -1.110191   -0.772665    -1.068366\n",
            "3  2.000000e-02         -1.110191   -0.772665    -1.067633\n",
            "4  3.000000e-02         -1.093101   -0.772665    -1.066901\n",
            "\n",
            "--------------------------------------------------\n",
            "\n",
            "File read: /content/drive/MyDrive/Data/StandardData/ProcessedStandardizedData_Subject55.csv\n",
            "       Time [s]  Pressure [cmH2O]  Flow [L/s]  V_tidal [L]\n",
            "0 -1.000000e-02         -0.721142   -0.698364    -1.334742\n",
            "1  3.641532e-14         -0.721142   -0.698364    -1.336172\n",
            "2  1.000000e-02         -0.721142   -0.698364    -1.337603\n",
            "3  2.000000e-02         -0.712507   -0.611473    -1.338872\n",
            "4  3.000000e-02         -0.699555   -0.698364    -1.340140\n",
            "\n",
            "--------------------------------------------------\n",
            "\n",
            "File read: /content/drive/MyDrive/Data/StandardData/ProcessedStandardizedData_Subject51.csv\n",
            "       Time [s]  Pressure [cmH2O]  Flow [L/s]  V_tidal [L]\n",
            "0 -1.000000e-02         -1.255571    0.044872    -0.711050\n",
            "1 -2.275957e-14         -1.308828   -0.142924    -0.710542\n",
            "2  1.000000e-02         -1.317704    0.233178    -0.709866\n",
            "3  2.000000e-02         -1.375399    0.129488    -0.708945\n",
            "4  3.000000e-02         -1.419779    0.320622    -0.707947\n",
            "\n",
            "--------------------------------------------------\n",
            "\n",
            "File read: /content/drive/MyDrive/Data/StandardData/ProcessedStandardizedData_Subject52.csv\n",
            "       Time [s]  Pressure [cmH2O]  Flow [L/s]  V_tidal [L]\n",
            "0 -1.000000e-02         -0.814509   -0.147575    -1.062539\n",
            "1 -5.906386e-14         -0.786777   -0.147575    -1.061994\n",
            "2  1.000000e-02         -0.751120    0.097955    -1.061058\n",
            "3  2.000000e-02         -0.806586   -0.558286    -1.060776\n",
            "4  3.000000e-02         -0.846204   -0.147575    -1.060884\n",
            "\n",
            "--------------------------------------------------\n",
            "\n",
            "File read: /content/drive/MyDrive/Data/StandardData/ProcessedStandardizedData_Subject53.csv\n",
            "   Time [s]  Pressure [cmH2O]  Flow [L/s]  V_tidal [L]\n",
            "0      0.00         -0.061046   -0.908006    -1.047584\n",
            "1      0.01         -0.119303   -0.990267    -1.050462\n",
            "2      0.02         -0.235818   -1.063457    -1.053697\n",
            "3      0.03         -0.361294   -1.130043    -1.057252\n",
            "4      0.04         -0.406107   -1.086297    -1.060860\n",
            "\n",
            "--------------------------------------------------\n",
            "\n",
            "File read: /content/drive/MyDrive/Data/StandardData/ProcessedStandardizedData_Subject54.csv\n",
            "       Time [s]  Pressure [cmH2O]  Flow [L/s]  V_tidal [L]\n",
            "0 -1.000000e-02         -2.145991    0.783795    -0.784479\n",
            "1 -2.731149e-14         -2.145991    0.729820    -0.781382\n",
            "2  1.000000e-02         -2.137200    0.729820    -0.778366\n",
            "3  2.000000e-02         -2.102033    0.672754    -0.775436\n",
            "4  3.000000e-02         -2.124012    0.783795    -0.772425\n",
            "\n",
            "--------------------------------------------------\n",
            "\n",
            "File read: /content/drive/MyDrive/Data/StandardData/ProcessedStandardizedData_Subject56.csv\n",
            "       Time [s]  Pressure [cmH2O]  Flow [L/s]  V_tidal [L]\n",
            "0 -1.000000e-02         -2.221732    0.682675    -0.642022\n",
            "1 -2.731149e-14         -2.208126    0.682675    -0.637155\n",
            "2  1.000000e-02         -2.235337    0.682675    -0.632287\n",
            "3  2.000000e-02         -2.221732    0.728906    -0.627311\n",
            "4  3.000000e-02         -2.208126    0.682675    -0.622335\n",
            "\n",
            "--------------------------------------------------\n",
            "\n",
            "File read: /content/drive/MyDrive/Data/StandardData/ProcessedStandardizedData_Subject60.csv\n",
            "       Time [s]  Pressure [cmH2O]  Flow [L/s]  V_tidal [L]\n",
            "0 -1.000000e-02         -0.579703   -1.028000    -0.985943\n",
            "1 -7.727152e-14         -0.592612   -0.916303    -0.987292\n",
            "2  1.000000e-02         -0.579703   -0.916303    -0.988482\n",
            "3  2.000000e-02         -0.601219   -0.821185    -0.989538\n",
            "4  3.000000e-02         -0.601219   -0.916303    -0.990594\n",
            "\n",
            "--------------------------------------------------\n",
            "\n",
            "File read: /content/drive/MyDrive/Data/StandardData/ProcessedStandardizedData_Subject59.csv\n",
            "       Time [s]  Pressure [cmH2O]  Flow [L/s]  V_tidal [L]\n",
            "0 -1.000000e-02         -0.900696   -0.432821    -0.705007\n",
            "1 -5.451195e-14         -0.930238   -0.133314    -0.704516\n",
            "2  1.000000e-02         -0.930238   -0.432821    -0.704025\n",
            "3  2.000000e-02         -0.930238   -0.432821    -0.652846\n",
            "4  3.000000e-02         -0.940085   -0.133314    -0.652355\n",
            "\n",
            "--------------------------------------------------\n",
            "\n",
            "File read: /content/drive/MyDrive/Data/StandardData/ProcessedStandardizedData_Subject58.csv\n",
            "   Time [s]  Pressure [cmH2O]  Flow [L/s]  V_tidal [L]\n",
            "0      0.00         -0.030949   -1.259853    -1.260187\n",
            "1      0.01         -0.049026   -1.259853    -1.260133\n",
            "2      0.02         -0.049026   -1.259853    -1.260079\n",
            "3      0.03         -0.049026   -0.838811    -1.259685\n",
            "4      0.04         -0.049026   -1.259853    -1.259292\n",
            "\n",
            "--------------------------------------------------\n",
            "\n",
            "File read: /content/drive/MyDrive/Data/StandardData/ProcessedStandardizedData_Subject57.csv\n",
            "       Time [s]  Pressure [cmH2O]  Flow [L/s]  V_tidal [L]\n",
            "0 -1.000000e-02         -1.586235    0.252672    -1.198707\n",
            "1  5.107026e-15         -1.576958    0.252672    -1.196908\n",
            "2  1.000000e-02         -1.576958    0.031649    -1.195372\n",
            "3  2.000000e-02         -1.586235    0.252672    -1.193835\n",
            "4  3.000000e-02         -1.600151    0.252672    -1.192036\n",
            "\n",
            "--------------------------------------------------\n",
            "\n",
            "File read: /content/drive/MyDrive/Data/StandardData/ProcessedStandardizedData_Subject61.csv\n",
            "       Time [s]  Pressure [cmH2O]  Flow [L/s]  V_tidal [L]\n",
            "0 -1.000000e-02         -0.127848   -1.535363    -1.074202\n",
            "1 -2.775558e-16         -0.151112   -1.496264    -1.076968\n",
            "2  1.000000e-02         -0.127848   -1.535363    -1.079734\n",
            "3  2.000000e-02         -0.141806   -1.434114    -1.082404\n",
            "4  3.000000e-02         -0.118542   -1.535363    -1.085074\n",
            "\n",
            "--------------------------------------------------\n",
            "\n",
            "File read: /content/drive/MyDrive/Data/StandardData/ProcessedStandardizedData_Subject62.csv\n",
            "       Time [s]  Pressure [cmH2O]  Flow [L/s]  V_tidal [L]\n",
            "0 -1.000000e-02         -1.119495   -1.197644    -0.882284\n",
            "1 -4.440892e-16         -1.119495   -1.549973    -0.881823\n",
            "2  1.000000e-02         -1.086199   -1.372277    -0.881458\n",
            "3  2.000000e-02         -1.064001   -1.197644    -0.880901\n",
            "4  3.000000e-02         -1.030705   -1.372277    -0.880344\n",
            "\n",
            "--------------------------------------------------\n",
            "\n",
            "File read: /content/drive/MyDrive/Data/StandardData/ProcessedStandardizedData_Subject67.csv\n",
            "   Time [s]  Pressure [cmH2O]  Flow [L/s]  V_tidal [L]\n",
            "0      0.00         -0.968428   -1.814997    -0.849247\n",
            "1      0.01         -1.022921   -2.488539    -0.849314\n",
            "2      0.02         -1.022921   -2.060286    -0.849529\n",
            "3      0.03         -1.022921   -2.060286    -0.849486\n",
            "4      0.04         -1.022921   -2.060286    -0.849443\n",
            "\n",
            "--------------------------------------------------\n",
            "\n",
            "File read: /content/drive/MyDrive/Data/StandardData/ProcessedStandardizedData_Subject63.csv\n",
            "       Time [s]  Pressure [cmH2O]  Flow [L/s]  V_tidal [L]\n",
            "0 -1.000000e-02         -0.135861    0.137682    -0.253369\n",
            "1 -9.103829e-15         -0.300324    0.052074    -0.254036\n",
            "2  1.000000e-02         -0.311288    0.052074    -0.254789\n",
            "3  2.000000e-02         -0.327735    0.137682    -0.255456\n",
            "4  3.000000e-02         -0.338699    0.052074    -0.256123\n",
            "\n",
            "--------------------------------------------------\n",
            "\n",
            "File read: /content/drive/MyDrive/Data/StandardData/ProcessedStandardizedData_Subject66.csv\n",
            "       Time [s]  Pressure [cmH2O]  Flow [L/s]  V_tidal [L]\n",
            "0 -1.000000e-02          0.150378   -0.886407    -0.805752\n",
            "1  4.085621e-14          0.133675   -0.865388    -0.808637\n",
            "2  1.000000e-02          0.106950   -0.774809    -0.811315\n",
            "3  2.000000e-02          0.133675   -0.832732    -0.813932\n",
            "4  3.000000e-02          0.133675   -0.896709    -0.816776\n",
            "\n",
            "--------------------------------------------------\n",
            "\n",
            "File read: /content/drive/MyDrive/Data/StandardData/ProcessedStandardizedData_Subject64.csv\n",
            "       Time [s]  Pressure [cmH2O]  Flow [L/s]  V_tidal [L]\n",
            "0 -1.000000e-02         -2.066508    1.803417     0.147607\n",
            "1 -3.330669e-16         -2.091044    1.803417     0.149722\n",
            "2  1.000000e-02         -2.051787    1.749696     0.151776\n",
            "3  2.000000e-02         -2.076322    1.749696     0.153771\n",
            "4  3.000000e-02         -2.091044    1.749696     0.155765\n",
            "\n",
            "--------------------------------------------------\n",
            "\n",
            "File read: /content/drive/MyDrive/Data/StandardData/ProcessedStandardizedData_Subject68.csv\n",
            "       Time [s]  Pressure [cmH2O]  Flow [L/s]  V_tidal [L]\n",
            "0 -1.000000e-02         -0.773746   -0.627583    -1.549136\n",
            "1  7.438494e-15         -0.773746   -0.722598    -1.551076\n",
            "2  1.000000e-02         -0.773746   -0.799773    -1.553465\n",
            "3  2.000000e-02         -0.786888   -0.799773    -1.556055\n",
            "4  3.000000e-02         -0.786888   -0.722598    -1.558444\n",
            "\n",
            "--------------------------------------------------\n",
            "\n",
            "File read: /content/drive/MyDrive/Data/StandardData/ProcessedStandardizedData_Subject65.csv\n",
            "       Time [s]  Pressure [cmH2O]  Flow [L/s]  V_tidal [L]\n",
            "0 -1.000000e-02         -2.620077    1.888789     0.716431\n",
            "1 -9.436896e-16         -2.599732    1.868752     0.717136\n",
            "2  1.000000e-02         -2.565823    1.888789     0.717841\n",
            "3  2.000000e-02         -2.620077    1.888789     0.718561\n",
            "4  3.000000e-02         -2.599732    1.888789     0.719280\n",
            "\n",
            "--------------------------------------------------\n",
            "\n",
            "File read: /content/drive/MyDrive/Data/StandardData/ProcessedStandardizedData_Subject69.csv\n",
            "   Time [s]  Pressure [cmH2O]  Flow [L/s]  V_tidal [L]\n",
            "0      0.00         -2.203652    0.716078    -1.258019\n",
            "1      0.01         -2.203652    0.772115    -1.250122\n",
            "2      0.02         -2.214975    0.804281    -1.241867\n",
            "3      0.03         -2.203652    0.716078    -1.233839\n",
            "4      0.04         -2.196103    0.772115    -1.225942\n",
            "\n",
            "--------------------------------------------------\n",
            "\n",
            "File read: /content/drive/MyDrive/Data/StandardData/ProcessedStandardizedData_Subject73.csv\n",
            "   Time [s]  Pressure [cmH2O]  Flow [L/s]  V_tidal [L]\n",
            "0     -0.01         -1.565121    0.381414    -0.565177\n",
            "1      0.00         -1.565121    0.381414    -0.561152\n",
            "2      0.01         -1.544303    0.381414    -0.557127\n",
            "3      0.02         -1.544303    0.486734    -0.552791\n",
            "4      0.03         -1.535976    0.309549    -0.548668\n",
            "\n",
            "--------------------------------------------------\n",
            "\n",
            "File read: /content/drive/MyDrive/Data/StandardData/ProcessedStandardizedData_Subject76.csv\n",
            "       Time [s]  Pressure [cmH2O]  Flow [L/s]  V_tidal [L]\n",
            "0 -1.000000e-02         -1.819750    0.268694    -0.757181\n",
            "1  9.103829e-14         -1.828797    0.346579    -0.754294\n",
            "2  1.000000e-02         -1.842368    0.321562    -0.751298\n",
            "3  2.000000e-02         -1.842368    0.394227    -0.748204\n",
            "4  3.000000e-02         -1.842368    0.394227    -0.744960\n",
            "\n",
            "--------------------------------------------------\n",
            "\n",
            "File read: /content/drive/MyDrive/Data/StandardData/ProcessedStandardizedData_Subject74.csv\n",
            "       Time [s]  Pressure [cmH2O]  Flow [L/s]  V_tidal [L]\n",
            "0 -1.000000e-02         -1.011629   -0.922580    -0.852502\n",
            "1 -3.552714e-15         -1.011629   -0.922580    -0.851689\n",
            "2  1.000000e-02         -1.011629   -0.854398    -0.850814\n",
            "3  2.000000e-02         -1.011629   -0.854398    -0.849876\n",
            "4  3.000000e-02         -1.028348   -0.922580    -0.849001\n",
            "\n",
            "--------------------------------------------------\n",
            "\n",
            "File read: /content/drive/MyDrive/Data/StandardData/ProcessedStandardizedData_Subject72.csv\n",
            "   Time [s]  Pressure [cmH2O]  Flow [L/s]  V_tidal [L]\n",
            "0      0.00         -0.540019   -0.510755    -1.395477\n",
            "1      0.01         -0.631776   -0.660838    -1.398834\n",
            "2      0.02         -0.719164   -0.818346    -1.403631\n",
            "3      0.03         -0.732272   -0.745613    -1.408826\n",
            "4      0.04         -0.732272   -0.690823    -1.413424\n",
            "\n",
            "--------------------------------------------------\n",
            "\n",
            "File read: /content/drive/MyDrive/Data/StandardData/ProcessedStandardizedData_Subject71.csv\n",
            "   Time [s]  Pressure [cmH2O]  Flow [L/s]  V_tidal [L]\n",
            "0      0.00         -0.510386   -1.414600    -1.467467\n",
            "1      0.01         -0.520243   -1.131755    -1.467699\n",
            "2      0.02         -0.510386   -1.414600    -1.467932\n",
            "3      0.03         -0.510386   -1.131755    -1.468164\n",
            "4      0.04         -0.510386   -0.835627    -1.467826\n",
            "\n",
            "--------------------------------------------------\n",
            "\n",
            "File read: /content/drive/MyDrive/Data/StandardData/ProcessedStandardizedData_Subject75.csv\n",
            "       Time [s]  Pressure [cmH2O]  Flow [L/s]  V_tidal [L]\n",
            "0 -1.000000e-02         -0.274699   -1.638085    -1.024242\n",
            "1 -1.415534e-15         -0.300638   -1.767981    -1.025980\n",
            "2  1.000000e-02         -0.326577   -1.767981    -1.027851\n",
            "3  2.000000e-02         -0.326577   -1.767981    -1.029722\n",
            "4  3.000000e-02         -0.326577   -1.815049    -1.031641\n",
            "\n",
            "--------------------------------------------------\n",
            "\n",
            "File read: /content/drive/MyDrive/Data/StandardData/ProcessedStandardizedData_Subject70.csv\n",
            "       Time [s]  Pressure [cmH2O]  Flow [L/s]  V_tidal [L]\n",
            "0 -1.000000e-02         -1.147296   -0.565452    -0.930780\n",
            "1  5.662137e-15         -1.162689   -0.565452    -0.929262\n",
            "2  1.000000e-02         -1.172952   -0.453857    -0.927573\n",
            "3  2.000000e-02         -1.172952   -0.453857    -0.925714\n",
            "4  3.000000e-02         -1.188346   -0.453857    -0.923855\n",
            "\n",
            "--------------------------------------------------\n",
            "\n",
            "File read: /content/drive/MyDrive/Data/StandardData/ProcessedStandardizedData_Subject78.csv\n",
            "   Time [s]  Pressure [cmH2O]  Flow [L/s]  V_tidal [L]\n",
            "0      0.00          0.861110   -1.345035    -1.292268\n",
            "1      0.01          0.827419   -1.451292    -1.294584\n",
            "2      0.02          0.837045   -1.451292    -1.297076\n",
            "3      0.03          0.812980   -1.508356    -1.299662\n",
            "4      0.04          0.812980   -1.544254    -1.302404\n",
            "\n",
            "--------------------------------------------------\n",
            "\n",
            "File read: /content/drive/MyDrive/Data/StandardData/ProcessedStandardizedData_Subject77.csv\n",
            "       Time [s]  Pressure [cmH2O]  Flow [L/s]  V_tidal [L]\n",
            "0 -1.000000e-02         -2.020537    0.528629    -0.771793\n",
            "1 -1.709743e-14         -1.989147    0.591730    -0.766203\n",
            "2  1.000000e-02         -2.007085    0.528629    -0.760612\n",
            "3  2.000000e-02         -2.007085    0.460839    -0.755409\n",
            "4  3.000000e-02         -2.020537    0.611878    -0.749959\n",
            "\n",
            "--------------------------------------------------\n",
            "\n",
            "File read: /content/drive/MyDrive/Data/StandardData/ProcessedStandardizedData_Subject80.csv\n",
            "       Time [s]  Pressure [cmH2O]  Flow [L/s]  V_tidal [L]\n",
            "0 -1.000000e-02         -1.547299    0.276442    -0.966965\n",
            "1 -9.103829e-15         -1.582683    0.424339    -0.962099\n",
            "2  1.000000e-02         -1.618067    0.354112    -0.956974\n",
            "3  2.000000e-02         -1.653451    0.354112    -0.952083\n",
            "4  3.000000e-02         -1.653451    0.354112    -0.947191\n",
            "\n",
            "--------------------------------------------------\n",
            "\n",
            "File read: /content/drive/MyDrive/Data/StandardData/ProcessedStandardizedData_Subject79.csv\n",
            "   Time [s]  Pressure [cmH2O]  Flow [L/s]  V_tidal [L]\n",
            "0      0.00         -1.679168    0.492699    -1.475064\n",
            "1      0.01         -1.659488    0.422948    -1.472400\n",
            "2      0.02         -1.679168    0.492699    -1.469736\n",
            "3      0.03         -1.671296    0.422948    -1.467071\n",
            "4      0.04         -1.694912    0.422948    -1.464541\n",
            "\n",
            "--------------------------------------------------\n",
            "\n"
          ]
        }
      ],
      "source": [
        "import os\n",
        "import glob\n",
        "import pandas as pd\n",
        "\n",
        "# Original file pattern\n",
        "file_pattern = '/content/drive/MyDrive/Data/StandardData/ProcessedStandardizedData_Subject*.csv'\n",
        "\n",
        "# List of files that match the pattern\n",
        "files = glob.glob(file_pattern)\n",
        "\n",
        "for filepath in files:\n",
        "    # Read the CSV file into a DataFrame\n",
        "    df = pd.read_csv(filepath)\n",
        "\n",
        "    # Print the head of the DataFrame to confirm it's been read correctly\n",
        "    print(f'File read: {filepath}')\n",
        "    print(df.head())\n",
        "    print(\"\\n\" + \"-\"*50 + \"\\n\")  # Print a separator for readability\n"
      ]
    },
    {
      "cell_type": "code",
      "execution_count": null,
      "metadata": {
        "id": "NISY-gvDP8Td"
      },
      "outputs": [],
      "source": []
    },
    {
      "cell_type": "code",
      "execution_count": null,
      "metadata": {
        "colab": {
          "base_uri": "https://localhost:8080/"
        },
        "id": "ft6T1MWkqPk4",
        "outputId": "27db2a52-299f-4b10-b6fa-57048c5541bf"
      },
      "outputs": [
        {
          "name": "stdout",
          "output_type": "stream",
          "text": [
            "X_train shape: (95468, 3)\n",
            "X_val shape: (23867, 3)\n",
            "y_train shape: (95468,)\n",
            "y_val shape: (23867,)\n"
          ]
        }
      ],
      "source": [
        "from sklearn.model_selection import train_test_split\n",
        "from tensorflow.keras.preprocessing.sequence import TimeseriesGenerator\n",
        "\n",
        "# Assuming df is your DataFrame with the standardized data\n",
        "features = df[['Pressure [cmH2O]', 'V_tidal [L]', 'Flow [L/s]']].to_numpy()\n",
        "targets = df['Flow [L/s]'].to_numpy()\n",
        "\n",
        "# Parameters\n",
        "n_input = 10  # Number of time steps in the input sequences\n",
        "n_features = features.shape[1]  # Number of features\n",
        "\n",
        "# Further split X_train and y_train to create a validation set\n",
        "X_train_new, X_val, y_train_new, y_val = train_test_split(X_train, y_train, test_size=0.25, random_state=42, shuffle=False)  # Adjust the test_size as needed\n",
        "\n",
        "# the generators\n",
        "train_generator = TimeseriesGenerator(X_train_new, y_train_new, length=n_input, batch_size=1)\n",
        "validation_generator = TimeseriesGenerator(X_val, y_val, length=n_input, batch_size=1)\n",
        "\n",
        "# Print the shapes of the training and testing data\n",
        "print(f\"X_train shape: {X_train.shape}\")\n",
        "print(f\"X_val shape: {X_val.shape}\")\n",
        "print(f\"y_train shape: {y_train.shape}\")\n",
        "print(f\"y_val shape: {y_val.shape}\")"
      ]
    },
    {
      "cell_type": "code",
      "execution_count": null,
      "metadata": {
        "colab": {
          "base_uri": "https://localhost:8080/"
        },
        "id": "PGiSLodEs3F-",
        "outputId": "96b99ab9-718d-4756-f449-e6ce73b64f82"
      },
      "outputs": [
        {
          "name": "stdout",
          "output_type": "stream",
          "text": [
            "Model: \"sequential_3\"\n",
            "_________________________________________________________________\n",
            " Layer (type)                Output Shape              Param #   \n",
            "=================================================================\n",
            " conv1d_3 (Conv1D)           (None, 9, 8)              56        \n",
            "                                                                 \n",
            " max_pooling1d_3 (MaxPoolin  (None, 4, 8)              0         \n",
            " g1D)                                                            \n",
            "                                                                 \n",
            " lstm_3 (LSTM)               (None, 10)                760       \n",
            "                                                                 \n",
            " dense_3 (Dense)             (None, 1)                 11        \n",
            "                                                                 \n",
            "=================================================================\n",
            "Total params: 827 (3.23 KB)\n",
            "Trainable params: 827 (3.23 KB)\n",
            "Non-trainable params: 0 (0.00 Byte)\n",
            "_________________________________________________________________\n"
          ]
        }
      ],
      "source": [
        "from tensorflow.keras.models import Sequential\n",
        "from tensorflow.keras.layers import Dense, LSTM, Conv1D, MaxPooling1D\n",
        "\n",
        "model = Sequential()\n",
        "model.add(Conv1D(filters=8, kernel_size=2, activation='relu', input_shape=(n_input, n_features)))\n",
        "model.add(MaxPooling1D(pool_size=2))\n",
        "# No Flatten layer here; LSTM can handle 3D input directly after Conv1D and MaxPooling1D\n",
        "model.add(LSTM(10, activation='relu'))\n",
        "model.add(Dense(1))\n",
        "\n",
        "model.compile(optimizer='adam', loss='mse')\n",
        "model.summary()\n"
      ]
    },
    {
      "cell_type": "code",
      "execution_count": null,
      "metadata": {
        "colab": {
          "base_uri": "https://localhost:8080/"
        },
        "id": "da2tMOI4wzwI",
        "outputId": "78f0a15a-510b-4d5d-d93a-3fa2d4ac9204"
      },
      "outputs": [
        {
          "name": "stdout",
          "output_type": "stream",
          "text": [
            "Epoch 1/5\n",
            "71591/71591 [==============================] - 303s 4ms/step - loss: 0.0549 - mse: 0.0549 - rmse: 0.1472 - val_loss: 0.1026 - val_mse: 0.1026 - val_rmse: 0.2049\n",
            "Epoch 2/5\n",
            "71591/71591 [==============================] - 294s 4ms/step - loss: 0.0457 - mse: 0.0457 - rmse: 0.1350 - val_loss: 0.1157 - val_mse: 0.1157 - val_rmse: 0.2100\n",
            "Epoch 3/5\n",
            "71591/71591 [==============================] - 295s 4ms/step - loss: 0.0435 - mse: 0.0435 - rmse: 0.1309 - val_loss: 0.0885 - val_mse: 0.0885 - val_rmse: 0.1980\n",
            "Epoch 4/5\n",
            "71591/71591 [==============================] - 288s 4ms/step - loss: 0.0427 - mse: 0.0427 - rmse: 0.1295 - val_loss: 0.0956 - val_mse: 0.0956 - val_rmse: 0.1870\n",
            "Epoch 5/5\n",
            "71591/71591 [==============================] - 292s 4ms/step - loss: 0.0424 - mse: 0.0424 - rmse: 0.1286 - val_loss: 0.0854 - val_mse: 0.0854 - val_rmse: 0.1898\n"
          ]
        }
      ],
      "source": [
        "import numpy as np\n",
        "from tensorflow.keras import backend as K\n",
        "\n",
        "# Custom RMSE metric\n",
        "def rmse(y_true, y_pred):\n",
        "    return K.sqrt(K.mean(K.square(y_pred - y_true)))\n",
        "\n",
        "# Compile the model\n",
        "model.compile(optimizer='adam',\n",
        "              loss='mean_squared_error',\n",
        "              metrics=['mse', rmse])  # Include MSE and custom RMSE in metrics\n",
        "\n",
        "# Fit the model with validation data\n",
        "history = model.fit(train_generator,\n",
        "                    epochs=5,\n",
        "                    verbose=1,\n",
        "                    validation_data=validation_generator)  # Ensure you have a validation_generator\n",
        "\n",
        "# Accessing the training and validation loss, MSE, and RMSE from the history object\n",
        "train_loss = history.history['loss']\n",
        "val_loss = history.history['val_loss']\n",
        "mse = history.history['mse']\n",
        "rmse_values = history.history['rmse']\n",
        "\n",
        "# You can plot these metrics or print them out as needed\n"
      ]
    },
    {
      "cell_type": "code",
      "execution_count": null,
      "metadata": {
        "colab": {
          "background_save": true,
          "base_uri": "https://localhost:8080/"
        },
        "id": "sf4JyYZzw12v",
        "outputId": "d12edb4a-7ba3-4e43-d3bd-670a903b864d"
      },
      "outputs": [
        {
          "name": "stdout",
          "output_type": "stream",
          "text": [
            "23857/23857 [==============================] - 45s 2ms/step\n"
          ]
        },
        {
          "data": {
            "image/png": "[encoded data removed]",
            "text/plain": [
              "<Figure size 1000x600 with 1 Axes>"
            ]
          },
          "metadata": {},
          "output_type": "display_data"
        }
      ],
      "source": [
        "import matplotlib.pyplot as plt\n",
        "\n",
        "# Make predictions\n",
        "predictions = model.predict(validation_generator)\n",
        "\n",
        "# Since the test_generator reduces the length of the test set by n_input, adjust the y_test accordingly\n",
        "adjusted_y_test = y_val[n_input:]\n",
        "\n",
        "# Plotting the results\n",
        "plt.figure(figsize=(10, 6))\n",
        "plt.plot(adjusted_y_test, label='Actual Flow', color='blue')\n",
        "plt.plot(predictions, label='Predicted Flow', color='red', linestyle='--')\n",
        "plt.title('Flow Prediction vs Actual Flow')\n",
        "plt.xlabel('Time Steps')\n",
        "plt.ylabel('Flow [L/s]')\n",
        "plt.legend()\n",
        "plt.show()"
      ]
    },
    {
      "cell_type": "code",
      "execution_count": 27,
      "metadata": {
        "colab": {
          "base_uri": "https://localhost:8080/",
          "height": 564
        },
        "id": "kZjYHcQyr0pz",
        "outputId": "f5ce7beb-c2af-4086-a253-509a057808f4"
      },
      "outputs": [
        {
          "output_type": "display_data",
          "data": {
            "text/plain": [
              "<Figure size 1000x600 with 1 Axes>"
            ],
            "image/png": "[encoded data removed]"
          },
          "metadata": {}
        }
      ],
      "source": [
        "# Plotting the training vs validation loss\n",
        "plt.figure(figsize=(10, 6))\n",
        "plt.plot(history.history['loss'], label='Training Loss', color='blue')\n",
        "plt.plot(history.history['val_loss'], label='Validation Loss', color='red')\n",
        "plt.title('Training Loss vs Validation Loss')\n",
        "plt.xlabel('Epochs')\n",
        "plt.ylabel('Loss')\n",
        "plt.legend()\n",
        "plt.show()"
      ]
    },
    {
      "cell_type": "code",
      "source": [
        "# Starting index for the last 3000 steps\n",
        "start_index = max(0, len(adjusted_y_test) - 3000)  # Ensures we don't go negative in case of fewer than 500 points\n",
        "\n",
        "# Slice the last 500 points (or fewer if not available)\n",
        "final_adjusted_y_test = adjusted_y_test[start_index:]\n",
        "final_predictions = predictions[start_index:]\n",
        "\n",
        "# Plotting the results for the last 3000 steps\n",
        "plt.figure(figsize=(10, 6))\n",
        "plt.plot(final_adjusted_y_test, label='Actual Flow', color='blue')\n",
        "plt.plot(final_predictions, label='Predicted Flow', color='red', linestyle='--')\n",
        "plt.title('Flow Prediction vs Actual Flow - Last 3000 Steps')\n",
        "plt.xlabel('Time Steps')\n",
        "plt.ylabel('Flow [L/s]')\n",
        "plt.legend()\n",
        "plt.show()\n"
      ],
      "metadata": {
        "colab": {
          "base_uri": "https://localhost:8080/",
          "height": 564
        },
        "id": "d5JI8C5N0ie3",
        "outputId": "8c4cbee8-7ac2-4b63-935f-61a06208693f"
      },
      "execution_count": 43,
      "outputs": [
        {
          "output_type": "display_data",
          "data": {
            "text/plain": [
              "<Figure size 1000x600 with 1 Axes>"
            ],
            "image/png": "[encoded data removed]"
          },
          "metadata": {}
        }
      ]
    },
    {
      "cell_type": "code",
      "source": [
        "import matplotlib.pyplot as plt\n",
        "import numpy as np\n",
        "\n",
        "# Access MSE values from the history object\n",
        "mse = history.history['mse']\n",
        "val_mse = history.history['val_mse']  # Validation MSE\n",
        "\n",
        "# Calculate RMSE from MSE\n",
        "rmse = np.sqrt(mse)\n",
        "val_rmse = np.sqrt(val_mse)\n",
        "\n",
        "# Epochs\n",
        "epochs = range(1, len(mse) + 1)\n",
        "\n",
        "# Plotting MSE\n",
        "plt.figure(figsize=(14, 6))\n",
        "plt.subplot(1, 2, 1)\n",
        "plt.plot(epochs, mse, label='Training MSE', color='blue')\n",
        "plt.plot(epochs, val_mse, label='Validation MSE', color='red')\n",
        "plt.title('Training and Validation MSE')\n",
        "plt.xlabel('Epochs')\n",
        "plt.ylabel('MSE')\n",
        "plt.legend()\n",
        "\n",
        "# Plotting RMSE\n",
        "plt.subplot(1, 2, 2)\n",
        "plt.plot(epochs, rmse, label='Training RMSE', color='blue')\n",
        "plt.plot(epochs, val_rmse, label='Validation RMSE', color='red')\n",
        "plt.title('Training and Validation RMSE')\n",
        "plt.xlabel('Epochs')\n",
        "plt.ylabel('RMSE')\n",
        "plt.legend()\n",
        "\n",
        "plt.tight_layout()\n",
        "plt.show()\n"
      ],
      "metadata": {
        "colab": {
          "base_uri": "https://localhost:8080/",
          "height": 627
        },
        "id": "_GVP_d3q2Zkw",
        "outputId": "09e4b8e3-0b90-4361-ff56-0e58ea249ca5"
      },
      "execution_count": 45,
      "outputs": [
        {
          "output_type": "display_data",
          "data": {
            "text/plain": [
              "<Figure size 1400x600 with 2 Axes>"
            ],
            "image/png": "[encoded data removed]"
          },
          "metadata": {}
        }
      ]
    },
    {
      "cell_type": "code",
      "execution_count": 44,
      "metadata": {
        "colab": {
          "base_uri": "https://localhost:8080/"
        },
        "id": "h44_KLz9S7LT",
        "outputId": "b636cc57-20fd-425c-ed20-f0f32289f08a"
      },
      "outputs": [
        {
          "output_type": "stream",
          "name": "stdout",
          "text": [
            "The actual and predicted values have been exported to /content/drive/MyDrive/Data/flow_predictions.csv\n"
          ]
        }
      ],
      "source": [
        "# Create a DataFrame with the actual and predicted values\n",
        "comparison_df = pd.DataFrame({'Actual Flow': adjusted_y_test, 'Predicted Flow': predictions.flatten()})\n",
        "\n",
        "# Define the file path\n",
        "file_path = '/content/drive/MyDrive/Data/flow_predictions.csv'\n",
        "\n",
        "# Export the DataFrame to a CSV file at the specified path\n",
        "comparison_df.to_csv(file_path, index=False)\n",
        "\n",
        "# Notify that the file has been saved\n",
        "print(f\"The actual and predicted values have been exported to {file_path}\")\n"
      ]
    }
  ],
  "metadata": {
    "accelerator": "GPU",
    "colab": {
      "gpuType": "T4",
      "machine_shape": "hm",
      "provenance": [],
      "authorship_tag": "ABX9TyPTr6SzX0rq7UEtzck2wpIZ",
      "include_colab_link": true
    },
    "kernelspec": {
      "display_name": "Python 3",
      "name": "python3"
    },
    "language_info": {
      "name": "python"
    }
  },
  "nbformat": 4,
  "nbformat_minor": 0
}